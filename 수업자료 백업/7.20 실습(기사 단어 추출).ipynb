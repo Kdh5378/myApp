{
 "cells": [
  {
   "cell_type": "code",
   "execution_count": 45,
   "metadata": {},
   "outputs": [],
   "source": [
    "import requests\n",
    "from bs4 import BeautifulSoup\n",
    "import re"
   ]
  },
  {
   "cell_type": "code",
   "execution_count": 2,
   "metadata": {},
   "outputs": [],
   "source": [
    "headers={\n",
    "    \"user-agent\":\"Mozilla/5.0 (Windows NT 6.1; Win64; x64) AppleWebKit/537.36 (KHTML, like Gecko) Chrome/67.0.3396.99 Safari/537.36\",\n",
    "    \"Accept-Encoding\":\"False\"#오 이거 개쩐다\n",
    "}\n",
    "\n",
    "params={}#{\"keyword\":\"한글\"}\n",
    "\n",
    "url=\"http://www.ppomppu.co.kr/zboard/zboard.php?id=freeboard\""
   ]
  },
  {
   "cell_type": "code",
   "execution_count": 5,
   "metadata": {},
   "outputs": [],
   "source": [
    "def getUrl(url, params=None, select=\"a\", num_retrive=2):#구글 외의 사이트에서는 a만 찾아오게 한다\n",
    "    html= requests.get(url, params=params, headers=headers)\n",
    "    \n",
    "    if 500<=html.status_code<600 and num_retrive>0:\n",
    "        print(html.status_code, html.reason)\n",
    "        return getUrl(url, params=params, num_retrive=num_retrive-1)\n",
    "    \n",
    "    dom= BeautifulSoup(html.text, \"html.parser\")\n",
    "    links =dom.select(select)\n",
    "    \n",
    "    return [link[\"href\"] for link in links if link.has_attr(\"href\")==True]"
   ]
  },
  {
   "cell_type": "code",
   "execution_count": 99,
   "metadata": {},
   "outputs": [],
   "source": [
    "def getContent(url, params=None, select=\"a\", num_retrive=2):#구글 외의 사이트에서는 a만 찾아오게 한다\n",
    "    html= requests.get(url, params=params, headers=headers)\n",
    "    \n",
    "    if 500<=html.status_code<600 and num_retrive>0:\n",
    "        print(html.status_code, html.reason)\n",
    "        return getUrl(url, params=params, num_retrive=num_retrive-1)\n",
    "    \n",
    "    dom= BeautifulSoup(html.text, \"html.parser\")#자바스크립트빼고 긁어옴\n",
    "    for script in dom(['script', 'style']):\n",
    "        script.decompose()\n",
    "    links =dom.select(select)\n",
    "    \n",
    "    return links"
   ]
  },
  {
   "cell_type": "code",
   "execution_count": 100,
   "metadata": {
    "scrolled": true
   },
   "outputs": [
    {
     "name": "stdout",
     "output_type": "stream",
     "text": [
      "● 태풍 밀어내는 폭염…폭염 밀어내는 태풍하루도 쉬지 않고 폭염이 기승을 부리고 있다. 장마가 끝나고 폭염이 시작된 지 이제 10일 다되어가지만 폭염의 기세는 좀처럼 누그러지지 않고 있다. 연일 전국의 낮 최고 기온이 35도를 오르내리고 있다. 일부 지역에서는 지금까지 우리나라 역대 최고 기온인 40℃를 곧 넘어설 태세다.폭염이 기승을 부리는 가운데 필리핀 북동쪽 먼 해상인 일본 오키나와 남남동쪽 470km 부근 해상에서는 제10호 태풍 '암필(AMPIL)'이 북상하고 있다. 20일 오전 9시 현재 중심기압 985hPa(헥토파스칼), 중심에서는 초속 27m(시속 97km)의 강풍이 불고 있고 강풍 반경이 270km인 강도 중급의 소형 태풍이다. 태풍 암필은 앞으로 타이완 북쪽 먼 해상을 지나 22일 오전에는 중국 상하이 남쪽에 상륙할 것으로 기상청은 보고 있다. (예상진로 참고)제10호 태풍 암필 예상진로 (사진=기상청)태풍 암필이 한반도나 일본 쪽으로 북상하지 못하고 중국 남부로 향하는 것은 바로 한반도를 뜨겁게 달구고 있는 폭염 때문이다. 한반도 상공 상층에는 티베트지역 확장해온 뜨거운 고기압이 자리를 잡고 있고 하층에는 북태평양 고기압이 자리를 잡고 있다. 지표 부근 대류권 하층부터 12km를 넘는 대류권 상층까지 2층으로 두 개의 고기압이 한반도를 솥뚜껑처럼 덮고 있는 것이다. 흔히 말하는 '열돔(heat dome)'이 만들어진 것이다.한반도와 일본, 중국 동해안 일부까지도 덮고 있는 고기압(열돔)의 크기는 직경이 2000~3000km 정도에 이른다. 반경이 270km 정도인 태풍과 비교하면 면적만 비교해도 폭염을 몰고 온 고기압의 크기는 태풍보다 20배 정도는 크다. 또한 지상뿐 아니라 상층까지 3차원으로 크기를 비교하면 태풍과 폭염을 몰고 온 고기압의 차이는 훨씬 더 커진다.태풍에 따라 차이는 있지만 태풍 암필의 경우는 현재 6km 이상 고도에서는 태풍의 흔적을 찾아보기 힘들다. 그 이상의 고도에서는 태풍과 같은 저기압이 아니라 정반대인 고기압의 형태로 나타난다. 태풍 암필의 키가 5~6km에 불과한 것이다. 반면에 폭염을 몰고 온 고기압은 지상부터 상층으로는 12km 이상 고도까지 고기압 형태를 유지하고 있다. 한반도 주변과 상공에 직경이 2000~3000km, 높이가 12km를 넘는 커다란 열기둥이 서 있는 것이다. 폭염을 몰고 온 고기압을 건장한 어른에 비유한다면 태풍 암필은 갓 태어난 어린아이 정도도 채 안 된다.때문에 현재와 같은 상황에서는 태풍이 폭염을 몰고 온 고기압을 밀어붙이고 한반도나 일본 쪽으로 북상할 가능성은 없다. 태풍이 택할 수 있는 길은 현재로서는 고기압 가장자리를 따라 이동하는 것뿐이다. 10호 태풍 암필이 타이완 북쪽 해상을 지나 중국 상하이 남쪽으로 향할 것으로 예상하는 이유다. 폭염을 몰고 온 고기압이 태풍이 올라오는 것을 막고 중국 쪽으로 밀어내고 있는 것이다.태풍도 밀어내는 폭염의 기세는 당분간 꺾이지 않을 것으로 보인다. 특히 서울을 기준으로 볼 때 다음 주 초에는 폭염의 기세가 1차 절정에 이를 것으로 예상하고 있다. 다음 주 화요일(24일)과 수요일(25일) 서울의 최고 기온은 36도까지 올라갈 것으로 기상청은 예상하고 있다. 물론 1차 절정이 지난 뒤에도 적어도 이달 말까지는 서울의 기온이 35도까지 올라가는 폭염이 계속될 것으로 기상청은 보고 있다.폭염을 몰고 온 고기압을 조금이라도 밀어낼 태풍이 북상할 가능성은 없는 것일까?현재와 같은 강력한 고기압을 밀어내기 위해서는 고기압의 크기에 버금가는 말 그대로 슈퍼태풍이 북상해야 한다. 하지만 슈퍼태풍이 자칫 육상으로 북상하면 엄청난 피해가 발생할 수 있는 것이 문제다. 가능한 한 많은 태풍이 발생해 중국이나 한반도, 일본으로 향하지 않고 일본 동쪽 태평양으로 북상해 한반도와 중국 동해안까지 확장한 무더운 북태평양 고기압의 세력을 조금이라도 약화시키는 것이 어찌 보면 현재로서는 최상의 시나리오다.실제로 이달 말이나 다음 달 초까지 폭염이 이어진 뒤 폭염을 몰고 온 고기압의 세력이 조금 약해지고 때맞춰 대형 태풍이 일본 동쪽 태평양으로 북상한다면 폭염의 기세가 꺾일 가능성은 충분히 있다. 물론 1년 중 가장 무더운 시기인 7월 말~8월 초인 만큼 대형 태풍이 지나간다고 올여름 더위가 그대로 물러갈 가능성은 없지만 그래도 막강한 폭염의 기세는 일단 꺾을 가능성은 있다. 희망 사항이지만 폭염이 심하다 보니 마치 기우제를 지내는 것처럼 대형 태풍까지 기다리는 상황이 됐다.하지만 전혀 가능성이 없는 것도 아니다. 자연현상을 사람 뜻대로 할 수는 없지만 현재 태풍 발생 지역인 북서태평양 저위도 지역에서는 대류활동이 매우 활발하게 진행되고 있다. 태풍의 씨앗인 소용돌이 구름이 많이 만들어지고 있는 것이다. 특히 현재 태풍 발생 지역의 해수면 온도는 28~30℃ 정도로 예년과 비슷하거나 예년보다 최고 1℃ 정도나 높다.태풍의 씨앗이 많이 만들어지고 있고 바닷물도 뜨거운 만큼 대형 태풍이 만들어질 가능성은 얼마든지 있다. 이르면 이달 말이나 다음 달 초에는 기록적인 폭염을 몰고 온 고기압의 세력을 약화시킬 수 있는 태풍을 기대해 본다. 북상 중인 제10호 태풍 암필은 폭염에 밀려 중국 남부로 향하고 있지만 다음에 북상하는 태풍은 폭염을 조금이라도 누그러뜨리는 태풍이 되기를 기대해 본다.폭염을 몰고 온 강력한 고기압이 스스로 약해지는 데는 시간이 오래 걸릴 가능성이 높다. 티베트 고기압이나 북태평양 고기압은 계절변화에 따라 서서히 변하기 때문이다. 따라서 현재로서는 태풍이 많이 발생해 고기압의 세력을 지속적으로 약화시키지 않는다면 폭염은 길어질 수밖에 없다. 폭염을 밀어내는 태풍을 기대하는 이유다. 물론 강력한 폭염이 이어지고 있는 만큼 당분간은 태풍이 북상한다 하더라도 태풍이 한반도로 직접 올라올 가능성은 희박하다.  안영인 기자(youngin@sbs.co.kr)☞ [2018러시아월드컵 뉴스 특집] 공감 베스트 영상 보러가기 →☞ [SDF X 김동식 콜라보] <2인 1조> 소설 보러가기※ ⓒ SBS & SBS Digital News Lab. : 무단복제 및 재배포 금지\n"
     ]
    }
   ],
   "source": [
    "seed=\"https://news.naver.com/main/read.nhn?oid=055&sid1=103&aid=0000660305&mid=shm&mode=LSD&nh=20180720141015\"\n",
    "params={}\n",
    "seed=\"https://news.naver.com/main/read.nhn?oid=055&sid1=103&aid=0000660305&mid=shm&mode=LSD&nh=20180720141015\"\n",
    "cont=getContent(seed, params, \"div.article_body._font_setting_target.size3.font1 > div\")\n",
    "print(cont[0].get_text().strip()) #strip() 공백제거"
   ]
  },
  {
   "cell_type": "code",
   "execution_count": 101,
   "metadata": {},
   "outputs": [],
   "source": [
    "text=cont[0].get_text().strip()"
   ]
  },
  {
   "cell_type": "code",
   "execution_count": 102,
   "metadata": {
    "scrolled": true
   },
   "outputs": [
    {
     "data": {
      "text/plain": [
       "\"● 태풍 밀어내는 폭염…폭염 밀어내는 태풍하루도 쉬지 않고 폭염이 기승을 부리고 있다. 장마가 끝나고 폭염이 시작된 지 이제 10일 다되어가지만 폭염의 기세는 좀처럼 누그러지지 않고 있다. 연일 전국의 낮 최고 기온이 35도를 오르내리고 있다. 일부 지역에서는 지금까지 우리나라 역대 최고 기온인 40℃를 곧 넘어설 태세다.폭염이 기승을 부리는 가운데 필리핀 북동쪽 먼 해상인 일본 오키나와 남남동쪽 470km 부근 해상에서는 제10호 태풍 '암필(AMPIL)'이 북상하고 있다. 20일 오전 9시 현재 중심기압 985hPa(헥토파스칼), 중심에서는 초속 27m(시속 97km)의 강풍이 불고 있고 강풍 반경이 270km인 강도 중급의 소형 태풍이다. 태풍 암필은 앞으로 타이완 북쪽 먼 해상을 지나 22일 오전에는 중국 상하이 남쪽에 상륙할 것으로 기상청은 보고 있다. (예상진로 참고)제10호 태풍 암필 예상진로 (사진=기상청)태풍 암필이 한반도나 일본 쪽으로 북상하지 못하고 중국 남부로 향하는 것은 바로 한반도를 뜨겁게 달구고 있는 폭염 때문이다. 한반도 상공 상층에는 티베트지역 확장해온 뜨거운 고기압이 자리를 잡고 있고 하층에는 북태평양 고기압이 자리를 잡고 있다. 지표 부근 대류권 하층부터 12km를 넘는 대류권 상층까지 2층으로 두 개의 고기압이 한반도를 솥뚜껑처럼 덮고 있는 것이다. 흔히 말하는 '열돔(heat dome)'이 만들어진 것이다.한반도와 일본, 중국 동해안 일부까지도 덮고 있는 고기압(열돔)의 크기는 직경이 2000~3000km 정도에 이른다. 반경이 270km 정도인 태풍과 비교하면 면적만 비교해도 폭염을 몰고 온 고기압의 크기는 태풍보다 20배 정도는 크다. 또한 지상뿐 아니라 상층까지 3차원으로 크기를 비교하면 태풍과 폭염을 몰고 온 고기압의 차이는 훨씬 더 커진다.태풍에 따라 차이는 있지만 태풍 암필의 경우는 현재 6km 이상 고도에서는 태풍의 흔적을 찾아보기 힘들다. 그 이상의 고도에서는 태풍과 같은 저기압이 아니라 정반대인 고기압의 형태로 나타난다. 태풍 암필의 키가 5~6km에 불과한 것이다. 반면에 폭염을 몰고 온 고기압은 지상부터 상층으로는 12km 이상 고도까지 고기압 형태를 유지하고 있다. 한반도 주변과 상공에 직경이 2000~3000km, 높이가 12km를 넘는 커다란 열기둥이 서 있는 것이다. 폭염을 몰고 온 고기압을 건장한 어른에 비유한다면 태풍 암필은 갓 태어난 어린아이 정도도 채 안 된다.때문에 현재와 같은 상황에서는 태풍이 폭염을 몰고 온 고기압을 밀어붙이고 한반도나 일본 쪽으로 북상할 가능성은 없다. 태풍이 택할 수 있는 길은 현재로서는 고기압 가장자리를 따라 이동하는 것뿐이다. 10호 태풍 암필이 타이완 북쪽 해상을 지나 중국 상하이 남쪽으로 향할 것으로 예상하는 이유다. 폭염을 몰고 온 고기압이 태풍이 올라오는 것을 막고 중국 쪽으로 밀어내고 있는 것이다.태풍도 밀어내는 폭염의 기세는 당분간 꺾이지 않을 것으로 보인다. 특히 서울을 기준으로 볼 때 다음 주 초에는 폭염의 기세가 1차 절정에 이를 것으로 예상하고 있다. 다음 주 화요일(24일)과 수요일(25일) 서울의 최고 기온은 36도까지 올라갈 것으로 기상청은 예상하고 있다. 물론 1차 절정이 지난 뒤에도 적어도 이달 말까지는 서울의 기온이 35도까지 올라가는 폭염이 계속될 것으로 기상청은 보고 있다.폭염을 몰고 온 고기압을 조금이라도 밀어낼 태풍이 북상할 가능성은 없는 것일까?현재와 같은 강력한 고기압을 밀어내기 위해서는 고기압의 크기에 버금가는 말 그대로 슈퍼태풍이 북상해야 한다. 하지만 슈퍼태풍이 자칫 육상으로 북상하면 엄청난 피해가 발생할 수 있는 것이 문제다. 가능한 한 많은 태풍이 발생해 중국이나 한반도, 일본으로 향하지 않고 일본 동쪽 태평양으로 북상해 한반도와 중국 동해안까지 확장한 무더운 북태평양 고기압의 세력을 조금이라도 약화시키는 것이 어찌 보면 현재로서는 최상의 시나리오다.실제로 이달 말이나 다음 달 초까지 폭염이 이어진 뒤 폭염을 몰고 온 고기압의 세력이 조금 약해지고 때맞춰 대형 태풍이 일본 동쪽 태평양으로 북상한다면 폭염의 기세가 꺾일 가능성은 충분히 있다. 물론 1년 중 가장 무더운 시기인 7월 말~8월 초인 만큼 대형 태풍이 지나간다고 올여름 더위가 그대로 물러갈 가능성은 없지만 그래도 막강한 폭염의 기세는 일단 꺾을 가능성은 있다. 희망 사항이지만 폭염이 심하다 보니 마치 기우제를 지내는 것처럼 대형 태풍까지 기다리는 상황이 됐다.하지만 전혀 가능성이 없는 것도 아니다. 자연현상을 사람 뜻대로 할 수는 없지만 현재 태풍 발생 지역인 북서태평양 저위도 지역에서는 대류활동이 매우 활발하게 진행되고 있다. 태풍의 씨앗인 소용돌이 구름이 많이 만들어지고 있는 것이다. 특히 현재 태풍 발생 지역의 해수면 온도는 28~30℃ 정도로 예년과 비슷하거나 예년보다 최고 1℃ 정도나 높다.태풍의 씨앗이 많이 만들어지고 있고 바닷물도 뜨거운 만큼 대형 태풍이 만들어질 가능성은 얼마든지 있다. 이르면 이달 말이나 다음 달 초에는 기록적인 폭염을 몰고 온 고기압의 세력을 약화시킬 수 있는 태풍을 기대해 본다. 북상 중인 제10호 태풍 암필은 폭염에 밀려 중국 남부로 향하고 있지만 다음에 북상하는 태풍은 폭염을 조금이라도 누그러뜨리는 태풍이 되기를 기대해 본다.폭염을 몰고 온 강력한 고기압이 스스로 약해지는 데는 시간이 오래 걸릴 가능성이 높다. 티베트 고기압이나 북태평양 고기압은 계절변화에 따라 서서히 변하기 때문이다. 따라서 현재로서는 태풍이 많이 발생해 고기압의 세력을 지속적으로 약화시키지 않는다면 폭염은 길어질 수밖에 없다. 폭염을 밀어내는 태풍을 기대하는 이유다. 물론 강력한 폭염이 이어지고 있는 만큼 당분간은 태풍이 북상한다 하더라도 태풍이 한반도로 직접 올라올 가능성은 희박하다.\\xa0\\xa0안영인 기자(youngin@sbs.co.kr)☞ [2018러시아월드컵 뉴스 특집] 공감 베스트 영상 보러가기 →☞ [SDF X 김동식 콜라보] <2인 1조> 소설 보러가기※ ⓒ SBS & SBS Digital News Lab. : 무단복제 및 재배포 금지\""
      ]
     },
     "execution_count": 102,
     "metadata": {},
     "output_type": "execute_result"
    }
   ],
   "source": [
    "text"
   ]
  },
  {
   "cell_type": "code",
   "execution_count": 103,
   "metadata": {},
   "outputs": [],
   "source": [
    "text=re.sub(\"[^ㄱ-하-ㅣ가-힣]\",\"\",text)"
   ]
  },
  {
   "cell_type": "code",
   "execution_count": 104,
   "metadata": {
    "scrolled": true
   },
   "outputs": [
    {
     "data": {
      "text/plain": [
       "'태풍밀어내는폭염폭염밀어내는태풍하루도쉬지않고폭염이기승을부리고있다장마가끝나고폭염이시작된지이제일다되어가지만폭염의기세는좀처럼누그러지지않고있다연일전국의낮최고기온이도를오르내리고있다일부지역에서는지금까지우리나라역대최고기온인를곧넘어설태세다폭염이기승을부리는가운데필리핀북동쪽먼해상인일본오키나와남남동쪽부근해상에서는제호태풍암필이북상하고있다일오전시현재중심기압헥토파스칼중심에서는초속시속의강풍이불고있고강풍반경이인강도중급의소형태풍이다태풍암필은앞으로타이완북쪽먼해상을지나일오전에는중국상하이남쪽에상륙할것으로기상청은보고있다예상진로참고제호태풍암필예상진로사진기상청태풍암필이한반도나일본쪽으로북상하지못하고중국남부로향하는것은바로한반도를뜨겁게달구고있는폭염때문이다한반도상공상층에는티베트지역확장해온뜨거운고기압이자리를잡고있고하층에는북태평양고기압이자리를잡고있다지표부근대류권하층부터를넘는대류권상층까지층으로두개의고기압이한반도를솥뚜껑처럼덮고있는것이다흔히말하는열돔이만들어진것이다한반도와일본중국동해안일부까지도덮고있는고기압열돔의크기는직경이정도에이른다반경이정도인태풍과비교하면면적만비교해도폭염을몰고온고기압의크기는태풍보다배정도는크다또한지상뿐아니라상층까지차원으로크기를비교하면태풍과폭염을몰고온고기압의차이는훨씬더커진다태풍에따라차이는있지만태풍암필의경우는현재이상고도에서는태풍의흔적을찾아보기힘들다그이상의고도에서는태풍과같은저기압이아니라정반대인고기압의형태로나타난다태풍암필의키가에불과한것이다반면에폭염을몰고온고기압은지상부터상층으로는이상고도까지고기압형태를유지하고있다한반도주변과상공에직경이높이가를넘는커다란열기둥이서있는것이다폭염을몰고온고기압을건장한어른에비유한다면태풍암필은갓태어난어린아이정도도채안된다때문에현재와같은상황에서는태풍이폭염을몰고온고기압을밀어붙이고한반도나일본쪽으로북상할가능성은없다태풍이택할수있는길은현재로서는고기압가장자리를따라이동하는것뿐이다호태풍암필이타이완북쪽해상을지나중국상하이남쪽으로향할것으로예상하는이유다폭염을몰고온고기압이태풍이올라오는것을막고중국쪽으로밀어내고있는것이다태풍도밀어내는폭염의기세는당분간꺾이지않을것으로보인다특히서울을기준으로볼때다음주초에는폭염의기세가차절정에이를것으로예상하고있다다음주화요일일과수요일일서울의최고기온은도까지올라갈것으로기상청은예상하고있다물론차절정이지난뒤에도적어도이달말까지는서울의기온이도까지올라가는폭염이계속될것으로기상청은보고있다폭염을몰고온고기압을조금이라도밀어낼태풍이북상할가능성은없는것일까현재와같은강력한고기압을밀어내기위해서는고기압의크기에버금가는말그대로슈퍼태풍이북상해야한다하지만슈퍼태풍이자칫육상으로북상하면엄청난피해가발생할수있는것이문제다가능한한많은태풍이발생해중국이나한반도일본으로향하지않고일본동쪽태평양으로북상해한반도와중국동해안까지확장한무더운북태평양고기압의세력을조금이라도약화시키는것이어찌보면현재로서는최상의시나리오다실제로이달말이나다음달초까지폭염이이어진뒤폭염을몰고온고기압의세력이조금약해지고때맞춰대형태풍이일본동쪽태평양으로북상한다면폭염의기세가꺾일가능성은충분히있다물론년중가장무더운시기인월말월초인만큼대형태풍이지나간다고올여름더위가그대로물러갈가능성은없지만그래도막강한폭염의기세는일단꺾을가능성은있다희망사항이지만폭염이심하다보니마치기우제를지내는것처럼대형태풍까지기다리는상황이됐다하지만전혀가능성이없는것도아니다자연현상을사람뜻대로할수는없지만현재태풍발생지역인북서태평양저위도지역에서는대류활동이매우활발하게진행되고있다태풍의씨앗인소용돌이구름이많이만들어지고있는것이다특히현재태풍발생지역의해수면온도는정도로예년과비슷하거나예년보다최고정도나높다태풍의씨앗이많이만들어지고있고바닷물도뜨거운만큼대형태풍이만들어질가능성은얼마든지있다이르면이달말이나다음달초에는기록적인폭염을몰고온고기압의세력을약화시킬수있는태풍을기대해본다북상중인제호태풍암필은폭염에밀려중국남부로향하고있지만다음에북상하는태풍은폭염을조금이라도누그러뜨리는태풍이되기를기대해본다폭염을몰고온강력한고기압이스스로약해지는데는시간이오래걸릴가능성이높다티베트고기압이나북태평양고기압은계절변화에따라서서히변하기때문이다따라서현재로서는태풍이많이발생해고기압의세력을지속적으로약화시키지않는다면폭염은길어질수밖에없다폭염을밀어내는태풍을기대하는이유다물론강력한폭염이이어지고있는만큼당분간은태풍이북상한다하더라도태풍이한반도로직접올라올가능성은희박하다안영인기자러시아월드컵뉴스특집공감베스트영상보러가기김동식콜라보인조소설보러가기무단복제및재배포금지'"
      ]
     },
     "execution_count": 104,
     "metadata": {},
     "output_type": "execute_result"
    }
   ],
   "source": [
    "text"
   ]
  },
  {
   "cell_type": "code",
   "execution_count": 108,
   "metadata": {},
   "outputs": [],
   "source": [
    "tokens=k.morphs(text)"
   ]
  },
  {
   "cell_type": "code",
   "execution_count": 109,
   "metadata": {},
   "outputs": [
    {
     "data": {
      "text/plain": [
       "1319"
      ]
     },
     "execution_count": 109,
     "metadata": {},
     "output_type": "execute_result"
    }
   ],
   "source": [
    "len(tokens)"
   ]
  },
  {
   "cell_type": "code",
   "execution_count": 110,
   "metadata": {},
   "outputs": [],
   "source": [
    "article=nltk.Text(tokens)"
   ]
  },
  {
   "cell_type": "code",
   "execution_count": 111,
   "metadata": {},
   "outputs": [
    {
     "data": {
      "text/plain": [
       "FreqDist({'이': 67, '는': 61, '고': 41, '태풍': 39, 'ㄴ': 38, '하': 33, '을': 30, '다': 30, '의': 28, '폭염': 27, ...})"
      ]
     },
     "execution_count": 111,
     "metadata": {},
     "output_type": "execute_result"
    }
   ],
   "source": [
    "article.vocab()"
   ]
  },
  {
   "cell_type": "code",
   "execution_count": 112,
   "metadata": {},
   "outputs": [],
   "source": [
    "from matplotlib import font_manager, rc\n",
    "font_name=font_manager.FontProperties(fname=\"c:/Windows/Fonts/malgun.ttf\").get_name()\n",
    "rc(\"font\", family=font_name)"
   ]
  },
  {
   "cell_type": "code",
   "execution_count": 113,
   "metadata": {},
   "outputs": [
    {
     "data": {
      "image/png": "[encoded data removed]",
      "text/plain": [
       "<Figure size 432x288 with 1 Axes>"
      ]
     },
     "metadata": {},
     "output_type": "display_data"
    },
    {
     "name": "stdout",
     "output_type": "stream",
     "text": [
      "None\n"
     ]
    }
   ],
   "source": [
    "print(article.plot(10))"
   ]
  },
  {
   "cell_type": "code",
   "execution_count": 38,
   "metadata": {},
   "outputs": [
    {
     "data": {
      "text/plain": [
       "29"
      ]
     },
     "execution_count": 38,
     "metadata": {},
     "output_type": "execute_result"
    }
   ],
   "source": [
    "article.count(\"폭염\")"
   ]
  },
  {
   "cell_type": "code",
   "execution_count": 39,
   "metadata": {},
   "outputs": [
    {
     "name": "stdout",
     "output_type": "stream",
     "text": [
      "태풍 고기압 것 기승 을 저 직경 상황 이유 서울 최상 시기 자연현상\n"
     ]
    }
   ],
   "source": [
    "article.similar(\"폭염\")"
   ]
  },
  {
   "cell_type": "code",
   "execution_count": 42,
   "metadata": {},
   "outputs": [
    {
     "name": "stdout",
     "output_type": "stream",
     "text": [
      "폭염 것 태세 저 때문 고기압 직경 저기압 상황 가능성 길 이유 문제 최상\n"
     ]
    }
   ],
   "source": [
    "article.similar(\"태풍\")"
   ]
  },
  {
   "cell_type": "code",
   "execution_count": null,
   "metadata": {},
   "outputs": [],
   "source": []
  }
 ],
 "metadata": {
  "kernelspec": {
   "display_name": "Python 3",
   "language": "python",
   "name": "python3"
  },
  "language_info": {
   "codemirror_mode": {
    "name": "ipython",
    "version": 3
   },
   "file_extension": ".py",
   "mimetype": "text/x-python",
   "name": "python",
   "nbconvert_exporter": "python",
   "pygments_lexer": "ipython3",
   "version": "3.6.5"
  }
 },
 "nbformat": 4,
 "nbformat_minor": 2
}
