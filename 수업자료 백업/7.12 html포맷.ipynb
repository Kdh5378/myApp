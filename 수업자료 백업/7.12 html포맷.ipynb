{
 "cells": [
  {
   "cell_type": "code",
   "execution_count": 56,
   "metadata": {},
   "outputs": [
    {
     "name": "stdout",
     "output_type": "stream",
     "text": [
      "Overwriting format_test.html\n"
     ]
    }
   ],
   "source": [
    "%%writefile format_test.html\n",
    "<!doctype html>\n",
    "<html lang=\"ko\">\n",
    "    <head>\n",
    "        <meta charset=\"UTF-8\"/>\n",
    "        <title>영역예제</title>\n",
    "        <meta name=\"viewpoint\" content=\"width=device-width, initial-scale=1.0\"/>\n",
    "        <meta name=\"keyword\" content=\"실습, 데이터 진흥원, 노잼\"/>\n",
    "        <script>\n",
    "\n",
    "        </script>\n",
    "        <style>\n",
    "            *{margin:0; padding:0}\n",
    "            main {background-color:#F1F1F1; width:800px; margin:0 auto;}\n",
    "            header {background-color:#F1F1F1; text-align:center;}\n",
    "            footer {background-color:#aaa; text-align:center;}\n",
    "            header > h1,footer > h1 {padding:20px;}\n",
    "            nav {overflow:hidden; background-color:#333;}\n",
    "            nav li {float:left; display:block;  padding:14px 16px; text-align:center; color:#f2f2f2;}\n",
    "            nav li:hover {background-color:#ddd; color:black;}\n",
    "            main>section {float:left; width:500px;}\n",
    "            main>aside {float:right; width:200px;}\n",
    "            article>section, main>aside{padding:10px; margin-top:20px; background-color:#aaa;}\n",
    "            article ,section>article {background-color:white; padding:20px; margin:20px;}\n",
    "            article > section {background-color:#aaa;}\n",
    "            section > p, section > article >p {padding:7px; border :1px solid #000;}\n",
    "            .clearfix{clear:both; content\"\";}\n",
    "        </style>\n",
    "    </head>\n",
    "\n",
    "    <body>\n",
    "        <main>\n",
    "            <header>\n",
    "               <h1>Header</h1>\n",
    "                <nav>\n",
    "                    <ul>\n",
    "                        <li>Home</li>\n",
    "                        <li>News</li>\n",
    "                        <li>Content</li>\n",
    "                        <li>About</li>\n",
    "                    </ul>\n",
    "                </nav>\n",
    "            </header>\n",
    "    <aside>\n",
    "        <section>\n",
    "                <h1>Advertisement1</h1>\n",
    "                <p>Contnet1</p>\n",
    "        </section>\n",
    "        <section>\n",
    "                <h1>Advertisement2</h1>\n",
    "                <p>Contnet2</p>\n",
    "        </section>\n",
    "    </aside>\n",
    "    \n",
    "    <section>\n",
    "        <article>\n",
    "            <h1>Title</h1>\n",
    "            <p>Content</p>\n",
    "        </article>\n",
    "        <article>\n",
    "            <h1>Title</h1>\n",
    "            <section>\n",
    "                <h1>Sub Title1</h1>\n",
    "                <p>Sub Content1</p>\n",
    "            </section>\n",
    "            <section>\n",
    "                <h1>Sub Title2</h1>\n",
    "                <p>Sub Content2</p>\n",
    "            </section>\n",
    "        </article>\n",
    "    </section>\n",
    "\n",
    "    <footer class=\"clearfix\">\n",
    "        <h1>Footer</h1>\n",
    "    </footer>\n",
    "    \n",
    "        </main>\n",
    "    </body>\n",
    "</html>"
   ]
  },
  {
   "cell_type": "code",
   "execution_count": null,
   "metadata": {},
   "outputs": [],
   "source": []
  }
 ],
 "metadata": {
  "kernelspec": {
   "display_name": "Python 3",
   "language": "python",
   "name": "python3"
  },
  "language_info": {
   "codemirror_mode": {
    "name": "ipython",
    "version": 3
   },
   "file_extension": ".py",
   "mimetype": "text/x-python",
   "name": "python",
   "nbconvert_exporter": "python",
   "pygments_lexer": "ipython3",
   "version": "3.6.5"
  }
 },
 "nbformat": 4,
 "nbformat_minor": 2
}
