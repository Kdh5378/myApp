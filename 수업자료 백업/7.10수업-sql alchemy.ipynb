{
 "cells": [
  {
   "cell_type": "code",
   "execution_count": 2,
   "metadata": {},
   "outputs": [],
   "source": [
    "import sqlalchemy"
   ]
  },
  {
   "cell_type": "code",
   "execution_count": 3,
   "metadata": {},
   "outputs": [
    {
     "data": {
      "text/plain": [
       "'1.2.7'"
      ]
     },
     "execution_count": 3,
     "metadata": {},
     "output_type": "execute_result"
    }
   ],
   "source": [
    "sqlalchemy.__version__"
   ]
  },
  {
   "cell_type": "code",
   "execution_count": 4,
   "metadata": {},
   "outputs": [],
   "source": [
    "from sqlalchemy import create_engine"
   ]
  },
  {
   "cell_type": "code",
   "execution_count": 140,
   "metadata": {},
   "outputs": [],
   "source": [
    "engine=create_engine(\"sqlite:///alchemytest.db\",echo=True)"
   ]
  },
  {
   "cell_type": "code",
   "execution_count": 141,
   "metadata": {},
   "outputs": [
    {
     "name": "stdout",
     "output_type": "stream",
     "text": [
      "Engine(sqlite:///alchemytest.db)\n"
     ]
    }
   ],
   "source": [
    "print(engine)"
   ]
  },
  {
   "cell_type": "code",
   "execution_count": 142,
   "metadata": {},
   "outputs": [],
   "source": [
    "from sqlalchemy import MetaData"
   ]
  },
  {
   "cell_type": "code",
   "execution_count": 143,
   "metadata": {},
   "outputs": [],
   "source": [
    "metadata = MetaData()"
   ]
  },
  {
   "cell_type": "code",
   "execution_count": 144,
   "metadata": {},
   "outputs": [
    {
     "name": "stdout",
     "output_type": "stream",
     "text": [
      "MetaData(bind=None)\n"
     ]
    }
   ],
   "source": [
    "print(metadata)"
   ]
  },
  {
   "cell_type": "code",
   "execution_count": 145,
   "metadata": {},
   "outputs": [],
   "source": [
    "from sqlalchemy import Table, Column, Integer, String, ForeignKey"
   ]
  },
  {
   "cell_type": "code",
   "execution_count": 146,
   "metadata": {
    "scrolled": false
   },
   "outputs": [
    {
     "name": "stdout",
     "output_type": "stream",
     "text": [
      "2018-07-10 16:23:15,812 INFO sqlalchemy.engine.base.Engine SELECT CAST('test plain returns' AS VARCHAR(60)) AS anon_1\n",
      "2018-07-10 16:23:15,813 INFO sqlalchemy.engine.base.Engine ()\n",
      "2018-07-10 16:23:15,815 INFO sqlalchemy.engine.base.Engine SELECT CAST('test unicode returns' AS VARCHAR(60)) AS anon_1\n",
      "2018-07-10 16:23:15,815 INFO sqlalchemy.engine.base.Engine ()\n",
      "2018-07-10 16:23:15,816 INFO sqlalchemy.engine.base.Engine PRAGMA table_info(\"users\")\n",
      "2018-07-10 16:23:15,817 INFO sqlalchemy.engine.base.Engine ()\n",
      "2018-07-10 16:23:15,818 INFO sqlalchemy.engine.base.Engine PRAGMA table_info(\"address\")\n",
      "2018-07-10 16:23:15,823 INFO sqlalchemy.engine.base.Engine ()\n",
      "2018-07-10 16:23:15,824 INFO sqlalchemy.engine.base.Engine \n",
      "CREATE TABLE users (\n",
      "\tid INTEGER NOT NULL, \n",
      "\tname VARCHAR, \n",
      "\tfullname VARCHAR, \n",
      "\tPRIMARY KEY (id)\n",
      ")\n",
      "\n",
      "\n",
      "2018-07-10 16:23:15,826 INFO sqlalchemy.engine.base.Engine ()\n",
      "2018-07-10 16:23:15,829 INFO sqlalchemy.engine.base.Engine COMMIT\n",
      "2018-07-10 16:23:15,830 INFO sqlalchemy.engine.base.Engine \n",
      "CREATE TABLE address (\n",
      "\tid INTEGER NOT NULL, \n",
      "\tuser_id INTEGER, \n",
      "\temail_address VARCHAR NOT NULL, \n",
      "\tPRIMARY KEY (id), \n",
      "\tFOREIGN KEY(user_id) REFERENCES users (id)\n",
      ")\n",
      "\n",
      "\n",
      "2018-07-10 16:23:15,830 INFO sqlalchemy.engine.base.Engine ()\n",
      "2018-07-10 16:23:15,833 INFO sqlalchemy.engine.base.Engine COMMIT\n"
     ]
    }
   ],
   "source": [
    "users=Table('users', metadata,\n",
    "            Column('id',Integer, primary_key=True),\n",
    "            Column('name', String),\n",
    "            Column('fullname',String),\n",
    ")\n",
    "\n",
    "address = Table('address',metadata,\n",
    "            Column('id',Integer, primary_key=True),\n",
    "            Column('user_id', None, ForeignKey('users.id')),\n",
    "            Column('email_address',String, nullable=False),\n",
    ")\n",
    "\n",
    "metadata.create_all(engine)"
   ]
  },
  {
   "cell_type": "code",
   "execution_count": 147,
   "metadata": {},
   "outputs": [
    {
     "name": "stdout",
     "output_type": "stream",
     "text": [
      "users\n",
      "address\n"
     ]
    }
   ],
   "source": [
    "for i in metadata.tables:\n",
    "    print(i)"
   ]
  },
  {
   "cell_type": "code",
   "execution_count": 148,
   "metadata": {},
   "outputs": [
    {
     "name": "stdout",
     "output_type": "stream",
     "text": [
      "INSERT INTO users (id, name, fullname) VALUES (:id, :name, :fullname)\n"
     ]
    }
   ],
   "source": [
    "insert=users.insert()\n",
    "print(insert)"
   ]
  },
  {
   "cell_type": "code",
   "execution_count": 149,
   "metadata": {},
   "outputs": [
    {
     "name": "stdout",
     "output_type": "stream",
     "text": [
      "INSERT INTO users (name, fullname) VALUES (:name, :fullname)\n"
     ]
    }
   ],
   "source": [
    "insert=users.insert().values(name='kim', fullname='Kim Dong Han')\n",
    "print(insert)"
   ]
  },
  {
   "cell_type": "code",
   "execution_count": 150,
   "metadata": {
    "scrolled": true
   },
   "outputs": [
    {
     "data": {
      "text/plain": [
       "{'name': 'kim', 'fullname': 'Kim Dong Han'}"
      ]
     },
     "execution_count": 150,
     "metadata": {},
     "output_type": "execute_result"
    }
   ],
   "source": [
    "insert.compile().params"
   ]
  },
  {
   "cell_type": "code",
   "execution_count": 151,
   "metadata": {},
   "outputs": [],
   "source": [
    "insert.bind=engine#엔진에 바인딩\n",
    "conn=engine.connect()"
   ]
  },
  {
   "cell_type": "code",
   "execution_count": 152,
   "metadata": {
    "scrolled": true
   },
   "outputs": [
    {
     "name": "stdout",
     "output_type": "stream",
     "text": [
      "2018-07-10 16:23:16,048 INFO sqlalchemy.engine.base.Engine INSERT INTO users (name, fullname) VALUES (?, ?)\n",
      "2018-07-10 16:23:16,049 INFO sqlalchemy.engine.base.Engine ('kim', 'Kim Dong Han')\n",
      "2018-07-10 16:23:16,052 INFO sqlalchemy.engine.base.Engine COMMIT\n"
     ]
    }
   ],
   "source": [
    "result=conn.execute(insert)"
   ]
  },
  {
   "cell_type": "code",
   "execution_count": 153,
   "metadata": {
    "scrolled": true
   },
   "outputs": [
    {
     "data": {
      "text/plain": [
       "[1]"
      ]
     },
     "execution_count": 153,
     "metadata": {},
     "output_type": "execute_result"
    }
   ],
   "source": [
    "result.inserted_primary_key"
   ]
  },
  {
   "cell_type": "code",
   "execution_count": 154,
   "metadata": {
    "scrolled": true
   },
   "outputs": [
    {
     "name": "stdout",
     "output_type": "stream",
     "text": [
      "2018-07-10 16:23:16,135 INFO sqlalchemy.engine.base.Engine INSERT INTO users (name, fullname) VALUES (?, ?)\n",
      "2018-07-10 16:23:16,136 INFO sqlalchemy.engine.base.Engine ('lee', 'unknown lee')\n",
      "2018-07-10 16:23:16,139 INFO sqlalchemy.engine.base.Engine COMMIT\n"
     ]
    },
    {
     "data": {
      "text/plain": [
       "<sqlalchemy.engine.result.ResultProxy at 0x68ddd30>"
      ]
     },
     "execution_count": 154,
     "metadata": {},
     "output_type": "execute_result"
    }
   ],
   "source": [
    "conn.execute(insert, name=\"lee\", fullname=\"unknown lee\")"
   ]
  },
  {
   "cell_type": "code",
   "execution_count": 155,
   "metadata": {},
   "outputs": [
    {
     "data": {
      "text/plain": [
       "[1]"
      ]
     },
     "execution_count": 155,
     "metadata": {},
     "output_type": "execute_result"
    }
   ],
   "source": [
    "result.inserted_primary_key"
   ]
  },
  {
   "cell_type": "code",
   "execution_count": 156,
   "metadata": {},
   "outputs": [
    {
     "name": "stdout",
     "output_type": "stream",
     "text": [
      "2018-07-10 16:23:16,196 INFO sqlalchemy.engine.base.Engine INSERT INTO address (user_id, email_address) VALUES (?, ?)\n",
      "2018-07-10 16:23:16,197 INFO sqlalchemy.engine.base.Engine ((1, 'houhou@naver.com'), (2, 'hou@naver.com'))\n",
      "2018-07-10 16:23:16,199 INFO sqlalchemy.engine.base.Engine COMMIT\n"
     ]
    },
    {
     "data": {
      "text/plain": [
       "<sqlalchemy.engine.result.ResultProxy at 0x68b4550>"
      ]
     },
     "execution_count": 156,
     "metadata": {},
     "output_type": "execute_result"
    }
   ],
   "source": [
    "conn.execute(address.insert(),[\n",
    "    {'user_id':1,\"email_address\":\"houhou@naver.com\"},\n",
    "    {'user_id':2,\"email_address\":\"hou@naver.com\"}\n",
    "])"
   ]
  },
  {
   "cell_type": "code",
   "execution_count": 157,
   "metadata": {},
   "outputs": [],
   "source": [
    "from sqlalchemy.sql import select"
   ]
  },
  {
   "cell_type": "code",
   "execution_count": 158,
   "metadata": {},
   "outputs": [
    {
     "name": "stdout",
     "output_type": "stream",
     "text": [
      "2018-07-10 16:23:16,310 INFO sqlalchemy.engine.base.Engine SELECT users.id, users.name, users.fullname \n",
      "FROM users\n",
      "2018-07-10 16:23:16,312 INFO sqlalchemy.engine.base.Engine ()\n",
      "(1, 'kim', 'Kim Dong Han')\n",
      "(2, 'lee', 'unknown lee')\n"
     ]
    }
   ],
   "source": [
    "query=select([users])\n",
    "result=conn.execute(query)\n",
    "\n",
    "for i in result:\n",
    "    print(i)"
   ]
  },
  {
   "cell_type": "code",
   "execution_count": 159,
   "metadata": {
    "scrolled": true
   },
   "outputs": [
    {
     "name": "stdout",
     "output_type": "stream",
     "text": [
      "2018-07-10 16:23:16,348 INFO sqlalchemy.engine.base.Engine SELECT users.name, users.fullname \n",
      "FROM users\n",
      "2018-07-10 16:23:16,349 INFO sqlalchemy.engine.base.Engine ()\n",
      "('kim', 'Kim Dong Han')\n",
      "('lee', 'unknown lee')\n"
     ]
    }
   ],
   "source": [
    "result=conn.execute(select([users.c.name, users.c.fullname]))\n",
    "\n",
    "for i in result:\n",
    "    print(i)"
   ]
  },
  {
   "cell_type": "code",
   "execution_count": 160,
   "metadata": {},
   "outputs": [
    {
     "name": "stdout",
     "output_type": "stream",
     "text": [
      "2018-07-10 16:23:16,393 INFO sqlalchemy.engine.base.Engine SELECT users.id, users.name, users.fullname \n",
      "FROM users\n",
      "2018-07-10 16:23:16,394 INFO sqlalchemy.engine.base.Engine ()\n",
      "id- 1 , name - kim ,fullname- Kim Dong Han\n",
      "id- 2 , name - lee ,fullname- unknown lee\n",
      "2018-07-10 16:23:16,397 INFO sqlalchemy.engine.base.Engine SELECT users.id, users.name, users.fullname \n",
      "FROM users\n",
      "2018-07-10 16:23:16,398 INFO sqlalchemy.engine.base.Engine ()\n",
      "id- 2 , name - lee ,fullname- unknown lee\n",
      "id- 2 , name - lee ,fullname- unknown lee\n"
     ]
    }
   ],
   "source": [
    "result=conn.execute(query)\n",
    "\n",
    "row =result.fetchone()\n",
    "print(\"id-\",row[\"id\"], \", name -\", row[\"name\"], \",fullname-\",row[\"fullname\"])\n",
    "\n",
    "row =result.fetchone()\n",
    "print(\"id-\",row[0], \", name -\", row[1], \",fullname-\",row[2])\n",
    "\n",
    "\n",
    "result = conn.execute(query)\n",
    "rows = result.fetchall()\n",
    "\n",
    "for i in rows:\n",
    "    print(\"id-\",row[0], \", name -\", row[1], \",fullname-\",row[2])\n",
    "    \n",
    "result.close()\n"
   ]
  },
  {
   "cell_type": "code",
   "execution_count": 161,
   "metadata": {},
   "outputs": [
    {
     "name": "stdout",
     "output_type": "stream",
     "text": [
      "users.id = address.user_id OR users.id = :id_1 AND address.email_address LIKE :email_address_1\n"
     ]
    }
   ],
   "source": [
    "print((users.c.id == address.c.user_id) | (users.c.id ==1) & (address.c.email_address.like(\"a%\")))"
   ]
  },
  {
   "cell_type": "code",
   "execution_count": 162,
   "metadata": {},
   "outputs": [
    {
     "name": "stdout",
     "output_type": "stream",
     "text": [
      "2018-07-10 16:23:16,450 INFO sqlalchemy.engine.base.Engine SELECT users.id, users.name, users.fullname \n",
      "FROM users \n",
      "WHERE users.id = ?\n",
      "2018-07-10 16:23:16,451 INFO sqlalchemy.engine.base.Engine (1,)\n"
     ]
    }
   ],
   "source": [
    "result= conn.execute(select([users]).where(users.c.id==1))"
   ]
  },
  {
   "cell_type": "code",
   "execution_count": 163,
   "metadata": {},
   "outputs": [
    {
     "name": "stdout",
     "output_type": "stream",
     "text": [
      "(1, 'kim', 'Kim Dong Han')\n"
     ]
    }
   ],
   "source": [
    "for row in result:\n",
    "    print(row)"
   ]
  },
  {
   "cell_type": "code",
   "execution_count": 164,
   "metadata": {},
   "outputs": [
    {
     "name": "stdout",
     "output_type": "stream",
     "text": [
      "2018-07-10 16:23:16,505 INFO sqlalchemy.engine.base.Engine SELECT users.id, users.name, users.fullname, address.id, address.user_id, address.email_address \n",
      "FROM users, address \n",
      "WHERE users.id = address.user_id\n",
      "2018-07-10 16:23:16,506 INFO sqlalchemy.engine.base.Engine ()\n"
     ]
    }
   ],
   "source": [
    "result= conn.execute(select([users, address]).where(users.c.id==address.c.user_id))"
   ]
  },
  {
   "cell_type": "code",
   "execution_count": 165,
   "metadata": {
    "scrolled": true
   },
   "outputs": [
    {
     "name": "stdout",
     "output_type": "stream",
     "text": [
      "2018-07-10 16:23:16,532 INFO sqlalchemy.engine.base.Engine SELECT users.id, users.name, users.fullname \n",
      "FROM users \n",
      "WHERE users.name LIKE ?\n",
      "2018-07-10 16:23:16,533 INFO sqlalchemy.engine.base.Engine ('k%',)\n"
     ]
    }
   ],
   "source": [
    "result=conn.execute(select([users]).where(users.c.name.like(\"k%\")))"
   ]
  },
  {
   "cell_type": "code",
   "execution_count": 166,
   "metadata": {},
   "outputs": [
    {
     "name": "stdout",
     "output_type": "stream",
     "text": [
      "(1, 'kim', 'Kim Dong Han')\n"
     ]
    }
   ],
   "source": [
    "for row in result:\n",
    "    print(row)"
   ]
  },
  {
   "cell_type": "code",
   "execution_count": 167,
   "metadata": {},
   "outputs": [
    {
     "name": "stdout",
     "output_type": "stream",
     "text": [
      "2018-07-10 16:23:16,641 INFO sqlalchemy.engine.base.Engine SELECT users.id, users.name, users.fullname, address.id, address.user_id, address.email_address \n",
      "FROM users, address \n",
      "WHERE users.id = address.user_id AND users.name LIKE ?\n",
      "2018-07-10 16:23:16,643 INFO sqlalchemy.engine.base.Engine ('k%',)\n"
     ]
    }
   ],
   "source": [
    "result = conn.execute(select([users, address]).where(users.c.id==address.c.user_id).where(users.c.name.like(\"k%\")))"
   ]
  },
  {
   "cell_type": "code",
   "execution_count": 168,
   "metadata": {
    "scrolled": true
   },
   "outputs": [
    {
     "name": "stdout",
     "output_type": "stream",
     "text": [
      "(1, 'kim', 'Kim Dong Han', 1, 1, 'houhou@naver.com')\n"
     ]
    }
   ],
   "source": [
    "for row in result:\n",
    "    print(row)"
   ]
  },
  {
   "cell_type": "code",
   "execution_count": 169,
   "metadata": {},
   "outputs": [],
   "source": [
    "from sqlalchemy import join"
   ]
  },
  {
   "cell_type": "code",
   "execution_count": 170,
   "metadata": {},
   "outputs": [
    {
     "name": "stdout",
     "output_type": "stream",
     "text": [
      "users JOIN address ON users.id = address.user_id\n"
     ]
    }
   ],
   "source": [
    "print(users.join(address, users.c.id==address.c.user_id))"
   ]
  },
  {
   "cell_type": "markdown",
   "metadata": {},
   "source": [
    "#### inner join"
   ]
  },
  {
   "cell_type": "code",
   "execution_count": 171,
   "metadata": {},
   "outputs": [
    {
     "name": "stdout",
     "output_type": "stream",
     "text": [
      "2018-07-10 16:23:16,758 INFO sqlalchemy.engine.base.Engine SELECT users.name, address.email_address \n",
      "FROM users JOIN address ON users.id = address.user_id\n",
      "2018-07-10 16:23:16,759 INFO sqlalchemy.engine.base.Engine ()\n"
     ]
    }
   ],
   "source": [
    "result=conn.execute(select([users.c.name, address.c.email_address]).select_from(users.join(address)))"
   ]
  },
  {
   "cell_type": "code",
   "execution_count": 172,
   "metadata": {},
   "outputs": [
    {
     "name": "stdout",
     "output_type": "stream",
     "text": [
      "('kim', 'houhou@naver.com')\n",
      "('lee', 'hou@naver.com')\n"
     ]
    }
   ],
   "source": [
    "for i in result:\n",
    "    print(i)"
   ]
  },
  {
   "cell_type": "code",
   "execution_count": 173,
   "metadata": {},
   "outputs": [
    {
     "name": "stdout",
     "output_type": "stream",
     "text": [
      "2018-07-10 16:23:16,900 INFO sqlalchemy.engine.base.Engine PRAGMA table_info(\"users\")\n",
      "2018-07-10 16:23:16,901 INFO sqlalchemy.engine.base.Engine ()\n",
      "2018-07-10 16:23:16,905 INFO sqlalchemy.engine.base.Engine PRAGMA table_info(\"address\")\n",
      "2018-07-10 16:23:16,905 INFO sqlalchemy.engine.base.Engine ()\n",
      "2018-07-10 16:23:16,907 INFO sqlalchemy.engine.base.Engine PRAGMA table_info(\"Artist\")\n",
      "2018-07-10 16:23:16,907 INFO sqlalchemy.engine.base.Engine ()\n",
      "2018-07-10 16:23:16,909 INFO sqlalchemy.engine.base.Engine PRAGMA table_info(\"Album\")\n",
      "2018-07-10 16:23:16,909 INFO sqlalchemy.engine.base.Engine ()\n",
      "2018-07-10 16:23:16,911 INFO sqlalchemy.engine.base.Engine PRAGMA table_info(\"Genre\")\n",
      "2018-07-10 16:23:16,911 INFO sqlalchemy.engine.base.Engine ()\n",
      "2018-07-10 16:23:16,912 INFO sqlalchemy.engine.base.Engine PRAGMA table_info(\"Track\")\n",
      "2018-07-10 16:23:16,913 INFO sqlalchemy.engine.base.Engine ()\n",
      "2018-07-10 16:23:16,914 INFO sqlalchemy.engine.base.Engine \n",
      "CREATE TABLE \"Artist\" (\n",
      "\tid INTEGER NOT NULL, \n",
      "\tname VARCHAR NOT NULL, \n",
      "\tPRIMARY KEY (id)\n",
      ")\n",
      "\n",
      "\n",
      "2018-07-10 16:23:16,915 INFO sqlalchemy.engine.base.Engine ()\n",
      "2018-07-10 16:23:16,918 INFO sqlalchemy.engine.base.Engine COMMIT\n",
      "2018-07-10 16:23:16,919 INFO sqlalchemy.engine.base.Engine \n",
      "CREATE TABLE \"Genre\" (\n",
      "\tid INTEGER NOT NULL, \n",
      "\tname VARCHAR NOT NULL, \n",
      "\tPRIMARY KEY (id)\n",
      ")\n",
      "\n",
      "\n",
      "2018-07-10 16:23:16,919 INFO sqlalchemy.engine.base.Engine ()\n",
      "2018-07-10 16:23:16,922 INFO sqlalchemy.engine.base.Engine COMMIT\n",
      "2018-07-10 16:23:16,923 INFO sqlalchemy.engine.base.Engine \n",
      "CREATE TABLE \"Album\" (\n",
      "\tid INTEGER NOT NULL, \n",
      "\ttitle VARCHAR NOT NULL, \n",
      "\tartist_id INTEGER, \n",
      "\tPRIMARY KEY (id), \n",
      "\tFOREIGN KEY(artist_id) REFERENCES \"Artist\" (id)\n",
      ")\n",
      "\n",
      "\n",
      "2018-07-10 16:23:16,924 INFO sqlalchemy.engine.base.Engine ()\n",
      "2018-07-10 16:23:16,927 INFO sqlalchemy.engine.base.Engine COMMIT\n",
      "2018-07-10 16:23:16,929 INFO sqlalchemy.engine.base.Engine \n",
      "CREATE TABLE \"Track\" (\n",
      "\tid INTEGER NOT NULL, \n",
      "\ttitle VARCHAR NOT NULL, \n",
      "\tlength INTEGER NOT NULL, \n",
      "\trating INTEGER NOT NULL, \n",
      "\tcount INTEGER NOT NULL, \n",
      "\talbum_id INTEGER, \n",
      "\tgenre_id INTEGER, \n",
      "\tPRIMARY KEY (id), \n",
      "\tFOREIGN KEY(album_id) REFERENCES \"Album\" (id), \n",
      "\tFOREIGN KEY(genre_id) REFERENCES \"Genre\" (id)\n",
      ")\n",
      "\n",
      "\n",
      "2018-07-10 16:23:16,930 INFO sqlalchemy.engine.base.Engine ()\n",
      "2018-07-10 16:23:16,933 INFO sqlalchemy.engine.base.Engine COMMIT\n"
     ]
    },
    {
     "name": "stderr",
     "output_type": "stream",
     "text": [
      "C:\\Users\\user\\Anaconda3\\lib\\site-packages\\sqlalchemy\\sql\\base.py:291: SAWarning: Can't validate argument 'extened_existing'; can't locate any SQLAlchemy dialect named 'extened'\n",
      "  (k, dialect_name))\n"
     ]
    }
   ],
   "source": [
    "artist=Table(\"Artist\",metadata,\n",
    "            Column(\"id\", Integer, primary_key=True),\n",
    "            Column(\"name\", String, nullable=False),\n",
    "            extened_existing=True)\n",
    "\n",
    "album=Table(\"Album\",metadata,\n",
    "            Column(\"id\", Integer, primary_key=True),\n",
    "            Column(\"title\",String, nullable=False),\n",
    "            Column(\"artist_id\",Integer, ForeignKey(\"Artist.id\")),\n",
    "            extened_existing=True)\n",
    "\n",
    "genre=Table(\"Genre\",metadata,\n",
    "            Column(\"id\", Integer, primary_key=True),\n",
    "            Column(\"name\",String, nullable=False),\n",
    "            extened_existing=True)\n",
    "\n",
    "track=Table(\"Track\",metadata,\n",
    "            Column(\"id\", Integer, primary_key=True),\n",
    "            Column(\"title\", String, nullable=False),\n",
    "            Column(\"length\", Integer, nullable=False),\n",
    "            Column(\"rating\", Integer, nullable=False),\n",
    "            Column(\"count\", Integer, nullable=False),\n",
    "            Column(\"album_id\",Integer, ForeignKey(\"Album.id\")),\n",
    "            Column(\"genre_id\",Integer, ForeignKey(\"Genre.id\")),\n",
    "            extened_existing=True)\n",
    "\n",
    "metadata.create_all(engine)"
   ]
  },
  {
   "cell_type": "code",
   "execution_count": 174,
   "metadata": {},
   "outputs": [
    {
     "name": "stdout",
     "output_type": "stream",
     "text": [
      "users\n",
      "address\n",
      "Artist\n",
      "Album\n",
      "Genre\n",
      "Track\n"
     ]
    }
   ],
   "source": [
    "for i in metadata.tables:\n",
    "    print(i)"
   ]
  },
  {
   "cell_type": "code",
   "execution_count": 175,
   "metadata": {},
   "outputs": [
    {
     "name": "stdout",
     "output_type": "stream",
     "text": [
      "2018-07-10 16:23:16,961 INFO sqlalchemy.engine.base.Engine SELECT name FROM sqlite_master WHERE type='table' ORDER BY name\n",
      "2018-07-10 16:23:16,962 INFO sqlalchemy.engine.base.Engine ()\n",
      "Album\n",
      "Artist\n",
      "Genre\n",
      "Track\n",
      "address\n",
      "users\n"
     ]
    }
   ],
   "source": [
    "for i in engine.table_names():\n",
    "    print(i)"
   ]
  },
  {
   "cell_type": "code",
   "execution_count": 176,
   "metadata": {},
   "outputs": [
    {
     "name": "stdout",
     "output_type": "stream",
     "text": [
      "2018-07-10 16:23:17,011 INFO sqlalchemy.engine.base.Engine INSERT INTO \"Artist\" (name) VALUES (?)\n",
      "2018-07-10 16:23:17,012 INFO sqlalchemy.engine.base.Engine (('Led zepplin',), ('AC/DC',))\n",
      "2018-07-10 16:23:17,014 INFO sqlalchemy.engine.base.Engine COMMIT\n",
      "2018-07-10 16:23:17,017 INFO sqlalchemy.engine.base.Engine INSERT INTO \"Album\" (title, artist_id) VALUES (?, ?)\n",
      "2018-07-10 16:23:17,018 INFO sqlalchemy.engine.base.Engine (('IV', 1), ('WHo Made Who', 2))\n",
      "2018-07-10 16:23:17,020 INFO sqlalchemy.engine.base.Engine COMMIT\n",
      "2018-07-10 16:23:17,022 INFO sqlalchemy.engine.base.Engine INSERT INTO \"Genre\" (name) VALUES (?)\n",
      "2018-07-10 16:23:17,023 INFO sqlalchemy.engine.base.Engine (('Rock',), ('Metal',))\n",
      "2018-07-10 16:23:17,025 INFO sqlalchemy.engine.base.Engine COMMIT\n",
      "2018-07-10 16:23:17,028 INFO sqlalchemy.engine.base.Engine INSERT INTO \"Track\" (title, length, rating, count, album_id, genre_id) VALUES (?, ?, ?, ?, ?, ?)\n",
      "2018-07-10 16:23:17,029 INFO sqlalchemy.engine.base.Engine (('Black Dog', 297, 5, 0, 1, 1), ('StairWay', 482, 5, 0, 1, 1), ('About to Rock', 313, 5, 0, 2, 2), ('Who Made Who', 297, 5, 0, 2, 2))\n",
      "2018-07-10 16:23:17,030 INFO sqlalchemy.engine.base.Engine COMMIT\n"
     ]
    },
    {
     "data": {
      "text/plain": [
       "<sqlalchemy.engine.result.ResultProxy at 0x68cc780>"
      ]
     },
     "execution_count": 176,
     "metadata": {},
     "output_type": "execute_result"
    }
   ],
   "source": [
    "conn.execute(artist.insert(), [\n",
    "    {\"name\":\"Led zepplin\"},\n",
    "    {\"name\":\"AC/DC\"}\n",
    "])\n",
    "\n",
    "conn.execute(album.insert(), [\n",
    "    {\"title\":\"IV\", \"artist_id\":1},\n",
    "    {\"title\":\"WHo Made Who\", \"artist_id\":2}\n",
    "])\n",
    "\n",
    "conn.execute(genre.insert(), [\n",
    "    {\"name\":\"Rock\"},\n",
    "    {\"name\":\"Metal\"}\n",
    "])\n",
    "\n",
    "conn.execute(track.insert(), [\n",
    "    {\"title\":\"Black Dog\", \"rating\":5, \"length\":297, \"count\":0, \"album_id\":1, \"genre_id\":1},\n",
    "    {\"title\":\"StairWay\", \"rating\":5, \"length\":482, \"count\":0, \"album_id\":1, \"genre_id\":1},\n",
    "    {\"title\":\"About to Rock\", \"rating\":5, \"length\":313, \"count\":0, \"album_id\":2, \"genre_id\":2},\n",
    "    {\"title\":\"Who Made Who\", \"rating\":5, \"length\":297, \"count\":0, \"album_id\":2, \"genre_id\":2},\n",
    "    \n",
    "])"
   ]
  },
  {
   "cell_type": "code",
   "execution_count": 177,
   "metadata": {},
   "outputs": [
    {
     "name": "stdout",
     "output_type": "stream",
     "text": [
      "2018-07-10 16:23:17,059 INFO sqlalchemy.engine.base.Engine SELECT \"Artist\".id, \"Artist\".name \n",
      "FROM \"Artist\"\n",
      "2018-07-10 16:23:17,061 INFO sqlalchemy.engine.base.Engine ()\n",
      "(1, 'Led zepplin')\n",
      "(2, 'AC/DC')\n"
     ]
    }
   ],
   "source": [
    "result=conn.execute(artist.select())\n",
    "for i in result:\n",
    "    print(i)"
   ]
  },
  {
   "cell_type": "code",
   "execution_count": 178,
   "metadata": {},
   "outputs": [
    {
     "name": "stdout",
     "output_type": "stream",
     "text": [
      "2018-07-10 16:23:17,097 INFO sqlalchemy.engine.base.Engine SELECT \"Track\".id, \"Track\".title, \"Track\".length, \"Track\".rating, \"Track\".count, \"Track\".album_id, \"Track\".genre_id \n",
      "FROM \"Track\"\n",
      "2018-07-10 16:23:17,098 INFO sqlalchemy.engine.base.Engine ()\n",
      "(1, 'Black Dog', 297, 5, 0, 1, 1)\n",
      "(2, 'StairWay', 482, 5, 0, 1, 1)\n",
      "(3, 'About to Rock', 313, 5, 0, 2, 2)\n",
      "(4, 'Who Made Who', 297, 5, 0, 2, 2)\n"
     ]
    }
   ],
   "source": [
    "result=conn.execute(track.select())\n",
    "for i in result:\n",
    "    print(i)"
   ]
  },
  {
   "cell_type": "code",
   "execution_count": 179,
   "metadata": {},
   "outputs": [
    {
     "name": "stdout",
     "output_type": "stream",
     "text": [
      "2018-07-10 16:23:17,141 INFO sqlalchemy.engine.base.Engine SELECT \"Track\".id, \"Track\".title, \"Track\".length, \"Track\".rating, \"Track\".count, \"Track\".album_id, \"Track\".genre_id \n",
      "FROM \"Track\" \n",
      "WHERE \"Track\".album_id = ? AND (\"Track\".genre_id = ? OR \"Track\".genre_id = ?)\n",
      "2018-07-10 16:23:17,143 INFO sqlalchemy.engine.base.Engine (1, 1, 2)\n",
      "(1, 'Black Dog', 297, 5, 0, 1, 1)\n",
      "(2, 'StairWay', 482, 5, 0, 1, 1)\n"
     ]
    }
   ],
   "source": [
    "from sqlalchemy import and_, or_\n",
    "result=conn.execute(select([track])\n",
    "                           .where(\n",
    "                               and_(track.c.album_id==1,\n",
    "                                   or_(track.c.genre_id==1,\n",
    "                                       track.c.genre_id==2,)\n",
    "                                   )\n",
    "                           )\n",
    "                    )\n",
    "                    \n",
    "for i in result:\n",
    "    print(i)"
   ]
  },
  {
   "cell_type": "code",
   "execution_count": 180,
   "metadata": {},
   "outputs": [],
   "source": [
    "from sqlalchemy import update"
   ]
  },
  {
   "cell_type": "code",
   "execution_count": 181,
   "metadata": {},
   "outputs": [
    {
     "name": "stdout",
     "output_type": "stream",
     "text": [
      "2018-07-10 16:23:17,204 INFO sqlalchemy.engine.base.Engine UPDATE \"Track\" SET genre_id=? WHERE \"Track\".genre_id = ?\n",
      "2018-07-10 16:23:17,205 INFO sqlalchemy.engine.base.Engine (1, 3)\n",
      "2018-07-10 16:23:17,207 INFO sqlalchemy.engine.base.Engine COMMIT\n"
     ]
    },
    {
     "data": {
      "text/plain": [
       "<sqlalchemy.engine.result.ResultProxy at 0x68c9828>"
      ]
     },
     "execution_count": 181,
     "metadata": {},
     "output_type": "execute_result"
    }
   ],
   "source": [
    "conn.execute(track.update().values(genre_id=1).where(track.c.genre_id==3))"
   ]
  },
  {
   "cell_type": "code",
   "execution_count": 182,
   "metadata": {},
   "outputs": [
    {
     "name": "stdout",
     "output_type": "stream",
     "text": [
      "\"Track\" JOIN \"Album\" ON \"Album\".id = \"Track\".album_id\n"
     ]
    }
   ],
   "source": [
    "print(track.join(album))"
   ]
  },
  {
   "cell_type": "code",
   "execution_count": 183,
   "metadata": {},
   "outputs": [
    {
     "name": "stdout",
     "output_type": "stream",
     "text": [
      "2018-07-10 16:23:17,313 INFO sqlalchemy.engine.base.Engine SELECT \"Track\".id, \"Track\".title, \"Track\".length, \"Track\".rating, \"Track\".count, \"Track\".album_id, \"Track\".genre_id \n",
      "FROM \"Track\" JOIN \"Album\" ON \"Album\".id = \"Track\".album_id\n",
      "2018-07-10 16:23:17,315 INFO sqlalchemy.engine.base.Engine ()\n",
      "(1, 'Black Dog', 297, 5, 0, 1, 1)\n",
      "(2, 'StairWay', 482, 5, 0, 1, 1)\n",
      "(3, 'About to Rock', 313, 5, 0, 2, 2)\n",
      "(4, 'Who Made Who', 297, 5, 0, 2, 2)\n"
     ]
    }
   ],
   "source": [
    "result=conn.execute(track.select().select_from(track.join(album)))\n",
    "for i in result:\n",
    "    print(i)"
   ]
  },
  {
   "cell_type": "code",
   "execution_count": 184,
   "metadata": {},
   "outputs": [
    {
     "name": "stdout",
     "output_type": "stream",
     "text": [
      "2018-07-10 16:23:17,349 INFO sqlalchemy.engine.base.Engine SELECT \"Track\".id, \"Track\".title, \"Track\".length, \"Track\".rating, \"Track\".count, \"Track\".album_id, \"Track\".genre_id \n",
      "FROM \"Track\" JOIN \"Album\" ON \"Album\".id = \"Track\".album_id\n",
      "2018-07-10 16:23:17,350 INFO sqlalchemy.engine.base.Engine ()\n",
      "(1, 'Black Dog', 297, 5, 0, 1, 1)\n",
      "(2, 'StairWay', 482, 5, 0, 1, 1)\n",
      "(3, 'About to Rock', 313, 5, 0, 2, 2)\n",
      "(4, 'Who Made Who', 297, 5, 0, 2, 2)\n"
     ]
    }
   ],
   "source": [
    "result=conn.execute(track.select().select_from(track.join(album)))\n",
    "for i in result:\n",
    "    print(i)"
   ]
  },
  {
   "cell_type": "code",
   "execution_count": 185,
   "metadata": {},
   "outputs": [
    {
     "name": "stdout",
     "output_type": "stream",
     "text": [
      "\"Track\" JOIN \"Album\" ON \"Album\".id = \"Track\".album_id\n",
      "\"Track\" JOIN \"Album\" ON \"Album\".id = \"Track\".album_id JOIN \"Genre\" ON \"Genre\".id = \"Track\".genre_id\n",
      "\"Track\" JOIN \"Album\" ON \"Album\".id = \"Track\".album_id JOIN \"Artist\" ON \"Artist\".id = \"Album\".artist_id\n",
      "\"Track\" JOIN \"Album\" ON \"Album\".id = \"Track\".album_id JOIN \"Genre\" ON \"Genre\".id = \"Track\".genre_id JOIN \"Artist\" ON \"Artist\".id = \"Album\".artist_id\n",
      "2018-07-10 16:23:17,399 INFO sqlalchemy.engine.base.Engine SELECT \"Track\".title, \"Album\".title, \"Genre\".name, \"Artist\".name \n",
      "FROM \"Track\" JOIN \"Album\" ON \"Album\".id = \"Track\".album_id JOIN \"Genre\" ON \"Genre\".id = \"Track\".genre_id JOIN \"Artist\" ON \"Artist\".id = \"Album\".artist_id\n",
      "2018-07-10 16:23:17,401 INFO sqlalchemy.engine.base.Engine ()\n",
      "('Black Dog', 'IV', 'Rock', 'Led zepplin')\n",
      "('StairWay', 'IV', 'Rock', 'Led zepplin')\n",
      "('About to Rock', 'WHo Made Who', 'Metal', 'AC/DC')\n",
      "('Who Made Who', 'WHo Made Who', 'Metal', 'AC/DC')\n"
     ]
    }
   ],
   "source": [
    "print(track.join(album))\n",
    "print(track.join(album).join(genre))\n",
    "print(track.join(album).join(artist))\n",
    "print(track.join(album).join(genre).join(artist))\n",
    "\n",
    "result = conn.execute(select([track.c.title, album.c.title, genre.c.name, artist.c.name]).select_from(track.join(album).join(genre).join(artist)))\n",
    "\n",
    "for i in result.fetchall():\n",
    "    print(i)"
   ]
  },
  {
   "cell_type": "code",
   "execution_count": 186,
   "metadata": {},
   "outputs": [
    {
     "name": "stdout",
     "output_type": "stream",
     "text": [
      "2018-07-10 16:23:17,447 INFO sqlalchemy.engine.base.Engine SELECT \"Track\".id, \"Track\".title, \"Track\".length, \"Track\".rating, \"Track\".count, \"Track\".album_id, \"Track\".genre_id \n",
      "FROM \"Track\" JOIN \"Album\" ON \"Album\".id = \"Track\".album_id JOIN \"Genre\" ON \"Genre\".id = \"Track\".genre_id JOIN \"Artist\" ON \"Artist\".id = \"Album\".artist_id \n",
      "WHERE \"Genre\".id = ? AND \"Artist\".id = ?\n",
      "2018-07-10 16:23:17,448 INFO sqlalchemy.engine.base.Engine (1, 1)\n",
      "(1, 'Black Dog', 297, 5, 0, 1, 1)\n",
      "(2, 'StairWay', 482, 5, 0, 1, 1)\n"
     ]
    }
   ],
   "source": [
    "result=conn.execute(track.select().select_from(track.join(album).join(genre).join(artist)).where(and_(genre.c.id==1,artist.c.id==1,)))\n",
    "\n",
    "for i in result.fetchall():\n",
    "    print(i)"
   ]
  },
  {
   "cell_type": "code",
   "execution_count": 187,
   "metadata": {},
   "outputs": [
    {
     "name": "stdout",
     "output_type": "stream",
     "text": [
      "2018-07-10 16:23:17,499 INFO sqlalchemy.engine.base.Engine SELECT \"Track\".title, \"Album\".title, \"Genre\".name, \"Artist\".name \n",
      "FROM \"Track\" JOIN \"Album\" ON \"Album\".id = \"Track\".album_id JOIN \"Genre\" ON \"Genre\".id = \"Track\".genre_id JOIN \"Artist\" ON \"Artist\".id = \"Album\".artist_id \n",
      "WHERE \"Genre\".id = ? AND \"Artist\".name LIKE ?\n",
      "2018-07-10 16:23:17,500 INFO sqlalchemy.engine.base.Engine (1, '%pp%')\n",
      "('Black Dog', 'IV', 'Rock', 'Led zepplin')\n",
      "('StairWay', 'IV', 'Rock', 'Led zepplin')\n"
     ]
    }
   ],
   "source": [
    "result = conn.execute(select([track.c.title, album.c.title, genre.c.name, artist.c.name]).select_from(track.join(album).join(genre).join(artist))\n",
    "                     .where(\n",
    "                     and_(\n",
    "                     genre.c.id==1,\n",
    "                     artist.c.name.like('%pp%')\n",
    "                     )\n",
    "                     ))\n",
    "\n",
    "for i in result.fetchall():\n",
    "    print(i)"
   ]
  },
  {
   "cell_type": "code",
   "execution_count": 6,
   "metadata": {},
   "outputs": [
    {
     "name": "stdout",
     "output_type": "stream",
     "text": [
      "2018-07-10 16:32:30,076 INFO sqlalchemy.engine.base.Engine SELECT CAST('test plain returns' AS VARCHAR(60)) AS anon_1\n",
      "2018-07-10 16:32:30,079 INFO sqlalchemy.engine.base.Engine ()\n",
      "2018-07-10 16:32:30,082 INFO sqlalchemy.engine.base.Engine SELECT CAST('test unicode returns' AS VARCHAR(60)) AS anon_1\n",
      "2018-07-10 16:32:30,083 INFO sqlalchemy.engine.base.Engine ()\n",
      "2018-07-10 16:32:30,086 INFO sqlalchemy.engine.base.Engine SELECT name FROM sqlite_master WHERE type='table' ORDER BY name\n",
      "2018-07-10 16:32:30,087 INFO sqlalchemy.engine.base.Engine ()\n",
      "2018-07-10 16:32:30,090 INFO sqlalchemy.engine.base.Engine PRAGMA table_info(\"Album\")\n",
      "2018-07-10 16:32:30,092 INFO sqlalchemy.engine.base.Engine ()\n",
      "2018-07-10 16:32:30,094 INFO sqlalchemy.engine.base.Engine SELECT sql FROM  (SELECT * FROM sqlite_master UNION ALL   SELECT * FROM sqlite_temp_master) WHERE name = 'Album' AND type = 'table'\n",
      "2018-07-10 16:32:30,095 INFO sqlalchemy.engine.base.Engine ()\n",
      "2018-07-10 16:32:30,097 INFO sqlalchemy.engine.base.Engine PRAGMA foreign_key_list(\"Album\")\n",
      "2018-07-10 16:32:30,097 INFO sqlalchemy.engine.base.Engine ()\n",
      "2018-07-10 16:32:30,098 INFO sqlalchemy.engine.base.Engine SELECT sql FROM  (SELECT * FROM sqlite_master UNION ALL   SELECT * FROM sqlite_temp_master) WHERE name = 'Album' AND type = 'table'\n",
      "2018-07-10 16:32:30,099 INFO sqlalchemy.engine.base.Engine ()\n",
      "2018-07-10 16:32:30,100 INFO sqlalchemy.engine.base.Engine PRAGMA table_info(\"Artist\")\n",
      "2018-07-10 16:32:30,100 INFO sqlalchemy.engine.base.Engine ()\n",
      "2018-07-10 16:32:30,101 INFO sqlalchemy.engine.base.Engine SELECT sql FROM  (SELECT * FROM sqlite_master UNION ALL   SELECT * FROM sqlite_temp_master) WHERE name = 'Artist' AND type = 'table'\n",
      "2018-07-10 16:32:30,102 INFO sqlalchemy.engine.base.Engine ()\n",
      "2018-07-10 16:32:30,103 INFO sqlalchemy.engine.base.Engine PRAGMA foreign_key_list(\"Artist\")\n",
      "2018-07-10 16:32:30,104 INFO sqlalchemy.engine.base.Engine ()\n",
      "2018-07-10 16:32:30,104 INFO sqlalchemy.engine.base.Engine SELECT sql FROM  (SELECT * FROM sqlite_master UNION ALL   SELECT * FROM sqlite_temp_master) WHERE name = 'Artist' AND type = 'table'\n",
      "2018-07-10 16:32:30,105 INFO sqlalchemy.engine.base.Engine ()\n",
      "2018-07-10 16:32:30,106 INFO sqlalchemy.engine.base.Engine PRAGMA index_list(\"Artist\")\n",
      "2018-07-10 16:32:30,107 INFO sqlalchemy.engine.base.Engine ()\n",
      "2018-07-10 16:32:30,108 INFO sqlalchemy.engine.base.Engine PRAGMA index_list(\"Artist\")\n",
      "2018-07-10 16:32:30,108 INFO sqlalchemy.engine.base.Engine ()\n",
      "2018-07-10 16:32:30,109 INFO sqlalchemy.engine.base.Engine SELECT sql FROM  (SELECT * FROM sqlite_master UNION ALL   SELECT * FROM sqlite_temp_master) WHERE name = 'Artist' AND type = 'table'\n",
      "2018-07-10 16:32:30,109 INFO sqlalchemy.engine.base.Engine ()\n",
      "2018-07-10 16:32:30,110 INFO sqlalchemy.engine.base.Engine PRAGMA index_list(\"Album\")\n",
      "2018-07-10 16:32:30,111 INFO sqlalchemy.engine.base.Engine ()\n",
      "2018-07-10 16:32:30,112 INFO sqlalchemy.engine.base.Engine PRAGMA index_list(\"Album\")\n",
      "2018-07-10 16:32:30,112 INFO sqlalchemy.engine.base.Engine ()\n",
      "2018-07-10 16:32:30,114 INFO sqlalchemy.engine.base.Engine SELECT sql FROM  (SELECT * FROM sqlite_master UNION ALL   SELECT * FROM sqlite_temp_master) WHERE name = 'Album' AND type = 'table'\n",
      "2018-07-10 16:32:30,114 INFO sqlalchemy.engine.base.Engine ()\n",
      "2018-07-10 16:32:30,115 INFO sqlalchemy.engine.base.Engine PRAGMA table_info(\"Genre\")\n",
      "2018-07-10 16:32:30,116 INFO sqlalchemy.engine.base.Engine ()\n",
      "2018-07-10 16:32:30,117 INFO sqlalchemy.engine.base.Engine SELECT sql FROM  (SELECT * FROM sqlite_master UNION ALL   SELECT * FROM sqlite_temp_master) WHERE name = 'Genre' AND type = 'table'\n",
      "2018-07-10 16:32:30,118 INFO sqlalchemy.engine.base.Engine ()\n",
      "2018-07-10 16:32:30,119 INFO sqlalchemy.engine.base.Engine PRAGMA foreign_key_list(\"Genre\")\n",
      "2018-07-10 16:32:30,119 INFO sqlalchemy.engine.base.Engine ()\n",
      "2018-07-10 16:32:30,120 INFO sqlalchemy.engine.base.Engine SELECT sql FROM  (SELECT * FROM sqlite_master UNION ALL   SELECT * FROM sqlite_temp_master) WHERE name = 'Genre' AND type = 'table'\n",
      "2018-07-10 16:32:30,121 INFO sqlalchemy.engine.base.Engine ()\n",
      "2018-07-10 16:32:30,122 INFO sqlalchemy.engine.base.Engine PRAGMA index_list(\"Genre\")\n",
      "2018-07-10 16:32:30,123 INFO sqlalchemy.engine.base.Engine ()\n",
      "2018-07-10 16:32:30,124 INFO sqlalchemy.engine.base.Engine PRAGMA index_list(\"Genre\")\n",
      "2018-07-10 16:32:30,124 INFO sqlalchemy.engine.base.Engine ()\n",
      "2018-07-10 16:32:30,126 INFO sqlalchemy.engine.base.Engine SELECT sql FROM  (SELECT * FROM sqlite_master UNION ALL   SELECT * FROM sqlite_temp_master) WHERE name = 'Genre' AND type = 'table'\n",
      "2018-07-10 16:32:30,127 INFO sqlalchemy.engine.base.Engine ()\n",
      "2018-07-10 16:32:30,128 INFO sqlalchemy.engine.base.Engine PRAGMA table_info(\"Track\")\n",
      "2018-07-10 16:32:30,129 INFO sqlalchemy.engine.base.Engine ()\n",
      "2018-07-10 16:32:30,131 INFO sqlalchemy.engine.base.Engine SELECT sql FROM  (SELECT * FROM sqlite_master UNION ALL   SELECT * FROM sqlite_temp_master) WHERE name = 'Track' AND type = 'table'\n",
      "2018-07-10 16:32:30,131 INFO sqlalchemy.engine.base.Engine ()\n",
      "2018-07-10 16:32:30,132 INFO sqlalchemy.engine.base.Engine PRAGMA foreign_key_list(\"Track\")\n",
      "2018-07-10 16:32:30,133 INFO sqlalchemy.engine.base.Engine ()\n",
      "2018-07-10 16:32:30,135 INFO sqlalchemy.engine.base.Engine SELECT sql FROM  (SELECT * FROM sqlite_master UNION ALL   SELECT * FROM sqlite_temp_master) WHERE name = 'Track' AND type = 'table'\n",
      "2018-07-10 16:32:30,135 INFO sqlalchemy.engine.base.Engine ()\n",
      "2018-07-10 16:32:30,136 INFO sqlalchemy.engine.base.Engine PRAGMA index_list(\"Track\")\n",
      "2018-07-10 16:32:30,137 INFO sqlalchemy.engine.base.Engine ()\n",
      "2018-07-10 16:32:30,138 INFO sqlalchemy.engine.base.Engine PRAGMA index_list(\"Track\")\n",
      "2018-07-10 16:32:30,138 INFO sqlalchemy.engine.base.Engine ()\n",
      "2018-07-10 16:32:30,139 INFO sqlalchemy.engine.base.Engine SELECT sql FROM  (SELECT * FROM sqlite_master UNION ALL   SELECT * FROM sqlite_temp_master) WHERE name = 'Track' AND type = 'table'\n",
      "2018-07-10 16:32:30,140 INFO sqlalchemy.engine.base.Engine ()\n",
      "2018-07-10 16:32:30,142 INFO sqlalchemy.engine.base.Engine SELECT name FROM sqlite_master WHERE type='table' ORDER BY name\n",
      "2018-07-10 16:32:30,143 INFO sqlalchemy.engine.base.Engine ()\n",
      "Album\n",
      "Artist\n",
      "Genre\n",
      "Track\n"
     ]
    },
    {
     "name": "stderr",
     "output_type": "stream",
     "text": [
      "C:\\Users\\user\\Anaconda3\\lib\\site-packages\\ipykernel_launcher.py:6: SADeprecationWarning: reflect=True is deprecate; please use the reflect() method.\n",
      "  \n"
     ]
    }
   ],
   "source": [
    "from sqlalchemy import create_engine, MetaData\n",
    "\n",
    "engine=create_engine(\"sqlite:///alchemytest.db\",echo=True)\n",
    "conn=engine.connect()\n",
    "\n",
    "metadata=MetaData(bind=engine, reflect=True)\n",
    "metadata.reflect(bind=engine)\n",
    "\n",
    "for i in metadata.tables:\n",
    "    print(i)"
   ]
  },
  {
   "cell_type": "code",
   "execution_count": 7,
   "metadata": {},
   "outputs": [
    {
     "name": "stdout",
     "output_type": "stream",
     "text": [
      "Album\n",
      "Artist\n",
      "Genre\n",
      "Track\n"
     ]
    }
   ],
   "source": [
    "for i in metadata.tables:\n",
    "    print(i)"
   ]
  },
  {
   "cell_type": "code",
   "execution_count": 9,
   "metadata": {},
   "outputs": [],
   "source": [
    "album=metadata.tables[\"Album\"]"
   ]
  },
  {
   "cell_type": "code",
   "execution_count": 10,
   "metadata": {},
   "outputs": [
    {
     "ename": "NameError",
     "evalue": "name 'track' is not defined",
     "output_type": "error",
     "traceback": [
      "\u001b[1;31m---------------------------------------------------------------------------\u001b[0m",
      "\u001b[1;31mNameError\u001b[0m                                 Traceback (most recent call last)",
      "\u001b[1;32m<ipython-input-10-716948287ac8>\u001b[0m in \u001b[0;36m<module>\u001b[1;34m()\u001b[0m\n\u001b[1;32m----> 1\u001b[1;33m \u001b[0mtrack\u001b[0m\u001b[1;33m\u001b[0m\u001b[0m\n\u001b[0m",
      "\u001b[1;31mNameError\u001b[0m: name 'track' is not defined"
     ]
    }
   ],
   "source": [
    "track"
   ]
  },
  {
   "cell_type": "code",
   "execution_count": 11,
   "metadata": {},
   "outputs": [
    {
     "data": {
      "text/plain": [
       "Table('Album', MetaData(bind=Engine(sqlite:///alchemytest.db)), Column('id', INTEGER(), table=<Album>, primary_key=True, nullable=False), Column('title', VARCHAR(), table=<Album>, nullable=False), Column('artist_id', INTEGER(), ForeignKey('Artist.id'), table=<Album>), schema=None)"
      ]
     },
     "execution_count": 11,
     "metadata": {},
     "output_type": "execute_result"
    }
   ],
   "source": [
    "album"
   ]
  },
  {
   "cell_type": "code",
   "execution_count": 13,
   "metadata": {},
   "outputs": [
    {
     "name": "stdout",
     "output_type": "stream",
     "text": [
      "2018-07-10 16:34:48,071 INFO sqlalchemy.engine.base.Engine SELECT \"Album\".id, \"Album\".title, \"Album\".artist_id \n",
      "FROM \"Album\"\n",
      "2018-07-10 16:34:48,072 INFO sqlalchemy.engine.base.Engine ()\n"
     ]
    }
   ],
   "source": [
    "result=conn.execute(album.select())"
   ]
  },
  {
   "cell_type": "code",
   "execution_count": 15,
   "metadata": {},
   "outputs": [
    {
     "name": "stdout",
     "output_type": "stream",
     "text": [
      "(1, 'IV', 1)\n",
      "(2, 'WHo Made Who', 2)\n"
     ]
    }
   ],
   "source": [
    "for i in result:\n",
    "    print(i)"
   ]
  },
  {
   "cell_type": "code",
   "execution_count": null,
   "metadata": {},
   "outputs": [],
   "source": []
  }
 ],
 "metadata": {
  "kernelspec": {
   "display_name": "Python 3",
   "language": "python",
   "name": "python3"
  },
  "language_info": {
   "codemirror_mode": {
    "name": "ipython",
    "version": 3
   },
   "file_extension": ".py",
   "mimetype": "text/x-python",
   "name": "python",
   "nbconvert_exporter": "python",
   "pygments_lexer": "ipython3",
   "version": "3.6.5"
  }
 },
 "nbformat": 4,
 "nbformat_minor": 2
}
