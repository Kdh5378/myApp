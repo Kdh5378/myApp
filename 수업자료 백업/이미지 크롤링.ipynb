{
 "cells": [
  {
   "cell_type": "code",
   "execution_count": 1,
   "metadata": {},
   "outputs": [],
   "source": [
    "import urllib.request\n",
    "from lxml import etree\n",
    "from urllib import parse"
   ]
  },
  {
   "cell_type": "code",
   "execution_count": 2,
   "metadata": {},
   "outputs": [],
   "source": [
    "headers={\n",
    "    \"user-agent\":\"Mozilla/5.0 (Windows NT 6.1; Win64; x64) AppleWebKit/537.36 (KHTML, like Gecko) Chrome/67.0.3396.99 Safari/537.36\",\n",
    "    #\"Accept-Encoding\":\"False\"#오 이거 개쩐다\n",
    "}\n",
    "\n",
    "params={\"q\":None}\n",
    "\n",
    "url=\"https://www.google.co.kr/search?biw=1600&bih=804&tbm=isch&sa=1&ei=qj5PW_CUG4Sk-Qarpq_IAQ&btnG=%EA%B2%80%EC%83%89&\""
   ]
  },
  {
   "cell_type": "code",
   "execution_count": null,
   "metadata": {},
   "outputs": [],
   "source": [
    "def getUrl(url, params=\"밀레\", select=\"a\", num_retrive=2):#구글 외의 사이트에서는 a만 찾아오게 한다\n",
    "    html= requests.get(url, params=params, headers=headers)\n",
    "    \n",
    "    if 500<=html.status_code<600 and num_retrive>0:\n",
    "        print(html.status_code, html.reason)\n",
    "        return getUrl(url, params=params, num_retrive=num_retrive-1)\n",
    "    \n",
    "    dom= BeautifulSoup(html.text, \"html.parser\")\n",
    "    links =dom.select(select)\n",
    "    \n",
    "    return [link[\"href\"] for link in links if link.has_attr(\"href\")==True]"
   ]
  }
 ],
 "metadata": {
  "kernelspec": {
   "display_name": "Python 3",
   "language": "python",
   "name": "python3"
  },
  "language_info": {
   "codemirror_mode": {
    "name": "ipython",
    "version": 3
   },
   "file_extension": ".py",
   "mimetype": "text/x-python",
   "name": "python",
   "nbconvert_exporter": "python",
   "pygments_lexer": "ipython3",
   "version": "3.6.5"
  }
 },
 "nbformat": 4,
 "nbformat_minor": 2
}
