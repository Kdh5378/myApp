{
 "cells": [
  {
   "cell_type": "markdown",
   "metadata": {},
   "source": [
    "## 파란색 문제"
   ]
  },
  {
   "cell_type": "markdown",
   "metadata": {},
   "source": [
    "#### Exercise 82: Taxi Fare"
   ]
  },
  {
   "cell_type": "code",
   "execution_count": 10,
   "metadata": {},
   "outputs": [
    {
     "name": "stdout",
     "output_type": "stream",
     "text": [
      "141\n"
     ]
    },
    {
     "data": {
      "text/plain": [
       "4.5"
      ]
     },
     "execution_count": 10,
     "metadata": {},
     "output_type": "execute_result"
    }
   ],
   "source": [
    "k=int(input())\n",
    "\n",
    "def distance(k):\n",
    "    return (4.00+0.25*(1+int(k/140)))\n",
    "\n",
    "distance(k)"
   ]
  },
  {
   "cell_type": "markdown",
   "metadata": {},
   "source": [
    "#### Exercise 84: Median of Three Values"
   ]
  },
  {
   "cell_type": "code",
   "execution_count": 13,
   "metadata": {},
   "outputs": [
    {
     "name": "stdout",
     "output_type": "stream",
     "text": [
      "1\n",
      "9\n",
      "5\n"
     ]
    },
    {
     "data": {
      "text/plain": [
       "5"
      ]
     },
     "execution_count": 13,
     "metadata": {},
     "output_type": "execute_result"
    }
   ],
   "source": [
    "nums=[]\n",
    "for i in range(1,4):\n",
    "    num=int(input())\n",
    "    nums.append(num)\n",
    "\n",
    "def median(*x):\n",
    "    x=sorted(x)\n",
    "    return x[int(len(x)/2)]\n",
    "\n",
    "median(*nums)"
   ]
  },
  {
   "cell_type": "markdown",
   "metadata": {},
   "source": [
    "#### Exercise 85: Convert an Integer to its Ordinal Number"
   ]
  },
  {
   "cell_type": "code",
   "execution_count": 14,
   "metadata": {},
   "outputs": [
    {
     "name": "stdout",
     "output_type": "stream",
     "text": [
      "4\n"
     ]
    },
    {
     "data": {
      "text/plain": [
       "'fourth'"
      ]
     },
     "execution_count": 14,
     "metadata": {},
     "output_type": "execute_result"
    }
   ],
   "source": [
    "ordinal_nums={1:'first',2:'second',3:'third',4:'fourth',5:'fifth', 6:'sixth', 7:'seventh',8:'eighth',9:'ninth',10:'tenth',11:'eleventh',12:'twelfth'}\n",
    "\n",
    "num=int(input())\n",
    "\n",
    "def ordinal(x):\n",
    "    if 1<=x<=12:\n",
    "        return ordinal_nums.get(x)\n",
    "    else:\n",
    "        return ''\n",
    "    \n",
    "ordinal(num)"
   ]
  },
  {
   "cell_type": "markdown",
   "metadata": {},
   "source": [
    "#### Exercise 88: Is it a Valid Triangle?"
   ]
  },
  {
   "cell_type": "code",
   "execution_count": 15,
   "metadata": {},
   "outputs": [
    {
     "name": "stdout",
     "output_type": "stream",
     "text": [
      "5\n",
      "8\n",
      "7\n"
     ]
    },
    {
     "data": {
      "text/plain": [
       "True"
      ]
     },
     "execution_count": 15,
     "metadata": {},
     "output_type": "execute_result"
    }
   ],
   "source": [
    "nums=[]\n",
    "for i in range(0,3):\n",
    "    num=int(input())\n",
    "    nums.append(num)\n",
    "\n",
    "def triangle(*x):\n",
    "    x=sorted(x)\n",
    "    if x[0]+x[1]<=x[2]:\n",
    "        return False\n",
    "    else:\n",
    "        return True\n",
    "    \n",
    "triangle(*nums)"
   ]
  },
  {
   "cell_type": "markdown",
   "metadata": {},
   "source": [
    "#### Exercise 92: Is a Number Prime?"
   ]
  },
  {
   "cell_type": "code",
   "execution_count": 16,
   "metadata": {},
   "outputs": [
    {
     "name": "stdout",
     "output_type": "stream",
     "text": [
      "13\n"
     ]
    },
    {
     "data": {
      "text/plain": [
       "True"
      ]
     },
     "execution_count": 16,
     "metadata": {},
     "output_type": "execute_result"
    }
   ],
   "source": [
    "num=int(input())\n",
    "\n",
    "def prime(num):\n",
    "    if 3<=num or num%2!=0:\n",
    "        for i in range(2,num):\n",
    "            if num%i==0:\n",
    "                return False\n",
    "    return True\n",
    "    \n",
    "prime(num)\n",
    "        "
   ]
  },
  {
   "cell_type": "markdown",
   "metadata": {},
   "source": [
    "## 빨간색 문제"
   ]
  },
  {
   "cell_type": "markdown",
   "metadata": {},
   "source": [
    "#### Exercise 86: The Twelve Days of Christmas"
   ]
  },
  {
   "cell_type": "code",
   "execution_count": 17,
   "metadata": {},
   "outputs": [
    {
     "name": "stdout",
     "output_type": "stream",
     "text": [
      "12\n",
      "On the twelfth day of Christmas my true love sent to me\n",
      "\n",
      "Tweleve Drummers Drumming\n",
      "\n",
      "Eleven Pipers Piping\n",
      "\n",
      "Ten Lords a-Leaping\n",
      "\n",
      "Nine Ladies Dancing\n",
      "\n",
      "Eight Maids a-Milking\n",
      "\n",
      "Seven Swans a-Swimming\n",
      "\n",
      "Six Geese a-Laying\n",
      "\n",
      "Five Gold Rings\n",
      "\n",
      "Four Calling Birds\n",
      "\n",
      "Three French Hens\n",
      "\n",
      "Two Turtle Doves\n",
      "\n",
      "And a Partridge in a Pear Tree.\n",
      "\n"
     ]
    }
   ],
   "source": [
    "christmas={1:'a Partridge in a Pear Tree.', 2:'Two Turtle Doves', 3:'Three French Hens', 4:'Four Calling Birds', 5:'Five Gold Rings',6:'Six Geese a-Laying',7:'Seven Swans a-Swimming',8:'Eight Maids a-Milking', 9:'Nine Ladies Dancing',10:'Ten Lords a-Leaping', 11:'Eleven Pipers Piping', 12:'Tweleve Drummers Drumming'}\n",
    "num=int(input())\n",
    "\n",
    "def first_lyrics(num):\n",
    "    print('On the ',end='')\n",
    "    print(ordinal(num),end='')\n",
    "    print(' day of Christmas my true love sent to me\\n')\n",
    "    \n",
    "first_lyrics(num)\n",
    "\n",
    "for j in range(num,0,-1): \n",
    "    if j==1 and num>1:\n",
    "         print('And ',end='')\n",
    "    for i in christmas.get(j):\n",
    "            print(i,end='')    \n",
    "    print('\\n')"
   ]
  },
  {
   "cell_type": "markdown",
   "metadata": {},
   "source": [
    "#### Exercise 89: Capitalize It"
   ]
  },
  {
   "cell_type": "code",
   "execution_count": 27,
   "metadata": {
    "scrolled": false
   },
   "outputs": [
    {
     "name": "stdout",
     "output_type": "stream",
     "text": [
      "what time do i have to be there? what’s the address?\n",
      "What time do I have to be there? What’s the address?"
     ]
    }
   ],
   "source": [
    "words=input()\n",
    "\n",
    "def cap(x):\n",
    "    temp=0\n",
    "    x=x[0].upper() + x[1:]\n",
    "    \n",
    "    while ' i ' in x:\n",
    "        temp=x.find(' i ')\n",
    "        x=x[:temp+1] + 'I' + x[temp+2:]\n",
    "        \n",
    "    temp=x.count('.')\n",
    "    temp+=x.count('?')\n",
    "    temp+=x.count('!')\n",
    "    \n",
    "    for a in range(0,temp):\n",
    "        for b in range(0,len(x)-1):\n",
    "            if x[b]=='.' or x[b]=='!' or x[b]=='?':\n",
    "                x=x[:b+2] + x[b+2].upper() + x[b+3:]\n",
    "            \n",
    "    for i in x:\n",
    "        print(i,end='') \n",
    "\n",
    "cap(words)\n"
   ]
  },
  {
   "cell_type": "markdown",
   "metadata": {},
   "source": [
    "#### Exercise 90: Does a String Represent an Integer?"
   ]
  },
  {
   "cell_type": "code",
   "execution_count": 21,
   "metadata": {},
   "outputs": [
    {
     "name": "stdout",
     "output_type": "stream",
     "text": [
      "-11\n"
     ]
    },
    {
     "data": {
      "text/plain": [
       "True"
      ]
     },
     "execution_count": 21,
     "metadata": {},
     "output_type": "execute_result"
    }
   ],
   "source": [
    "word=input()\n",
    "\n",
    "def integer(x):\n",
    "    l=0\n",
    "    x.strip()\n",
    "    first=x[0]\n",
    "    last=x[1:len(x)-1]\n",
    "    \n",
    "    def check_first():\n",
    "        nonlocal first\n",
    "        if first== '-' or first== '+' or '0'<=first<='9' :\n",
    "            return True\n",
    "        else:\n",
    "            return False\n",
    "        \n",
    "    def check_num():\n",
    "        nonlocal last\n",
    "        for i in last:\n",
    "            if '0'<=i<='9':\n",
    "                continue\n",
    "            else:\n",
    "                return False\n",
    "        return True\n",
    "        \n",
    "    return check_first() and check_num()\n",
    "    \n",
    "integer(word)"
   ]
  },
  {
   "cell_type": "markdown",
   "metadata": {},
   "source": [
    "#### Exercise 93: Next Prime"
   ]
  },
  {
   "cell_type": "code",
   "execution_count": 22,
   "metadata": {},
   "outputs": [
    {
     "name": "stdout",
     "output_type": "stream",
     "text": [
      "12\n"
     ]
    },
    {
     "data": {
      "text/plain": [
       "13"
      ]
     },
     "execution_count": 22,
     "metadata": {},
     "output_type": "execute_result"
    }
   ],
   "source": [
    "num=int(input())\n",
    "\n",
    "def nextPrime(num):\n",
    "    if 1<=num<=2:\n",
    "        return num+1\n",
    "    num+=1\n",
    "    while True:\n",
    "        if prime(num)==True:\n",
    "            return num\n",
    "        else:\n",
    "            num+=1\n",
    "    \n",
    "nextPrime(num)"
   ]
  },
  {
   "cell_type": "markdown",
   "metadata": {},
   "source": [
    "#### Exercise 96: Check a Password"
   ]
  },
  {
   "cell_type": "code",
   "execution_count": 23,
   "metadata": {},
   "outputs": [
    {
     "name": "stdout",
     "output_type": "stream",
     "text": [
      "asDF12dH\n"
     ]
    },
    {
     "data": {
      "text/plain": [
       "True"
      ]
     },
     "execution_count": 23,
     "metadata": {},
     "output_type": "execute_result"
    }
   ],
   "source": [
    "w=input()\n",
    "\n",
    "def password(word):\n",
    "    \n",
    "    def length(word):\n",
    "        if len(word)>=8:\n",
    "            return True\n",
    "        return False\n",
    "    \n",
    "    def upper(word):\n",
    "        for i in word:\n",
    "            if 'A'<i<'Z':\n",
    "                return True\n",
    "        return False\n",
    "            \n",
    "    def lower(word):\n",
    "        for i in word:\n",
    "            if 'a'<i<'z':\n",
    "                return True\n",
    "        return False\n",
    "    \n",
    "    def number(word):\n",
    "        for i in word:\n",
    "            if '0'<=i<='9':\n",
    "                return True\n",
    "        return False\n",
    "    return length(word) and upper(word) and lower(word) and number(word)\n",
    "\n",
    "password(w)"
   ]
  },
  {
   "cell_type": "code",
   "execution_count": null,
   "metadata": {},
   "outputs": [],
   "source": []
  }
 ],
 "metadata": {
  "kernelspec": {
   "display_name": "Python 3",
   "language": "python",
   "name": "python3"
  },
  "language_info": {
   "codemirror_mode": {
    "name": "ipython",
    "version": 3
   },
   "file_extension": ".py",
   "mimetype": "text/x-python",
   "name": "python",
   "nbconvert_exporter": "python",
   "pygments_lexer": "ipython3",
   "version": "3.6.5"
  }
 },
 "nbformat": 4,
 "nbformat_minor": 2
}
