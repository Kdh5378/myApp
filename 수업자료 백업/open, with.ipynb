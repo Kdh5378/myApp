{
 "cells": [
  {
   "cell_type": "markdown",
   "metadata": {},
   "source": [
    "# Persistant"
   ]
  },
  {
   "cell_type": "markdown",
   "metadata": {},
   "source": [
    "## flat file "
   ]
  },
  {
   "cell_type": "markdown",
   "metadata": {},
   "source": [
    "data files that contain records with no structured relationships between the records and there's also no structure for indexing. (txt, csv, tsv)\n",
    "- text\n",
    "  - the new line character (\\n) is default EOL terminator.\n",
    "- binary\n",
    "  - no EOL character"
   ]
  },
  {
   "cell_type": "markdown",
   "metadata": {},
   "source": [
    "## open(file, mode='r', buffering=-1, encoding=None, errors=None, newline=None, closefd=True, opener=None) "
   ]
  },
  {
   "cell_type": "code",
   "execution_count": 3,
   "metadata": {},
   "outputs": [],
   "source": [
    "file = open('hello.txt', 'w')#open : 파일을 열거나 쓰게 부탁하는것/ 처음 변수 : 경로를 안쓰면 현재경로\n",
    "file.write('Hello, world!\\n')\n",
    "file.write('Hello, 한글!')\n",
    "file.close()"
   ]
  },
  {
   "cell_type": "code",
   "execution_count": 9,
   "metadata": {
    "scrolled": true
   },
   "outputs": [],
   "source": [
    "file2=open('hello.txt','r')\n",
    "#type(file2)\n",
    "#dir(file2)"
   ]
  },
  {
   "cell_type": "code",
   "execution_count": 21,
   "metadata": {},
   "outputs": [
    {
     "data": {
      "text/plain": [
       "<_io.TextIOWrapper name='hello.txt' mode='r' encoding='utf-8'>"
      ]
     },
     "execution_count": 21,
     "metadata": {},
     "output_type": "execute_result"
    }
   ],
   "source": [
    "open(\"hello.txt\",\"r\",encoding=\"utf-8\")#코덱 에러날떄 사용해보면 좋음 # utf8, utf_8 다 가능"
   ]
  },
  {
   "cell_type": "code",
   "execution_count": 15,
   "metadata": {},
   "outputs": [
    {
     "data": {
      "text/plain": [
       "'949'"
      ]
     },
     "execution_count": 15,
     "metadata": {},
     "output_type": "execute_result"
    }
   ],
   "source": [
    "import sys \n",
    "sys.stdin.encoding"
   ]
  },
  {
   "cell_type": "code",
   "execution_count": 16,
   "metadata": {},
   "outputs": [
    {
     "data": {
      "text/plain": [
       "'UTF-8'"
      ]
     },
     "execution_count": 16,
     "metadata": {},
     "output_type": "execute_result"
    }
   ],
   "source": [
    "sys.stdout.encoding"
   ]
  },
  {
   "cell_type": "code",
   "execution_count": 69,
   "metadata": {},
   "outputs": [],
   "source": [
    "import requests\n",
    "data=requests.get(\"http://www.aistudy.co.kr/\")\n",
    "#data.encoding"
   ]
  },
  {
   "cell_type": "code",
   "execution_count": 25,
   "metadata": {},
   "outputs": [],
   "source": [
    "import chardet"
   ]
  },
  {
   "cell_type": "code",
   "execution_count": 71,
   "metadata": {},
   "outputs": [
    {
     "data": {
      "text/plain": [
       "'<html>\\r\\n<head>\\r\\n<meta http-equiv=\"content-type\" content=\"text/html; charset=euc-kr\">\\r\\n<meta name=\"viewport\" content=\"width=device-width,initial-scale=1\">\\r\\n<title>AI Study</title>\\r\\n<meta name=\"generator\" content=\"Namo WebEditor\">\\r\\n<style><!--\\r\\n.leading200 { line-height:200%; }\\r\\n.leading180 { line-height:180%; }\\r\\n.leading150 { line-height:150%; }\\r\\n.leading100 { line-height:100%; }\\r\\na:link { text-decoration:none; }\\r\\na:hover { color:red; }\\r\\na:visited { text-decoration:none; }\\r\\na:active { text-decoration:none; }\\r\\n-->\\r\\n</style>\\r\\n\\r\\n<meta name=\"namo_guide\" content=\"h456\">\\r\\n</head>\\r\\n\\r\\n<body bgcolor=\"#FFFFDF\" text=\"black\" link=\"blue\" vlink=\"purple\" alink=\"red\">\\r\\n<p style=\"line-height:150%;\"><font\\r\\n             face=\"Times New Roman\"><b><span style=\"font-size:12pt;\">&nbsp;&nbsp;&nbsp;&nbsp;&nbsp;&nbsp;&nbsp;&nbsp;&nbsp;&nbsp;&nbsp;&nbsp;&nbsp;&nbsp;&nbsp;&nbsp;&nbsp;&nbsp;&nbsp;&nbsp;&nbsp;&nbsp;&nbsp;&nbsp;&nbsp;&nbsp;&nbsp;&nbsp;&nbsp;&nbsp;&nbsp;&nbsp;&nbsp;&nbsp;&nbsp;&nbsp;&nbsp;&nbsp;&nbsp;</span></b></font><span style=\"font-size:12pt;\"><b><font face=\"Times New Roman\">&nbsp;&nbsp;</font></b></span><a href=\"http://www.aistudy.com\"><b><span style=\"font-size:12pt;\"><img src=\"images/STUDY.gif\" width=\"342\"\\r\\nheight=\"65\" border=\"0\" align=\"texttop\"></span></b></a><span style=\"font-size:12pt;\"><b><font face=\"Times New Roman\"><a href=\"about.htm\">about</a> \\r\\n&nbsp;</font></b></span></p>\\r\\n<p style=\"line-height:150%;\" align=\"left\"><b><span style=\"font-size:12pt; letter-spacing:-0.38pt;\"><font face=\"Times New Roman\">AI \\r\\n공부를 위해서는 </font></span><font face=\"Times New Roman\"><a href=\"math/mathematics.htm\"><span style=\"font-size:12pt;\">수학</span></a></font><span style=\"font-size:12pt; letter-spacing:-0.38pt;\"><font face=\"Times New Roman\">, \\r\\n특히 </font></span><a href=\"logic/logic.htm\"><font face=\"Times New Roman\"><span style=\"font-size:12pt;\">수리논리학</span></font></a><span style=\"font-size:12pt; letter-spacing:-0.38pt;\"><font face=\"Times New Roman\">&nbsp;에 \\r\\n대한 깊이있는 지식이 필요하다. &nbsp;과학 공부는 많이 할수록 좋은데 &nbsp;특히 생물학적 &nbsp;접근을위해 </font></span><a href=\"psychology/psychology.htm\"><span style=\"font-size:12pt; letter-spacing:-0.38pt;\"><font face=\"Times New Roman\">심리학</font></span></a><span style=\"font-size:12pt; letter-spacing:-0.38pt;\"><font face=\"Times New Roman\">&nbsp;과 \\r\\n신경계통의 </font></span><a href=\"physiology/physiology.htm\"><span style=\"font-size:12pt; letter-spacing:-0.38pt;\"><font face=\"Times New Roman\">생리학</font></span></a><span style=\"font-size:12pt; letter-spacing:-0.38pt;\"><font face=\"Times New Roman\">&nbsp;이 \\r\\n공부되어야 한다. &nbsp;최소한<a href=\"program/c.htm\"> C</a>, <a href=\"program/lisp/lisp.htm\">Lisp</a>, <a href=\"program/prolog/prolog.htm\">Prolog</a> \\r\\n와 기본적인 기계어를 배워야 하며, 최근에는 <a href=\"program/cpp.htm\">C++</a>, <a href=\"program/java.htm\">Java</a> 를 포함시켜야 할것이다. \\r\\n( <a href=\"pioneer/McCarthy.J.htm\">존 매카시</a>)</font></span></b></p>\\r\\n<p align=\"left\" style=\"line-height:150%;\"><B><FONT \\r\\nface=\"Times New Roman\"><span style=\"font-size:12pt;\">Mission \\r\\n&nbsp;&nbsp;&nbsp;&nbsp;&nbsp;&nbsp;&nbsp;</span></font></b><a href=\"ai/ai.htm\"><b><font face=\"Times New Roman\"><span style=\"font-size:12pt;\">&nbsp;&nbsp;&nbsp;&nbsp;AI 란 \\r\\n            무엇인가</span></font></b></a><b><a href=\"terms/glossary.htm\"><font face=\"Times New Roman\"><span style=\"font-size:12pt;\">&nbsp;&nbsp;&nbsp;&nbsp;&nbsp;&nbsp;&nbsp;</span></font><span style=\"font-size:12pt;\"><font face=\"Times New Roman\" color=\"red\">Glossary(용어)</font></span><font face=\"Times New Roman\"><span style=\"font-size:12pt;\">\\r\\n            </span></font></a><FONT \\r\\nface=\"Times New Roman\"><span style=\"font-size:12pt;\"> &nbsp;&nbsp;&nbsp;&nbsp;&nbsp;</span></font></b><a href=\"history/history.htm\"><b><font face=\"Times New Roman\"><span style=\"font-size:12pt;\">&nbsp;history</span></font></b></a><b><font face=\"Times New Roman\"><a href=\"인공지능의%20역사.htm\"><span style=\"font-size:12pt;\"> </span></a><span style=\"font-size:12pt;\">&nbsp;&nbsp;&nbsp;&nbsp;&nbsp;&nbsp;&nbsp;</span></font></b><a href=\"pioneer/pioneers.htm\"><b><font face=\"Times New Roman\"><span style=\"font-size:12pt;\">pioneer(world</span></font></b></a><B><FONT\\r\\n\\r\\nface=\"Times New Roman\"><span style=\"font-size:12pt;\">            , &nbsp;&nbsp; </span><a href=\"pioneer/pioneers_kor.htm\"><span style=\"font-size:12pt;\">korea)</span></a><span style=\"font-size:12pt;\"> &nbsp;&nbsp;&nbsp;&nbsp;&nbsp;</span></font></b>&nbsp;&nbsp;<font\\r\\n             face=\"Times New Roman\"><b><a href=\"lab/lab.htm\"><span style=\"font-size:12pt;\">lab</span></a><span style=\"font-size:12pt;\"> &nbsp;&nbsp;&nbsp;&nbsp;</span><a href=\"life/life.htm\"><span style=\"font-size:12pt;\">&nbsp;life</span></a><span style=\"font-size:12pt;\"> &nbsp;&nbsp;</span><a href=\"ai/branch.htm\"><span style=\"font-size:12pt;\">&nbsp;&nbsp;branch</span></a><span style=\"font-size:12pt;\"> &nbsp;&nbsp;</span></b></font><B><FONT \\r\\nface=\"Times New Roman\"><span style=\"font-size:12pt;\"> &nbsp;&nbsp;</span></font></b><font\\r\\n             face=\"Times New Roman\"><b><a href=\"demo/demo.htm\"><span style=\"font-size:12pt;\">&nbsp;&nbsp;demo</span></a><span style=\"font-size:12pt;\"> &nbsp;&nbsp;</span></b></font><font\\r\\n             face=\"Times New Roman\"><b><span style=\"font-size:12pt;\"> &nbsp;&nbsp;&nbsp;</span></b></font><b><span style=\"font-size:12pt;\"><font face=\"Times New Roman\"><a href=\"default_e.htm\">English</a></font></span></b></p>\\r\\n<p align=\"left\" style=\"line-height:150%;\"><B><FONT \\r\\nface=\"Times New Roman\"><span style=\"font-size:12pt;\">Key word &nbsp;</span></font></b><font\\r\\n             face=\"Times New Roman\"><b><a href=\"philosophy/philosophy.htm\"><span style=\"font-size:12pt;\"> &nbsp;&nbsp;&nbsp;&nbsp;&nbsp;&nbsp;철학</span></a><span style=\"font-size:12pt;\">&nbsp;&nbsp;&nbsp;</span></b></font><a href=\"linguistics/linguistics.htm\"><b><font face=\"Times New Roman\"><span style=\"font-size:12pt;\">언어학</span></font></b></a><B><FONT \\r\\nface=\"Times New Roman\"><span style=\"font-size:12pt;\"> &nbsp;&nbsp;</span></font></b><a href=\"robot/robot.htm\"><font face=\"Times New Roman\"><b><span style=\"font-size:12pt;\">로봇</span></b></font></a><font\\r\\n             face=\"Times New Roman\"><b><span style=\"font-size:12pt;\"> &nbsp;&nbsp;</span></b></font><a href=\"game/game.htm\"><b><font face=\"Times New Roman\"><span style=\"font-size:12pt;\">게임</span></font></b></a><B><FONT \\r\\nface=\"Times New Roman\"><span style=\"font-size:12pt;\">   &nbsp;&nbsp;</span><a href=\"neural/neural_network.htm\"><span style=\"font-size:12pt;\">신경망</span></a><span style=\"font-size:12pt;\"> &nbsp;&nbsp;</span><a href=\"fuzzy/fuzzy.htm\"><span style=\"font-size:12pt;\">퍼지</span></a><span style=\"font-size:12pt;\"> &nbsp;&nbsp;</span><a href=\"pattern/pattern_recognition.htm\"><span style=\"font-size:12pt;\">패턴인식</span></a><span style=\"font-size:12pt;\"> &nbsp;&nbsp;</span><a href=\"expert/expert_system.htm\"><span style=\"font-size:12pt;\">전문가시스템</span></a><span\\r\\nstyle=\"font-size:12pt;\">&nbsp;&nbsp;&nbsp;&nbsp;&nbsp;</span><a href=\"reasoning/reasoning.htm\"><span style=\"font-size:12pt;\">추론</span></a><span style=\"font-size:12pt;\"> \\r\\n            &nbsp;&nbsp;</span></font></b><a href=\"problem/problem_solving.htm\"><b><font face=\"Times New Roman\"><span style=\"font-size:12pt;\">문제해결</span></font></b></a><B><FONT \\r\\nface=\"Times New Roman\"><span style=\"font-size:12pt;\"> &nbsp;&nbsp;&nbsp;</span></font><a href=\"algorithm/algorithm.htm\"><font face=\"Times New Roman\">알고리즘</font></a><FONT \\r\\nface=\"Times New Roman\"><span style=\"font-size:12pt;\">&nbsp;</span><a href=\"heuristic/heuristic.htm\"><span style=\"font-size:12pt;\">&nbsp;&nbsp;휴리스틱</span></a><span style=\"font-size:12pt;\"> \\r\\n            &nbsp;<a href=\"computer/computer.htm\">&nbsp;컴퓨터</a> &nbsp;<a href=\"physiology/brain/brain.htm\">두뇌</a> \\r\\n            &nbsp;</span></font></b></p>\\r\\n<p align=\"left\" style=\"line-height:150%;\"><B><span style=\"font-size:12pt;\"><font face=\"Times New Roman\" color=\"red\">Hot Keyword </font></span><a href=\"http://bci.korea.ac.kr/\"><font face=\"Times New Roman\">&nbsp;&nbsp;</font></a><a href=\"demo/alphago.htm\"><font face=\"Times New Roman\">AlphaGo</font></a><span style=\"font-size:12pt;\"><font face=\"Times New Roman\">&nbsp;&nbsp;&nbsp;&nbsp;</font></span><a href=\"learning/machine_learning.htm\"><font face=\"Times New Roman\">머신러닝&nbsp;&nbsp;&nbsp;&nbsp;</font></a><a href=\"learning/deep_learning.htm\"><font face=\"Times New Roman\" color=\"blue\">딥 러닝</font></a><font color=\"blue\"><a href=\"learning/deep_learning.htm\">&nbsp;&nbsp;&nbsp;</a></font></b><SPAN \\r\\nlang=EN-US><b><a href=\"learning/mining/big_data.htm\"><font face=\"Times New Roman\">빅데이터</font></a></b></SPAN><B><font color=\"blue\"><a href=\"learning/deep_learning.htm\">&nbsp;</a></font><a href=\"learning/machine_learning.htm\"><font face=\"Times New Roman\">&nbsp;&nbsp;</font></a><span style=\"font-size:12pt;\"><font face=\"Times New Roman\">&nbsp;</font></span><a href=\"thought/fourth_industrial_revoluiton.htm\"><font face=\"Times New Roman\">4차 산업혁명</font></a><span style=\"font-size:12pt;\"><font face=\"Times New Roman\">&nbsp;&nbsp;&nbsp;</font></span><a href=\"program/tensorflow.htm\"><font face=\"Times New Roman\">TensorFlow</font></a><font face=\"Times New Roman\"> </font><span style=\"font-size:12pt;\"><font face=\"Times New Roman\">&nbsp;&nbsp;</font></span><a href=\"linguistics/natural/chatbot.htm\"><font face=\"Times New Roman\">&nbsp;Chatbot &nbsp;&nbsp;&nbsp;</font></a><a href=\"program/programming.htm\"><font face=\"Times New Roman\">프로그래밍</font></a></b></p>\\r\\n<p align=\"left\" style=\"line-height:150%;\"><B><FONT \\r\\nface=\"Times New Roman\"><span style=\"font-size:12pt;\">Site &nbsp;&nbsp;&nbsp;&nbsp;&nbsp;&nbsp;&nbsp;&nbsp;&nbsp;&nbsp;&nbsp;&nbsp;&nbsp;&nbsp;&nbsp;</span></font></b><a href=\"http://aitopics.net/A-ZIndex\"><b><font face=\"Times New Roman\"><span style=\"font-size:12pt;\">&nbsp;&nbsp;&nbsp;</span></font></b></a><b><font face=\"Times New Roman\"><span style=\"font-size:12pt;\"><a href=\"http://www.aaai.org\">AAAI</a></span></font></b><a href=\"http://aitopics.net/A-ZIndex\"><b><font face=\"Times New Roman\"><span style=\"font-size:12pt;\"> &nbsp;&nbsp;&nbsp;&nbsp;            </span></font></b></a><b><font face=\"Times New Roman\"><span style=\"font-size:12pt;\"><a href=\"http://aitopics.org/\">AI \\r\\n            Topics</a> &nbsp;&nbsp;&nbsp;</span></font></b><a href=\"lab/best5.htm\"><b><font face=\"Times New Roman\"><span style=\"font-size:12pt;\">&nbsp;                        </span></font></b></a><B><A \\r\\nhref=\"ai/ai_resource.htm\"><FONT \\r\\nface=\"Times New Roman\"><span style=\"font-size:12pt;\">            외국학회</span></FONT></A><FONT \\r\\nface=\"Times New Roman\"><span style=\"font-size:12pt;\"> \\r\\n            &nbsp;&nbsp;&nbsp;<a href=\"help/society.htm\">학회&nbsp;&nbsp;&nbsp;&nbsp;</a><a href=\"help/event.htm\">event</a></span></font><font color=\"#C00000\"> &nbsp;</font><FONT \\r\\nface=\"Times New Roman\"><span style=\"font-size:12pt;\">&nbsp;.... </span></font></b></p>\\r\\n<p align=\"left\" style=\"line-height:150%;\"><B><FONT \\r\\nface=\"Times New Roman\"><span style=\"font-size:12pt;\">Reference \\r\\n            &nbsp;&nbsp;&nbsp;&nbsp;&nbsp;&nbsp;&nbsp;</span><a href=\"paper/ai_book.htm\"><span style=\"font-size:12pt;\">book</span></a></font></b><B><FONT \\r\\nface=\"Times New Roman\"><span style=\"font-size:12pt;\"> &nbsp;&nbsp;</span></font></b><a href=\"news/news.htm\"><b><font face=\"Times New Roman\"><span style=\"font-size:12pt;\"> &nbsp;&nbsp;news</span></font></b></a><B><FONT \\r\\nface=\"Times New Roman\"><span style=\"font-size:12pt;\"> &nbsp;&nbsp;</span></font><a href=\"art/art.htm\"><font face=\"Times New Roman\"><span style=\"font-size:12pt;\"> \\r\\n            &nbsp;fiction</span></font></a><FONT \\r\\nface=\"Times New Roman\"><span style=\"font-size:12pt;\"> &nbsp;&nbsp;&nbsp;</span></font><a href=\"art/ai_movie.htm\"><font face=\"Times New Roman\">movie</font></a> \\r\\n<FONT \\r\\nface=\"Times New Roman\"><span style=\"font-size:12pt;\">&nbsp;<a href=\"video/ai_video.htm\">&nbsp;video</a>&nbsp;&nbsp;</span></font></b><a href=\"paper/biblio.htm\"><b><font face=\"Times New Roman\"><span style=\"font-size:12pt;\">&nbsp;&nbsp;bibliography</span></font></b></a><a href=\"humor/humor.htm\"><b><font face=\"Times New Roman\"><span style=\"font-size:12pt;\"> \\r\\n            &nbsp;</span></font></b></a><B><FONT \\r\\nface=\"Times New Roman\"><span style=\"font-size:12pt;\"> &nbsp;\\r\\n            ......</span></font></b>            </p>\\r\\n<p style=\"line-height:150%;\"><a href=\"help/help.htm\"><font face=\"Times New Roman\"><b><span style=\"font-size:12pt;\">Help</span></b></font></a><font\\r\\n             face=\"Times New Roman\"><b><span style=\"font-size:12pt;\"> &nbsp;&nbsp;&nbsp;&nbsp;&nbsp;&nbsp;&nbsp;&nbsp;&nbsp;&nbsp;&nbsp;&nbsp;&nbsp;</span></b></font><B><FONT \\r\\nface=\"Times New Roman\"><span style=\"font-size:12pt;\">&nbsp;&nbsp;&nbsp;<a href=\"https://en.wikipedia.org/wiki/Main_Page\">Wikipedia &nbsp;&nbsp;&nbsp;</a><a href=\"https://ko.wikipedia.org/wiki/%EC%9C%84%ED%82%A4%EB%B0%B1%EA%B3%BC:%EB%8C%80%EB%AC%B8\">위키백과</a><a href=\"https://en.wikipedia.org/wiki/Main_Page\">&nbsp;</a></span></font></b><b><font face=\"Times New Roman\"><span style=\"font-size:12pt;\">\\r\\n            </span></font></b><B><FONT \\r\\nface=\"Times New Roman\"><span style=\"font-size:12pt;\">&nbsp;&nbsp;<a href=\"http://www.youtube.com\">&nbsp;YouTube</a> &nbsp;&nbsp;&nbsp;</span></font>\\r\\n<a href=\"http://www.etnews.co.kr\">전자신문</a> &nbsp;&nbsp;&nbsp;</b><A href=\"http://www.kyobobook.co.kr/\" target=_top><b>교보문고</b></A><B>&nbsp;<FONT \\r\\nface=\"Times New Roman\"><span style=\"font-size:12pt;\">&nbsp;</span></font><span style=\"font-size:12pt;\"> \\r\\n            &nbsp;<a href=\"help/book_store.htm\">서점</a> &nbsp;&nbsp;</span><a href=\"help/press.htm\">언론</a><span style=\"font-size:12pt;\"> \\r\\n            &nbsp;&nbsp;&nbsp;</span><FONT \\r\\nface=\"Times New Roman\"><span style=\"font-size:12pt;\"><a href=\"http://dl.nanet.go.kr/index.do\">국회도서관검색</a> \\r\\n            &nbsp;..... </span></font></b></p>\\r\\n<center>\\r\\n<FORM method=GET action=\"http://www.google.co.kr/search\">\\r\\n<TABLE bgcolor=\"#DDFFDD\" style=\"line-height:150%;\"><tr><td height=\"41\">\\r\\n\\r\\n                    <p align=\"center\" style=\"line-height:150%;\">\\r\\n<b><span style=\"font-size:12pt;\"><INPUT TYPE=text name=q size=31 maxlength=255 value=\"\">\\r\\n<INPUT TYPE=hidden name=hl value=ko>\\r\\n<INPUT TYPE=hidden name=ie value=euc-kr>\\r\\n<INPUT type=submit name=btnG VALUE=\"구글 검색\"></span></b><span style=\"font-size:12pt;\">\\r\\n\\r\\n                    </span><b><span style=\"font-size:12pt;\"><input type=radio name=sitesearch value=\"\" checked>\\r\\n</span><span style=\"font-size:10pt;\"><font face=\"Times New Roman\">www </font>검색\\r\\n<input type=radio name=sitesearch value=\"www.aistudy.com\">\\r\\n                    <font face=\"Times New Roman\">www.aistudy.com</font> 검색</span></b>\\r\\n\\r\\n</td></tr></TABLE>\\r\\n</FORM>\\r\\n</center>\\r\\n<p style=\"line-height:150%;\">&nbsp;</p>\\r\\n<p style=\"line-height:150%;\"><b><span style=\"font-size:12pt;\"><font color=\"red\">★★★</font></span><a href=\"http://bci.korea.ac.kr/\">&nbsp;</a><a href=\"http://nacsi.kr/tutorial/tutorial17.html\">&nbsp;</a><a href=\"http://nacsi.kr/tutorial/tutorial20.html\">심층 강화학습을 통한 챗봇 구현과 응용 : 한국인지과학산업협회 인지기술 튜토리얼 20</a> : 2018/03/31, 서울대<span style=\"font-size:12pt;\"> &nbsp;<font color=\"red\">★★★</font></span></b></p>\\r\\n<p style=\"line-height:150%;\"><b><span style=\"font-size:12pt;\"><font color=\"red\">★★★</font></span><a href=\"http://bci.korea.ac.kr/\">&nbsp;</a><a href=\"http://nacsi.kr/tutorial/tutorial17.html\">&nbsp;</a><a href=\"http://mhpark.or.kr/index.php?document_srl=286927\">\\'박문호 박사의 뇌과학 공부\\' 출간&nbsp;- 박문호의 자연과학세상</a> <span style=\"font-size:12pt;\">&nbsp;<font color=\"red\">★★★</font></span></b></p>\\r\\n<p style=\"line-height:150%;\">&nbsp;</p>\\r\\n<p style=\"line-height:150%;\"><b><a href=\"http://tv.naver.com/v/1878677\">폰 노이만 - 정보화시대 1부 : 강연</a> : <a href=\"http://openlectures.naver.com/contents?contentsId=132102&rid=2934&lectureType=paradigm\">열린연단</a> : <font face=\"새굴림\"><span style=\"font-size:12pt;\"><A \\r\\nhref=\"pioneer/Zhang.BT.htm\">장병탁</a></span></font>&nbsp;: 2017/07/21</b></p>\\r\\n<p style=\"line-height:150%;\">&nbsp;<iframe src=\\'http://serviceapi.rmcnmv.naver.com/flash/outKeyPlayer.nhn?vid=A759FD74B07D7FECC63DB9F35E9BB7398AFC&outKey=V12407c24b6fba7d69b570911b1a8bfa391d43ecdf82f98b2082e0911b1a8bfa391d4&controlBarMovable=true&jsCallable=true&isAutoPlay=true&skinName=tvcast_white\\' frameborder=\\'no\\' scrolling=\\'no\\' marginwidth=\\'0\\' marginheight=\\'0\\' WIDTH=\\'300\\' HEIGHT=\\'169\\' allowfullscreen></iframe></p>\\r\\n<p style=\"line-height:150%;\"><b><a href=\"https://www.youtube.com/watch?v=8Z2eLTSCuBk&t=2079s\">인공지능과 미래 - KAIST 강연</a> : <a href=\"https://www.youtube.com/channel/UCEQTSbZJvgkWKiFHirszYZA\">spark</a> : <a href=\"pioneer/Hassabis.D.htm\">Demis Hassabis</a>, 2017/05/27</b></p>\\r\\n<p style=\"line-height:150%;\">&nbsp;<iframe width=\"300\" height=\"169\" src=\"https://www.youtube.com/embed/8Z2eLTSCuBk?rel=0\" frameborder=\"0\" allowfullscreen></iframe></p>\\r\\n<H1 class=\"text-center\"><A title=\"새창으로 메일 보기\" class=\"newWindow _ccr(rdh.new) _c1(mrCore|popupRead|11667) _stopDefault\" href=\"https://mail.naver.com/?n=1445866174255&amp;v=f#\"></A></H1>\\r\\n<p style=\"line-height:150%;\"><b><a href=\"https://www.youtube.com/watch?v=efWSbITntR0&t=5090s\">뇌과학으로 본 인공지능의 현주소와 미래 - 1부</a> : <a href=\"https://www.youtube.com/channel/UCpwh4yRadX0nnGQVqCLdskg\">afoofa Jung</a> : </b><a href=\"pioneer/Park.MH.htm\"><b>박문호</b></a><b> : 2016/04/07</b></p>\\r\\n<p style=\"line-height:150%;\">&nbsp;<iframe width=\"300\" height=\"169\" src=\"https://www.youtube.com/embed/efWSbITntR0?rel=0\" frameborder=\"0\" allowfullscreen></iframe></p>\\r\\n<DIV class=\"text\">\\r\\n    <P align=\"justify\" style=\"line-height:150%;\">&nbsp;</p>\\r\\n</DIV>\\r\\n<p style=\"line-height:150%;\">\\r\\n\\r\\n\\r\\n&nbsp;</body>\\r\\n\\r\\n</html>'"
      ]
     },
     "execution_count": 71,
     "metadata": {},
     "output_type": "execute_result"
    }
   ],
   "source": [
    "data.content.decode(\"euc-kr\")#한글깨질때"
   ]
  },
  {
   "cell_type": "code",
   "execution_count": 66,
   "metadata": {},
   "outputs": [
    {
     "data": {
      "text/plain": [
       "{'encoding': 'EUC-KR', 'confidence': 0.99, 'language': 'Korean'}"
      ]
     },
     "execution_count": 66,
     "metadata": {},
     "output_type": "execute_result"
    }
   ],
   "source": [
    "chardet.detect(data.content)"
   ]
  },
  {
   "cell_type": "code",
   "execution_count": null,
   "metadata": {},
   "outputs": [],
   "source": []
  },
  {
   "cell_type": "markdown",
   "metadata": {},
   "source": [
    "| 파일 모드 \t| 기능 \t| 설명 \t|\n",
    "|-----------\t|------------------------\t|-------------------------------------------------------------------------------------------------------------------------------------------\t|\n",
    "| r \t| 읽기 전용 \t| 파일을 읽기 전용으로 열기. 단, 파일이 반드시 있어야 하며 파일이 없으면 에러 발생 \t|\n",
    "| w \t| 쓰기 전용 \t| 쓰기 전용으로 새 파일을 생성. 만약 파일이 있으면 내용을 덮어씀 \t|\n",
    "| a \t| 추가 \t| 파일을 열어 파일 끝에 값을 이어 씀. 만약 파일이 없으면 파일을 생성 \t|\n",
    "| x \t| 배타적 생성(쓰기) \t| 파일을 쓰기 모드로 생성. 파일이 이미 있으면 에러 발생 \t|\n",
    "| r+ \t| 읽기/쓰기 \t| 파일을 읽기/쓰기용으로 열기. 단, 파일이 반드시 있어야 하며 파일이 없으면 에러 발생 \t|\n",
    "| w+ \t| 읽기/쓰기 \t| 파일을 읽기/쓰기용으로 열기. 파일이 없으면 파일을 생성하고, 파일이 있으면 내용을 덮어씀 \t|\n",
    "| a+ \t| 추가(읽기/쓰기) \t| 파일을 열어 파일 끝에 값을 이어 씀. 만약 파일이 없으면 파일을 생성. 읽기는 파일의 모든 구간에서 가능하지만, 쓰기는 파일의 끝에서만 가능함 \t|\n",
    "| x+ \t| 배타적 생성(읽기/쓰기) \t| 파일을 읽기/쓰기 모드로 생성. 파일이 이미 있으면 에러 발생 \t|\n",
    "| t \t| 텍스트 모드 \t| 파일을 읽거나 쓸 때 개행 문자 \\n과 \\r\\n을 서로 변환 \t|\n",
    "| b \t| 바이너리 모드 \t| 파일의 내용을 그대로 읽고, 값을 그대로 씀 \t|"
   ]
  },
  {
   "cell_type": "code",
   "execution_count": 28,
   "metadata": {},
   "outputs": [
    {
     "ename": "ValueError",
     "evalue": "I/O operation on closed file.",
     "output_type": "error",
     "traceback": [
      "\u001b[0;31m---------------------------------------------------------------------------\u001b[0m",
      "\u001b[0;31mValueError\u001b[0m                                Traceback (most recent call last)",
      "\u001b[0;32m<ipython-input-28-7d2c72c1c3af>\u001b[0m in \u001b[0;36m<module>\u001b[0;34m()\u001b[0m\n\u001b[1;32m      1\u001b[0m \u001b[0mfile\u001b[0m \u001b[0;34m=\u001b[0m \u001b[0mopen\u001b[0m\u001b[0;34m(\u001b[0m\u001b[0;34m'hello2.txt'\u001b[0m\u001b[0;34m,\u001b[0m \u001b[0;34m'w'\u001b[0m\u001b[0;34m)\u001b[0m\u001b[0;34m\u001b[0m\u001b[0m\n\u001b[1;32m      2\u001b[0m \u001b[0mfile\u001b[0m\u001b[0;34m.\u001b[0m\u001b[0mclose\u001b[0m\u001b[0;34m(\u001b[0m\u001b[0;34m)\u001b[0m\u001b[0;34m\u001b[0m\u001b[0m\n\u001b[0;32m----> 3\u001b[0;31m \u001b[0mfile\u001b[0m\u001b[0;34m.\u001b[0m\u001b[0mwrite\u001b[0m\u001b[0;34m(\u001b[0m\u001b[0;34m'Hello, world!'\u001b[0m\u001b[0;34m)\u001b[0m\u001b[0;34m\u001b[0m\u001b[0m\n\u001b[0m",
      "\u001b[0;31mValueError\u001b[0m: I/O operation on closed file."
     ]
    }
   ],
   "source": [
    "file = open('hello2.txt', 'w')    \n",
    "file.close() \n",
    "file.write('Hello, world!')      "
   ]
  },
  {
   "cell_type": "code",
   "execution_count": 29,
   "metadata": {},
   "outputs": [
    {
     "name": "stdout",
     "output_type": "stream",
     "text": [
      "Hello, world!\n"
     ]
    }
   ],
   "source": [
    "file = open('hello.txt', 'r')    \n",
    "s = file.read()                  \n",
    "print(s)                         \n",
    "file.close()                     "
   ]
  },
  {
   "cell_type": "code",
   "execution_count": 30,
   "metadata": {},
   "outputs": [
    {
     "ename": "ValueError",
     "evalue": "I/O operation on closed file.",
     "output_type": "error",
     "traceback": [
      "\u001b[0;31m---------------------------------------------------------------------------\u001b[0m",
      "\u001b[0;31mValueError\u001b[0m                                Traceback (most recent call last)",
      "\u001b[0;32m<ipython-input-30-8b7a8a8beac3>\u001b[0m in \u001b[0;36m<module>\u001b[0;34m()\u001b[0m\n\u001b[1;32m      1\u001b[0m \u001b[0mfile\u001b[0m \u001b[0;34m=\u001b[0m \u001b[0mopen\u001b[0m\u001b[0;34m(\u001b[0m\u001b[0;34m'hello.txt'\u001b[0m\u001b[0;34m,\u001b[0m \u001b[0;34m'r'\u001b[0m\u001b[0;34m)\u001b[0m\u001b[0;34m\u001b[0m\u001b[0m\n\u001b[1;32m      2\u001b[0m \u001b[0mfile\u001b[0m\u001b[0;34m.\u001b[0m\u001b[0mclose\u001b[0m\u001b[0;34m(\u001b[0m\u001b[0;34m)\u001b[0m\u001b[0;34m\u001b[0m\u001b[0m\n\u001b[0;32m----> 3\u001b[0;31m \u001b[0ms\u001b[0m \u001b[0;34m=\u001b[0m \u001b[0mfile\u001b[0m\u001b[0;34m.\u001b[0m\u001b[0mread\u001b[0m\u001b[0;34m(\u001b[0m\u001b[0;34m)\u001b[0m\u001b[0;34m\u001b[0m\u001b[0m\n\u001b[0m\u001b[1;32m      4\u001b[0m \u001b[0mprint\u001b[0m\u001b[0;34m(\u001b[0m\u001b[0ms\u001b[0m\u001b[0;34m)\u001b[0m\u001b[0;34m\u001b[0m\u001b[0m\n",
      "\u001b[0;31mValueError\u001b[0m: I/O operation on closed file."
     ]
    }
   ],
   "source": [
    "file = open('hello.txt', 'r')    \n",
    "file.close()                     \n",
    "s = file.read()                  \n",
    "print(s)                         "
   ]
  },
  {
   "cell_type": "code",
   "execution_count": 31,
   "metadata": {},
   "outputs": [
    {
     "name": "stderr",
     "output_type": "stream",
     "text": [
      "ERROR:root:Internal Python error in the inspect module.\n",
      "Below is the traceback from this internal error.\n",
      "\n"
     ]
    },
    {
     "name": "stdout",
     "output_type": "stream",
     "text": [
      "Traceback (most recent call last):\n",
      "  File \"/usr/local/lib/python3.6/site-packages/IPython/core/interactiveshell.py\", line 2910, in run_code\n",
      "    exec(code_obj, self.user_global_ns, self.user_ns)\n",
      "  File \"<ipython-input-31-bd12c407fa52>\", line 3, in <module>\n",
      "    files.append(open('foo.txt', 'w'))\n",
      "OSError: [Errno 24] Too many open files: 'foo.txt'\n",
      "\n",
      "During handling of the above exception, another exception occurred:\n",
      "\n",
      "Traceback (most recent call last):\n",
      "  File \"/usr/local/lib/python3.6/site-packages/IPython/core/interactiveshell.py\", line 1828, in showtraceback\n",
      "    stb = value._render_traceback_()\n",
      "AttributeError: 'OSError' object has no attribute '_render_traceback_'\n",
      "\n",
      "During handling of the above exception, another exception occurred:\n",
      "\n",
      "Traceback (most recent call last):\n",
      "  File \"/usr/local/lib/python3.6/site-packages/IPython/core/ultratb.py\", line 1090, in get_records\n",
      "  File \"/usr/local/lib/python3.6/site-packages/IPython/core/ultratb.py\", line 311, in wrapped\n",
      "  File \"/usr/local/lib/python3.6/site-packages/IPython/core/ultratb.py\", line 345, in _fixed_getinnerframes\n",
      "  File \"/usr/local/Cellar/python/3.6.4_4/Frameworks/Python.framework/Versions/3.6/lib/python3.6/inspect.py\", line 1483, in getinnerframes\n",
      "  File \"/usr/local/Cellar/python/3.6.4_4/Frameworks/Python.framework/Versions/3.6/lib/python3.6/inspect.py\", line 1441, in getframeinfo\n",
      "  File \"/usr/local/Cellar/python/3.6.4_4/Frameworks/Python.framework/Versions/3.6/lib/python3.6/inspect.py\", line 696, in getsourcefile\n",
      "  File \"/usr/local/Cellar/python/3.6.4_4/Frameworks/Python.framework/Versions/3.6/lib/python3.6/inspect.py\", line 725, in getmodule\n",
      "  File \"/usr/local/Cellar/python/3.6.4_4/Frameworks/Python.framework/Versions/3.6/lib/python3.6/inspect.py\", line 709, in getabsfile\n",
      "  File \"/usr/local/Cellar/python/3.6.4_4/Frameworks/Python.framework/Versions/3.6/lib/python3.6/posixpath.py\", line 374, in abspath\n",
      "OSError: [Errno 24] Too many open files\n"
     ]
    },
    {
     "ename": "OSError",
     "evalue": "[Errno 24] Too many open files: 'foo.txt'",
     "output_type": "error",
     "traceback": [
      "\u001b[0;31m---------------------------------------------------------------------------\u001b[0m"
     ]
    }
   ],
   "source": [
    "files = []\n",
    "for _ in range(100000):\n",
    "    files.append(open('foo.txt', 'w'))"
   ]
  },
  {
   "cell_type": "code",
   "execution_count": null,
   "metadata": {},
   "outputs": [],
   "source": []
  },
  {
   "cell_type": "markdown",
   "metadata": {},
   "source": [
    "파이썬에는 사용이 끝난 메모리를 정리해주는 가비지 컬렉터가 있어서 파일을 닫지 않아도 가비지 컬렉터가 파일을 닫아줍니다. 하지만 프로그래머가 파일을 직접 닫아야 하는 이유는 다음과 같습니다.\n",
    "\n",
    "- 너무 많은 파일을 열어 두면 그만큼 메모리 공간을 차지하므로 성능에 영향을 줄 수 있습니다.\n",
    "- 파일을 닫지 않으면 데이터가 쓰기가 완료되지 않을 수도 있습니다. 운영체제는 파일을 처리할 때 성능을 위해서 데이터를 버퍼(임시 공간)에 저장한 뒤 파일에 씁니다. 때에 따라서는 파일이 닫히는 시점에 버퍼의 내용이 파일에 저장됩니다.\n",
    "- 이론적으로 운영체제에서 열 수 있는 파일의 개수는 한계가 있습니다.\n",
    "- 운영체제에 따라 파일을 열었을 때 파일을 잠금 상태로 처리하는 경우가 있습니다. 실질적으로 파일 처리가 끝났더라도 파일을 닫지 않으면 다른 프로그램에서 파일을 사용할 수 없는 상태가 됩니다.\n",
    "\n",
    "보통은 파일을 닫지 않아도 큰 문제가 없습니다. 하지만 실무에서는 사소한 실수로도 큰 문제가 발생하는 경우가 있으므로 파일을 정확히 닫는 습관을 기르는 것이 좋습니다."
   ]
  },
  {
   "cell_type": "code",
   "execution_count": 76,
   "metadata": {},
   "outputs": [
    {
     "name": "stdout",
     "output_type": "stream",
     "text": [
      "Writing sun.txt\n"
     ]
    }
   ],
   "source": [
    "%%writefile sun.txt\n",
    "When, in disgrace with fortune and men's eyes,\n",
    "I all alone beweep my outcast state,\n",
    "And trouble deaf heaven with my bootless cries,\n",
    "And look upon myself and curse my fate,"
   ]
  },
  {
   "cell_type": "code",
   "execution_count": 77,
   "metadata": {},
   "outputs": [],
   "source": [
    "a = open('sun.txt') # generator"
   ]
  },
  {
   "cell_type": "code",
   "execution_count": 78,
   "metadata": {},
   "outputs": [
    {
     "data": {
      "text/plain": [
       "\"When, in disgrace with fortune and men's eyes,\\nI all alone beweep my outcast state,\\nAnd trouble deaf heaven with my bootless cries,\\nAnd look upon myself and curse my fate,\""
      ]
     },
     "execution_count": 78,
     "metadata": {},
     "output_type": "execute_result"
    }
   ],
   "source": [
    "a.read()    "
   ]
  },
  {
   "cell_type": "code",
   "execution_count": 79,
   "metadata": {},
   "outputs": [
    {
     "data": {
      "text/plain": [
       "''"
      ]
     },
     "execution_count": 79,
     "metadata": {},
     "output_type": "execute_result"
    }
   ],
   "source": [
    "a.readline()"
   ]
  },
  {
   "cell_type": "code",
   "execution_count": 80,
   "metadata": {},
   "outputs": [
    {
     "data": {
      "text/plain": [
       "[]"
      ]
     },
     "execution_count": 80,
     "metadata": {},
     "output_type": "execute_result"
    }
   ],
   "source": [
    "a.readlines()"
   ]
  },
  {
   "cell_type": "code",
   "execution_count": 81,
   "metadata": {},
   "outputs": [],
   "source": [
    "b = open('sun.txt')#iterator"
   ]
  },
  {
   "cell_type": "code",
   "execution_count": 82,
   "metadata": {},
   "outputs": [
    {
     "data": {
      "text/plain": [
       "\"When, in disgrace with fortune and men's eyes,\\n\""
      ]
     },
     "execution_count": 82,
     "metadata": {},
     "output_type": "execute_result"
    }
   ],
   "source": [
    "b.readline()"
   ]
  },
  {
   "cell_type": "markdown",
   "metadata": {},
   "source": [
    "## with"
   ]
  },
  {
   "cell_type": "code",
   "execution_count": 32,
   "metadata": {},
   "outputs": [
    {
     "name": "stdout",
     "output_type": "stream",
     "text": [
      "When, in disgrace with fortune and men's eyes,\n",
      "I all alone beweep my outcast state,\n",
      "And trouble deaf heaven with my bootless cries,\n",
      "And look upon myself and curse my fate,\n"
     ]
    }
   ],
   "source": [
    "with open('sun.txt', 'r') as file:    \n",
    "    s = file.read()                 \n",
    "    print(s)      "
   ]
  },
  {
   "cell_type": "code",
   "execution_count": 33,
   "metadata": {},
   "outputs": [],
   "source": [
    "with open('sun2.txt', 'w') as file: \n",
    "    for i in range(3):\n",
    "        file.write('Hello, world! {0}\\n'.format(i))"
   ]
  },
  {
   "cell_type": "code",
   "execution_count": 34,
   "metadata": {},
   "outputs": [],
   "source": [
    "lines = ['문근영\\n', 'only one.\\n']\n",
    " \n",
    "with open('moon.txt', 'w') as file: \n",
    "    file.writelines(lines)"
   ]
  },
  {
   "cell_type": "code",
   "execution_count": 35,
   "metadata": {},
   "outputs": [
    {
     "name": "stdout",
     "output_type": "stream",
     "text": [
      "['문근영\\n', 'only one.\\n']\n"
     ]
    }
   ],
   "source": [
    "with open('moon.txt', 'r') as file:    \n",
    "    lines = file.readlines()\n",
    "    print(lines)"
   ]
  },
  {
   "cell_type": "code",
   "execution_count": 37,
   "metadata": {},
   "outputs": [
    {
     "name": "stdout",
     "output_type": "stream",
     "text": [
      "문근영\n",
      "only one.\n",
      "\n"
     ]
    }
   ],
   "source": [
    "with open('moon.txt', 'r') as file:    \n",
    "    line = file.readline()\n",
    "    print(line.strip('\\n'))        \n",
    "    while line != '':\n",
    "        line = file.readline()\n",
    "        print(line.strip('\\n'))    "
   ]
  },
  {
   "cell_type": "code",
   "execution_count": 39,
   "metadata": {},
   "outputs": [
    {
     "name": "stdout",
     "output_type": "stream",
     "text": [
      "문근영\n",
      "only one.\n"
     ]
    }
   ],
   "source": [
    "with open('moon.txt', 'r') as file:   \n",
    "    for i in file:\n",
    "        print(i, end='')"
   ]
  },
  {
   "cell_type": "code",
   "execution_count": 41,
   "metadata": {},
   "outputs": [],
   "source": [
    "class File:\n",
    "    def __init__(self, filename, mode):\n",
    "        self.filename = filename\n",
    "        self.mode = mode\n",
    "\n",
    "    def __enter__(self):\n",
    "        self.open_file = open(self.filename, self.mode)\n",
    "        return self.open_file\n",
    "\n",
    "    def __exit__(self, *args):\n",
    "        self.open_file.close()\n",
    "\n",
    "files = []\n",
    "for _ in range(10000):\n",
    "    with File('foo.txt', 'w') as infile:\n",
    "        infile.write('foo')\n",
    "        files.append(infile)"
   ]
  },
  {
   "cell_type": "markdown",
   "metadata": {},
   "source": [
    "| 메서드 \t| 설명 \t|\n",
    "|--------------------------\t|------------------------------------------------------------------------\t|\n",
    "| read([n]) \t| 파일에서 문자열을 읽음 \t|\n",
    "| write(string or byte_string)\t| 파일에 문자열을 씀 \t|\n",
    "| readline([n]) \t| 파일의 내용을 한 줄 읽음 \t|\n",
    "| readlines() \t| 파일의 내용을 한 줄씩 읽어서 리스트로 가져옴 \t|\n",
    "| writelines(문자열리스트) \t| 파일에 리스트의 문자열을 씀, 리스트의 각 문자열에는 \\n을 붙여주어야 함 \t|"
   ]
  },
  {
   "cell_type": "markdown",
   "metadata": {},
   "source": [
    "## pickle"
   ]
  },
  {
   "cell_type": "code",
   "execution_count": 85,
   "metadata": {},
   "outputs": [],
   "source": [
    "name = '문근영'\n",
    "scores = {'korean': 90, 'english': 95, 'mathematics': 85, 'science': 82}"
   ]
  },
  {
   "cell_type": "code",
   "execution_count": 86,
   "metadata": {},
   "outputs": [],
   "source": [
    "import pickle"
   ]
  },
  {
   "cell_type": "code",
   "execution_count": 87,
   "metadata": {},
   "outputs": [],
   "source": [
    "with open('moon.pickle', 'wb') as file:    # 확장자 마음대로\n",
    "    pickle.dump(name, file)\n",
    "    pickle.dump(scores, file)"
   ]
  },
  {
   "cell_type": "code",
   "execution_count": 88,
   "metadata": {},
   "outputs": [
    {
     "name": "stdout",
     "output_type": "stream",
     "text": [
      "문근영\n",
      "{'korean': 90, 'english': 95, 'mathematics': 85, 'science': 82}\n"
     ]
    }
   ],
   "source": [
    "with open('moon.pickle', 'rb') as file:    \n",
    "    name = pickle.load(file)\n",
    "    scores = pickle.load(file)\n",
    "    print(name)\n",
    "    print(scores)"
   ]
  },
  {
   "cell_type": "code",
   "execution_count": 89,
   "metadata": {},
   "outputs": [
    {
     "data": {
      "text/plain": [
       "str"
      ]
     },
     "execution_count": 89,
     "metadata": {},
     "output_type": "execute_result"
    }
   ],
   "source": [
    "type(name)#객체의 직렬화 #java에서 serializable"
   ]
  },
  {
   "cell_type": "code",
   "execution_count": 90,
   "metadata": {},
   "outputs": [
    {
     "data": {
      "text/plain": [
       "dict"
      ]
     },
     "execution_count": 90,
     "metadata": {},
     "output_type": "execute_result"
    }
   ],
   "source": [
    "type(scores)"
   ]
  },
  {
   "cell_type": "code",
   "execution_count": 91,
   "metadata": {},
   "outputs": [
    {
     "name": "stdout",
     "output_type": "stream",
     "text": [
      "{'korean': 90, 'english': 95, 'mathematics': 85, 'science': 82}\n",
      "문근영\n"
     ]
    }
   ],
   "source": [
    "with open('moon.pickle', 'rb') as file:    \n",
    "    scores = pickle.load(file)\n",
    "    name = pickle.load(file)\n",
    "    print(name)\n",
    "    print(scores)"
   ]
  },
  {
   "cell_type": "code",
   "execution_count": 92,
   "metadata": {},
   "outputs": [
    {
     "name": "stdout",
     "output_type": "stream",
     "text": [
      "{'korean': 90, 'english': 95, 'mathematics': 85, 'science': 82}\n"
     ]
    }
   ],
   "source": [
    "with open('moon.pickle', 'rb') as file:    \n",
    "    scores = pickle.load(file)\n",
    "    print(name)"
   ]
  },
  {
   "cell_type": "markdown",
   "metadata": {},
   "source": [
    "| 메서드 \t| 설명 \t|\n",
    "|-----------------------------\t|-----------------------------\t|\n",
    "| pickle.load(파일객체) \t| 파일에서 파이썬 객체를 읽음 \t|\n",
    "| pickle.dump(객체, 파일객체) \t| 파일에 파이썬 객체를 저장 \t|"
   ]
  },
  {
   "cell_type": "code",
   "execution_count": 94,
   "metadata": {},
   "outputs": [
    {
     "name": "stdout",
     "output_type": "stream",
     "text": [
      "b'\\x80\\x03]q\\x00(X\\x0f\\x00\\x00\\x00write blog postq\\x01X\\x0e\\x00\\x00\\x00reply to emailq\\x02X\\x0e\\x00\\x00\\x00read in a bookq\\x03e.'\n"
     ]
    }
   ],
   "source": [
    "todo = ['write blog post', 'reply to email', 'read in a book']\n",
    "pickled_data = pickle.dumps(todo)#dump에 s가 붙으면 string형태\n",
    "print(pickled_data)"
   ]
  },
  {
   "cell_type": "code",
   "execution_count": 95,
   "metadata": {},
   "outputs": [],
   "source": [
    "restored_data = pickle.loads(pickled_data)#이것도 s가 붙음"
   ]
  },
  {
   "cell_type": "code",
   "execution_count": 102,
   "metadata": {
    "scrolled": true
   },
   "outputs": [
    {
     "data": {
      "text/plain": [
       "'write blog post'"
      ]
     },
     "execution_count": 102,
     "metadata": {},
     "output_type": "execute_result"
    }
   ],
   "source": [
    "restored_data[0]"
   ]
  },
  {
   "cell_type": "code",
   "execution_count": 105,
   "metadata": {},
   "outputs": [],
   "source": [
    "import pickle\n",
    " \n",
    "name = 'Abder'\n",
    "website = 'http://abder.io'\n",
    "english_french = {'paper':'papier', 'pen':'stylo', 'car':'voiture'} # dictionary\n",
    "tup = (31,'abder',4.0) # tuple\n",
    " \n",
    "pickled_file = open('pickled_file.pickle', 'wb')\n",
    "pickle.dump(name, pickled_file)\n",
    "pickle.dump(website, pickled_file)\n",
    "pickle.dump(english_french, pickled_file)\n",
    "pickle.dump(tup, pickled_file)\n",
    "pickled_file.close()#close빼먹지 말자"
   ]
  },
  {
   "cell_type": "code",
   "execution_count": 20,
   "metadata": {},
   "outputs": [],
   "source": [
    "from pickle import Pickler\n",
    " \n",
    "name = 'Abder'\n",
    "website = 'http://abder.io'\n",
    "english_french = {'paper':'papier', 'pen':'stylo', 'car':'voiture'} # dictionary\n",
    "tup = (31,'abder',4.0) # tuple\n",
    " \n",
    "pickled_file = open('pickled_file.pickle', 'wb')\n",
    "p = Pickler(pickled_file)\n",
    "p.dump(name); p.dump(website); p.dump(english_french); p.dump(tup)\n",
    "pickled_file.close()"
   ]
  },
  {
   "cell_type": "code",
   "execution_count": 106,
   "metadata": {},
   "outputs": [
    {
     "name": "stdout",
     "output_type": "stream",
     "text": [
      "Name: \n",
      "Abder\n",
      "Website:\n",
      "http://abder.io\n",
      "Englsh to French:\n",
      "{'paper': 'papier', 'pen': 'stylo', 'car': 'voiture'}\n",
      "Tuple data:\n",
      "(31, 'abder', 4.0)\n"
     ]
    }
   ],
   "source": [
    "import pickle\n",
    " \n",
    "pickled_file = open('pickled_file.pickle', 'rb')\n",
    " \n",
    "name = pickle.load(pickled_file)\n",
    "website = pickle.load(pickled_file)\n",
    "english_french = pickle.load(pickled_file)\n",
    "tup = pickle.load(pickled_file)\n",
    " \n",
    "print('Name: ')\n",
    "print(name)\n",
    "print('Website:')\n",
    "print(website)\n",
    "print('Englsh to French:')\n",
    "print(english_french)\n",
    "print('Tuple data:')\n",
    "print(tup)"
   ]
  },
  {
   "cell_type": "code",
   "execution_count": 107,
   "metadata": {},
   "outputs": [
    {
     "name": "stdout",
     "output_type": "stream",
     "text": [
      "Name: \n",
      "Abder\n",
      "Website:\n",
      "http://abder.io\n",
      "English to French:\n",
      "{'paper': 'papier', 'pen': 'stylo', 'car': 'voiture'}\n",
      "Tuple data:\n",
      "(31, 'abder', 4.0)\n"
     ]
    }
   ],
   "source": [
    "from pickle import Unpickler\n",
    " \n",
    "pickled_file = open('pickled_file.pickle', 'rb')\n",
    "u = Unpickler(pickled_file)\n",
    "name = u.load(); website = u.load(); english_french = u.load(); tup = u.load()\n",
    " \n",
    "print('Name: ')\n",
    "print(name)\n",
    "print('Website:')\n",
    "print(website)\n",
    "print('English to French:')\n",
    "print(english_french)\n",
    "print('Tuple data:')\n",
    "print(tup)"
   ]
  },
  {
   "cell_type": "code",
   "execution_count": null,
   "metadata": {},
   "outputs": [],
   "source": []
  }
 ],
 "metadata": {
  "kernelspec": {
   "display_name": "Python 3",
   "language": "python",
   "name": "python3"
  },
  "language_info": {
   "codemirror_mode": {
    "name": "ipython",
    "version": 3
   },
   "file_extension": ".py",
   "mimetype": "text/x-python",
   "name": "python",
   "nbconvert_exporter": "python",
   "pygments_lexer": "ipython3",
   "version": "3.6.5"
  }
 },
 "nbformat": 4,
 "nbformat_minor": 2
}
