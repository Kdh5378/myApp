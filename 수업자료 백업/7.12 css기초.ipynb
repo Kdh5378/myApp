{
 "cells": [
  {
   "cell_type": "code",
   "execution_count": 24,
   "metadata": {},
   "outputs": [
    {
     "name": "stdout",
     "output_type": "stream",
     "text": [
      "Overwriting css.html\n"
     ]
    }
   ],
   "source": [
    "%%writefile css.html\n",
    "<!doctype html>\n",
    "<html lang=\"ko\">\n",
    "    <head>\n",
    "        <style>\n",
    "            #id{color:rgb(0,0,255);}\n",
    "            .class {background-color:yellow;}\n",
    "            div+p.class {background-color:magenta;}\n",
    "            p.class {font-family:\"맑은 고딕\", \"malgun Gothic\", BatangChe, Sans-serif;}\n",
    "            p.class {font-size:5.0em;}\n",
    "            p.class {font-style:italic;}\n",
    "        </style>\n",
    "    </head>\n",
    "    <body>\n",
    "        <div id=\"id1\">Content1</div>\n",
    "        <div id=\"id2\">Content2</div>\n",
    "        <div id=\"id3\">Content3</div>\n",
    "    </body>\n",
    "</html>"
   ]
  },
  {
   "cell_type": "code",
   "execution_count": 48,
   "metadata": {},
   "outputs": [
    {
     "name": "stdout",
     "output_type": "stream",
     "text": [
      "Overwriting css2.html\n"
     ]
    }
   ],
   "source": [
    "%%writefile css2.html\n",
    "<!doctype html>\n",
    "<html lang=\"ko\">\n",
    "    <head>\n",
    "        <style>\n",
    "            div {border:1px solid #aaaaaa;}\n",
    "            #id1 {position:relative; height:50px; background-color:magenta; opacity:0.5; font-size:2.5em;}\n",
    "            #id2 {position:absolute; top:100px; left:200px}\n",
    "            #id3 {position:fixed; top:200px; left:200px; text-align:center;}\n",
    "            #id1 >ul {position:absolute; top:0px; left:000px; border:1px; solid #aaaaaa; display:none}\n",
    "            #id1:hover >ul{display:block;}\n",
    "        </style>\n",
    "    </head>\n",
    "    <body>\n",
    "        <div id=\"id1\">Content1\n",
    "                 <ul>\n",
    "                     <li>menu1</li>\n",
    "                     <li>menu2</li>\n",
    "                 </ul>\n",
    "        </div>\n",
    "        <div id=\"id2\">Content2</div>\n",
    "        <div id=\"id3\">Content3</div>\n",
    "    </body>\n",
    "</html>"
   ]
  },
  {
   "cell_type": "code",
   "execution_count": 42,
   "metadata": {},
   "outputs": [
    {
     "name": "stdout",
     "output_type": "stream",
     "text": [
      "Overwriting div.html\n"
     ]
    }
   ],
   "source": [
    "%%writefile div.html\n",
    "<!doctype html>\n",
    "<hmtl>\n",
    "    <head>\n",
    "        <style>\n",
    "             div {border:1px solid #aaaaaa; width:800px; height:200px; opacity:0.5; background-color:#aaaaaa;}\n",
    "             #id2 {width:200px; height:500px; float:left; background-color:red;}\n",
    "             #id3 {width:200px; height:500px; float:right; background-color:blue;}\n",
    "             #id4 {clear:both;}\n",
    "             #id1 +div {clear:both; dontent:\"\"; display:table; opacity:0.5; background-color:yellow;}\n",
    "        </style>\n",
    "    </head>\n",
    "    <body>\n",
    "        <div id=\"id1\">Header</div>\n",
    "        <div>\n",
    "            <div id=\"id2\">Side</div>\n",
    "            <div id=\"id3\">Content</div>\n",
    "        </div>\n",
    "        <div id=\"id4\">Footer</div>\n",
    "    </body>\n",
    "</html>"
   ]
  },
  {
   "cell_type": "code",
   "execution_count": null,
   "metadata": {},
   "outputs": [],
   "source": []
  }
 ],
 "metadata": {
  "kernelspec": {
   "display_name": "Python 3",
   "language": "python",
   "name": "python3"
  },
  "language_info": {
   "codemirror_mode": {
    "name": "ipython",
    "version": 3
   },
   "file_extension": ".py",
   "mimetype": "text/x-python",
   "name": "python",
   "nbconvert_exporter": "python",
   "pygments_lexer": "ipython3",
   "version": "3.6.5"
  }
 },
 "nbformat": 4,
 "nbformat_minor": 2
}
