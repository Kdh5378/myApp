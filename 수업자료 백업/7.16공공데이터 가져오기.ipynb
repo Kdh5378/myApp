{
 "cells": [
  {
   "cell_type": "code",
   "execution_count": 1,
   "metadata": {},
   "outputs": [],
   "source": [
    "import urllib.request\n",
    "from lxml import etree"
   ]
  },
  {
   "cell_type": "code",
   "execution_count": 2,
   "metadata": {},
   "outputs": [],
   "source": [
    "url=\"http://openapi.airkorea.or.kr/openapi/services/rest/ArpltnInforInqireSvc/getMsrstnAcctoRltmMesureDnsty\"\n",
    "\n",
    "params={\"serviceKey\":\"vMczsU44uukLKVuQWTXfD5kbAmvI0%2BeNQskR5BBR6r6qgoos6%2FJYLPa5pVhMyRokRDIh5kka%2F58NNDxsEhjj%2Fw%3D%3D\",\n",
    "        \"numOfRows\":10,\n",
    "        \"pageNo\":1,\n",
    "        \"stationName\":None,\n",
    "        \"dataTerm\":\"DAILY\",\n",
    "        \"ver\":\"1.3\",\n",
    "}"
   ]
  },
  {
   "cell_type": "code",
   "execution_count": 3,
   "metadata": {},
   "outputs": [
    {
     "data": {
      "text/plain": [
       "{'serviceKey': 'vMczsU44uukLKVuQWTXfD5kbAmvI0%2BeNQskR5BBR6r6qgoos6%2FJYLPa5pVhMyRokRDIh5kka%2F58NNDxsEhjj%2Fw%3D%3D',\n",
       " 'numOfRows': 10,\n",
       " 'pageNo': 1,\n",
       " 'stationName': None,\n",
       " 'dataTerm': 'DAILY',\n",
       " 'ver': '1.3'}"
      ]
     },
     "execution_count": 3,
     "metadata": {},
     "output_type": "execute_result"
    }
   ],
   "source": [
    "params"
   ]
  },
  {
   "cell_type": "code",
   "execution_count": 4,
   "metadata": {},
   "outputs": [],
   "source": [
    "from urllib import parse"
   ]
  },
  {
   "cell_type": "code",
   "execution_count": 5,
   "metadata": {},
   "outputs": [],
   "source": [
    "params[\"serviceKey\"]=urllib.parse.unquote(params[\"serviceKey\"])#링크를 의미하는 문자열들은 인코딩이 되어있는데 그것을 읽을 수 있게 바꿔준다"
   ]
  },
  {
   "cell_type": "code",
   "execution_count": 6,
   "metadata": {},
   "outputs": [],
   "source": [
    "params[\"stationName\"]=\"성북구\""
   ]
  },
  {
   "cell_type": "code",
   "execution_count": 7,
   "metadata": {},
   "outputs": [],
   "source": [
    "params = urllib.parse.urlencode(params)#스트링으로 바꿔줌 #Parse a URL into six components"
   ]
  },
  {
   "cell_type": "code",
   "execution_count": 8,
   "metadata": {},
   "outputs": [],
   "source": [
    "params =params.encode(\"utf-8\")#유니코드 문자를 전송을 위한 바이트 문자로 바꾸어준다"
   ]
  },
  {
   "cell_type": "code",
   "execution_count": 9,
   "metadata": {},
   "outputs": [],
   "source": [
    "req=urllib.request.Request(url,data=params)#정보를 보내고 응답 요청"
   ]
  },
  {
   "cell_type": "code",
   "execution_count": 10,
   "metadata": {},
   "outputs": [
    {
     "data": {
      "text/plain": [
       "<urllib.request.Request at 0x52c9160>"
      ]
     },
     "execution_count": 10,
     "metadata": {},
     "output_type": "execute_result"
    }
   ],
   "source": [
    "req"
   ]
  },
  {
   "cell_type": "code",
   "execution_count": 11,
   "metadata": {},
   "outputs": [],
   "source": [
    "res=urllib.request.urlopen(req)"
   ]
  },
  {
   "cell_type": "code",
   "execution_count": 12,
   "metadata": {},
   "outputs": [],
   "source": [
    "resResult=res.read()"
   ]
  },
  {
   "cell_type": "code",
   "execution_count": 13,
   "metadata": {},
   "outputs": [
    {
     "data": {
      "text/plain": [
       "b'<?xml version=\"1.0\" encoding=\"UTF-8\"?>\\r\\n\\r\\n\\r\\n\\r\\n\\r\\n<response>\\r\\n\\t<header>\\r\\n\\t\\t<resultCode>00</resultCode>\\r\\n\\t\\t<resultMsg>NORMAL SERVICE.</resultMsg>\\r\\n\\t</header>\\r\\n\\t<body>\\r\\n\\t\\t<items>\\r\\n\\t\\t\\t\\r\\n\\t\\t\\t\\t<item>\\r\\n\\t\\t\\t\\t\\t<dataTime>2018-07-16 10:00</dataTime>\\r\\n\\t\\t\\t\\t\\t\\r\\n                        <mangName>\\xeb\\x8f\\x84\\xec\\x8b\\x9c\\xeb\\x8c\\x80\\xea\\xb8\\xb0</mangName>\\r\\n                    \\r\\n\\t\\t\\t\\t\\t<so2Value>0.003</so2Value>\\r\\n\\t\\t\\t\\t\\t<coValue>0.5</coValue>\\r\\n\\t\\t\\t\\t\\t<o3Value>0.009</o3Value>\\r\\n\\t\\t\\t\\t\\t<no2Value>0.024</no2Value>\\r\\n\\t\\t\\t\\t\\t<pm10Value>26</pm10Value>\\r\\n\\t\\t\\t\\t\\t\\r\\n                        <pm10Value24>24</pm10Value24>\\r\\n                    \\r\\n\\t\\t\\t\\t\\t\\r\\n                        <pm25Value>-</pm25Value>\\r\\n                    \\r\\n                    \\r\\n                        <pm25Value24>12</pm25Value24>\\r\\n                    \\r\\n\\t\\t\\t\\t\\t<khaiValue>40</khaiValue>\\r\\n\\t\\t\\t\\t\\t<khaiGrade>1</khaiGrade>\\r\\n\\t\\t\\t\\t\\t<so2Grade>1</so2Grade>\\r\\n\\t\\t\\t\\t\\t<coGrade>1</coGrade>\\r\\n\\t\\t\\t\\t\\t<o3Grade>1</o3Grade>\\r\\n\\t\\t\\t\\t\\t<no2Grade>1</no2Grade>\\r\\n\\t\\t\\t\\t\\t<pm10Grade>1</pm10Grade>\\r\\n\\t\\t\\t\\t\\t\\r\\n                        <pm25Grade>1</pm25Grade>\\r\\n                    \\r\\n                    \\r\\n                        <pm10Grade1h>1</pm10Grade1h>\\r\\n                        <pm25Grade1h></pm25Grade1h>\\r\\n                    \\r\\n\\t\\t\\t\\t</item>\\r\\n\\t\\t\\t\\r\\n\\t\\t\\t\\t<item>\\r\\n\\t\\t\\t\\t\\t<dataTime>2018-07-16 09:00</dataTime>\\r\\n\\t\\t\\t\\t\\t\\r\\n                        <mangName>\\xeb\\x8f\\x84\\xec\\x8b\\x9c\\xeb\\x8c\\x80\\xea\\xb8\\xb0</mangName>\\r\\n                    \\r\\n\\t\\t\\t\\t\\t<so2Value>0.003</so2Value>\\r\\n\\t\\t\\t\\t\\t<coValue>0.5</coValue>\\r\\n\\t\\t\\t\\t\\t<o3Value>0.007</o3Value>\\r\\n\\t\\t\\t\\t\\t<no2Value>0.023</no2Value>\\r\\n\\t\\t\\t\\t\\t<pm10Value>35</pm10Value>\\r\\n\\t\\t\\t\\t\\t\\r\\n                        <pm10Value24>23</pm10Value24>\\r\\n                    \\r\\n\\t\\t\\t\\t\\t\\r\\n                        <pm25Value>11</pm25Value>\\r\\n                    \\r\\n                    \\r\\n                        <pm25Value24>12</pm25Value24>\\r\\n                    \\r\\n\\t\\t\\t\\t\\t<khaiValue>40</khaiValue>\\r\\n\\t\\t\\t\\t\\t<khaiGrade>1</khaiGrade>\\r\\n\\t\\t\\t\\t\\t<so2Grade>1</so2Grade>\\r\\n\\t\\t\\t\\t\\t<coGrade>1</coGrade>\\r\\n\\t\\t\\t\\t\\t<o3Grade>1</o3Grade>\\r\\n\\t\\t\\t\\t\\t<no2Grade>1</no2Grade>\\r\\n\\t\\t\\t\\t\\t<pm10Grade>1</pm10Grade>\\r\\n\\t\\t\\t\\t\\t\\r\\n                        <pm25Grade>1</pm25Grade>\\r\\n                    \\r\\n                    \\r\\n                        <pm10Grade1h>2</pm10Grade1h>\\r\\n                        <pm25Grade1h>1</pm25Grade1h>\\r\\n                    \\r\\n\\t\\t\\t\\t</item>\\r\\n\\t\\t\\t\\r\\n\\t\\t\\t\\t<item>\\r\\n\\t\\t\\t\\t\\t<dataTime>2018-07-16 08:00</dataTime>\\r\\n\\t\\t\\t\\t\\t\\r\\n                        <mangName>\\xeb\\x8f\\x84\\xec\\x8b\\x9c\\xeb\\x8c\\x80\\xea\\xb8\\xb0</mangName>\\r\\n                    \\r\\n\\t\\t\\t\\t\\t<so2Value>0.003</so2Value>\\r\\n\\t\\t\\t\\t\\t<coValue>0.5</coValue>\\r\\n\\t\\t\\t\\t\\t<o3Value>0.004</o3Value>\\r\\n\\t\\t\\t\\t\\t<no2Value>0.019</no2Value>\\r\\n\\t\\t\\t\\t\\t<pm10Value>23</pm10Value>\\r\\n\\t\\t\\t\\t\\t\\r\\n                        <pm10Value24>20</pm10Value24>\\r\\n                    \\r\\n\\t\\t\\t\\t\\t\\r\\n                        <pm25Value>12</pm25Value>\\r\\n                    \\r\\n                    \\r\\n                        <pm25Value24>12</pm25Value24>\\r\\n                    \\r\\n\\t\\t\\t\\t\\t<khaiValue>40</khaiValue>\\r\\n\\t\\t\\t\\t\\t<khaiGrade>1</khaiGrade>\\r\\n\\t\\t\\t\\t\\t<so2Grade>1</so2Grade>\\r\\n\\t\\t\\t\\t\\t<coGrade>1</coGrade>\\r\\n\\t\\t\\t\\t\\t<o3Grade>1</o3Grade>\\r\\n\\t\\t\\t\\t\\t<no2Grade>1</no2Grade>\\r\\n\\t\\t\\t\\t\\t<pm10Grade>1</pm10Grade>\\r\\n\\t\\t\\t\\t\\t\\r\\n                        <pm25Grade>1</pm25Grade>\\r\\n                    \\r\\n                    \\r\\n                        <pm10Grade1h>1</pm10Grade1h>\\r\\n                        <pm25Grade1h>1</pm25Grade1h>\\r\\n                    \\r\\n\\t\\t\\t\\t</item>\\r\\n\\t\\t\\t\\r\\n\\t\\t\\t\\t<item>\\r\\n\\t\\t\\t\\t\\t<dataTime>2018-07-16 07:00</dataTime>\\r\\n\\t\\t\\t\\t\\t\\r\\n                        <mangName>\\xeb\\x8f\\x84\\xec\\x8b\\x9c\\xeb\\x8c\\x80\\xea\\xb8\\xb0</mangName>\\r\\n                    \\r\\n\\t\\t\\t\\t\\t<so2Value>0.002</so2Value>\\r\\n\\t\\t\\t\\t\\t<coValue>0.6</coValue>\\r\\n\\t\\t\\t\\t\\t<o3Value>0.003</o3Value>\\r\\n\\t\\t\\t\\t\\t<no2Value>0.016</no2Value>\\r\\n\\t\\t\\t\\t\\t<pm10Value>17</pm10Value>\\r\\n\\t\\t\\t\\t\\t\\r\\n                        <pm10Value24>20</pm10Value24>\\r\\n                    \\r\\n\\t\\t\\t\\t\\t\\r\\n                        <pm25Value>14</pm25Value>\\r\\n                    \\r\\n                    \\r\\n                        <pm25Value24>12</pm25Value24>\\r\\n                    \\r\\n\\t\\t\\t\\t\\t<khaiValue>40</khaiValue>\\r\\n\\t\\t\\t\\t\\t<khaiGrade>1</khaiGrade>\\r\\n\\t\\t\\t\\t\\t<so2Grade>1</so2Grade>\\r\\n\\t\\t\\t\\t\\t<coGrade>1</coGrade>\\r\\n\\t\\t\\t\\t\\t<o3Grade>1</o3Grade>\\r\\n\\t\\t\\t\\t\\t<no2Grade>1</no2Grade>\\r\\n\\t\\t\\t\\t\\t<pm10Grade>1</pm10Grade>\\r\\n\\t\\t\\t\\t\\t\\r\\n                        <pm25Grade>1</pm25Grade>\\r\\n                    \\r\\n                    \\r\\n                        <pm10Grade1h>1</pm10Grade1h>\\r\\n                        <pm25Grade1h>1</pm25Grade1h>\\r\\n                    \\r\\n\\t\\t\\t\\t</item>\\r\\n\\t\\t\\t\\r\\n\\t\\t\\t\\t<item>\\r\\n\\t\\t\\t\\t\\t<dataTime>2018-07-16 06:00</dataTime>\\r\\n\\t\\t\\t\\t\\t\\r\\n                        <mangName>\\xeb\\x8f\\x84\\xec\\x8b\\x9c\\xeb\\x8c\\x80\\xea\\xb8\\xb0</mangName>\\r\\n                    \\r\\n\\t\\t\\t\\t\\t<so2Value>0.002</so2Value>\\r\\n\\t\\t\\t\\t\\t<coValue>0.4</coValue>\\r\\n\\t\\t\\t\\t\\t<o3Value>0.003</o3Value>\\r\\n\\t\\t\\t\\t\\t<no2Value>0.013</no2Value>\\r\\n\\t\\t\\t\\t\\t<pm10Value>22</pm10Value>\\r\\n\\t\\t\\t\\t\\t\\r\\n                        <pm10Value24>21</pm10Value24>\\r\\n                    \\r\\n\\t\\t\\t\\t\\t\\r\\n                        <pm25Value>8</pm25Value>\\r\\n                    \\r\\n                    \\r\\n                        <pm25Value24>13</pm25Value24>\\r\\n                    \\r\\n\\t\\t\\t\\t\\t<khaiValue>43</khaiValue>\\r\\n\\t\\t\\t\\t\\t<khaiGrade>1</khaiGrade>\\r\\n\\t\\t\\t\\t\\t<so2Grade>1</so2Grade>\\r\\n\\t\\t\\t\\t\\t<coGrade>1</coGrade>\\r\\n\\t\\t\\t\\t\\t<o3Grade>1</o3Grade>\\r\\n\\t\\t\\t\\t\\t<no2Grade>1</no2Grade>\\r\\n\\t\\t\\t\\t\\t<pm10Grade>1</pm10Grade>\\r\\n\\t\\t\\t\\t\\t\\r\\n                        <pm25Grade>1</pm25Grade>\\r\\n                    \\r\\n                    \\r\\n                        <pm10Grade1h>1</pm10Grade1h>\\r\\n                        <pm25Grade1h>1</pm25Grade1h>\\r\\n                    \\r\\n\\t\\t\\t\\t</item>\\r\\n\\t\\t\\t\\r\\n\\t\\t\\t\\t<item>\\r\\n\\t\\t\\t\\t\\t<dataTime>2018-07-16 05:00</dataTime>\\r\\n\\t\\t\\t\\t\\t\\r\\n                        <mangName>\\xeb\\x8f\\x84\\xec\\x8b\\x9c\\xeb\\x8c\\x80\\xea\\xb8\\xb0</mangName>\\r\\n                    \\r\\n\\t\\t\\t\\t\\t<so2Value>0.002</so2Value>\\r\\n\\t\\t\\t\\t\\t<coValue>0.4</coValue>\\r\\n\\t\\t\\t\\t\\t<o3Value>0.006</o3Value>\\r\\n\\t\\t\\t\\t\\t<no2Value>0.008</no2Value>\\r\\n\\t\\t\\t\\t\\t<pm10Value>19</pm10Value>\\r\\n\\t\\t\\t\\t\\t\\r\\n                        <pm10Value24>21</pm10Value24>\\r\\n                    \\r\\n\\t\\t\\t\\t\\t\\r\\n                        <pm25Value>11</pm25Value>\\r\\n                    \\r\\n                    \\r\\n                        <pm25Value24>14</pm25Value24>\\r\\n                    \\r\\n\\t\\t\\t\\t\\t<khaiValue>47</khaiValue>\\r\\n\\t\\t\\t\\t\\t<khaiGrade>1</khaiGrade>\\r\\n\\t\\t\\t\\t\\t<so2Grade>1</so2Grade>\\r\\n\\t\\t\\t\\t\\t<coGrade>1</coGrade>\\r\\n\\t\\t\\t\\t\\t<o3Grade>1</o3Grade>\\r\\n\\t\\t\\t\\t\\t<no2Grade>1</no2Grade>\\r\\n\\t\\t\\t\\t\\t<pm10Grade>1</pm10Grade>\\r\\n\\t\\t\\t\\t\\t\\r\\n                        <pm25Grade>1</pm25Grade>\\r\\n                    \\r\\n                    \\r\\n                        <pm10Grade1h>1</pm10Grade1h>\\r\\n                        <pm25Grade1h>1</pm25Grade1h>\\r\\n                    \\r\\n\\t\\t\\t\\t</item>\\r\\n\\t\\t\\t\\r\\n\\t\\t\\t\\t<item>\\r\\n\\t\\t\\t\\t\\t<dataTime>2018-07-16 04:00</dataTime>\\r\\n\\t\\t\\t\\t\\t\\r\\n                        <mangName>\\xeb\\x8f\\x84\\xec\\x8b\\x9c\\xeb\\x8c\\x80\\xea\\xb8\\xb0</mangName>\\r\\n                    \\r\\n\\t\\t\\t\\t\\t<so2Value>0.002</so2Value>\\r\\n\\t\\t\\t\\t\\t<coValue>0.4</coValue>\\r\\n\\t\\t\\t\\t\\t<o3Value>0.007</o3Value>\\r\\n\\t\\t\\t\\t\\t<no2Value>0.009</no2Value>\\r\\n\\t\\t\\t\\t\\t<pm10Value>16</pm10Value>\\r\\n\\t\\t\\t\\t\\t\\r\\n                        <pm10Value24>23</pm10Value24>\\r\\n                    \\r\\n\\t\\t\\t\\t\\t\\r\\n                        <pm25Value>10</pm25Value>\\r\\n                    \\r\\n                    \\r\\n                        <pm25Value24>14</pm25Value24>\\r\\n                    \\r\\n\\t\\t\\t\\t\\t<khaiValue>47</khaiValue>\\r\\n\\t\\t\\t\\t\\t<khaiGrade>1</khaiGrade>\\r\\n\\t\\t\\t\\t\\t<so2Grade>1</so2Grade>\\r\\n\\t\\t\\t\\t\\t<coGrade>1</coGrade>\\r\\n\\t\\t\\t\\t\\t<o3Grade>1</o3Grade>\\r\\n\\t\\t\\t\\t\\t<no2Grade>1</no2Grade>\\r\\n\\t\\t\\t\\t\\t<pm10Grade>1</pm10Grade>\\r\\n\\t\\t\\t\\t\\t\\r\\n                        <pm25Grade>1</pm25Grade>\\r\\n                    \\r\\n                    \\r\\n                        <pm10Grade1h>1</pm10Grade1h>\\r\\n                        <pm25Grade1h>1</pm25Grade1h>\\r\\n                    \\r\\n\\t\\t\\t\\t</item>\\r\\n\\t\\t\\t\\r\\n\\t\\t\\t\\t<item>\\r\\n\\t\\t\\t\\t\\t<dataTime>2018-07-16 03:00</dataTime>\\r\\n\\t\\t\\t\\t\\t\\r\\n                        <mangName>\\xeb\\x8f\\x84\\xec\\x8b\\x9c\\xeb\\x8c\\x80\\xea\\xb8\\xb0</mangName>\\r\\n                    \\r\\n\\t\\t\\t\\t\\t<so2Value>0.003</so2Value>\\r\\n\\t\\t\\t\\t\\t<coValue>0.4</coValue>\\r\\n\\t\\t\\t\\t\\t<o3Value>0.006</o3Value>\\r\\n\\t\\t\\t\\t\\t<no2Value>0.012</no2Value>\\r\\n\\t\\t\\t\\t\\t<pm10Value>23</pm10Value>\\r\\n\\t\\t\\t\\t\\t\\r\\n                        <pm10Value24>25</pm10Value24>\\r\\n                    \\r\\n\\t\\t\\t\\t\\t\\r\\n                        <pm25Value>15</pm25Value>\\r\\n                    \\r\\n                    \\r\\n                        <pm25Value24>16</pm25Value24>\\r\\n                    \\r\\n\\t\\t\\t\\t\\t<khaiValue>51</khaiValue>\\r\\n\\t\\t\\t\\t\\t<khaiGrade>2</khaiGrade>\\r\\n\\t\\t\\t\\t\\t<so2Grade>1</so2Grade>\\r\\n\\t\\t\\t\\t\\t<coGrade>1</coGrade>\\r\\n\\t\\t\\t\\t\\t<o3Grade>1</o3Grade>\\r\\n\\t\\t\\t\\t\\t<no2Grade>1</no2Grade>\\r\\n\\t\\t\\t\\t\\t<pm10Grade>1</pm10Grade>\\r\\n\\t\\t\\t\\t\\t\\r\\n                        <pm25Grade>2</pm25Grade>\\r\\n                    \\r\\n                    \\r\\n                        <pm10Grade1h>1</pm10Grade1h>\\r\\n                        <pm25Grade1h>1</pm25Grade1h>\\r\\n                    \\r\\n\\t\\t\\t\\t</item>\\r\\n\\t\\t\\t\\r\\n\\t\\t\\t\\t<item>\\r\\n\\t\\t\\t\\t\\t<dataTime>2018-07-16 02:00</dataTime>\\r\\n\\t\\t\\t\\t\\t\\r\\n                        <mangName>\\xeb\\x8f\\x84\\xec\\x8b\\x9c\\xeb\\x8c\\x80\\xea\\xb8\\xb0</mangName>\\r\\n                    \\r\\n\\t\\t\\t\\t\\t<so2Value>0.002</so2Value>\\r\\n\\t\\t\\t\\t\\t<coValue>0.4</coValue>\\r\\n\\t\\t\\t\\t\\t<o3Value>0.006</o3Value>\\r\\n\\t\\t\\t\\t\\t<no2Value>0.014</no2Value>\\r\\n\\t\\t\\t\\t\\t<pm10Value>21</pm10Value>\\r\\n\\t\\t\\t\\t\\t\\r\\n                        <pm10Value24>26</pm10Value24>\\r\\n                    \\r\\n\\t\\t\\t\\t\\t\\r\\n                        <pm25Value>13</pm25Value>\\r\\n                    \\r\\n                    \\r\\n                        <pm25Value24>16</pm25Value24>\\r\\n                    \\r\\n\\t\\t\\t\\t\\t<khaiValue>51</khaiValue>\\r\\n\\t\\t\\t\\t\\t<khaiGrade>2</khaiGrade>\\r\\n\\t\\t\\t\\t\\t<so2Grade>1</so2Grade>\\r\\n\\t\\t\\t\\t\\t<coGrade>1</coGrade>\\r\\n\\t\\t\\t\\t\\t<o3Grade>1</o3Grade>\\r\\n\\t\\t\\t\\t\\t<no2Grade>1</no2Grade>\\r\\n\\t\\t\\t\\t\\t<pm10Grade>1</pm10Grade>\\r\\n\\t\\t\\t\\t\\t\\r\\n                        <pm25Grade>2</pm25Grade>\\r\\n                    \\r\\n                    \\r\\n                        <pm10Grade1h>1</pm10Grade1h>\\r\\n                        <pm25Grade1h>1</pm25Grade1h>\\r\\n                    \\r\\n\\t\\t\\t\\t</item>\\r\\n\\t\\t\\t\\r\\n\\t\\t\\t\\t<item>\\r\\n\\t\\t\\t\\t\\t<dataTime>2018-07-16 01:00</dataTime>\\r\\n\\t\\t\\t\\t\\t\\r\\n                        <mangName>\\xeb\\x8f\\x84\\xec\\x8b\\x9c\\xeb\\x8c\\x80\\xea\\xb8\\xb0</mangName>\\r\\n                    \\r\\n\\t\\t\\t\\t\\t<so2Value>0.003</so2Value>\\r\\n\\t\\t\\t\\t\\t<coValue>0.4</coValue>\\r\\n\\t\\t\\t\\t\\t<o3Value>0.006</o3Value>\\r\\n\\t\\t\\t\\t\\t<no2Value>0.018</no2Value>\\r\\n\\t\\t\\t\\t\\t<pm10Value>27</pm10Value>\\r\\n\\t\\t\\t\\t\\t\\r\\n                        <pm10Value24>25</pm10Value24>\\r\\n                    \\r\\n\\t\\t\\t\\t\\t\\r\\n                        <pm25Value>11</pm25Value>\\r\\n                    \\r\\n                    \\r\\n                        <pm25Value24>16</pm25Value24>\\r\\n                    \\r\\n\\t\\t\\t\\t\\t<khaiValue>51</khaiValue>\\r\\n\\t\\t\\t\\t\\t<khaiGrade>2</khaiGrade>\\r\\n\\t\\t\\t\\t\\t<so2Grade>1</so2Grade>\\r\\n\\t\\t\\t\\t\\t<coGrade>1</coGrade>\\r\\n\\t\\t\\t\\t\\t<o3Grade>1</o3Grade>\\r\\n\\t\\t\\t\\t\\t<no2Grade>1</no2Grade>\\r\\n\\t\\t\\t\\t\\t<pm10Grade>1</pm10Grade>\\r\\n\\t\\t\\t\\t\\t\\r\\n                        <pm25Grade>2</pm25Grade>\\r\\n                    \\r\\n                    \\r\\n                        <pm10Grade1h>1</pm10Grade1h>\\r\\n                        <pm25Grade1h>1</pm25Grade1h>\\r\\n                    \\r\\n\\t\\t\\t\\t</item>\\r\\n\\t\\t\\t\\r\\n\\t\\t</items>\\r\\n\\t\\t\\t<numOfRows>10</numOfRows>\\r\\n\\t\\t\\t<pageNo>1</pageNo>\\r\\n\\t\\t\\t<totalCount>23</totalCount>\\r\\n\\t</body>\\r\\n</response>\\r\\n'"
      ]
     },
     "execution_count": 13,
     "metadata": {},
     "output_type": "execute_result"
    }
   ],
   "source": [
    "resResult"
   ]
  },
  {
   "cell_type": "code",
   "execution_count": 14,
   "metadata": {},
   "outputs": [],
   "source": [
    "xml=etree.fromstring(resResult)"
   ]
  },
  {
   "cell_type": "code",
   "execution_count": 16,
   "metadata": {},
   "outputs": [
    {
     "name": "stdout",
     "output_type": "stream",
     "text": [
      "<response>\n",
      "\t<header>\n",
      "\t\t<resultCode>00</resultCode>\n",
      "\t\t<resultMsg>NORMAL SERVICE.</resultMsg>\n",
      "\t</header>\n",
      "\t<body>\n",
      "\t\t<items>\n",
      "\t\t\t\n",
      "\t\t\t\t<item>\n",
      "\t\t\t\t\t<dataTime>2018-07-16 10:00</dataTime>\n",
      "\t\t\t\t\t\n",
      "                        <mangName>도시대기</mangName>\n",
      "                    \n",
      "\t\t\t\t\t<so2Value>0.003</so2Value>\n",
      "\t\t\t\t\t<coValue>0.5</coValue>\n",
      "\t\t\t\t\t<o3Value>0.009</o3Value>\n",
      "\t\t\t\t\t<no2Value>0.024</no2Value>\n",
      "\t\t\t\t\t<pm10Value>26</pm10Value>\n",
      "\t\t\t\t\t\n",
      "                        <pm10Value24>24</pm10Value24>\n",
      "                    \n",
      "\t\t\t\t\t\n",
      "                        <pm25Value>-</pm25Value>\n",
      "                    \n",
      "                    \n",
      "                        <pm25Value24>12</pm25Value24>\n",
      "                    \n",
      "\t\t\t\t\t<khaiValue>40</khaiValue>\n",
      "\t\t\t\t\t<khaiGrade>1</khaiGrade>\n",
      "\t\t\t\t\t<so2Grade>1</so2Grade>\n",
      "\t\t\t\t\t<coGrade>1</coGrade>\n",
      "\t\t\t\t\t<o3Grade>1</o3Grade>\n",
      "\t\t\t\t\t<no2Grade>1</no2Grade>\n",
      "\t\t\t\t\t<pm10Grade>1</pm10Grade>\n",
      "\t\t\t\t\t\n",
      "                        <pm25Grade>1</pm25Grade>\n",
      "                    \n",
      "                    \n",
      "                        <pm10Grade1h>1</pm10Grade1h>\n",
      "                        <pm25Grade1h/>\n",
      "                    \n",
      "\t\t\t\t</item>\n",
      "\t\t\t\n",
      "\t\t\t\t<item>\n",
      "\t\t\t\t\t<dataTime>2018-07-16 09:00</dataTime>\n",
      "\t\t\t\t\t\n",
      "                        <mangName>도시대기</mangName>\n",
      "                    \n",
      "\t\t\t\t\t<so2Value>0.003</so2Value>\n",
      "\t\t\t\t\t<coValue>0.5</coValue>\n",
      "\t\t\t\t\t<o3Value>0.007</o3Value>\n",
      "\t\t\t\t\t<no2Value>0.023</no2Value>\n",
      "\t\t\t\t\t<pm10Value>35</pm10Value>\n",
      "\t\t\t\t\t\n",
      "                        <pm10Value24>23</pm10Value24>\n",
      "                    \n",
      "\t\t\t\t\t\n",
      "                        <pm25Value>11</pm25Value>\n",
      "                    \n",
      "                    \n",
      "                        <pm25Value24>12</pm25Value24>\n",
      "                    \n",
      "\t\t\t\t\t<khaiValue>40</khaiValue>\n",
      "\t\t\t\t\t<khaiGrade>1</khaiGrade>\n",
      "\t\t\t\t\t<so2Grade>1</so2Grade>\n",
      "\t\t\t\t\t<coGrade>1</coGrade>\n",
      "\t\t\t\t\t<o3Grade>1</o3Grade>\n",
      "\t\t\t\t\t<no2Grade>1</no2Grade>\n",
      "\t\t\t\t\t<pm10Grade>1</pm10Grade>\n",
      "\t\t\t\t\t\n",
      "                        <pm25Grade>1</pm25Grade>\n",
      "                    \n",
      "                    \n",
      "                        <pm10Grade1h>2</pm10Grade1h>\n",
      "                        <pm25Grade1h>1</pm25Grade1h>\n",
      "                    \n",
      "\t\t\t\t</item>\n",
      "\t\t\t\n",
      "\t\t\t\t<item>\n",
      "\t\t\t\t\t<dataTime>2018-07-16 08:00</dataTime>\n",
      "\t\t\t\t\t\n",
      "                        <mangName>도시대기</mangName>\n",
      "                    \n",
      "\t\t\t\t\t<so2Value>0.003</so2Value>\n",
      "\t\t\t\t\t<coValue>0.5</coValue>\n",
      "\t\t\t\t\t<o3Value>0.004</o3Value>\n",
      "\t\t\t\t\t<no2Value>0.019</no2Value>\n",
      "\t\t\t\t\t<pm10Value>23</pm10Value>\n",
      "\t\t\t\t\t\n",
      "                        <pm10Value24>20</pm10Value24>\n",
      "                    \n",
      "\t\t\t\t\t\n",
      "                        <pm25Value>12</pm25Value>\n",
      "                    \n",
      "                    \n",
      "                        <pm25Value24>12</pm25Value24>\n",
      "                    \n",
      "\t\t\t\t\t<khaiValue>40</khaiValue>\n",
      "\t\t\t\t\t<khaiGrade>1</khaiGrade>\n",
      "\t\t\t\t\t<so2Grade>1</so2Grade>\n",
      "\t\t\t\t\t<coGrade>1</coGrade>\n",
      "\t\t\t\t\t<o3Grade>1</o3Grade>\n",
      "\t\t\t\t\t<no2Grade>1</no2Grade>\n",
      "\t\t\t\t\t<pm10Grade>1</pm10Grade>\n",
      "\t\t\t\t\t\n",
      "                        <pm25Grade>1</pm25Grade>\n",
      "                    \n",
      "                    \n",
      "                        <pm10Grade1h>1</pm10Grade1h>\n",
      "                        <pm25Grade1h>1</pm25Grade1h>\n",
      "                    \n",
      "\t\t\t\t</item>\n",
      "\t\t\t\n",
      "\t\t\t\t<item>\n",
      "\t\t\t\t\t<dataTime>2018-07-16 07:00</dataTime>\n",
      "\t\t\t\t\t\n",
      "                        <mangName>도시대기</mangName>\n",
      "                    \n",
      "\t\t\t\t\t<so2Value>0.002</so2Value>\n",
      "\t\t\t\t\t<coValue>0.6</coValue>\n",
      "\t\t\t\t\t<o3Value>0.003</o3Value>\n",
      "\t\t\t\t\t<no2Value>0.016</no2Value>\n",
      "\t\t\t\t\t<pm10Value>17</pm10Value>\n",
      "\t\t\t\t\t\n",
      "                        <pm10Value24>20</pm10Value24>\n",
      "                    \n",
      "\t\t\t\t\t\n",
      "                        <pm25Value>14</pm25Value>\n",
      "                    \n",
      "                    \n",
      "                        <pm25Value24>12</pm25Value24>\n",
      "                    \n",
      "\t\t\t\t\t<khaiValue>40</khaiValue>\n",
      "\t\t\t\t\t<khaiGrade>1</khaiGrade>\n",
      "\t\t\t\t\t<so2Grade>1</so2Grade>\n",
      "\t\t\t\t\t<coGrade>1</coGrade>\n",
      "\t\t\t\t\t<o3Grade>1</o3Grade>\n",
      "\t\t\t\t\t<no2Grade>1</no2Grade>\n",
      "\t\t\t\t\t<pm10Grade>1</pm10Grade>\n",
      "\t\t\t\t\t\n",
      "                        <pm25Grade>1</pm25Grade>\n",
      "                    \n",
      "                    \n",
      "                        <pm10Grade1h>1</pm10Grade1h>\n",
      "                        <pm25Grade1h>1</pm25Grade1h>\n",
      "                    \n",
      "\t\t\t\t</item>\n",
      "\t\t\t\n",
      "\t\t\t\t<item>\n",
      "\t\t\t\t\t<dataTime>2018-07-16 06:00</dataTime>\n",
      "\t\t\t\t\t\n",
      "                        <mangName>도시대기</mangName>\n",
      "                    \n",
      "\t\t\t\t\t<so2Value>0.002</so2Value>\n",
      "\t\t\t\t\t<coValue>0.4</coValue>\n",
      "\t\t\t\t\t<o3Value>0.003</o3Value>\n",
      "\t\t\t\t\t<no2Value>0.013</no2Value>\n",
      "\t\t\t\t\t<pm10Value>22</pm10Value>\n",
      "\t\t\t\t\t\n",
      "                        <pm10Value24>21</pm10Value24>\n",
      "                    \n",
      "\t\t\t\t\t\n",
      "                        <pm25Value>8</pm25Value>\n",
      "                    \n",
      "                    \n",
      "                        <pm25Value24>13</pm25Value24>\n",
      "                    \n",
      "\t\t\t\t\t<khaiValue>43</khaiValue>\n",
      "\t\t\t\t\t<khaiGrade>1</khaiGrade>\n",
      "\t\t\t\t\t<so2Grade>1</so2Grade>\n",
      "\t\t\t\t\t<coGrade>1</coGrade>\n",
      "\t\t\t\t\t<o3Grade>1</o3Grade>\n",
      "\t\t\t\t\t<no2Grade>1</no2Grade>\n",
      "\t\t\t\t\t<pm10Grade>1</pm10Grade>\n",
      "\t\t\t\t\t\n",
      "                        <pm25Grade>1</pm25Grade>\n",
      "                    \n",
      "                    \n",
      "                        <pm10Grade1h>1</pm10Grade1h>\n",
      "                        <pm25Grade1h>1</pm25Grade1h>\n",
      "                    \n",
      "\t\t\t\t</item>\n",
      "\t\t\t\n",
      "\t\t\t\t<item>\n",
      "\t\t\t\t\t<dataTime>2018-07-16 05:00</dataTime>\n",
      "\t\t\t\t\t\n",
      "                        <mangName>도시대기</mangName>\n",
      "                    \n",
      "\t\t\t\t\t<so2Value>0.002</so2Value>\n",
      "\t\t\t\t\t<coValue>0.4</coValue>\n",
      "\t\t\t\t\t<o3Value>0.006</o3Value>\n",
      "\t\t\t\t\t<no2Value>0.008</no2Value>\n",
      "\t\t\t\t\t<pm10Value>19</pm10Value>\n",
      "\t\t\t\t\t\n",
      "                        <pm10Value24>21</pm10Value24>\n",
      "                    \n",
      "\t\t\t\t\t\n",
      "                        <pm25Value>11</pm25Value>\n",
      "                    \n",
      "                    \n",
      "                        <pm25Value24>14</pm25Value24>\n",
      "                    \n",
      "\t\t\t\t\t<khaiValue>47</khaiValue>\n",
      "\t\t\t\t\t<khaiGrade>1</khaiGrade>\n",
      "\t\t\t\t\t<so2Grade>1</so2Grade>\n",
      "\t\t\t\t\t<coGrade>1</coGrade>\n",
      "\t\t\t\t\t<o3Grade>1</o3Grade>\n",
      "\t\t\t\t\t<no2Grade>1</no2Grade>\n",
      "\t\t\t\t\t<pm10Grade>1</pm10Grade>\n",
      "\t\t\t\t\t\n",
      "                        <pm25Grade>1</pm25Grade>\n",
      "                    \n",
      "                    \n",
      "                        <pm10Grade1h>1</pm10Grade1h>\n",
      "                        <pm25Grade1h>1</pm25Grade1h>\n",
      "                    \n",
      "\t\t\t\t</item>\n",
      "\t\t\t\n",
      "\t\t\t\t<item>\n",
      "\t\t\t\t\t<dataTime>2018-07-16 04:00</dataTime>\n",
      "\t\t\t\t\t\n",
      "                        <mangName>도시대기</mangName>\n",
      "                    \n",
      "\t\t\t\t\t<so2Value>0.002</so2Value>\n",
      "\t\t\t\t\t<coValue>0.4</coValue>\n",
      "\t\t\t\t\t<o3Value>0.007</o3Value>\n",
      "\t\t\t\t\t<no2Value>0.009</no2Value>\n",
      "\t\t\t\t\t<pm10Value>16</pm10Value>\n",
      "\t\t\t\t\t\n",
      "                        <pm10Value24>23</pm10Value24>\n",
      "                    \n",
      "\t\t\t\t\t\n",
      "                        <pm25Value>10</pm25Value>\n",
      "                    \n",
      "                    \n",
      "                        <pm25Value24>14</pm25Value24>\n",
      "                    \n",
      "\t\t\t\t\t<khaiValue>47</khaiValue>\n",
      "\t\t\t\t\t<khaiGrade>1</khaiGrade>\n",
      "\t\t\t\t\t<so2Grade>1</so2Grade>\n",
      "\t\t\t\t\t<coGrade>1</coGrade>\n",
      "\t\t\t\t\t<o3Grade>1</o3Grade>\n",
      "\t\t\t\t\t<no2Grade>1</no2Grade>\n",
      "\t\t\t\t\t<pm10Grade>1</pm10Grade>\n",
      "\t\t\t\t\t\n",
      "                        <pm25Grade>1</pm25Grade>\n",
      "                    \n",
      "                    \n",
      "                        <pm10Grade1h>1</pm10Grade1h>\n",
      "                        <pm25Grade1h>1</pm25Grade1h>\n",
      "                    \n",
      "\t\t\t\t</item>\n",
      "\t\t\t\n",
      "\t\t\t\t<item>\n",
      "\t\t\t\t\t<dataTime>2018-07-16 03:00</dataTime>\n",
      "\t\t\t\t\t\n",
      "                        <mangName>도시대기</mangName>\n",
      "                    \n",
      "\t\t\t\t\t<so2Value>0.003</so2Value>\n",
      "\t\t\t\t\t<coValue>0.4</coValue>\n",
      "\t\t\t\t\t<o3Value>0.006</o3Value>\n",
      "\t\t\t\t\t<no2Value>0.012</no2Value>\n",
      "\t\t\t\t\t<pm10Value>23</pm10Value>\n",
      "\t\t\t\t\t\n",
      "                        <pm10Value24>25</pm10Value24>\n",
      "                    \n",
      "\t\t\t\t\t\n",
      "                        <pm25Value>15</pm25Value>\n",
      "                    \n",
      "                    \n",
      "                        <pm25Value24>16</pm25Value24>\n",
      "                    \n",
      "\t\t\t\t\t<khaiValue>51</khaiValue>\n",
      "\t\t\t\t\t<khaiGrade>2</khaiGrade>\n",
      "\t\t\t\t\t<so2Grade>1</so2Grade>\n",
      "\t\t\t\t\t<coGrade>1</coGrade>\n",
      "\t\t\t\t\t<o3Grade>1</o3Grade>\n",
      "\t\t\t\t\t<no2Grade>1</no2Grade>\n",
      "\t\t\t\t\t<pm10Grade>1</pm10Grade>\n",
      "\t\t\t\t\t\n",
      "                        <pm25Grade>2</pm25Grade>\n",
      "                    \n",
      "                    \n",
      "                        <pm10Grade1h>1</pm10Grade1h>\n",
      "                        <pm25Grade1h>1</pm25Grade1h>\n",
      "                    \n",
      "\t\t\t\t</item>\n",
      "\t\t\t\n",
      "\t\t\t\t<item>\n",
      "\t\t\t\t\t<dataTime>2018-07-16 02:00</dataTime>\n",
      "\t\t\t\t\t\n",
      "                        <mangName>도시대기</mangName>\n",
      "                    \n",
      "\t\t\t\t\t<so2Value>0.002</so2Value>\n",
      "\t\t\t\t\t<coValue>0.4</coValue>\n",
      "\t\t\t\t\t<o3Value>0.006</o3Value>\n",
      "\t\t\t\t\t<no2Value>0.014</no2Value>\n",
      "\t\t\t\t\t<pm10Value>21</pm10Value>\n",
      "\t\t\t\t\t\n",
      "                        <pm10Value24>26</pm10Value24>\n",
      "                    \n",
      "\t\t\t\t\t\n",
      "                        <pm25Value>13</pm25Value>\n",
      "                    \n",
      "                    \n",
      "                        <pm25Value24>16</pm25Value24>\n",
      "                    \n",
      "\t\t\t\t\t<khaiValue>51</khaiValue>\n",
      "\t\t\t\t\t<khaiGrade>2</khaiGrade>\n",
      "\t\t\t\t\t<so2Grade>1</so2Grade>\n",
      "\t\t\t\t\t<coGrade>1</coGrade>\n",
      "\t\t\t\t\t<o3Grade>1</o3Grade>\n",
      "\t\t\t\t\t<no2Grade>1</no2Grade>\n",
      "\t\t\t\t\t<pm10Grade>1</pm10Grade>\n",
      "\t\t\t\t\t\n",
      "                        <pm25Grade>2</pm25Grade>\n",
      "                    \n",
      "                    \n",
      "                        <pm10Grade1h>1</pm10Grade1h>\n",
      "                        <pm25Grade1h>1</pm25Grade1h>\n",
      "                    \n",
      "\t\t\t\t</item>\n",
      "\t\t\t\n",
      "\t\t\t\t<item>\n",
      "\t\t\t\t\t<dataTime>2018-07-16 01:00</dataTime>\n",
      "\t\t\t\t\t\n",
      "                        <mangName>도시대기</mangName>\n",
      "                    \n",
      "\t\t\t\t\t<so2Value>0.003</so2Value>\n",
      "\t\t\t\t\t<coValue>0.4</coValue>\n",
      "\t\t\t\t\t<o3Value>0.006</o3Value>\n",
      "\t\t\t\t\t<no2Value>0.018</no2Value>\n",
      "\t\t\t\t\t<pm10Value>27</pm10Value>\n",
      "\t\t\t\t\t\n",
      "                        <pm10Value24>25</pm10Value24>\n",
      "                    \n",
      "\t\t\t\t\t\n",
      "                        <pm25Value>11</pm25Value>\n",
      "                    \n",
      "                    \n",
      "                        <pm25Value24>16</pm25Value24>\n",
      "                    \n",
      "\t\t\t\t\t<khaiValue>51</khaiValue>\n",
      "\t\t\t\t\t<khaiGrade>2</khaiGrade>\n",
      "\t\t\t\t\t<so2Grade>1</so2Grade>\n",
      "\t\t\t\t\t<coGrade>1</coGrade>\n",
      "\t\t\t\t\t<o3Grade>1</o3Grade>\n",
      "\t\t\t\t\t<no2Grade>1</no2Grade>\n",
      "\t\t\t\t\t<pm10Grade>1</pm10Grade>\n",
      "\t\t\t\t\t\n",
      "                        <pm25Grade>2</pm25Grade>\n",
      "                    \n",
      "                    \n",
      "                        <pm10Grade1h>1</pm10Grade1h>\n",
      "                        <pm25Grade1h>1</pm25Grade1h>\n",
      "                    \n",
      "\t\t\t\t</item>\n",
      "\t\t\t\n",
      "\t\t</items>\n",
      "\t\t\t<numOfRows>10</numOfRows>\n",
      "\t\t\t<pageNo>1</pageNo>\n",
      "\t\t\t<totalCount>23</totalCount>\n",
      "\t</body>\n",
      "</response>\n"
     ]
    }
   ],
   "source": [
    "etree.dump(xml)"
   ]
  },
  {
   "cell_type": "code",
   "execution_count": 17,
   "metadata": {},
   "outputs": [],
   "source": [
    "xmlTree=etree.ElementTree(xml)#자료검색을 위한 트리를 만든다"
   ]
  },
  {
   "cell_type": "code",
   "execution_count": 18,
   "metadata": {},
   "outputs": [
    {
     "data": {
      "text/plain": [
       "lxml.etree._ElementTree"
      ]
     },
     "execution_count": 18,
     "metadata": {},
     "output_type": "execute_result"
    }
   ],
   "source": [
    "type(xmlTree)"
   ]
  },
  {
   "cell_type": "code",
   "execution_count": 19,
   "metadata": {},
   "outputs": [
    {
     "data": {
      "text/plain": [
       "lxml.etree._Element"
      ]
     },
     "execution_count": 19,
     "metadata": {},
     "output_type": "execute_result"
    }
   ],
   "source": [
    "type(xml)"
   ]
  },
  {
   "cell_type": "code",
   "execution_count": 20,
   "metadata": {},
   "outputs": [],
   "source": [
    "root=xmlTree.getroot()#루트노드 설정"
   ]
  },
  {
   "cell_type": "code",
   "execution_count": 21,
   "metadata": {},
   "outputs": [
    {
     "data": {
      "text/plain": [
       "lxml.etree._Element"
      ]
     },
     "execution_count": 21,
     "metadata": {},
     "output_type": "execute_result"
    }
   ],
   "source": [
    "type(root)"
   ]
  },
  {
   "cell_type": "code",
   "execution_count": 23,
   "metadata": {},
   "outputs": [],
   "source": [
    "items=root.findall(\".//item\")#root에서 시작 #상대경로"
   ]
  },
  {
   "cell_type": "code",
   "execution_count": 24,
   "metadata": {},
   "outputs": [
    {
     "name": "stdout",
     "output_type": "stream",
     "text": [
      "10\n"
     ]
    }
   ],
   "source": [
    "print(len(items))"
   ]
  },
  {
   "cell_type": "code",
   "execution_count": 29,
   "metadata": {},
   "outputs": [
    {
     "name": "stdout",
     "output_type": "stream",
     "text": [
      "dataTime 2018-07-16 10:00\n",
      "mangName 도시대기\n",
      "so2Value 0.003\n",
      "coValue 0.5\n",
      "o3Value 0.009\n",
      "no2Value 0.024\n",
      "pm10Value 26\n",
      "pm10Value24 24\n",
      "pm25Value -\n",
      "pm25Value24 12\n",
      "khaiValue 40\n",
      "khaiGrade 1\n",
      "so2Grade 1\n",
      "coGrade 1\n",
      "o3Grade 1\n",
      "no2Grade 1\n",
      "pm10Grade 1\n",
      "pm25Grade 1\n",
      "pm10Grade1h 1\n",
      "pm25Grade1h None\n",
      "dataTime 2018-07-16 09:00\n",
      "mangName 도시대기\n",
      "so2Value 0.003\n",
      "coValue 0.5\n",
      "o3Value 0.007\n",
      "no2Value 0.023\n",
      "pm10Value 35\n",
      "pm10Value24 23\n",
      "pm25Value 11\n",
      "pm25Value24 12\n",
      "khaiValue 40\n",
      "khaiGrade 1\n",
      "so2Grade 1\n",
      "coGrade 1\n",
      "o3Grade 1\n",
      "no2Grade 1\n",
      "pm10Grade 1\n",
      "pm25Grade 1\n",
      "pm10Grade1h 2\n",
      "pm25Grade1h 1\n",
      "dataTime 2018-07-16 08:00\n",
      "mangName 도시대기\n",
      "so2Value 0.003\n",
      "coValue 0.5\n",
      "o3Value 0.004\n",
      "no2Value 0.019\n",
      "pm10Value 23\n",
      "pm10Value24 20\n",
      "pm25Value 12\n",
      "pm25Value24 12\n",
      "khaiValue 40\n",
      "khaiGrade 1\n",
      "so2Grade 1\n",
      "coGrade 1\n",
      "o3Grade 1\n",
      "no2Grade 1\n",
      "pm10Grade 1\n",
      "pm25Grade 1\n",
      "pm10Grade1h 1\n",
      "pm25Grade1h 1\n",
      "dataTime 2018-07-16 07:00\n",
      "mangName 도시대기\n",
      "so2Value 0.002\n",
      "coValue 0.6\n",
      "o3Value 0.003\n",
      "no2Value 0.016\n",
      "pm10Value 17\n",
      "pm10Value24 20\n",
      "pm25Value 14\n",
      "pm25Value24 12\n",
      "khaiValue 40\n",
      "khaiGrade 1\n",
      "so2Grade 1\n",
      "coGrade 1\n",
      "o3Grade 1\n",
      "no2Grade 1\n",
      "pm10Grade 1\n",
      "pm25Grade 1\n",
      "pm10Grade1h 1\n",
      "pm25Grade1h 1\n",
      "dataTime 2018-07-16 06:00\n",
      "mangName 도시대기\n",
      "so2Value 0.002\n",
      "coValue 0.4\n",
      "o3Value 0.003\n",
      "no2Value 0.013\n",
      "pm10Value 22\n",
      "pm10Value24 21\n",
      "pm25Value 8\n",
      "pm25Value24 13\n",
      "khaiValue 43\n",
      "khaiGrade 1\n",
      "so2Grade 1\n",
      "coGrade 1\n",
      "o3Grade 1\n",
      "no2Grade 1\n",
      "pm10Grade 1\n",
      "pm25Grade 1\n",
      "pm10Grade1h 1\n",
      "pm25Grade1h 1\n",
      "dataTime 2018-07-16 05:00\n",
      "mangName 도시대기\n",
      "so2Value 0.002\n",
      "coValue 0.4\n",
      "o3Value 0.006\n",
      "no2Value 0.008\n",
      "pm10Value 19\n",
      "pm10Value24 21\n",
      "pm25Value 11\n",
      "pm25Value24 14\n",
      "khaiValue 47\n",
      "khaiGrade 1\n",
      "so2Grade 1\n",
      "coGrade 1\n",
      "o3Grade 1\n",
      "no2Grade 1\n",
      "pm10Grade 1\n",
      "pm25Grade 1\n",
      "pm10Grade1h 1\n",
      "pm25Grade1h 1\n",
      "dataTime 2018-07-16 04:00\n",
      "mangName 도시대기\n",
      "so2Value 0.002\n",
      "coValue 0.4\n",
      "o3Value 0.007\n",
      "no2Value 0.009\n",
      "pm10Value 16\n",
      "pm10Value24 23\n",
      "pm25Value 10\n",
      "pm25Value24 14\n",
      "khaiValue 47\n",
      "khaiGrade 1\n",
      "so2Grade 1\n",
      "coGrade 1\n",
      "o3Grade 1\n",
      "no2Grade 1\n",
      "pm10Grade 1\n",
      "pm25Grade 1\n",
      "pm10Grade1h 1\n",
      "pm25Grade1h 1\n",
      "dataTime 2018-07-16 03:00\n",
      "mangName 도시대기\n",
      "so2Value 0.003\n",
      "coValue 0.4\n",
      "o3Value 0.006\n",
      "no2Value 0.012\n",
      "pm10Value 23\n",
      "pm10Value24 25\n",
      "pm25Value 15\n",
      "pm25Value24 16\n",
      "khaiValue 51\n",
      "khaiGrade 2\n",
      "so2Grade 1\n",
      "coGrade 1\n",
      "o3Grade 1\n",
      "no2Grade 1\n",
      "pm10Grade 1\n",
      "pm25Grade 2\n",
      "pm10Grade1h 1\n",
      "pm25Grade1h 1\n",
      "dataTime 2018-07-16 02:00\n",
      "mangName 도시대기\n",
      "so2Value 0.002\n",
      "coValue 0.4\n",
      "o3Value 0.006\n",
      "no2Value 0.014\n",
      "pm10Value 21\n",
      "pm10Value24 26\n",
      "pm25Value 13\n",
      "pm25Value24 16\n",
      "khaiValue 51\n",
      "khaiGrade 2\n",
      "so2Grade 1\n",
      "coGrade 1\n",
      "o3Grade 1\n",
      "no2Grade 1\n",
      "pm10Grade 1\n",
      "pm25Grade 2\n",
      "pm10Grade1h 1\n",
      "pm25Grade1h 1\n",
      "dataTime 2018-07-16 01:00\n",
      "mangName 도시대기\n",
      "so2Value 0.003\n",
      "coValue 0.4\n",
      "o3Value 0.006\n",
      "no2Value 0.018\n",
      "pm10Value 27\n",
      "pm10Value24 25\n",
      "pm25Value 11\n",
      "pm25Value24 16\n",
      "khaiValue 51\n",
      "khaiGrade 2\n",
      "so2Grade 1\n",
      "coGrade 1\n",
      "o3Grade 1\n",
      "no2Grade 1\n",
      "pm10Grade 1\n",
      "pm25Grade 2\n",
      "pm10Grade1h 1\n",
      "pm25Grade1h 1\n"
     ]
    }
   ],
   "source": [
    "for item in items:\n",
    "    #print(len(item))#item당 20개의 요소들이 들어있음\n",
    "    for i in range(0,20):\n",
    "        print(item[i].tag, item[i].text)#태그(키)와 value들"
   ]
  },
  {
   "cell_type": "code",
   "execution_count": 31,
   "metadata": {},
   "outputs": [],
   "source": [
    "pm10List=root.findall(\".//item/pm10Value\")#item태그 밑에서 pm10Value태그를 찾는다"
   ]
  },
  {
   "cell_type": "code",
   "execution_count": 32,
   "metadata": {},
   "outputs": [
    {
     "name": "stdout",
     "output_type": "stream",
     "text": [
      "pm10Value 26\n",
      "pm10Value 35\n",
      "pm10Value 23\n",
      "pm10Value 17\n",
      "pm10Value 22\n",
      "pm10Value 19\n",
      "pm10Value 16\n",
      "pm10Value 23\n",
      "pm10Value 21\n",
      "pm10Value 27\n"
     ]
    }
   ],
   "source": [
    "for row in pm10List:\n",
    "    print(row.tag, row.text)"
   ]
  },
  {
   "cell_type": "code",
   "execution_count": 35,
   "metadata": {},
   "outputs": [
    {
     "name": "stdout",
     "output_type": "stream",
     "text": [
      "Collecting cssselect\n",
      "  Downloading https://files.pythonhosted.org/packages/7b/44/25b7283e50585f0b4156960691d951b05d061abf4a714078393e51929b30/cssselect-1.0.3-py2.py3-none-any.whl\n",
      "Installing collected packages: cssselect\n",
      "Successfully installed cssselect-1.0.3\n"
     ]
    },
    {
     "name": "stderr",
     "output_type": "stream",
     "text": [
      "distributed 1.21.8 requires msgpack, which is not installed.\n"
     ]
    }
   ],
   "source": [
    "!pip install cssselect"
   ]
  },
  {
   "cell_type": "code",
   "execution_count": 37,
   "metadata": {},
   "outputs": [],
   "source": [
    "items=xml.cssselect(\"item\")"
   ]
  },
  {
   "cell_type": "code",
   "execution_count": 40,
   "metadata": {},
   "outputs": [
    {
     "data": {
      "text/plain": [
       "list"
      ]
     },
     "execution_count": 40,
     "metadata": {},
     "output_type": "execute_result"
    }
   ],
   "source": [
    "type(items)"
   ]
  },
  {
   "cell_type": "code",
   "execution_count": 44,
   "metadata": {},
   "outputs": [],
   "source": [
    "pm10ValueList=xml.cssselect(\"item>pm10Value\")"
   ]
  },
  {
   "cell_type": "code",
   "execution_count": 45,
   "metadata": {},
   "outputs": [
    {
     "name": "stdout",
     "output_type": "stream",
     "text": [
      "pm10Value 26\n",
      "pm10Value 35\n",
      "pm10Value 23\n",
      "pm10Value 17\n",
      "pm10Value 22\n",
      "pm10Value 19\n",
      "pm10Value 16\n",
      "pm10Value 23\n",
      "pm10Value 21\n",
      "pm10Value 27\n"
     ]
    }
   ],
   "source": [
    "for row in pm10ValueList:\n",
    "    print(row.tag, row.text)"
   ]
  },
  {
   "cell_type": "code",
   "execution_count": 41,
   "metadata": {},
   "outputs": [
    {
     "name": "stdout",
     "output_type": "stream",
     "text": [
      "[<Element item at 0x5639488>, <Element item at 0x5639388>, <Element item at 0x5639688>, <Element item at 0x5639648>, <Element item at 0x5639408>, <Element item at 0x5639148>, <Element item at 0x5639848>, <Element item at 0x5639888>, <Element item at 0x56398c8>, <Element item at 0x5639908>]\n"
     ]
    }
   ],
   "source": [
    "print(items)"
   ]
  },
  {
   "cell_type": "code",
   "execution_count": null,
   "metadata": {},
   "outputs": [],
   "source": []
  }
 ],
 "metadata": {
  "kernelspec": {
   "display_name": "Python 3",
   "language": "python",
   "name": "python3"
  },
  "language_info": {
   "codemirror_mode": {
    "name": "ipython",
    "version": 3
   },
   "file_extension": ".py",
   "mimetype": "text/x-python",
   "name": "python",
   "nbconvert_exporter": "python",
   "pygments_lexer": "ipython3",
   "version": "3.6.5"
  }
 },
 "nbformat": 4,
 "nbformat_minor": 2
}
