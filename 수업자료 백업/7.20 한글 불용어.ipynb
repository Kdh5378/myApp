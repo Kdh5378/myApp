{
 "cells": [
  {
   "cell_type": "code",
   "execution_count": 23,
   "metadata": {},
   "outputs": [],
   "source": [
    "from konlpy.tag import Kkma\n",
    "import konlpy\n",
    "import re"
   ]
  },
  {
   "cell_type": "code",
   "execution_count": 4,
   "metadata": {},
   "outputs": [],
   "source": [
    "stopwords=[\"시발\",\"씨발\"]\n",
    "\n",
    "srcString=\"시발련아^^\""
   ]
  },
  {
   "cell_type": "markdown",
   "metadata": {},
   "source": [
    "#### 제일 간단한 욕설처리기"
   ]
  },
  {
   "cell_type": "code",
   "execution_count": 5,
   "metadata": {},
   "outputs": [
    {
     "name": "stdout",
     "output_type": "stream",
     "text": [
      "시발련\n",
      "아\n",
      "^^\n"
     ]
    }
   ],
   "source": [
    "for src in Kkma().morphs(srcString):\n",
    "    if src not in stopwords:\n",
    "        print(src)"
   ]
  },
  {
   "cell_type": "markdown",
   "metadata": {},
   "source": [
    "#### 다음"
   ]
  },
  {
   "cell_type": "code",
   "execution_count": 11,
   "metadata": {},
   "outputs": [],
   "source": [
    "def ngram(src,n=2):\n",
    "    rst=[]\n",
    "    \n",
    "    for i in range(len(src)):\n",
    "        rst.append(src[i:i+n])\n",
    "        \n",
    "    return rst"
   ]
  },
  {
   "cell_type": "code",
   "execution_count": 19,
   "metadata": {},
   "outputs": [
    {
     "name": "stdout",
     "output_type": "stream",
     "text": [
      "아\n",
      "^^\n"
     ]
    }
   ],
   "source": [
    "for src in Kkma().morphs(srcString):\n",
    "    isStop=False\n",
    "    \n",
    "    for temp in ngram(src):\n",
    "        if temp in stopwords:\n",
    "            isStop=True\n",
    "            \n",
    "    if not isStop:\n",
    "        print(src)"
   ]
  },
  {
   "cell_type": "code",
   "execution_count": 27,
   "metadata": {},
   "outputs": [
    {
     "name": "stdout",
     "output_type": "stream",
     "text": [
      "바른말고운말을씁시다\n"
     ]
    }
   ],
   "source": [
    "srcString=\"시발련아^^ 시~발련아^^ 바른말고운말을씁시다\"\n",
    "\n",
    "for src in srcString.split():\n",
    "    src=re.sub(\"[^ㄱ-하-ㅣ가-힣]\",\"\",src)\n",
    "    \n",
    "    isStop=False\n",
    "    \n",
    "    for temp in ngram(src, 2):\n",
    "        if temp in stopwords:\n",
    "            isStop=True\n",
    "            \n",
    "    if not isStop:\n",
    "        print(src)"
   ]
  },
  {
   "cell_type": "code",
   "execution_count": null,
   "metadata": {},
   "outputs": [],
   "source": []
  }
 ],
 "metadata": {
  "kernelspec": {
   "display_name": "Python 3",
   "language": "python",
   "name": "python3"
  },
  "language_info": {
   "codemirror_mode": {
    "name": "ipython",
    "version": 3
   },
   "file_extension": ".py",
   "mimetype": "text/x-python",
   "name": "python",
   "nbconvert_exporter": "python",
   "pygments_lexer": "ipython3",
   "version": "3.6.5"
  }
 },
 "nbformat": 4,
 "nbformat_minor": 2
}
