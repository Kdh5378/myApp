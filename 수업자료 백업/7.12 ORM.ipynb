{
 "cells": [
  {
   "cell_type": "code",
   "execution_count": 1,
   "metadata": {},
   "outputs": [],
   "source": [
    "from sqlalchemy import create_engine"
   ]
  },
  {
   "cell_type": "code",
   "execution_count": 48,
   "metadata": {},
   "outputs": [],
   "source": [
    "engine=create_engine(\"sqlite:///orm2.db\",echo=True)#엔진에서 물고만있다 #base와 engine은 main함수와 같은 역할"
   ]
  },
  {
   "cell_type": "code",
   "execution_count": 3,
   "metadata": {},
   "outputs": [],
   "source": [
    "from sqlalchemy.ext.declarative import declarative_base"
   ]
  },
  {
   "cell_type": "code",
   "execution_count": 4,
   "metadata": {},
   "outputs": [],
   "source": [
    "from sqlalchemy.ext.automap import automap_base"
   ]
  },
  {
   "cell_type": "code",
   "execution_count": 5,
   "metadata": {},
   "outputs": [],
   "source": [
    "from sqlalchemy.ext.declarative import declarative_base\n",
    "Base=declarative_base()"
   ]
  },
  {
   "cell_type": "code",
   "execution_count": 38,
   "metadata": {},
   "outputs": [],
   "source": [
    "#Base=automap_base()"
   ]
  },
  {
   "cell_type": "code",
   "execution_count": 39,
   "metadata": {
    "scrolled": true
   },
   "outputs": [
    {
     "name": "stdout",
     "output_type": "stream",
     "text": [
      "2018-07-12 10:36:26,369 INFO sqlalchemy.engine.base.Engine SELECT CAST('test plain returns' AS VARCHAR(60)) AS anon_1\n",
      "2018-07-12 10:36:26,371 INFO sqlalchemy.engine.base.Engine ()\n",
      "2018-07-12 10:36:26,374 INFO sqlalchemy.engine.base.Engine SELECT CAST('test unicode returns' AS VARCHAR(60)) AS anon_1\n",
      "2018-07-12 10:36:26,377 INFO sqlalchemy.engine.base.Engine ()\n",
      "2018-07-12 10:36:26,380 INFO sqlalchemy.engine.base.Engine SELECT name FROM sqlite_master WHERE type='table' ORDER BY name\n",
      "2018-07-12 10:36:26,383 INFO sqlalchemy.engine.base.Engine ()\n"
     ]
    }
   ],
   "source": [
    "#Base.prepare(engine, reflect=True)#엔진 반영(불러오기)"
   ]
  },
  {
   "cell_type": "code",
   "execution_count": 6,
   "metadata": {},
   "outputs": [],
   "source": [
    "from sqlalchemy.orm import sessionmaker"
   ]
  },
  {
   "cell_type": "code",
   "execution_count": 7,
   "metadata": {},
   "outputs": [],
   "source": [
    "from sqlalchemy import Column, Integer, String, ForeignKey"
   ]
  },
  {
   "cell_type": "code",
   "execution_count": 8,
   "metadata": {},
   "outputs": [],
   "source": [
    "Session=sessionmaker(bind=engine)"
   ]
  },
  {
   "cell_type": "code",
   "execution_count": 9,
   "metadata": {},
   "outputs": [],
   "source": [
    "session = Session()"
   ]
  },
  {
   "cell_type": "code",
   "execution_count": 10,
   "metadata": {},
   "outputs": [],
   "source": [
    "from sqlalchemy.orm import relationship"
   ]
  },
  {
   "cell_type": "code",
   "execution_count": 11,
   "metadata": {},
   "outputs": [],
   "source": [
    "class Artist(Base):\n",
    "    __tablename__='artist'\n",
    "    id=Column(Integer, primary_key=True)\n",
    "    name=Column(String)\n",
    "    album=relationship(\"Album\", back_populates=\"artist\")\n",
    "    #Album클래스에서 artist어트리뷰를 따라가면 여기에 온다\n",
    "    \n",
    "    def __repr__(self):\n",
    "        return \"<T'artist(name='%s')>\" %(self.name)\n",
    "    \n",
    "class Album(Base):\n",
    "    __tablename__='album'\n",
    "    id=Column(Integer, primary_key=True)\n",
    "    title=Column(String)\n",
    "    title_id=Column(Integer, ForeignKey(\"artist.id\"))\n",
    "    artist=relationship(\"Artist\", back_populates=\"album\", uselist=False)#1:n의관계 리스트를 안쓴다\n",
    "    #Artist클래스에서 album어트리뷰트가 이 클래스와 연관되어있다 uselist는 리스트 안씀 즉 1개만 가능(앨범 하나가 여러 아티스트 연결 불가)\n",
    "    \n",
    "class Genre(Base):\n",
    "    __tablename__='genre'\n",
    "    id=Column(Integer, primary_key=True)\n",
    "    name=Column(String)\n",
    "    \n",
    "class Track(Base):\n",
    "    __tablename__='track'\n",
    "    id=Column(Integer, primary_key=True)\n",
    "    title=Column(String)\n",
    "    album_id=Column(Integer, ForeignKey(\"album.title\"))\n",
    "    genre_id=Column(Integer, ForeignKey(\"genre.id\"))"
   ]
  },
  {
   "cell_type": "code",
   "execution_count": 43,
   "metadata": {},
   "outputs": [
    {
     "name": "stdout",
     "output_type": "stream",
     "text": [
      "2018-07-12 11:37:46,254 INFO sqlalchemy.engine.base.Engine PRAGMA table_info(\"artist\")\n",
      "2018-07-12 11:37:46,256 INFO sqlalchemy.engine.base.Engine ()\n",
      "2018-07-12 11:37:46,260 INFO sqlalchemy.engine.base.Engine PRAGMA table_info(\"album\")\n",
      "2018-07-12 11:37:46,263 INFO sqlalchemy.engine.base.Engine ()\n",
      "2018-07-12 11:37:46,266 INFO sqlalchemy.engine.base.Engine PRAGMA table_info(\"genre\")\n",
      "2018-07-12 11:37:46,268 INFO sqlalchemy.engine.base.Engine ()\n",
      "2018-07-12 11:37:46,271 INFO sqlalchemy.engine.base.Engine PRAGMA table_info(\"track\")\n",
      "2018-07-12 11:37:46,273 INFO sqlalchemy.engine.base.Engine ()\n"
     ]
    }
   ],
   "source": [
    "Base.metadata.create_all(engine)#Base가 테이블에 대해서 상속받는다 #metadata는 데이터에 대한 데이터 #engine을 사용해서 메타데이터 정의"
   ]
  },
  {
   "cell_type": "code",
   "execution_count": 12,
   "metadata": {},
   "outputs": [],
   "source": [
    "artist1=Artist(name=\"Led zepplin\")\n",
    "artist2=Artist(name=\"AC/DC\")"
   ]
  },
  {
   "cell_type": "code",
   "execution_count": 13,
   "metadata": {},
   "outputs": [],
   "source": [
    "artist1.album=[Album(title=\"IV\"), Album(title=\"Who Made Who\")]"
   ]
  },
  {
   "cell_type": "code",
   "execution_count": 14,
   "metadata": {},
   "outputs": [],
   "source": [
    "from sqlalchemy.orm import sessionmaker"
   ]
  },
  {
   "cell_type": "code",
   "execution_count": 15,
   "metadata": {},
   "outputs": [],
   "source": [
    "Session = sessionmaker(bind=engine)"
   ]
  },
  {
   "cell_type": "code",
   "execution_count": 16,
   "metadata": {},
   "outputs": [],
   "source": [
    "session = Session()"
   ]
  },
  {
   "cell_type": "code",
   "execution_count": 41,
   "metadata": {
    "scrolled": true
   },
   "outputs": [],
   "source": [
    "session.add(artist1)"
   ]
  },
  {
   "cell_type": "code",
   "execution_count": 18,
   "metadata": {},
   "outputs": [
    {
     "name": "stdout",
     "output_type": "stream",
     "text": [
      "None Led zepplin None\n"
     ]
    }
   ],
   "source": [
    "print(artist1.id, artist1.name, artist1.album[0].id)"
   ]
  },
  {
   "cell_type": "code",
   "execution_count": 30,
   "metadata": {},
   "outputs": [],
   "source": [
    "artist1.album[0].title='IV'"
   ]
  },
  {
   "cell_type": "code",
   "execution_count": 31,
   "metadata": {},
   "outputs": [
    {
     "name": "stdout",
     "output_type": "stream",
     "text": [
      "IV\n"
     ]
    }
   ],
   "source": [
    "print(artist1.album[0].title)"
   ]
  },
  {
   "cell_type": "code",
   "execution_count": 26,
   "metadata": {
    "scrolled": true
   },
   "outputs": [
    {
     "data": {
      "text/plain": [
       "IdentitySet([])"
      ]
     },
     "execution_count": 26,
     "metadata": {},
     "output_type": "execute_result"
    }
   ],
   "source": [
    "session.dirty"
   ]
  },
  {
   "cell_type": "code",
   "execution_count": 47,
   "metadata": {},
   "outputs": [],
   "source": [
    "session.commit()"
   ]
  },
  {
   "cell_type": "code",
   "execution_count": null,
   "metadata": {},
   "outputs": [],
   "source": []
  }
 ],
 "metadata": {
  "kernelspec": {
   "display_name": "Python 3",
   "language": "python",
   "name": "python3"
  },
  "language_info": {
   "codemirror_mode": {
    "name": "ipython",
    "version": 3
   },
   "file_extension": ".py",
   "mimetype": "text/x-python",
   "name": "python",
   "nbconvert_exporter": "python",
   "pygments_lexer": "ipython3",
   "version": "3.6.5"
  }
 },
 "nbformat": 4,
 "nbformat_minor": 2
}
