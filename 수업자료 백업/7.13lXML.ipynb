{
 "cells": [
  {
   "cell_type": "code",
   "execution_count": 4,
   "metadata": {},
   "outputs": [],
   "source": [
    "from lxml import etree"
   ]
  },
  {
   "cell_type": "code",
   "execution_count": 5,
   "metadata": {},
   "outputs": [
    {
     "data": {
      "text/plain": [
       "['AncestorsIterator',\n",
       " 'AttributeBasedElementClassLookup',\n",
       " 'C14NError',\n",
       " 'CDATA',\n",
       " 'Comment',\n",
       " 'CommentBase',\n",
       " 'CustomElementClassLookup',\n",
       " 'DEBUG',\n",
       " 'DTD',\n",
       " 'DTDError',\n",
       " 'DTDParseError',\n",
       " 'DTDValidateError',\n",
       " 'DocInfo',\n",
       " 'DocumentInvalid',\n",
       " 'ETCompatXMLParser',\n",
       " 'ETXPath',\n",
       " 'Element',\n",
       " 'ElementBase',\n",
       " 'ElementChildIterator',\n",
       " 'ElementClassLookup',\n",
       " 'ElementDefaultClassLookup',\n",
       " 'ElementDepthFirstIterator',\n",
       " 'ElementNamespaceClassLookup',\n",
       " 'ElementTextIterator',\n",
       " 'ElementTree',\n",
       " 'Entity',\n",
       " 'EntityBase',\n",
       " 'Error',\n",
       " 'ErrorDomains',\n",
       " 'ErrorLevels',\n",
       " 'ErrorTypes',\n",
       " 'Extension',\n",
       " 'FallbackElementClassLookup',\n",
       " 'FunctionNamespace',\n",
       " 'HTML',\n",
       " 'HTMLParser',\n",
       " 'HTMLPullParser',\n",
       " 'LIBXML_COMPILED_VERSION',\n",
       " 'LIBXML_VERSION',\n",
       " 'LIBXSLT_COMPILED_VERSION',\n",
       " 'LIBXSLT_VERSION',\n",
       " 'LXML_VERSION',\n",
       " 'LxmlError',\n",
       " 'LxmlRegistryError',\n",
       " 'LxmlSyntaxError',\n",
       " 'NamespaceRegistryError',\n",
       " 'PI',\n",
       " 'PIBase',\n",
       " 'ParseError',\n",
       " 'ParserBasedElementClassLookup',\n",
       " 'ParserError',\n",
       " 'ProcessingInstruction',\n",
       " 'PyErrorLog',\n",
       " 'PythonElementClassLookup',\n",
       " 'QName',\n",
       " 'RelaxNG',\n",
       " 'RelaxNGError',\n",
       " 'RelaxNGErrorTypes',\n",
       " 'RelaxNGParseError',\n",
       " 'RelaxNGValidateError',\n",
       " 'Resolver',\n",
       " 'Schematron',\n",
       " 'SchematronError',\n",
       " 'SchematronParseError',\n",
       " 'SchematronValidateError',\n",
       " 'SerialisationError',\n",
       " 'SiblingsIterator',\n",
       " 'SubElement',\n",
       " 'TreeBuilder',\n",
       " 'XInclude',\n",
       " 'XIncludeError',\n",
       " 'XML',\n",
       " 'XMLDTDID',\n",
       " 'XMLID',\n",
       " 'XMLParser',\n",
       " 'XMLPullParser',\n",
       " 'XMLSchema',\n",
       " 'XMLSchemaError',\n",
       " 'XMLSchemaParseError',\n",
       " 'XMLSchemaValidateError',\n",
       " 'XMLSyntaxError',\n",
       " 'XMLTreeBuilder',\n",
       " 'XPath',\n",
       " 'XPathDocumentEvaluator',\n",
       " 'XPathElementEvaluator',\n",
       " 'XPathError',\n",
       " 'XPathEvalError',\n",
       " 'XPathEvaluator',\n",
       " 'XPathFunctionError',\n",
       " 'XPathResultError',\n",
       " 'XPathSyntaxError',\n",
       " 'XSLT',\n",
       " 'XSLTAccessControl',\n",
       " 'XSLTApplyError',\n",
       " 'XSLTError',\n",
       " 'XSLTExtension',\n",
       " 'XSLTExtensionError',\n",
       " 'XSLTParseError',\n",
       " 'XSLTSaveError',\n",
       " '_Attrib',\n",
       " '_BaseErrorLog',\n",
       " '_Comment',\n",
       " '_Document',\n",
       " '_DomainErrorLog',\n",
       " '_Element',\n",
       " '_ElementIterator',\n",
       " '_ElementMatchIterator',\n",
       " '_ElementStringResult',\n",
       " '_ElementTagMatcher',\n",
       " '_ElementTree',\n",
       " '_ElementUnicodeResult',\n",
       " '_Entity',\n",
       " '_ErrorLog',\n",
       " '_FeedParser',\n",
       " '_IDDict',\n",
       " '_ListErrorLog',\n",
       " '_LogEntry',\n",
       " '_ProcessingInstruction',\n",
       " '_RotatingErrorLog',\n",
       " '_SaxParserTarget',\n",
       " '_TargetParserResult',\n",
       " '_Validator',\n",
       " '_XPathEvaluatorBase',\n",
       " '_XSLTProcessingInstruction',\n",
       " '_XSLTResultTree',\n",
       " '__all__',\n",
       " '__builtins__',\n",
       " '__doc__',\n",
       " '__docformat__',\n",
       " '__file__',\n",
       " '__loader__',\n",
       " '__name__',\n",
       " '__package__',\n",
       " '__pyx_capi__',\n",
       " '__spec__',\n",
       " '__test__',\n",
       " '__version__',\n",
       " 'adopt_external_document',\n",
       " 'cleanup_namespaces',\n",
       " 'clear_error_log',\n",
       " 'dump',\n",
       " 'fromstring',\n",
       " 'fromstringlist',\n",
       " 'get_default_parser',\n",
       " 'htmlfile',\n",
       " 'iselement',\n",
       " 'iterparse',\n",
       " 'iterwalk',\n",
       " 'memory_debugger',\n",
       " 'parse',\n",
       " 'parseid',\n",
       " 'register_namespace',\n",
       " 'set_default_parser',\n",
       " 'set_element_class_lookup',\n",
       " 'strip_attributes',\n",
       " 'strip_elements',\n",
       " 'strip_tags',\n",
       " 'tostring',\n",
       " 'tostringlist',\n",
       " 'tounicode',\n",
       " 'use_global_python_log',\n",
       " 'xmlfile']"
      ]
     },
     "execution_count": 5,
     "metadata": {},
     "output_type": "execute_result"
    }
   ],
   "source": [
    "dir(etree)"
   ]
  },
  {
   "cell_type": "code",
   "execution_count": 6,
   "metadata": {},
   "outputs": [],
   "source": [
    "bookstore = etree.Element(\"bokstore\")#xml노드 생성"
   ]
  },
  {
   "cell_type": "code",
   "execution_count": 7,
   "metadata": {},
   "outputs": [],
   "source": [
    "book1 = etree.SubElement(bookstore, \"book\")"
   ]
  },
  {
   "cell_type": "code",
   "execution_count": 10,
   "metadata": {},
   "outputs": [],
   "source": [
    "book2 = etree.SubElement(bookstore, \"book\", attrib={\"category\":\"children\"})"
   ]
  },
  {
   "cell_type": "code",
   "execution_count": 12,
   "metadata": {},
   "outputs": [],
   "source": [
    "book1.attrib[\"category\"]=\"cooking\""
   ]
  },
  {
   "cell_type": "code",
   "execution_count": 13,
   "metadata": {},
   "outputs": [
    {
     "name": "stdout",
     "output_type": "stream",
     "text": [
      "<Element bokstore at 0x4e10548>\n"
     ]
    }
   ],
   "source": [
    "print(bookstore)"
   ]
  },
  {
   "cell_type": "code",
   "execution_count": 17,
   "metadata": {},
   "outputs": [
    {
     "name": "stdout",
     "output_type": "stream",
     "text": [
      "<bokstore>\n",
      "  <book category=\"cooking\"/>\n",
      "  <book category=\"children\"/>\n",
      "</bokstore>\n"
     ]
    }
   ],
   "source": [
    "etree.dump(bookstore)"
   ]
  },
  {
   "cell_type": "code",
   "execution_count": 18,
   "metadata": {},
   "outputs": [],
   "source": [
    "title1=etree.Element(\"title\")"
   ]
  },
  {
   "cell_type": "code",
   "execution_count": 19,
   "metadata": {},
   "outputs": [],
   "source": [
    "title1.text=\"Harry Potter\""
   ]
  },
  {
   "cell_type": "code",
   "execution_count": 20,
   "metadata": {},
   "outputs": [
    {
     "name": "stdout",
     "output_type": "stream",
     "text": [
      "<title>Harry Potter</title>\n"
     ]
    }
   ],
   "source": [
    "etree.dump(title1)"
   ]
  },
  {
   "cell_type": "code",
   "execution_count": 21,
   "metadata": {},
   "outputs": [],
   "source": [
    "title1.attrib[\"lang\"]=\"en\""
   ]
  },
  {
   "cell_type": "code",
   "execution_count": 22,
   "metadata": {},
   "outputs": [
    {
     "name": "stdout",
     "output_type": "stream",
     "text": [
      "<title lang=\"en\">Harry Potter</title>\n"
     ]
    }
   ],
   "source": [
    "etree.dump(title1)"
   ]
  },
  {
   "cell_type": "code",
   "execution_count": 23,
   "metadata": {},
   "outputs": [],
   "source": [
    "book2.append(title1)"
   ]
  },
  {
   "cell_type": "code",
   "execution_count": 24,
   "metadata": {},
   "outputs": [
    {
     "name": "stdout",
     "output_type": "stream",
     "text": [
      "<bokstore>\n",
      "  <book category=\"cooking\"/>\n",
      "  <book category=\"children\">\n",
      "    <title lang=\"en\">Harry Potter</title>\n",
      "  </book>\n",
      "</bokstore>\n"
     ]
    }
   ],
   "source": [
    "etree.dump(bookstore)"
   ]
  },
  {
   "cell_type": "code",
   "execution_count": 26,
   "metadata": {},
   "outputs": [
    {
     "data": {
      "text/plain": [
       "<Element title at 0x4e13fc8>"
      ]
     },
     "execution_count": 26,
     "metadata": {},
     "output_type": "execute_result"
    }
   ],
   "source": [
    "etree.SubElement(book1, \"title\", attrib={\"lang\":title1.attrib.get(\"lang\")})"
   ]
  },
  {
   "cell_type": "code",
   "execution_count": 27,
   "metadata": {},
   "outputs": [
    {
     "name": "stdout",
     "output_type": "stream",
     "text": [
      "<bokstore>\n",
      "  <book category=\"cooking\">\n",
      "    <title lang=\"en\"/>\n",
      "  </book>\n",
      "  <book category=\"children\">\n",
      "    <title lang=\"en\">Harry Potter</title>\n",
      "  </book>\n",
      "</bokstore>\n"
     ]
    }
   ],
   "source": [
    "etree.dump(bookstore)"
   ]
  },
  {
   "cell_type": "code",
   "execution_count": 31,
   "metadata": {},
   "outputs": [],
   "source": [
    "xmlByte=etree.tostring(bookstore,xml_declaration=True)"
   ]
  },
  {
   "cell_type": "code",
   "execution_count": 32,
   "metadata": {
    "scrolled": true
   },
   "outputs": [
    {
     "data": {
      "text/plain": [
       "bytes"
      ]
     },
     "execution_count": 32,
     "metadata": {},
     "output_type": "execute_result"
    }
   ],
   "source": [
    "type(xmlByte)"
   ]
  },
  {
   "cell_type": "code",
   "execution_count": 33,
   "metadata": {
    "scrolled": false
   },
   "outputs": [
    {
     "name": "stdout",
     "output_type": "stream",
     "text": [
      "b'<?xml version=\\'1.0\\' encoding=\\'ASCII\\'?>\\n<bokstore><book category=\"cooking\"><title lang=\"en\"/></book><book category=\"children\"><title lang=\"en\">Harry Potter</title></book></bokstore>'\n"
     ]
    }
   ],
   "source": [
    "print(xmlByte)"
   ]
  },
  {
   "cell_type": "code",
   "execution_count": 35,
   "metadata": {},
   "outputs": [],
   "source": [
    "temp=etree.fromstring(xmlByte)"
   ]
  },
  {
   "cell_type": "code",
   "execution_count": 36,
   "metadata": {},
   "outputs": [
    {
     "name": "stdout",
     "output_type": "stream",
     "text": [
      "<bokstore>\n",
      "  <book category=\"cooking\">\n",
      "    <title lang=\"en\"/>\n",
      "  </book>\n",
      "  <book category=\"children\">\n",
      "    <title lang=\"en\">Harry Potter</title>\n",
      "  </book>\n",
      "</bokstore>\n"
     ]
    }
   ],
   "source": [
    "etree.dump(temp)"
   ]
  },
  {
   "cell_type": "code",
   "execution_count": 37,
   "metadata": {},
   "outputs": [],
   "source": [
    "tree=etree.ElementTree(temp)"
   ]
  },
  {
   "cell_type": "code",
   "execution_count": 38,
   "metadata": {},
   "outputs": [],
   "source": [
    "root=tree.getroot()"
   ]
  },
  {
   "cell_type": "code",
   "execution_count": 39,
   "metadata": {},
   "outputs": [
    {
     "data": {
      "text/plain": [
       "'bokstore'"
      ]
     },
     "execution_count": 39,
     "metadata": {},
     "output_type": "execute_result"
    }
   ],
   "source": [
    "root.tag"
   ]
  },
  {
   "cell_type": "code",
   "execution_count": 40,
   "metadata": {},
   "outputs": [
    {
     "name": "stdout",
     "output_type": "stream",
     "text": [
      "<bokstore>\n",
      "  <book category=\"cooking\">\n",
      "    <title lang=\"en\"/>\n",
      "  </book>\n",
      "  <book category=\"children\">\n",
      "    <title lang=\"en\">Harry Potter</title>\n",
      "  </book>\n",
      "</bokstore>\n"
     ]
    }
   ],
   "source": [
    "etree.dump(temp)"
   ]
  },
  {
   "cell_type": "code",
   "execution_count": 41,
   "metadata": {},
   "outputs": [
    {
     "data": {
      "text/plain": [
       "'1.0'"
      ]
     },
     "execution_count": 41,
     "metadata": {},
     "output_type": "execute_result"
    }
   ],
   "source": [
    "tree.docinfo.xml_version"
   ]
  },
  {
   "cell_type": "code",
   "execution_count": 42,
   "metadata": {},
   "outputs": [
    {
     "data": {
      "text/plain": [
       "'ASCII'"
      ]
     },
     "execution_count": 42,
     "metadata": {},
     "output_type": "execute_result"
    }
   ],
   "source": [
    "tree.docinfo.encoding"
   ]
  },
  {
   "cell_type": "code",
   "execution_count": 44,
   "metadata": {},
   "outputs": [
    {
     "name": "stdout",
     "output_type": "stream",
     "text": [
      "None\n"
     ]
    }
   ],
   "source": [
    "print(root.getparent())"
   ]
  },
  {
   "cell_type": "code",
   "execution_count": 45,
   "metadata": {},
   "outputs": [
    {
     "data": {
      "text/plain": [
       "[<Element book at 0x4e6d3c8>, <Element book at 0x4e6d548>]"
      ]
     },
     "execution_count": 45,
     "metadata": {},
     "output_type": "execute_result"
    }
   ],
   "source": [
    "root.getchildren()"
   ]
  },
  {
   "cell_type": "code",
   "execution_count": 50,
   "metadata": {},
   "outputs": [],
   "source": [
    "children=root.getchildren()"
   ]
  },
  {
   "cell_type": "code",
   "execution_count": 51,
   "metadata": {},
   "outputs": [
    {
     "data": {
      "text/plain": [
       "2"
      ]
     },
     "execution_count": 51,
     "metadata": {},
     "output_type": "execute_result"
    }
   ],
   "source": [
    "len(children)"
   ]
  },
  {
   "cell_type": "code",
   "execution_count": 52,
   "metadata": {},
   "outputs": [
    {
     "name": "stdout",
     "output_type": "stream",
     "text": [
      "book cooking\n",
      "book children\n"
     ]
    }
   ],
   "source": [
    "for child in children:\n",
    "    print(child.tag, child.get(\"category\"))"
   ]
  },
  {
   "cell_type": "code",
   "execution_count": 55,
   "metadata": {
    "scrolled": false
   },
   "outputs": [
    {
     "ename": "NameError",
     "evalue": "name 'apiTree' is not defined",
     "output_type": "error",
     "traceback": [
      "\u001b[1;31m---------------------------------------------------------------------------\u001b[0m",
      "\u001b[1;31mNameError\u001b[0m                                 Traceback (most recent call last)",
      "\u001b[1;32m<ipython-input-55-4f27cf552741>\u001b[0m in \u001b[0;36m<module>\u001b[1;34m()\u001b[0m\n\u001b[1;32m----> 1\u001b[1;33m \u001b[0metree\u001b[0m\u001b[1;33m.\u001b[0m\u001b[0mdump\u001b[0m\u001b[1;33m(\u001b[0m\u001b[0mapiTree\u001b[0m\u001b[1;33m)\u001b[0m\u001b[1;33m\u001b[0m\u001b[0m\n\u001b[0m",
      "\u001b[1;31mNameError\u001b[0m: name 'apiTree' is not defined"
     ]
    }
   ],
   "source": []
  },
  {
   "cell_type": "code",
   "execution_count": null,
   "metadata": {},
   "outputs": [],
   "source": [
    "etree.dump(apiTree)"
   ]
  }
 ],
 "metadata": {
  "kernelspec": {
   "display_name": "Python 3",
   "language": "python",
   "name": "python3"
  },
  "language_info": {
   "codemirror_mode": {
    "name": "ipython",
    "version": 3
   },
   "file_extension": ".py",
   "mimetype": "text/x-python",
   "name": "python",
   "nbconvert_exporter": "python",
   "pygments_lexer": "ipython3",
   "version": "3.6.5"
  }
 },
 "nbformat": 4,
 "nbformat_minor": 2
}
