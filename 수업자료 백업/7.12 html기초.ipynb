{
 "cells": [
  {
   "cell_type": "code",
   "execution_count": 50,
   "metadata": {},
   "outputs": [
    {
     "name": "stdout",
     "output_type": "stream",
     "text": [
      "Overwriting test.html\n"
     ]
    }
   ],
   "source": [
    "%%writefile test.html\n",
    "<!doctype html>\n",
    "<html lang=\"ko\">\n",
    "    <head>\n",
    "        <meta charset=\"UTF-8\"/>\n",
    "        <title>예제</title>\n",
    "        <meta name=\"viewpoint\" content=\"width=device-width, initial-scale=1.0\"/>\n",
    "        <meta name=\"keyword\" content=\"실습, 데이터 진흥원, 노잼\"/>\n",
    "        <script></script>\n",
    "        <style></style>\n",
    "    </head>\n",
    "\n",
    "    <body>\n",
    "        <ul>\n",
    "        <li><span style=\"color:red;\">첫</span><span style=\"color:blue;\">번</span><div style=\"color:magenta;\">째</div></li>\n",
    "        <li>2</li>\n",
    "        <li>3</li>\n",
    "        </ul>\n",
    "        <ol>\n",
    "        <li>1</li>\n",
    "        <li>2</li>\n",
    "        <li>3</li>\n",
    "        </ol>\n",
    "        <h1>첫번째 예제</h1>\n",
    "        <h2>첫번째 예제</h2>\n",
    "        <h3>첫번째 예제</h3>\n",
    "        <h4>첫번째 예제</h4>\n",
    "        <h5>첫번째 예제</h5>\n",
    "        <h6>첫번째 예제</h6>\n",
    "        <img src=\"\" width=\"403\" height=\"403\" usemap=\"#workmap\" /> \n",
    "        <map name=\"workmap\">\n",
    "                <area shape=\"rect\" coords=\"100,100,200,200\" alt=\"Computer\" href=\"http://issue.chosun.com/poll//data/image/solve/solve_30_20170728191124.jpg\">\n",
    "                <area shape=\"rect\" coords=\"0,0,100,100\" alt=\"Phone\" href=\"http://blog.jinbo.net/attach/615/200937431.jpg\">\n",
    "                <area shape=\"circle\" coords=\"400,400,100\" alt=\"Coffee\" href=\"http://pds.joins.com/news/component/htmlphoto_mmdata/201502/16/htm_20150216175457142.jpg\">\n",
    "        </map>\n",
    "        <section>\n",
    "            <article>\n",
    "                <h1>제목1</h1>\n",
    "                <p>내용1</p>\n",
    "            </article>\n",
    "            <article>\n",
    "            <h1>제목1</h1>\n",
    "            <a href=\"https://www.naver.com\", target=\"_blank\"/><img src=\"http://logoproject.naver.com/img/img_about.gif\"/><br/>\n",
    "            </article>\n",
    "        </section>\n",
    "    </body>\n",
    "</html>"
   ]
  },
  {
   "cell_type": "code",
   "execution_count": null,
   "metadata": {},
   "outputs": [],
   "source": []
  }
 ],
 "metadata": {
  "kernelspec": {
   "display_name": "Python 3",
   "language": "python",
   "name": "python3"
  },
  "language_info": {
   "codemirror_mode": {
    "name": "ipython",
    "version": 3
   },
   "file_extension": ".py",
   "mimetype": "text/x-python",
   "name": "python",
   "nbconvert_exporter": "python",
   "pygments_lexer": "ipython3",
   "version": "3.6.5"
  }
 },
 "nbformat": 4,
 "nbformat_minor": 2
}
