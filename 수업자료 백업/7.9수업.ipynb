{
 "cells": [
  {
   "cell_type": "code",
   "execution_count": 1,
   "metadata": {},
   "outputs": [],
   "source": [
    "import sqlite3"
   ]
  },
  {
   "cell_type": "code",
   "execution_count": 2,
   "metadata": {},
   "outputs": [
    {
     "data": {
      "text/plain": [
       "'2.6.0'"
      ]
     },
     "execution_count": 2,
     "metadata": {},
     "output_type": "execute_result"
    }
   ],
   "source": [
    "sqlite3.version"
   ]
  },
  {
   "cell_type": "code",
   "execution_count": 3,
   "metadata": {},
   "outputs": [
    {
     "data": {
      "text/plain": [
       "['Binary',\n",
       " 'Cache',\n",
       " 'Connection',\n",
       " 'Cursor',\n",
       " 'DataError',\n",
       " 'DatabaseError',\n",
       " 'Date',\n",
       " 'DateFromTicks',\n",
       " 'Error',\n",
       " 'IntegrityError',\n",
       " 'InterfaceError',\n",
       " 'InternalError',\n",
       " 'NotSupportedError',\n",
       " 'OperationalError',\n",
       " 'OptimizedUnicode',\n",
       " 'PARSE_COLNAMES',\n",
       " 'PARSE_DECLTYPES',\n",
       " 'PrepareProtocol',\n",
       " 'ProgrammingError',\n",
       " 'Row',\n",
       " 'SQLITE_ALTER_TABLE',\n",
       " 'SQLITE_ANALYZE',\n",
       " 'SQLITE_ATTACH',\n",
       " 'SQLITE_CREATE_INDEX',\n",
       " 'SQLITE_CREATE_TABLE',\n",
       " 'SQLITE_CREATE_TEMP_INDEX',\n",
       " 'SQLITE_CREATE_TEMP_TABLE',\n",
       " 'SQLITE_CREATE_TEMP_TRIGGER',\n",
       " 'SQLITE_CREATE_TEMP_VIEW',\n",
       " 'SQLITE_CREATE_TRIGGER',\n",
       " 'SQLITE_CREATE_VIEW',\n",
       " 'SQLITE_DELETE',\n",
       " 'SQLITE_DENY',\n",
       " 'SQLITE_DETACH',\n",
       " 'SQLITE_DROP_INDEX',\n",
       " 'SQLITE_DROP_TABLE',\n",
       " 'SQLITE_DROP_TEMP_INDEX',\n",
       " 'SQLITE_DROP_TEMP_TABLE',\n",
       " 'SQLITE_DROP_TEMP_TRIGGER',\n",
       " 'SQLITE_DROP_TEMP_VIEW',\n",
       " 'SQLITE_DROP_TRIGGER',\n",
       " 'SQLITE_DROP_VIEW',\n",
       " 'SQLITE_IGNORE',\n",
       " 'SQLITE_INSERT',\n",
       " 'SQLITE_OK',\n",
       " 'SQLITE_PRAGMA',\n",
       " 'SQLITE_READ',\n",
       " 'SQLITE_REINDEX',\n",
       " 'SQLITE_SELECT',\n",
       " 'SQLITE_TRANSACTION',\n",
       " 'SQLITE_UPDATE',\n",
       " 'Statement',\n",
       " 'Time',\n",
       " 'TimeFromTicks',\n",
       " 'Timestamp',\n",
       " 'TimestampFromTicks',\n",
       " 'Warning',\n",
       " '__builtins__',\n",
       " '__cached__',\n",
       " '__doc__',\n",
       " '__file__',\n",
       " '__loader__',\n",
       " '__name__',\n",
       " '__package__',\n",
       " '__path__',\n",
       " '__spec__',\n",
       " 'adapt',\n",
       " 'adapters',\n",
       " 'apilevel',\n",
       " 'collections',\n",
       " 'complete_statement',\n",
       " 'connect',\n",
       " 'converters',\n",
       " 'datetime',\n",
       " 'dbapi2',\n",
       " 'enable_callback_tracebacks',\n",
       " 'enable_shared_cache',\n",
       " 'paramstyle',\n",
       " 'register_adapter',\n",
       " 'register_converter',\n",
       " 'sqlite_version',\n",
       " 'sqlite_version_info',\n",
       " 'threadsafety',\n",
       " 'time',\n",
       " 'version',\n",
       " 'version_info']"
      ]
     },
     "execution_count": 3,
     "metadata": {},
     "output_type": "execute_result"
    }
   ],
   "source": [
    "dir(sqlite3)"
   ]
  },
  {
   "cell_type": "code",
   "execution_count": 5,
   "metadata": {},
   "outputs": [
    {
     "data": {
      "text/plain": [
       "(2, 6, 0)"
      ]
     },
     "execution_count": 5,
     "metadata": {},
     "output_type": "execute_result"
    }
   ],
   "source": [
    "sqlite3.version_info"
   ]
  },
  {
   "cell_type": "code",
   "execution_count": 7,
   "metadata": {},
   "outputs": [
    {
     "data": {
      "text/plain": [
       "'3.21.0'"
      ]
     },
     "execution_count": 7,
     "metadata": {},
     "output_type": "execute_result"
    }
   ],
   "source": [
    "sqlite3.sqlite_version"
   ]
  },
  {
   "cell_type": "code",
   "execution_count": 8,
   "metadata": {},
   "outputs": [],
   "source": [
    "conn=sqlite3.connect(':memory:')"
   ]
  },
  {
   "cell_type": "code",
   "execution_count": 9,
   "metadata": {},
   "outputs": [
    {
     "data": {
      "text/plain": [
       "['DataError',\n",
       " 'DatabaseError',\n",
       " 'Error',\n",
       " 'IntegrityError',\n",
       " 'InterfaceError',\n",
       " 'InternalError',\n",
       " 'NotSupportedError',\n",
       " 'OperationalError',\n",
       " 'ProgrammingError',\n",
       " 'Warning',\n",
       " '__call__',\n",
       " '__class__',\n",
       " '__delattr__',\n",
       " '__dir__',\n",
       " '__doc__',\n",
       " '__enter__',\n",
       " '__eq__',\n",
       " '__exit__',\n",
       " '__format__',\n",
       " '__ge__',\n",
       " '__getattribute__',\n",
       " '__gt__',\n",
       " '__hash__',\n",
       " '__init__',\n",
       " '__init_subclass__',\n",
       " '__le__',\n",
       " '__lt__',\n",
       " '__ne__',\n",
       " '__new__',\n",
       " '__reduce__',\n",
       " '__reduce_ex__',\n",
       " '__repr__',\n",
       " '__setattr__',\n",
       " '__sizeof__',\n",
       " '__str__',\n",
       " '__subclasshook__',\n",
       " 'close',\n",
       " 'commit',\n",
       " 'create_aggregate',\n",
       " 'create_collation',\n",
       " 'create_function',\n",
       " 'cursor',\n",
       " 'enable_load_extension',\n",
       " 'execute',\n",
       " 'executemany',\n",
       " 'executescript',\n",
       " 'in_transaction',\n",
       " 'interrupt',\n",
       " 'isolation_level',\n",
       " 'iterdump',\n",
       " 'load_extension',\n",
       " 'rollback',\n",
       " 'row_factory',\n",
       " 'set_authorizer',\n",
       " 'set_progress_handler',\n",
       " 'set_trace_callback',\n",
       " 'text_factory',\n",
       " 'total_changes']"
      ]
     },
     "execution_count": 9,
     "metadata": {},
     "output_type": "execute_result"
    }
   ],
   "source": [
    "dir(conn)"
   ]
  },
  {
   "cell_type": "code",
   "execution_count": 10,
   "metadata": {},
   "outputs": [
    {
     "data": {
      "text/plain": [
       "<sqlite3.Connection at 0x4641e30>"
      ]
     },
     "execution_count": 10,
     "metadata": {},
     "output_type": "execute_result"
    }
   ],
   "source": [
    "conn"
   ]
  },
  {
   "cell_type": "code",
   "execution_count": 11,
   "metadata": {},
   "outputs": [
    {
     "data": {
      "text/plain": [
       "sqlite3.Connection"
      ]
     },
     "execution_count": 11,
     "metadata": {},
     "output_type": "execute_result"
    }
   ],
   "source": [
    "type(conn)"
   ]
  },
  {
   "cell_type": "code",
   "execution_count": 12,
   "metadata": {},
   "outputs": [],
   "source": [
    "cur=conn.cursor()"
   ]
  },
  {
   "cell_type": "code",
   "execution_count": 13,
   "metadata": {},
   "outputs": [
    {
     "data": {
      "text/plain": [
       "sqlite3.Cursor"
      ]
     },
     "execution_count": 13,
     "metadata": {},
     "output_type": "execute_result"
    }
   ],
   "source": [
    "type(cur)"
   ]
  },
  {
   "cell_type": "code",
   "execution_count": 14,
   "metadata": {},
   "outputs": [
    {
     "data": {
      "text/plain": [
       "['__class__',\n",
       " '__delattr__',\n",
       " '__dir__',\n",
       " '__doc__',\n",
       " '__eq__',\n",
       " '__format__',\n",
       " '__ge__',\n",
       " '__getattribute__',\n",
       " '__gt__',\n",
       " '__hash__',\n",
       " '__init__',\n",
       " '__init_subclass__',\n",
       " '__iter__',\n",
       " '__le__',\n",
       " '__lt__',\n",
       " '__ne__',\n",
       " '__new__',\n",
       " '__next__',\n",
       " '__reduce__',\n",
       " '__reduce_ex__',\n",
       " '__repr__',\n",
       " '__setattr__',\n",
       " '__sizeof__',\n",
       " '__str__',\n",
       " '__subclasshook__',\n",
       " 'arraysize',\n",
       " 'close',\n",
       " 'connection',\n",
       " 'description',\n",
       " 'execute',\n",
       " 'executemany',\n",
       " 'executescript',\n",
       " 'fetchall',\n",
       " 'fetchmany',\n",
       " 'fetchone',\n",
       " 'lastrowid',\n",
       " 'row_factory',\n",
       " 'rowcount',\n",
       " 'setinputsizes',\n",
       " 'setoutputsize']"
      ]
     },
     "execution_count": 14,
     "metadata": {},
     "output_type": "execute_result"
    }
   ],
   "source": [
    "dir(cur)"
   ]
  },
  {
   "cell_type": "code",
   "execution_count": 15,
   "metadata": {},
   "outputs": [
    {
     "data": {
      "text/plain": [
       "<sqlite3.Cursor at 0x4c77c00>"
      ]
     },
     "execution_count": 15,
     "metadata": {},
     "output_type": "execute_result"
    }
   ],
   "source": [
    "cur.execute(\"create table people (name_last, age)\")"
   ]
  },
  {
   "cell_type": "code",
   "execution_count": 34,
   "metadata": {},
   "outputs": [],
   "source": [
    "who='한효주'\n",
    "age=32"
   ]
  },
  {
   "cell_type": "code",
   "execution_count": 35,
   "metadata": {},
   "outputs": [
    {
     "data": {
      "text/plain": [
       "<sqlite3.Cursor at 0x4c77c00>"
      ]
     },
     "execution_count": 35,
     "metadata": {},
     "output_type": "execute_result"
    }
   ],
   "source": [
    "cur.execute('insert into people values (?,?)',(who,age))"
   ]
  },
  {
   "cell_type": "code",
   "execution_count": 19,
   "metadata": {},
   "outputs": [
    {
     "data": {
      "text/plain": [
       "<sqlite3.Cursor at 0x4c77c00>"
      ]
     },
     "execution_count": 19,
     "metadata": {},
     "output_type": "execute_result"
    }
   ],
   "source": [
    "cur.execute(\"select * from people where name_last=:who and age=:age\", {'who':who,'age':age})"
   ]
  },
  {
   "cell_type": "code",
   "execution_count": 26,
   "metadata": {},
   "outputs": [
    {
     "name": "stdout",
     "output_type": "stream",
     "text": [
      "None\n"
     ]
    }
   ],
   "source": [
    "print(cur.fetchone())#하나씩 꺼내옴 while쓰면 다 꺼낼때까지 꺼낸다 # 다시하면 꺼낼게 없어서 안나온다"
   ]
  },
  {
   "cell_type": "code",
   "execution_count": 45,
   "metadata": {},
   "outputs": [],
   "source": [
    "who='한효주'\n",
    "age=32"
   ]
  },
  {
   "cell_type": "code",
   "execution_count": 46,
   "metadata": {
    "scrolled": true
   },
   "outputs": [
    {
     "data": {
      "text/plain": [
       "<sqlite3.Cursor at 0x4c77c00>"
      ]
     },
     "execution_count": 46,
     "metadata": {},
     "output_type": "execute_result"
    }
   ],
   "source": [
    "cur.execute('insert into people values (?,?)',(who,age))"
   ]
  },
  {
   "cell_type": "code",
   "execution_count": 47,
   "metadata": {},
   "outputs": [],
   "source": [
    "who='하연수'\n",
    "age=29"
   ]
  },
  {
   "cell_type": "code",
   "execution_count": 48,
   "metadata": {},
   "outputs": [
    {
     "data": {
      "text/plain": [
       "<sqlite3.Cursor at 0x4c77c00>"
      ]
     },
     "execution_count": 48,
     "metadata": {},
     "output_type": "execute_result"
    }
   ],
   "source": [
    "cur.execute('insert into people values (?,?)',(who,age))"
   ]
  },
  {
   "cell_type": "code",
   "execution_count": 49,
   "metadata": {},
   "outputs": [
    {
     "name": "stdout",
     "output_type": "stream",
     "text": [
      "None\n"
     ]
    }
   ],
   "source": [
    "print(cur.fetchone())"
   ]
  },
  {
   "cell_type": "code",
   "execution_count": 55,
   "metadata": {},
   "outputs": [],
   "source": [
    "sql='insert into people values (?,?)'\n",
    "curData=[('A',1),('B',2),('C',3)]"
   ]
  },
  {
   "cell_type": "code",
   "execution_count": 58,
   "metadata": {},
   "outputs": [
    {
     "data": {
      "text/plain": [
       "<sqlite3.Cursor at 0x4c77c00>"
      ]
     },
     "execution_count": 58,
     "metadata": {},
     "output_type": "execute_result"
    }
   ],
   "source": [
    "cur.executemany(sql,curData)"
   ]
  },
  {
   "cell_type": "code",
   "execution_count": 59,
   "metadata": {},
   "outputs": [
    {
     "data": {
      "text/plain": [
       "<sqlite3.Cursor at 0x4c77c00>"
      ]
     },
     "execution_count": 59,
     "metadata": {},
     "output_type": "execute_result"
    }
   ],
   "source": [
    "cur.executescript(\"\"\"\n",
    "create table person(\n",
    "first_name text primary key,\n",
    "last_name text not null);\n",
    "\n",
    "insert into person values('name', 'kim');\n",
    "\"\"\")"
   ]
  },
  {
   "cell_type": "code",
   "execution_count": 60,
   "metadata": {},
   "outputs": [
    {
     "name": "stdout",
     "output_type": "stream",
     "text": [
      "[('name', 'kim')]\n"
     ]
    }
   ],
   "source": [
    "cur.execute ('select * from person')\n",
    "print(cur.fetchall())"
   ]
  },
  {
   "cell_type": "code",
   "execution_count": 61,
   "metadata": {},
   "outputs": [],
   "source": [
    "conn.close()"
   ]
  },
  {
   "cell_type": "code",
   "execution_count": 64,
   "metadata": {},
   "outputs": [
    {
     "name": "stdout",
     "output_type": "stream",
     "text": [
      "opened database successfully\n"
     ]
    }
   ],
   "source": [
    "conn=sqlite3.connect(\"test.txt\")\n",
    "print (\"opened database successfully\")"
   ]
  },
  {
   "cell_type": "code",
   "execution_count": 66,
   "metadata": {},
   "outputs": [
    {
     "name": "stdout",
     "output_type": "stream",
     "text": [
      "Table created successfully\n"
     ]
    }
   ],
   "source": [
    "conn.execute('''\n",
    "CREATE TABLE COMPANY(\n",
    "ID INT PRIMARY KEY NOT NULL,\n",
    "NAME TEXT NOT NULL,\n",
    "AGE INT NOT NULL,\n",
    "ADDRESS CHAR(50),\n",
    "SALARY REAL);\n",
    "''')\n",
    "print (\"Table created successfully\")"
   ]
  },
  {
   "cell_type": "code",
   "execution_count": 69,
   "metadata": {},
   "outputs": [
    {
     "ename": "OperationalError",
     "evalue": "no such table: company",
     "output_type": "error",
     "traceback": [
      "\u001b[1;31m---------------------------------------------------------------------------\u001b[0m",
      "\u001b[1;31mOperationalError\u001b[0m                          Traceback (most recent call last)",
      "\u001b[1;32m<ipython-input-69-104ca15aab9e>\u001b[0m in \u001b[0;36m<module>\u001b[1;34m()\u001b[0m\n\u001b[1;32m----> 1\u001b[1;33m \u001b[0mconn\u001b[0m\u001b[1;33m.\u001b[0m\u001b[0mexecute\u001b[0m\u001b[1;33m(\u001b[0m\u001b[1;34m'drop table company'\u001b[0m\u001b[1;33m)\u001b[0m\u001b[1;33m\u001b[0m\u001b[0m\n\u001b[0m",
      "\u001b[1;31mOperationalError\u001b[0m: no such table: company"
     ]
    }
   ],
   "source": [
    "conn.execute('drop table company')"
   ]
  },
  {
   "cell_type": "code",
   "execution_count": 71,
   "metadata": {},
   "outputs": [],
   "source": [
    "conn.close()"
   ]
  },
  {
   "cell_type": "code",
   "execution_count": 72,
   "metadata": {},
   "outputs": [
    {
     "name": "stdout",
     "output_type": "stream",
     "text": [
      "opened database successfully\n"
     ]
    }
   ],
   "source": [
    "conn=sqlite3.connect(\"test.db\")\n",
    "print (\"opened database successfully\")"
   ]
  },
  {
   "cell_type": "code",
   "execution_count": 73,
   "metadata": {},
   "outputs": [
    {
     "name": "stdout",
     "output_type": "stream",
     "text": [
      "Table created successfully\n"
     ]
    }
   ],
   "source": [
    "conn.execute('''\n",
    "CREATE TABLE COMPANY(\n",
    "ID INT PRIMARY KEY NOT NULL,\n",
    "NAME TEXT NOT NULL,\n",
    "AGE INT NOT NULL,\n",
    "ADDRESS CHAR(50),\n",
    "SALARY REAL);\n",
    "''')\n",
    "print (\"Table created successfully\")"
   ]
  },
  {
   "cell_type": "code",
   "execution_count": 74,
   "metadata": {},
   "outputs": [],
   "source": [
    "conn.execute(\"insert into company (id, name, age, address, salary)\\\n",
    "values(1,'paul',32,'california',200000.00)\");"
   ]
  },
  {
   "cell_type": "code",
   "execution_count": 92,
   "metadata": {},
   "outputs": [],
   "source": [
    "conn.execute(\"insert into company (id, name, age, address, salary)\\\n",
    "values(:id,:name,:age,:address,:salary)\",\n",
    "             {'id':2, 'name':'allen','age':25,'address':'texas','salary':15000.00});"
   ]
  },
  {
   "cell_type": "code",
   "execution_count": 89,
   "metadata": {},
   "outputs": [],
   "source": [
    "data=[(3,'teddy',23,'norway',20000.00), \n",
    "      (4,'mark',25,'richmond',65000.00)]"
   ]
  },
  {
   "cell_type": "code",
   "execution_count": 90,
   "metadata": {},
   "outputs": [],
   "source": [
    "conn.executemany(\"insert into company (id, name, age, address, salary)\\\n",
    "values(?,?,?,?,?)\",data);"
   ]
  },
  {
   "cell_type": "code",
   "execution_count": 86,
   "metadata": {},
   "outputs": [],
   "source": [
    "conn.executescript(\"\"\"\n",
    "\n",
    "insert into company (id, name, age, address, salary)\n",
    "values(6,'teddy2',23,'norway',20000.00);\"\"\");"
   ]
  },
  {
   "cell_type": "code",
   "execution_count": 93,
   "metadata": {},
   "outputs": [],
   "source": [
    "conn.commit()"
   ]
  },
  {
   "cell_type": "code",
   "execution_count": 100,
   "metadata": {},
   "outputs": [
    {
     "name": "stdout",
     "output_type": "stream",
     "text": [
      "id =  1\n",
      "name =  paul\n",
      "age =  32\n",
      "address =  california\n",
      "salary =  200000.0\n",
      "\n",
      "\n",
      "id =  32\n",
      "name =  allen\n",
      "age =  25\n",
      "address =  texas\n",
      "salary =  15000.0\n",
      "\n",
      "\n",
      "id =  5\n",
      "name =  teddy1\n",
      "age =  23\n",
      "address =  norway\n",
      "salary =  20000.0\n",
      "\n",
      "\n",
      "id =  6\n",
      "name =  teddy2\n",
      "age =  23\n",
      "address =  norway\n",
      "salary =  20000.0\n",
      "\n",
      "\n",
      "id =  3\n",
      "name =  teddy\n",
      "age =  23\n",
      "address =  norway\n",
      "salary =  20000.0\n",
      "\n",
      "\n",
      "id =  4\n",
      "name =  mark\n",
      "age =  25\n",
      "address =  richmond\n",
      "salary =  65000.0\n",
      "\n",
      "\n",
      "id =  2\n",
      "name =  allen\n",
      "age =  25\n",
      "address =  texas\n",
      "salary =  15000.0\n",
      "\n",
      "\n"
     ]
    }
   ],
   "source": [
    "cursor=conn.execute('select id, name, age, address, salary from company')\n",
    "#                        row0    1     2      3       4   \n",
    "for row in cursor:\n",
    "    print('id = ',row[0])\n",
    "    print('name = ',row[1])\n",
    "    print('age = ',row[2])\n",
    "    print('address = ',row[3])\n",
    "    print('salary = ',row[4])\n",
    "    print('\\n')"
   ]
  },
  {
   "cell_type": "code",
   "execution_count": 101,
   "metadata": {},
   "outputs": [],
   "source": [
    "cid=1\n",
    "\n",
    "conn.execute('update company set salary = 25000.00 where id =:id',{'id':cid})\n",
    "conn.commit()"
   ]
  },
  {
   "cell_type": "code",
   "execution_count": 102,
   "metadata": {},
   "outputs": [
    {
     "name": "stdout",
     "output_type": "stream",
     "text": [
      "total number of rows updated : 8\n"
     ]
    }
   ],
   "source": [
    "print('total number of rows updated :',conn.total_changes)"
   ]
  },
  {
   "cell_type": "code",
   "execution_count": 103,
   "metadata": {},
   "outputs": [
    {
     "name": "stdout",
     "output_type": "stream",
     "text": [
      "id =  1\n",
      "name =  paul\n",
      "age =  32\n",
      "address =  california\n",
      "salary =  25000.0\n",
      "\n",
      "\n",
      "id =  32\n",
      "name =  allen\n",
      "age =  25\n",
      "address =  texas\n",
      "salary =  15000.0\n",
      "\n",
      "\n",
      "id =  5\n",
      "name =  teddy1\n",
      "age =  23\n",
      "address =  norway\n",
      "salary =  20000.0\n",
      "\n",
      "\n",
      "id =  6\n",
      "name =  teddy2\n",
      "age =  23\n",
      "address =  norway\n",
      "salary =  20000.0\n",
      "\n",
      "\n",
      "id =  3\n",
      "name =  teddy\n",
      "age =  23\n",
      "address =  norway\n",
      "salary =  20000.0\n",
      "\n",
      "\n",
      "id =  4\n",
      "name =  mark\n",
      "age =  25\n",
      "address =  richmond\n",
      "salary =  65000.0\n",
      "\n",
      "\n",
      "id =  2\n",
      "name =  allen\n",
      "age =  25\n",
      "address =  texas\n",
      "salary =  15000.0\n",
      "\n",
      "\n"
     ]
    }
   ],
   "source": [
    "cursor=conn.execute('select id, name, age, address, salary from company')\n",
    "#                        row0    1     2      3       4   \n",
    "for row in cursor:\n",
    "    print('id = ',row[0])\n",
    "    print('name = ',row[1])\n",
    "    print('age = ',row[2])\n",
    "    print('address = ',row[3])\n",
    "    print('salary = ',row[4])\n",
    "    print('\\n')"
   ]
  },
  {
   "cell_type": "code",
   "execution_count": 109,
   "metadata": {},
   "outputs": [
    {
     "name": "stdout",
     "output_type": "stream",
     "text": [
      "id =  1\n",
      "name =  paul\n",
      "age =  32\n",
      "address =  california\n",
      "salary =  25000.0\n",
      "\n",
      "\n",
      "id =  32\n",
      "name =  allen\n",
      "age =  25\n",
      "address =  texas\n",
      "salary =  15000.0\n",
      "\n",
      "\n",
      "id =  5\n",
      "name =  teddy1\n",
      "age =  23\n",
      "address =  norway\n",
      "salary =  20000.0\n",
      "\n",
      "\n",
      "id =  6\n",
      "name =  teddy2\n",
      "age =  23\n",
      "address =  norway\n",
      "salary =  20000.0\n",
      "\n",
      "\n",
      "id =  3\n",
      "name =  teddy\n",
      "age =  23\n",
      "address =  norway\n",
      "salary =  20000.0\n",
      "\n",
      "\n",
      "id =  4\n",
      "name =  mark\n",
      "age =  25\n",
      "address =  richmond\n",
      "salary =  65000.0\n",
      "\n",
      "\n"
     ]
    }
   ],
   "source": [
    "conn.execute(\"delete from company where ID = 2;\")\n",
    "\n",
    "cursor=conn.execute('select id, name, age, address, salary from company')\n",
    "#                        row0    1     2      3       4   \n",
    "for row in cursor:\n",
    "    print('id = ',row[0])\n",
    "    print('name = ',row[1])\n",
    "    print('age = ',row[2])\n",
    "    print('address = ',row[3])\n",
    "    print('salary = ',row[4])\n",
    "    print('\\n')"
   ]
  },
  {
   "cell_type": "code",
   "execution_count": 110,
   "metadata": {},
   "outputs": [],
   "source": [
    "conn.commit()"
   ]
  },
  {
   "cell_type": "code",
   "execution_count": 112,
   "metadata": {},
   "outputs": [],
   "source": [
    "conn.close()"
   ]
  },
  {
   "cell_type": "code",
   "execution_count": 113,
   "metadata": {},
   "outputs": [],
   "source": [
    "import sqlite3 as sq1"
   ]
  },
  {
   "cell_type": "code",
   "execution_count": 114,
   "metadata": {},
   "outputs": [],
   "source": [
    "con=None"
   ]
  },
  {
   "cell_type": "code",
   "execution_count": 115,
   "metadata": {},
   "outputs": [
    {
     "name": "stdout",
     "output_type": "stream",
     "text": [
      "sqlite version : ('3.21.0',)\n"
     ]
    }
   ],
   "source": [
    "try:\n",
    "    con=sq1.connect('test.db')\n",
    "    cur=con.cursor()\n",
    "    cur.execute('select sqlite_version()')\n",
    "    data=cur.fetchone()\n",
    "    print('sqlite version :',data)\n",
    "except Exception as e:\n",
    "    print('error : ',e)\n",
    "finally:\n",
    "    if con:\n",
    "        con.close()"
   ]
  },
  {
   "cell_type": "code",
   "execution_count": 119,
   "metadata": {},
   "outputs": [],
   "source": [
    "con=sq1.connect('test.db')\n",
    "\n",
    "with con:\n",
    "    cur=con.cursor()\n",
    "    cur.execute('create table cars(id int, name text, price int)')\n",
    "    cur.execute(\"insert into cars values(1,'audi',52642)\")\n",
    "    cur.execute(\"insert into cars values(2,'mercedes',57127)\")\n",
    "    cur.execute(\"insert into cars values(3,'skoda',9000)\")\n",
    "    cur.execute(\"insert into cars values(4,'volvo',29000)\")\n",
    "    cur.execute(\"insert into cars values(5,'bently',350000)\")\n",
    "    cur.execute(\"insert into cars values(6,'citroen',21000)\")\n",
    "    cur.execute(\"insert into cars values(7,'hummer',41400)\")\n",
    "    cur.execute(\"insert into cars values(8,'volkswagen',21600)\")"
   ]
  },
  {
   "cell_type": "code",
   "execution_count": 121,
   "metadata": {},
   "outputs": [],
   "source": [
    "cars=[\n",
    "    (1,'audi',52642),\n",
    "    (2,'mercedes',57127),\n",
    "    (3,'skoda',9000),\n",
    "    (4,'volvo',29000),\n",
    "    (5,'bently',350000),\n",
    "    (6,'citroen',21000),\n",
    "    (7,'hummer',41400),\n",
    "    (8,'volkswagen',21600)\n",
    "]\n",
    "\n",
    "con=sq1.connect('test.db')\n",
    "\n",
    "with con:\n",
    "    cur=con.cursor()\n",
    "    cur.execute('drop table if exists cars')\n",
    "    cur.execute('create table cars(id int primary key, name text, price int)')\n",
    "    cur.executemany('insert into cars values(?,?,?)',cars)"
   ]
  },
  {
   "cell_type": "code",
   "execution_count": 124,
   "metadata": {},
   "outputs": [],
   "source": [
    "try:\n",
    "\n",
    "    con=sq1.connect('test.db')\n",
    "    cur=con.cursor()\n",
    "    cur.executescript(\"\"\"\n",
    "        drop table if exists cars;\n",
    "        create table cars(id int primary key, name text, price int);\n",
    "        insert into cars values(1,'audi',52642);\n",
    "        insert into cars values(2,'mercedes',57127);\n",
    "        insert into cars values(3,'skoda',9000);\n",
    "        insert into cars values(4,'volvo',29000);\n",
    "        insert into cars values(5,'bently',350000);\n",
    "        insert into cars values(6,'citroen',21000);\n",
    "        insert into cars values(7,'hummer',41400);\n",
    "        insert into cars values(8,'volkswagen',21600);\n",
    "    \"\"\")\n",
    "\n",
    "    con.commit()\n",
    "\n",
    "except Exception as e:\n",
    "    if con:\n",
    "        con.rollback() \n",
    "        print (\"error : \",e)\n",
    "        \n",
    "finally:\n",
    "    if con:\n",
    "        con.close()"
   ]
  },
  {
   "cell_type": "code",
   "execution_count": 128,
   "metadata": {},
   "outputs": [
    {
     "name": "stdout",
     "output_type": "stream",
     "text": [
      "the last id of the inserted row is  4\n"
     ]
    }
   ],
   "source": [
    "con= sq1.connect(':memory:')\n",
    "\n",
    "with con:\n",
    "    cur=con.cursor()\n",
    "    cur.execute(\"create table friends(id int primary key, name text);\")\n",
    "    cur.execute(\"insert into friends(name) values('tom');\")\n",
    "    cur.execute(\"insert into friends(name) values('rebecca');\")\n",
    "    cur.execute(\"insert into friends(name) values('jim');\")\n",
    "    cur.execute(\"insert into friends(name) values('robert');\")\n",
    "    \n",
    "    lid = cur.lastrowid\n",
    "    print(\"the last id of the inserted row is \",lid)"
   ]
  },
  {
   "cell_type": "code",
   "execution_count": 129,
   "metadata": {},
   "outputs": [
    {
     "name": "stdout",
     "output_type": "stream",
     "text": [
      "1 audi 52642\n",
      "2 mercedes 57127\n",
      "3 skoda 9000\n",
      "4 volvo 29000\n",
      "5 bently 350000\n",
      "6 citroen 21000\n",
      "7 hummer 41400\n",
      "8 volkswagen 21600\n"
     ]
    }
   ],
   "source": [
    "con=sq1.connect('test.db')\n",
    "\n",
    "with con:\n",
    "    cur=con.cursor()\n",
    "    cur.execute(\"select * from cars\")\n",
    "    \n",
    "    while True:\n",
    "        row = cur.fetchone()\n",
    "        if row==None:\n",
    "            break\n",
    "            \n",
    "        print(row[0],row[1],row[2])"
   ]
  },
  {
   "cell_type": "code",
   "execution_count": 132,
   "metadata": {},
   "outputs": [
    {
     "name": "stdout",
     "output_type": "stream",
     "text": [
      "1 audi 52642\n",
      "2 mercedes 57127\n",
      "3 skoda 9000\n",
      "4 volvo 29000\n",
      "5 bently 350000\n",
      "6 citroen 21000\n",
      "7 hummer 41400\n",
      "8 volkswagen 21600\n"
     ]
    }
   ],
   "source": [
    "con=sq1.connect('test.db')\n",
    "\n",
    "with con:\n",
    "    con.row_factory=sq1.Row\n",
    "    cur=con.cursor()\n",
    "    cur.execute(\"select * from cars\")\n",
    "    \n",
    "    \n",
    "    rows= cur.fetchall()\n",
    "    for row in rows:        \n",
    "        print(row[\"id\"],row[\"name\"],row[\"price\"])"
   ]
  },
  {
   "cell_type": "code",
   "execution_count": 135,
   "metadata": {},
   "outputs": [
    {
     "name": "stdout",
     "output_type": "stream",
     "text": [
      "number of rows updated: 1\n"
     ]
    }
   ],
   "source": [
    "uid =1\n",
    "uPrice=62300\n",
    "\n",
    "con = sq1.connect('test.db')\n",
    "\n",
    "with con:\n",
    "    cur=con.cursor()\n",
    "    cur.execute(\"update cars set price=? where id=?\", (uPrice,uid))\n",
    "    \n",
    "    print(\"number of rows updated:\",cur.rowcount)"
   ]
  },
  {
   "cell_type": "code",
   "execution_count": 137,
   "metadata": {},
   "outputs": [
    {
     "name": "stdout",
     "output_type": "stream",
     "text": [
      "volvo 29000\n"
     ]
    }
   ],
   "source": [
    "uid =4\n",
    "\n",
    "con = sq1.connect('test.db')\n",
    "\n",
    "with con:\n",
    "    cur=con.cursor()\n",
    "    cur.execute(\"select name, price from cars where id=:id\",{\"id\":uid})\n",
    "    \n",
    "    row =cur.fetchone()\n",
    "    print(row[0],row[1])"
   ]
  },
  {
   "cell_type": "code",
   "execution_count": null,
   "metadata": {},
   "outputs": [],
   "source": []
  }
 ],
 "metadata": {
  "kernelspec": {
   "display_name": "Python 3",
   "language": "python",
   "name": "python3"
  },
  "language_info": {
   "codemirror_mode": {
    "name": "ipython",
    "version": 3
   },
   "file_extension": ".py",
   "mimetype": "text/x-python",
   "name": "python",
   "nbconvert_exporter": "python",
   "pygments_lexer": "ipython3",
   "version": "3.6.5"
  }
 },
 "nbformat": 4,
 "nbformat_minor": 2
}
