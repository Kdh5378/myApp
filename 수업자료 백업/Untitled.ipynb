{
 "cells": [
  {
   "cell_type": "code",
   "execution_count": 6,
   "metadata": {},
   "outputs": [],
   "source": [
    "import requests\n",
    "from bs4 import BeautifulSoup"
   ]
  },
  {
   "cell_type": "code",
   "execution_count": 3,
   "metadata": {},
   "outputs": [],
   "source": [
    "resp=requests.get(\"http://example.webscraping.com/places/default/search\")"
   ]
  },
  {
   "cell_type": "code",
   "execution_count": 5,
   "metadata": {
    "scrolled": true
   },
   "outputs": [
    {
     "data": {
      "text/plain": [
       "'<!--[if HTML5]><![endif]-->\\n<!DOCTYPE html>\\n<!-- paulirish.com/2008/conditional-stylesheets-vs-css-hacks-answer-neither/ -->\\n<!--[if lt IE 7]><html class=\"ie ie6 ie-lte9 ie-lte8 ie-lte7 no-js\" lang=\"en-us\"> <![endif]-->\\n<!--[if IE 7]><html class=\"ie ie7 ie-lte9 ie-lte8 ie-lte7 no-js\" lang=\"en-us\"> <![endif]-->\\n<!--[if IE 8]><html class=\"ie ie8 ie-lte9 ie-lte8 no-js\" lang=\"en-us\"> <![endif]-->\\n<!--[if IE 9]><html class=\"ie9 ie-lte9 no-js\" lang=\"en-us\"> <![endif]-->\\n<!--[if (gt IE 9)|!(IE)]><!--> <html class=\"no-js\" lang=\"en-us\"> <!--<![endif]-->\\n<head>\\n<title>Example web scraping website</title>\\n  <!--[if !HTML5]>\\n      <meta http-equiv=\"X-UA-Compatible\" content=\"IE=edge,chrome=1\">\\n  <![endif]-->\\n  <!-- www.phpied.com/conditional-comments-block-downloads/ -->\\n  <!-- Always force latest IE rendering engine\\n       (even in intranet) & Chrome Frame\\n       Remove this if you use the .htaccess -->\\n\\t   \\n  <meta charset=\"utf-8\" />\\n\\n  <!-- http://dev.w3.org/html5/markup/meta.name.html -->\\n  <meta name=\"application-name\" content=\"places\" />\\n\\n  <!--  Mobile Viewport Fix\\n        j.mp/mobileviewport & davidbcalhoun.com/2010/viewport-metatag\\n        device-width: Occupy full width of the screen in its current orientation\\n        initial-scale = 1.0 retains dimensions instead of zooming out if page height > device height\\n        user-scalable = yes allows the user to zoom in -->\\n  <meta name=\"viewport\" content=\"width=device-width, initial-scale=1.0\" />\\n\\n  <link rel=\"shortcut icon\" href=\"/places/static/images/favicon.ico\" type=\"image/x-icon\">\\n  <link rel=\"apple-touch-icon\" href=\"/places/static/images/favicon.png\">\\n\\n  <!-- All JavaScript at the bottom, except for Modernizr which enables\\n       HTML5 elements & feature detects -->\\n  <script src=\"/places/static/js/modernizr.custom.js\"></script>\\n\\n  <!-- include stylesheets -->\\n  \\n\\n  <script type=\"text/javascript\"><!--\\n    // These variables are used by the web2py_ajax_init function in web2py_ajax.js (which is loaded below).\\n    var w2p_ajax_confirm_message = \"Are you sure you want to delete this object?\";\\n    var w2p_ajax_disable_with_message = \"Working...\";\\n    var w2p_ajax_date_format = \"%Y-%m-%d\";\\n    var w2p_ajax_datetime_format = \"%Y-%m-%d %H:%M:%S\";\\n    var ajax_error_500 = \\'An error occured, please <a href=\"/places/default/search\">reload</a> the page\\'\\n    //--></script>\\n\\n<meta name=\"keywords\" content=\"web2py, python, web scraping\" />\\n<meta name=\"generator\" content=\"Web2py Web Framework\" />\\n<meta name=\"author\" content=\"Richard Penman\" />\\n<script src=\"/places/static/js/jquery.js\" type=\"text/javascript\"></script><link href=\"/places/static/css/calendar.css\" rel=\"stylesheet\" type=\"text/css\" /><script src=\"/places/static/js/calendar.js\" type=\"text/javascript\"></script><script src=\"/places/static/js/web2py.js\" type=\"text/javascript\"></script><link href=\"/places/static/css/web2py.css\" rel=\"stylesheet\" type=\"text/css\" /><link href=\"/places/static/css/bootstrap.min.css\" rel=\"stylesheet\" type=\"text/css\" /><link href=\"/places/static/css/bootstrap-responsive.min.css\" rel=\"stylesheet\" type=\"text/css\" /><link href=\"/places/static/css/style.css\" rel=\"stylesheet\" type=\"text/css\" /><link href=\"/places/static/css/web2py_bootstrap.css\" rel=\"stylesheet\" type=\"text/css\" />\\n\\n\\n  \\n\\n  <!-- uncomment here to load jquery-ui\\n       <link rel=\"stylesheet\" href=\"http://ajax.googleapis.com/ajax/libs/jqueryui/1.10.3/themes/ui-lightness/jquery-ui.css\" type=\"text/css\" media=\"all\" />\\n       <script src=\"http://ajax.googleapis.com/ajax/libs/jqueryui/1.10.3/jquery-ui.min.js\" type=\"text/javascript\"></script>\\n       uncomment to load jquery-ui //-->\\n  <noscript><link href=\"/places/static/css/web2py_bootstrap_nojs.css\" rel=\"stylesheet\" type=\"text/css\" /></noscript>\\n  \\n</head>\\n\\n<body>\\n  <!-- Navbar ================================================== -->\\n  <div class=\"navbar navbar-inverse\">\\n    <div class=\"flash\"></div>\\n    <div class=\"navbar-inner\">\\n      <div class=\"container\">\\n        \\n        <!-- the next tag is necessary for bootstrap menus, do not remove -->\\n        <button type=\"button\" class=\"btn btn-navbar\" data-toggle=\"collapse\" data-target=\".nav-collapse\" style=\"display:none;\">\\n          <span class=\"icon-bar\"></span>\\n          <span class=\"icon-bar\"></span>\\n          <span class=\"icon-bar\"></span>\\n        </button>\\n        \\n        <ul id=\"navbar\" class=\"nav pull-right\"><li class=\"dropdown\"><a class=\"dropdown-toggle\" data-toggle=\"dropdown\" href=\"#\" rel=\"nofollow\">Log In</a><ul class=\"dropdown-menu\"><li><a href=\"/places/default/user/register?_next=/places/default/search\" rel=\"nofollow\"><i class=\"icon icon-user glyphicon glyphicon-user\"></i> Sign Up</a></li><li class=\"divider\"></li><li><a href=\"/places/default/user/login?_next=/places/default/search\" rel=\"nofollow\"><i class=\"icon icon-off glyphicon glyphicon-off\"></i> Log In</a></li></ul></li></ul>\\n        <div class=\"nav\">\\n          \\n          <ul class=\"nav\"><li class=\"web2py-menu-first\"><a href=\"/places/default/index\">Home</a></li><li class=\"web2py-menu-last\"><a href=\"/places/default/search\">Search</a></li></ul>\\n          \\n        </div><!--/.nav-collapse -->\\n      </div>\\n    </div>\\n  </div><!--/top navbar -->\\n\\n  <div class=\"container\">\\n    <!-- Masthead ================================================== -->\\n      \\n    <header class=\"mastheader row\" id=\"header\">\\n        <div class=\"span12\">\\n            <div class=\"page-header\">\\n                <h1>\\n                    Example web scraping website\\n                    <small></small>\\n                </h1>\\n            </div>\\n        </div>\\n    </header>\\n\\t\\n\\n    <section id=\"main\" class=\"main row\">\\n        \\n\\n        <div class=\"span12\">\\n            \\n            \\n\\n<form>\\n<table>\\n    <tr>\\n        <th>Name:</th>\\n        <td><input id=\"search_term\" /></td>\\n    </tr>\\n    <tr>\\n        <th>Page size:</th>\\n        <td>\\n            <select id=\"page_size\">\\n                <option>4</option>\\n                <option selected>10</option>\\n                <option>20</option>\\n            </select>\\n        </td>\\n    </tr>\\n    <tr>\\n        <td></td>\\n        <td>\\n            <input type=\"submit\" id=\"search\" value=\"Search\" />\\n        </td>\\n    </tr>\\n</table>\\n</form>\\n\\n<div id=\"results\">\\n</div>\\n<div id=\"pagination\">\\n</div>\\n\\n<script language=\"javascript\" type=\"text/javascript\">\\nvar NUM_COLUMNS = 2;\\nvar page = 0;\\n\\n\\n$(function() {\\n    $(\"form\").submit(function() {\\n        page = 0;\\n        search();\\n        return false;\\n    });\\n\\n    load_hash();\\n    window.onhashchange = load_hash;\\n});\\n\\n\\nfunction load_hash() {\\n    // load previous state from hash string\\n    var args = window.location.hash.slice(1).split(\\'|\\')\\n    if(args.length == 3) {\\n        $(\"#search_term\").val(args[0]);\\n        $(\"#page_size\").val(args[1]);\\n        page = parseInt(args[2]);\\n        search();\\n    }\\n}\\n\\n\\nfunction previous() {\\n    page = page - 1;\\n    search();\\n}\\nfunction next() {\\n    page = page + 1;\\n    search();\\n}\\n\\nfunction search() {\\n    var data = {\\n        search_term: $(\"#search_term\").val(),\\n        page_size: parseInt($(\"#page_size\").val()),\\n        page: page,\\n    };\\n    //window.location.hash = data.search_term + \\'|\\' + data.page_size + \\'|\\' + page;\\n\\n    $.ajax({\\n        dataType: \"json\",\\n        url: \"/places/ajax/search.json?\",\\n        data: data,\\n        success: function(results) {\\n            render(results)\\n        }\\n    });\\n}\\n\\nfunction render(results) {\\n    // add resulting records\\n    var html = \"<table>\";\\n    for(var i=0; i < results.records.length; i++) {\\n        var record = results.records[i];\\n        if(i % NUM_COLUMNS == 0) html += \"<tr>\";\\n        html += \"<td>\" + record[\"pretty_link\"] + \"</td>\";\\n        if(i % NUM_COLUMNS == NUM_COLUMNS - 1) html += \"</tr>\";\\n    }\\n    $(\"#results\").html(html + \"</table>\");\\n\\n    // add pagination if necessary\\n    html = \"\";\\n    if(results.num_pages > 1) {\\n        if(page > 0) {\\n            html += \"<a id=\\'previous\\' href=\\'javascript:void(0)\\' onclick=\\'previous()\\'>&lt; Previous</a>\";\\n        } else {\\n            html += \"&lt; Previous\";\\n        }\\n        html += \" | \";\\n        if(page + 1 < results.num_pages) {\\n            html += \"<a id=\\'next\\' href=\\'javascript:void(0)\\' onclick=\\'next()\\'>Next &gt;</a>\";\\n        } else {\\n            html += \"Next &gt;\";\\n        \\n        }\\n    }\\n    $(\"#pagination\").html(html);\\n}\\n</script>\\n\\n            \\n        </div>\\n\\n        \\n    </section><!--/main-->\\n\\n    <!-- Footer ================================================== -->\\n    <div class=\"row\">\\n        <footer class=\"footer span12\" id=\"footer\">\\n        </footer>\\n    </div>\\n\\n  </div> <!-- /container -->\\n\\n  <!-- The javascript =============================================\\n       (Placed at the end of the document so the pages load faster) -->\\n  <script src=\"/places/static/js/bootstrap.min.js\"></script>\\n  <script src=\"/places/static/js/web2py_bootstrap.js\"></script>\\n  <!--[if lt IE 7 ]>\\n      <script src=\"/places/static/js/dd_belatedpng.js\"></script>\\n      <script> DD_belatedPNG.fix(\\'img, .png_bg\\'); //fix any <img> or .png_bg background-images </script>\\n      <![endif]-->\\n</body>\\n</html>\\n\\n'"
      ]
     },
     "execution_count": 5,
     "metadata": {},
     "output_type": "execute_result"
    }
   ],
   "source": [
    "resp.text"
   ]
  },
  {
   "cell_type": "code",
   "execution_count": 8,
   "metadata": {},
   "outputs": [],
   "source": [
    "dom=BeautifulSoup(resp.content, \"lxml\")#비동기식은 이렇게 못 가져온다"
   ]
  },
  {
   "cell_type": "code",
   "execution_count": 9,
   "metadata": {},
   "outputs": [],
   "source": [
    "result= dom.select(\"#results\")"
   ]
  },
  {
   "cell_type": "code",
   "execution_count": 10,
   "metadata": {},
   "outputs": [
    {
     "data": {
      "text/plain": [
       "1"
      ]
     },
     "execution_count": 10,
     "metadata": {},
     "output_type": "execute_result"
    }
   ],
   "source": [
    "len(result)"
   ]
  },
  {
   "cell_type": "code",
   "execution_count": 11,
   "metadata": {},
   "outputs": [
    {
     "data": {
      "text/plain": [
       "[<div id=\"results\">\n",
       " </div>]"
      ]
     },
     "execution_count": 11,
     "metadata": {},
     "output_type": "execute_result"
    }
   ],
   "source": [
    "result"
   ]
  },
  {
   "cell_type": "code",
   "execution_count": 12,
   "metadata": {},
   "outputs": [
    {
     "name": "stdout",
     "output_type": "stream",
     "text": [
      "Collecting selenium\n",
      "  Downloading https://files.pythonhosted.org/packages/41/c6/78a9a0d0150dbf43095c6f422fdf6f948e18453c5ebbf92384175b372ca2/selenium-3.13.0-py2.py3-none-any.whl (946kB)\n",
      "Installing collected packages: selenium\n",
      "Successfully installed selenium-3.13.0\n"
     ]
    },
    {
     "name": "stderr",
     "output_type": "stream",
     "text": [
      "distributed 1.21.8 requires msgpack, which is not installed.\n"
     ]
    }
   ],
   "source": [
    "!pip install selenium"
   ]
  },
  {
   "cell_type": "code",
   "execution_count": 17,
   "metadata": {},
   "outputs": [],
   "source": [
    "from selenium import webdriver"
   ]
  },
  {
   "cell_type": "code",
   "execution_count": 49,
   "metadata": {},
   "outputs": [],
   "source": [
    "driver=webdriver.Chrome()"
   ]
  },
  {
   "cell_type": "code",
   "execution_count": 24,
   "metadata": {
    "scrolled": false
   },
   "outputs": [],
   "source": [
    "driver.get(\"http://example.webscraping.com/places/default/search\")"
   ]
  },
  {
   "cell_type": "code",
   "execution_count": 25,
   "metadata": {},
   "outputs": [],
   "source": [
    "driver.find_element_by_id(\"search_term\").send_keys(\"korea\")"
   ]
  },
  {
   "cell_type": "code",
   "execution_count": 27,
   "metadata": {},
   "outputs": [],
   "source": [
    "driver.find_element_by_id(\"search\").click()"
   ]
  },
  {
   "cell_type": "code",
   "execution_count": 28,
   "metadata": {},
   "outputs": [],
   "source": [
    "deiver.implicitly_wait(1)"
   ]
  },
  {
   "cell_type": "code",
   "execution_count": 37,
   "metadata": {},
   "outputs": [],
   "source": [
    "links=driver.find_elements_by_css_selector(\"#results a\")"
   ]
  },
  {
   "cell_type": "code",
   "execution_count": 38,
   "metadata": {},
   "outputs": [
    {
     "data": {
      "text/plain": [
       "[<selenium.webdriver.remote.webelement.WebElement (session=\"aad8fcc1193761c5aa87c14d7534b73b\", element=\"0.9053764074401167-3\")>,\n",
       " <selenium.webdriver.remote.webelement.WebElement (session=\"aad8fcc1193761c5aa87c14d7534b73b\", element=\"0.9053764074401167-4\")>]"
      ]
     },
     "execution_count": 38,
     "metadata": {},
     "output_type": "execute_result"
    }
   ],
   "source": [
    "links"
   ]
  },
  {
   "cell_type": "code",
   "execution_count": 39,
   "metadata": {},
   "outputs": [
    {
     "data": {
      "text/plain": [
       "['North Korea', 'South Korea']"
      ]
     },
     "execution_count": 39,
     "metadata": {},
     "output_type": "execute_result"
    }
   ],
   "source": [
    "[link.text for link in links]"
   ]
  },
  {
   "cell_type": "markdown",
   "metadata": {},
   "source": [
    "#### 네이버 자동 로그인 해서 메일 긁어오기"
   ]
  },
  {
   "cell_type": "code",
   "execution_count": 28,
   "metadata": {},
   "outputs": [],
   "source": [
    "import json\n",
    "from selenium import webdriver\n",
    "from bs4 import BeautifulSoup"
   ]
  },
  {
   "cell_type": "code",
   "execution_count": 29,
   "metadata": {},
   "outputs": [],
   "source": [
    "with open(\"account.json\",\"r\")as f:\n",
    "    account=json.load(f)"
   ]
  },
  {
   "cell_type": "code",
   "execution_count": 30,
   "metadata": {
    "scrolled": true
   },
   "outputs": [
    {
     "name": "stdout",
     "output_type": "stream",
     "text": [
      "새로운 기기(브라우저)에서 로그인 되었습니다.\n",
      "새로운 기기(브라우저)에서 로그인 되었습니다.\n",
      "새로운 기기(브라우저)에서 로그인 되었습니다.\n",
      "새로운 기기(브라우저)에서 로그인 되었습니다.\n",
      "새로운 기기(브라우저)에서 로그인 되었습니다.\n",
      "새로운 기기(브라우저)에서 로그인 되었습니다.\n",
      "로그인 차단 기능이 실행되었습니다.\n",
      "로그인 차단 기능이 실행되었습니다.\n",
      "로그인 차단 기능이 실행되었습니다.\n",
      "로그인 차단 기능이 실행되었습니다.\n",
      "로그인 차단 기능이 실행되었습니다.\n",
      "로그인 차단 기능이 실행되었습니다.\n",
      "2018 BIGDATA X CAMPUS 교육생 의견 청취 및 자격검정 접수 안내\n",
      "인공지능 자기소개서 분석기😍, 7월까지만 무료⏳\n",
      "[디시인사이드] 개인정보 이용 내역 안내\n"
     ]
    }
   ],
   "source": [
    "driver=webdriver.Chrome()\n",
    "driver.get(\"https://www.naver.com\")\n",
    "driver.find_element_by_id(\"id\").send_keys(account[\"id\"])\n",
    "driver.find_element_by_id(\"pw\").send_keys(account[\"pw\"])\n",
    "driver.find_element_by_css_selector(\"span.btn_login > input\").click()\n",
    "\n",
    "try:\n",
    "    driver.find_element_by_css_selector(\".btn_upload\").click()\n",
    "    driver.find_element_by_css_selector(\".btn_maintain>a\").click()\n",
    "\n",
    "except NoSuchElementException as e:\n",
    "    print(e)\n",
    "\n",
    "finally:\n",
    "    driver.get(\"http://mail.naver.com/?n=1531981586255&v=f\")\n",
    "    html=BeautifulSoup(driver.page_source, \"lxml\")\n",
    "    tempList=html.select(\".subject strong\")\n",
    "    for temp in tempList:\n",
    "        print(temp.contents[1])"
   ]
  },
  {
   "cell_type": "markdown",
   "metadata": {},
   "source": [
    "#### 드루킹이 되어보자"
   ]
  },
  {
   "cell_type": "code",
   "execution_count": 188,
   "metadata": {
    "scrolled": true
   },
   "outputs": [],
   "source": [
    "driver=webdriver.Chrome()\n",
    "driver.get(\"https://www.naver.com\")\n",
    "driver.find_element_by_id(\"id\").send_keys(account[\"id\"])\n",
    "driver.find_element_by_id(\"pw\").send_keys(account[\"pw\"])\n",
    "driver.find_element_by_css_selector(\"span.btn_login > input\").click()\n",
    "\n",
    "try:\n",
    "    driver.find_element_by_css_selector(\".btn_upload\").click()\n",
    "    driver.find_element_by_css_selector(\".btn_maintain>a\").click()\n",
    "\n",
    "except NoSuchElementException as e:\n",
    "    print(e)\n",
    "\n",
    "finally:\n",
    "    driver.get(\"https://news.naver.com/main/read.nhn?mode=LSD&mid=shm&sid1=105&oid=032&aid=0002882799\")\n",
    "    driver.implicitly_wait(1)\n",
    "    driver.find_element_by_css_selector(\".u_cbox_text\").send_keys(\"낙서\")"
   ]
  },
  {
   "cell_type": "code",
   "execution_count": 174,
   "metadata": {},
   "outputs": [],
   "source": [
    "driver.get(\"https://news.naver.com/main/read.nhn?mode=LSD&mid=shm&sid1=105&oid=032&aid=0002882799\")\n",
    "tempList=driver.find_elements_by_css_selector('#cbox_module__write_textarea').click()"
   ]
  },
  {
   "cell_type": "code",
   "execution_count": 175,
   "metadata": {},
   "outputs": [],
   "source": [
    "for temp in tempList:\n",
    "    print(temp.text)"
   ]
  },
  {
   "cell_type": "code",
   "execution_count": null,
   "metadata": {},
   "outputs": [],
   "source": [
    "driver.get(\"https://news.naver.com/main/\")\n",
    "tempList=driver.find_elements_by_css_selector(\"ul.newsnow_txarea li div.newsnow_tx_inner a\")"
   ]
  },
  {
   "cell_type": "code",
   "execution_count": 186,
   "metadata": {},
   "outputs": [],
   "source": [
    "driver.find_element_by_css_selector(\".u_cbox_text\").send_keys(\"낙서\")"
   ]
  },
  {
   "cell_type": "code",
   "execution_count": null,
   "metadata": {},
   "outputs": [],
   "source": []
  }
 ],
 "metadata": {
  "kernelspec": {
   "display_name": "Python 3",
   "language": "python",
   "name": "python3"
  },
  "language_info": {
   "codemirror_mode": {
    "name": "ipython",
    "version": 3
   },
   "file_extension": ".py",
   "mimetype": "text/x-python",
   "name": "python",
   "nbconvert_exporter": "python",
   "pygments_lexer": "ipython3",
   "version": "3.6.5"
  }
 },
 "nbformat": 4,
 "nbformat_minor": 2
}
