{
 "cells": [
  {
   "cell_type": "code",
   "execution_count": 1,
   "metadata": {},
   "outputs": [],
   "source": [
    "import requests\n",
    "from bs4 import BeautifulSoup"
   ]
  },
  {
   "cell_type": "code",
   "execution_count": 3,
   "metadata": {},
   "outputs": [],
   "source": [
    "headers={\n",
    "    \"user-agent\":\"Mozilla/5.0 (Windows NT 6.1; Win64; x64) AppleWebKit/537.36 (KHTML, like Gecko) Chrome/67.0.3396.99 Safari/537.36\"\n",
    "}\n",
    "\n",
    "params={\"q\":\"한글\"}\n",
    "\n",
    "url=\"https://www.google.com/search?\""
   ]
  },
  {
   "cell_type": "code",
   "execution_count": 4,
   "metadata": {},
   "outputs": [],
   "source": [
    "html= requests.get(url, params=params, headers=headers)"
   ]
  },
  {
   "cell_type": "code",
   "execution_count": 6,
   "metadata": {},
   "outputs": [
    {
     "data": {
      "text/plain": [
       "requests.models.Response"
      ]
     },
     "execution_count": 6,
     "metadata": {},
     "output_type": "execute_result"
    }
   ],
   "source": [
    "type(html)"
   ]
  },
  {
   "cell_type": "code",
   "execution_count": 7,
   "metadata": {},
   "outputs": [
    {
     "data": {
      "text/plain": [
       "'UTF-8'"
      ]
     },
     "execution_count": 7,
     "metadata": {},
     "output_type": "execute_result"
    }
   ],
   "source": [
    "html.encoding"
   ]
  },
  {
   "cell_type": "code",
   "execution_count": 9,
   "metadata": {},
   "outputs": [],
   "source": [
    "dom= BeautifulSoup(html.text, \"lxml\")"
   ]
  },
  {
   "cell_type": "code",
   "execution_count": 10,
   "metadata": {},
   "outputs": [
    {
     "data": {
      "text/plain": [
       "bs4.BeautifulSoup"
      ]
     },
     "execution_count": 10,
     "metadata": {},
     "output_type": "execute_result"
    }
   ],
   "source": [
    "type(dom)"
   ]
  },
  {
   "cell_type": "code",
   "execution_count": 16,
   "metadata": {},
   "outputs": [],
   "source": [
    "aList =dom.select(\"div.rc > h3.r > a\")"
   ]
  },
  {
   "cell_type": "code",
   "execution_count": 20,
   "metadata": {},
   "outputs": [
    {
     "name": "stdout",
     "output_type": "stream",
     "text": [
      "<class 'bs4.element.Tag'>\n",
      "<class 'bs4.element.Tag'>\n",
      "<class 'bs4.element.Tag'>\n",
      "<class 'bs4.element.Tag'>\n",
      "<class 'bs4.element.Tag'>\n",
      "<class 'bs4.element.Tag'>\n",
      "<class 'bs4.element.Tag'>\n",
      "<class 'bs4.element.Tag'>\n",
      "<class 'bs4.element.Tag'>\n"
     ]
    }
   ],
   "source": [
    "for row in aList:\n",
    "    print(type(row))"
   ]
  },
  {
   "cell_type": "code",
   "execution_count": 22,
   "metadata": {
    "scrolled": true
   },
   "outputs": [
    {
     "name": "stdout",
     "output_type": "stream",
     "text": [
      "http://www.hancom.com/downLoad.downPU.do\n",
      "https://www.hancom.com/product/productWindowsMain.do\n",
      "https://namu.wiki/w/%ED%95%9C%EA%B8%80\n",
      "https://ko.wikipedia.org/wiki/%ED%95%9C%EA%B8%80\n",
      "https://ko.wikibooks.org/wiki/%ED%95%9C%EA%B5%AD%EC%96%B4_%EC%9E%85%EB%AC%B8/%ED%95%9C%EA%B8%80_%EC%9E%90%EB%AA%A8\n",
      "https://www.korean.go.kr/hangeul/principle/001.html\n",
      "https://www1.president.go.kr/petitions/154276\n",
      "http://www.kocca.kr/cop/bbs/view/B0000137/1833364.do?menuNo=200827&noticevent=Y\n",
      "https://www.microsoft.com/ko-kr/download/details.aspx?id=36772\n"
     ]
    }
   ],
   "source": [
    "for row in aList:\n",
    "    print(row[\"href\"])"
   ]
  },
  {
   "cell_type": "code",
   "execution_count": 44,
   "metadata": {},
   "outputs": [],
   "source": [
    "def getUrl(url, params=None, select=\"a\", num_retrive=2):#구글 외의 사이트에서는 a만 찾아오게 한다\n",
    "    html= requests.get(url, params=params, headers=headers)\n",
    "    \n",
    "    if 500<=html.status_code<600 and num_retrive>0:\n",
    "        print(html.status_code, html.reason)\n",
    "        return getUrl(url, params=params, num_retrive=num_retrive-1)\n",
    "    \n",
    "    dom= BeautifulSoup(html.text, \"lxml\")\n",
    "    links =dom.select(select)#div의 name이 rc, 그밑에 h3의 name이 r, 그 밑의 a를 찾는다\n",
    "    \n",
    "    return [link[\"href\"] for link in links if link.has_attr(\"href\")==True]"
   ]
  },
  {
   "cell_type": "code",
   "execution_count": 45,
   "metadata": {},
   "outputs": [],
   "source": [
    "link = getUrl(url, params)"
   ]
  },
  {
   "cell_type": "code",
   "execution_count": 42,
   "metadata": {},
   "outputs": [
    {
     "data": {
      "text/plain": [
       "9"
      ]
     },
     "execution_count": 42,
     "metadata": {},
     "output_type": "execute_result"
    }
   ],
   "source": [
    "len(link)"
   ]
  },
  {
   "cell_type": "code",
   "execution_count": null,
   "metadata": {
    "scrolled": false
   },
   "outputs": [],
   "source": [
    "link"
   ]
  },
  {
   "cell_type": "code",
   "execution_count": 35,
   "metadata": {},
   "outputs": [],
   "source": [
    "seed=\"https://www.google.com/search?\"\n",
    "select=\"div.rc > h3.r > a\"\n",
    "queue=[seed]"
   ]
  },
  {
   "cell_type": "code",
   "execution_count": 46,
   "metadata": {},
   "outputs": [
    {
     "name": "stdout",
     "output_type": "stream",
     "text": [
      "['http://www.hancom.com/downLoad.downPU.do', 'https://www.hancom.com/product/productWindowsMain.do', 'https://namu.wiki/w/%ED%95%9C%EA%B8%80', 'https://ko.wikipedia.org/wiki/%ED%95%9C%EA%B8%80', 'https://ko.wikibooks.org/wiki/%ED%95%9C%EA%B5%AD%EC%96%B4_%EC%9E%85%EB%AC%B8/%ED%95%9C%EA%B8%80_%EC%9E%90%EB%AA%A8', 'https://www.korean.go.kr/hangeul/principle/001.html', '#cont_view', '#sitemap', 'http://www.president.go.kr', '/calendar', '/calendar', '/president-journey', '/c/president-speeches', '/c/first-lady-quotations', '/live-speeches', '/live-speeches', '/c/briefings', '/c/oversea-journals', '/c/blue-house-stories', '/TodayShot', '/history', '/policies', '/policies', 'http://www.korea.kr/policy/actuallyList.do?pWise=main&pWiseMain=A25', '/government-projects', '/GovReport2018', '/c/numerical-government', '/event', '/event', '/Amendment', '/forums', '/petitions', 'http://epeople.go.kr', 'http://mybudget.go.kr', 'https://www.hrdb.go.kr/mrfnRcog/retrieveHRORecommandIntro.do', 'http://open.pss.go.kr', '/about/roi', '/about/roi', 'https://dashboard.jobs.go.kr', '/about/organization', '/budgets', '/Verification', 'http://pa.go.kr/', '/about/location?where=desk', '/tours/about', 'http://english.president.go.kr', 'http://www1.president.go.kr/', 'http://www1.president.go.kr/calendar', 'http://www1.president.go.kr/president-journey', 'http://www1.president.go.kr/c/president-speeches', 'http://www1.president.go.kr/c/first-lady-quotations', 'http://www1.president.go.kr/live-speeches', 'http://www1.president.go.kr/c/briefings', 'http://www1.president.go.kr/c/oversea-journals', 'http://www1.president.go.kr/c/blue-house-stories', 'http://www1.president.go.kr/TodayShot', 'http://www1.president.go.kr/history', 'http://www1.president.go.kr/policies', 'http://www.korea.kr/policy/actuallyList.do?pWise=main&pWiseMain=A25', 'http://www1.president.go.kr/government-projects', 'http://www1.president.go.kr/GovReport2018', 'http://www1.president.go.kr/c/numerical-government', 'https://www1.president.go.kr/event', 'http://www1.president.go.kr/Amendment', 'http://www1.president.go.kr/forums', 'http://www1.president.go.kr/petitions', 'http://epeople.go.kr', 'http://mybudget.go.kr', 'https://www.hrdb.go.kr/mrfnRcog/retrieveHRORecommandIntro.do', 'http://open.pss.go.kr', 'http://www1.president.go.kr/about/roi', 'https://dashboard.jobs.go.kr', 'http://www1.president.go.kr/about/organization', 'http://www1.president.go.kr/budgets', 'http://www1.president.go.kr/Verification', 'http://pa.go.kr/', 'http://www1.president.go.kr/about/location?where=desk', 'http://www1.president.go.kr/petitions', 'http://www1.president.go.kr/petitions?order=best', 'http://www1.president.go.kr/petitions/category', 'http://www1.president.go.kr/petitions/answer', 'http://sminfo.mss.go.kr/#fnSub11', 'https://www.facebook.com/sharer/sharer.php?u=https://www1.president.go.kr/petitions/154276', 'https://twitter.com/intent/tweet?text=공공기관 한글(HWP) 독점을 금지시켜 주세요&url=https://www1.president.go.kr/petitions/154276', 'https://telegram.me/share/url?url=https://www1.president.go.kr/petitions/154276&text=공공기관 한글(HWP) 독점을 금지시켜 주세요', 'javascript:void(0);', 'https://www1.president.go.kr/petitions/154276?q=%ED%95%9C%EA%B8%80&only=search&page=2', 'https://www1.president.go.kr/petitions/154276?q=%ED%95%9C%EA%B8%80&only=search&page=3', 'https://www1.president.go.kr/petitions/154276?q=%ED%95%9C%EA%B8%80&only=search&page=4', 'https://www1.president.go.kr/petitions/154276?q=%ED%95%9C%EA%B8%80&only=search&page=5', 'https://www1.president.go.kr/petitions/154276?q=%ED%95%9C%EA%B8%80&only=search&page=6', 'https://www1.president.go.kr/petitions/154276?q=%ED%95%9C%EA%B8%80&only=search&page=7', 'https://www1.president.go.kr/petitions/154276?q=%ED%95%9C%EA%B8%80&only=search&page=2', 'https://www1.president.go.kr/event', '/petitions/282903', '/petitions/272632', '/petitions/273112', '/petitions/284845', '/petitions/281200', '/petitions/270921', '/petitions/236397', '/petitions/231701', '/petitions/199622', '/petitions/199778', '/petitions/219348', '/petitions/201953', '/TodayShot', '#', 'https://www.facebook.com/TheBlueHouseKR', 'https://twitter.com/TheBlueHouseKR', 'https://www.instagram.com/thebluehouse_kr/', 'https://www.youtube.com/TheBlueHouseKR', 'https://pf.kakao.com/_tQbxhd', 'http://www1.president.go.kr/calendar', 'http://www1.president.go.kr/calendar', 'http://www1.president.go.kr/president-journey', 'http://www1.president.go.kr/c/president-speeches', 'http://www1.president.go.kr/c/first-lady-quotations', 'http://www1.president.go.kr/live-speeches', 'http://www1.president.go.kr/live-speeches', 'http://www1.president.go.kr/c/briefings', 'http://www1.president.go.kr/c/oversea-journals', 'http://www1.president.go.kr/c/blue-house-stories', 'http://www1.president.go.kr/TodayShot', 'http://www1.president.go.kr/history', 'http://www1.president.go.kr/policies', 'http://www1.president.go.kr/policies', 'http://www.korea.kr/policy/actuallyList.do?pWise=main&pWiseMain=A25', 'http://www1.president.go.kr/government-projects', 'http://www1.president.go.kr/GovReport2018', 'http://www1.president.go.kr/c/numerical-government', 'https://www1.president.go.kr/event', 'https://www1.president.go.kr/event', 'http://www1.president.go.kr/Amendment', 'http://www1.president.go.kr/forums', 'http://www1.president.go.kr/petitions', 'http://epeople.go.kr', 'http://mybudget.go.kr', 'https://www.hrdb.go.kr/mrfnRcog/retrieveHRORecommandIntro.do', 'http://open.pss.go.kr', 'http://www1.president.go.kr/about/roi', 'http://www1.president.go.kr/about/roi', 'https://dashboard.jobs.go.kr', 'http://www1.president.go.kr/about/organization', 'http://www1.president.go.kr/budgets', 'http://www1.president.go.kr/Verification', 'http://pa.go.kr/', 'http://www1.president.go.kr/about/location?where=desk', '/tours/about', 'https://www.facebook.com/TheBlueHouseKR', 'https://blog.naver.com/thebluehousekr', 'https://twitter.com/TheBlueHouseKR', 'https://www.instagram.com/thebluehouse_kr/', 'https://www.youtube.com/TheBlueHouseKR', 'tel:02-730-5800', 'mailto:webmaster@president.go.kr', 'http://www1.president.go.kr/about/privacy', 'http://www1.president.go.kr/about/copyright', 'http://www1.president.go.kr/sitemap', 'http://www1.president.go.kr/about/location', 'http://www.epeople.go.kr/']\n"
     ]
    }
   ],
   "source": [
    "while queue:\n",
    "    url = queue.pop()\n",
    "    queue.extend(getUrl(url,params,select))#append는 list안의 list가 된다\n",
    "    select=\"a\"\n",
    "    print(queue)\n",
    "    break"
   ]
  },
  {
   "cell_type": "code",
   "execution_count": 48,
   "metadata": {},
   "outputs": [
    {
     "name": "stdout",
     "output_type": "stream",
     "text": [
      "https://www.google.co.kr/intl/ko/options/ 0\n",
      "https://earth.google.com/web/ 0\n",
      "https://keep.google.com/ 4\n",
      "https://hangouts.google.com/ 36\n",
      "https://www.blogger.com/?tab=wj 53\n",
      "https://books.google.co.kr/bkshp?hl=ko&tab=wp 156\n",
      "https://docs.google.com/document/?usp=docs_alc 160\n",
      "https://www.google.co.kr/intl/ko/options/ 160\n",
      "https://photos.google.com/?tab=wq&pageId=none 178\n",
      "https://translate.google.co.kr/?hl=ko&tab=wT 215\n",
      "https://plus.google.com/?gpsrc=ogpy0&tab=wX 376\n",
      "https://www.google.com/calendar?tab=wc 380\n",
      "https://drive.google.com/?tab=wo 429\n",
      "https://www.google.com/contacts/?hl=ko&tab=wC 433\n",
      "https://mail.google.com/mail/?tab=wm 437\n",
      "https://news.google.co.kr/nwshp?hl=ko&tab=wn 756\n",
      "https://play.google.com/?hl=ko&tab=w8 1451\n",
      "https://www.youtube.com/?gl=KR 1463\n",
      "https://maps.google.co.kr/maps?hl=ko&tab=wl 1464\n",
      "https://www.google.co.kr/webhp?tab=ww 1503\n",
      "https://myaccount.google.com/?utm_source=OGB&utm_medium=app 1599\n"
     ]
    },
    {
     "ename": "MissingSchema",
     "evalue": "Invalid URL '//www.google.com/intl/ko_kr/policies/terms/?fg=1': No schema supplied. Perhaps you meant http:////www.google.com/intl/ko_kr/policies/terms/?fg=1?",
     "output_type": "error",
     "traceback": [
      "\u001b[1;31m---------------------------------------------------------------------------\u001b[0m",
      "\u001b[1;31mMissingSchema\u001b[0m                             Traceback (most recent call last)",
      "\u001b[1;32m<ipython-input-48-7d3e9173bc3a>\u001b[0m in \u001b[0;36m<module>\u001b[1;34m()\u001b[0m\n\u001b[0;32m      4\u001b[0m \u001b[1;32mwhile\u001b[0m \u001b[0mqueue\u001b[0m\u001b[1;33m:\u001b[0m\u001b[1;33m\u001b[0m\u001b[0m\n\u001b[0;32m      5\u001b[0m     \u001b[0murl\u001b[0m \u001b[1;33m=\u001b[0m \u001b[0mqueue\u001b[0m\u001b[1;33m.\u001b[0m\u001b[0mpop\u001b[0m\u001b[1;33m(\u001b[0m\u001b[1;33m)\u001b[0m\u001b[1;33m\u001b[0m\u001b[0m\n\u001b[1;32m----> 6\u001b[1;33m     \u001b[0mresult\u001b[0m\u001b[1;33m.\u001b[0m\u001b[0mextend\u001b[0m\u001b[1;33m(\u001b[0m\u001b[0mgetUrl\u001b[0m\u001b[1;33m(\u001b[0m\u001b[0murl\u001b[0m\u001b[1;33m,\u001b[0m\u001b[0mparams\u001b[0m\u001b[1;33m)\u001b[0m\u001b[1;33m)\u001b[0m\u001b[1;31m#append는 list안의 list가 된다\u001b[0m\u001b[1;33m\u001b[0m\u001b[0m\n\u001b[0m\u001b[0;32m      7\u001b[0m     \u001b[0mprint\u001b[0m\u001b[1;33m(\u001b[0m\u001b[0murl\u001b[0m\u001b[1;33m,\u001b[0m\u001b[0mlen\u001b[0m\u001b[1;33m(\u001b[0m\u001b[0mresult\u001b[0m\u001b[1;33m)\u001b[0m\u001b[1;33m)\u001b[0m\u001b[1;33m\u001b[0m\u001b[0m\n\u001b[0;32m      8\u001b[0m     \u001b[1;31m#break\u001b[0m\u001b[1;33m\u001b[0m\u001b[1;33m\u001b[0m\u001b[0m\n",
      "\u001b[1;32m<ipython-input-44-b2db1e001b46>\u001b[0m in \u001b[0;36mgetUrl\u001b[1;34m(url, params, select, num_retrive)\u001b[0m\n\u001b[0;32m      1\u001b[0m \u001b[1;32mdef\u001b[0m \u001b[0mgetUrl\u001b[0m\u001b[1;33m(\u001b[0m\u001b[0murl\u001b[0m\u001b[1;33m,\u001b[0m \u001b[0mparams\u001b[0m\u001b[1;33m=\u001b[0m\u001b[1;32mNone\u001b[0m\u001b[1;33m,\u001b[0m \u001b[0mselect\u001b[0m\u001b[1;33m=\u001b[0m\u001b[1;34m\"a\"\u001b[0m\u001b[1;33m,\u001b[0m \u001b[0mnum_retrive\u001b[0m\u001b[1;33m=\u001b[0m\u001b[1;36m2\u001b[0m\u001b[1;33m)\u001b[0m\u001b[1;33m:\u001b[0m\u001b[1;31m#구글 외의 사이트에서는 a만 찾아오게 한다\u001b[0m\u001b[1;33m\u001b[0m\u001b[0m\n\u001b[1;32m----> 2\u001b[1;33m     \u001b[0mhtml\u001b[0m\u001b[1;33m=\u001b[0m \u001b[0mrequests\u001b[0m\u001b[1;33m.\u001b[0m\u001b[0mget\u001b[0m\u001b[1;33m(\u001b[0m\u001b[0murl\u001b[0m\u001b[1;33m,\u001b[0m \u001b[0mparams\u001b[0m\u001b[1;33m=\u001b[0m\u001b[0mparams\u001b[0m\u001b[1;33m,\u001b[0m \u001b[0mheaders\u001b[0m\u001b[1;33m=\u001b[0m\u001b[0mheaders\u001b[0m\u001b[1;33m)\u001b[0m\u001b[1;33m\u001b[0m\u001b[0m\n\u001b[0m\u001b[0;32m      3\u001b[0m \u001b[1;33m\u001b[0m\u001b[0m\n\u001b[0;32m      4\u001b[0m     \u001b[1;32mif\u001b[0m \u001b[1;36m500\u001b[0m\u001b[1;33m<=\u001b[0m\u001b[0mhtml\u001b[0m\u001b[1;33m.\u001b[0m\u001b[0mstatus_code\u001b[0m\u001b[1;33m<\u001b[0m\u001b[1;36m600\u001b[0m \u001b[1;32mand\u001b[0m \u001b[0mnum_retrive\u001b[0m\u001b[1;33m>\u001b[0m\u001b[1;36m0\u001b[0m\u001b[1;33m:\u001b[0m\u001b[1;33m\u001b[0m\u001b[0m\n\u001b[0;32m      5\u001b[0m         \u001b[0mprint\u001b[0m\u001b[1;33m(\u001b[0m\u001b[0mhtml\u001b[0m\u001b[1;33m.\u001b[0m\u001b[0mstatus_code\u001b[0m\u001b[1;33m,\u001b[0m \u001b[0mhtml\u001b[0m\u001b[1;33m.\u001b[0m\u001b[0mreason\u001b[0m\u001b[1;33m)\u001b[0m\u001b[1;33m\u001b[0m\u001b[0m\n",
      "\u001b[1;32m~\\Anaconda3\\lib\\site-packages\\requests\\api.py\u001b[0m in \u001b[0;36mget\u001b[1;34m(url, params, **kwargs)\u001b[0m\n\u001b[0;32m     70\u001b[0m \u001b[1;33m\u001b[0m\u001b[0m\n\u001b[0;32m     71\u001b[0m     \u001b[0mkwargs\u001b[0m\u001b[1;33m.\u001b[0m\u001b[0msetdefault\u001b[0m\u001b[1;33m(\u001b[0m\u001b[1;34m'allow_redirects'\u001b[0m\u001b[1;33m,\u001b[0m \u001b[1;32mTrue\u001b[0m\u001b[1;33m)\u001b[0m\u001b[1;33m\u001b[0m\u001b[0m\n\u001b[1;32m---> 72\u001b[1;33m     \u001b[1;32mreturn\u001b[0m \u001b[0mrequest\u001b[0m\u001b[1;33m(\u001b[0m\u001b[1;34m'get'\u001b[0m\u001b[1;33m,\u001b[0m \u001b[0murl\u001b[0m\u001b[1;33m,\u001b[0m \u001b[0mparams\u001b[0m\u001b[1;33m=\u001b[0m\u001b[0mparams\u001b[0m\u001b[1;33m,\u001b[0m \u001b[1;33m**\u001b[0m\u001b[0mkwargs\u001b[0m\u001b[1;33m)\u001b[0m\u001b[1;33m\u001b[0m\u001b[0m\n\u001b[0m\u001b[0;32m     73\u001b[0m \u001b[1;33m\u001b[0m\u001b[0m\n\u001b[0;32m     74\u001b[0m \u001b[1;33m\u001b[0m\u001b[0m\n",
      "\u001b[1;32m~\\Anaconda3\\lib\\site-packages\\requests\\api.py\u001b[0m in \u001b[0;36mrequest\u001b[1;34m(method, url, **kwargs)\u001b[0m\n\u001b[0;32m     56\u001b[0m     \u001b[1;31m# cases, and look like a memory leak in others.\u001b[0m\u001b[1;33m\u001b[0m\u001b[1;33m\u001b[0m\u001b[0m\n\u001b[0;32m     57\u001b[0m     \u001b[1;32mwith\u001b[0m \u001b[0msessions\u001b[0m\u001b[1;33m.\u001b[0m\u001b[0mSession\u001b[0m\u001b[1;33m(\u001b[0m\u001b[1;33m)\u001b[0m \u001b[1;32mas\u001b[0m \u001b[0msession\u001b[0m\u001b[1;33m:\u001b[0m\u001b[1;33m\u001b[0m\u001b[0m\n\u001b[1;32m---> 58\u001b[1;33m         \u001b[1;32mreturn\u001b[0m \u001b[0msession\u001b[0m\u001b[1;33m.\u001b[0m\u001b[0mrequest\u001b[0m\u001b[1;33m(\u001b[0m\u001b[0mmethod\u001b[0m\u001b[1;33m=\u001b[0m\u001b[0mmethod\u001b[0m\u001b[1;33m,\u001b[0m \u001b[0murl\u001b[0m\u001b[1;33m=\u001b[0m\u001b[0murl\u001b[0m\u001b[1;33m,\u001b[0m \u001b[1;33m**\u001b[0m\u001b[0mkwargs\u001b[0m\u001b[1;33m)\u001b[0m\u001b[1;33m\u001b[0m\u001b[0m\n\u001b[0m\u001b[0;32m     59\u001b[0m \u001b[1;33m\u001b[0m\u001b[0m\n\u001b[0;32m     60\u001b[0m \u001b[1;33m\u001b[0m\u001b[0m\n",
      "\u001b[1;32m~\\Anaconda3\\lib\\site-packages\\requests\\sessions.py\u001b[0m in \u001b[0;36mrequest\u001b[1;34m(self, method, url, params, data, headers, cookies, files, auth, timeout, allow_redirects, proxies, hooks, stream, verify, cert, json)\u001b[0m\n\u001b[0;32m    492\u001b[0m             \u001b[0mhooks\u001b[0m\u001b[1;33m=\u001b[0m\u001b[0mhooks\u001b[0m\u001b[1;33m,\u001b[0m\u001b[1;33m\u001b[0m\u001b[0m\n\u001b[0;32m    493\u001b[0m         )\n\u001b[1;32m--> 494\u001b[1;33m         \u001b[0mprep\u001b[0m \u001b[1;33m=\u001b[0m \u001b[0mself\u001b[0m\u001b[1;33m.\u001b[0m\u001b[0mprepare_request\u001b[0m\u001b[1;33m(\u001b[0m\u001b[0mreq\u001b[0m\u001b[1;33m)\u001b[0m\u001b[1;33m\u001b[0m\u001b[0m\n\u001b[0m\u001b[0;32m    495\u001b[0m \u001b[1;33m\u001b[0m\u001b[0m\n\u001b[0;32m    496\u001b[0m         \u001b[0mproxies\u001b[0m \u001b[1;33m=\u001b[0m \u001b[0mproxies\u001b[0m \u001b[1;32mor\u001b[0m \u001b[1;33m{\u001b[0m\u001b[1;33m}\u001b[0m\u001b[1;33m\u001b[0m\u001b[0m\n",
      "\u001b[1;32m~\\Anaconda3\\lib\\site-packages\\requests\\sessions.py\u001b[0m in \u001b[0;36mprepare_request\u001b[1;34m(self, request)\u001b[0m\n\u001b[0;32m    435\u001b[0m             \u001b[0mauth\u001b[0m\u001b[1;33m=\u001b[0m\u001b[0mmerge_setting\u001b[0m\u001b[1;33m(\u001b[0m\u001b[0mauth\u001b[0m\u001b[1;33m,\u001b[0m \u001b[0mself\u001b[0m\u001b[1;33m.\u001b[0m\u001b[0mauth\u001b[0m\u001b[1;33m)\u001b[0m\u001b[1;33m,\u001b[0m\u001b[1;33m\u001b[0m\u001b[0m\n\u001b[0;32m    436\u001b[0m             \u001b[0mcookies\u001b[0m\u001b[1;33m=\u001b[0m\u001b[0mmerged_cookies\u001b[0m\u001b[1;33m,\u001b[0m\u001b[1;33m\u001b[0m\u001b[0m\n\u001b[1;32m--> 437\u001b[1;33m             \u001b[0mhooks\u001b[0m\u001b[1;33m=\u001b[0m\u001b[0mmerge_hooks\u001b[0m\u001b[1;33m(\u001b[0m\u001b[0mrequest\u001b[0m\u001b[1;33m.\u001b[0m\u001b[0mhooks\u001b[0m\u001b[1;33m,\u001b[0m \u001b[0mself\u001b[0m\u001b[1;33m.\u001b[0m\u001b[0mhooks\u001b[0m\u001b[1;33m)\u001b[0m\u001b[1;33m,\u001b[0m\u001b[1;33m\u001b[0m\u001b[0m\n\u001b[0m\u001b[0;32m    438\u001b[0m         )\n\u001b[0;32m    439\u001b[0m         \u001b[1;32mreturn\u001b[0m \u001b[0mp\u001b[0m\u001b[1;33m\u001b[0m\u001b[0m\n",
      "\u001b[1;32m~\\Anaconda3\\lib\\site-packages\\requests\\models.py\u001b[0m in \u001b[0;36mprepare\u001b[1;34m(self, method, url, headers, files, data, params, auth, cookies, hooks, json)\u001b[0m\n\u001b[0;32m    303\u001b[0m \u001b[1;33m\u001b[0m\u001b[0m\n\u001b[0;32m    304\u001b[0m         \u001b[0mself\u001b[0m\u001b[1;33m.\u001b[0m\u001b[0mprepare_method\u001b[0m\u001b[1;33m(\u001b[0m\u001b[0mmethod\u001b[0m\u001b[1;33m)\u001b[0m\u001b[1;33m\u001b[0m\u001b[0m\n\u001b[1;32m--> 305\u001b[1;33m         \u001b[0mself\u001b[0m\u001b[1;33m.\u001b[0m\u001b[0mprepare_url\u001b[0m\u001b[1;33m(\u001b[0m\u001b[0murl\u001b[0m\u001b[1;33m,\u001b[0m \u001b[0mparams\u001b[0m\u001b[1;33m)\u001b[0m\u001b[1;33m\u001b[0m\u001b[0m\n\u001b[0m\u001b[0;32m    306\u001b[0m         \u001b[0mself\u001b[0m\u001b[1;33m.\u001b[0m\u001b[0mprepare_headers\u001b[0m\u001b[1;33m(\u001b[0m\u001b[0mheaders\u001b[0m\u001b[1;33m)\u001b[0m\u001b[1;33m\u001b[0m\u001b[0m\n\u001b[0;32m    307\u001b[0m         \u001b[0mself\u001b[0m\u001b[1;33m.\u001b[0m\u001b[0mprepare_cookies\u001b[0m\u001b[1;33m(\u001b[0m\u001b[0mcookies\u001b[0m\u001b[1;33m)\u001b[0m\u001b[1;33m\u001b[0m\u001b[0m\n",
      "\u001b[1;32m~\\Anaconda3\\lib\\site-packages\\requests\\models.py\u001b[0m in \u001b[0;36mprepare_url\u001b[1;34m(self, url, params)\u001b[0m\n\u001b[0;32m    377\u001b[0m             \u001b[0merror\u001b[0m \u001b[1;33m=\u001b[0m \u001b[0merror\u001b[0m\u001b[1;33m.\u001b[0m\u001b[0mformat\u001b[0m\u001b[1;33m(\u001b[0m\u001b[0mto_native_string\u001b[0m\u001b[1;33m(\u001b[0m\u001b[0murl\u001b[0m\u001b[1;33m,\u001b[0m \u001b[1;34m'utf8'\u001b[0m\u001b[1;33m)\u001b[0m\u001b[1;33m)\u001b[0m\u001b[1;33m\u001b[0m\u001b[0m\n\u001b[0;32m    378\u001b[0m \u001b[1;33m\u001b[0m\u001b[0m\n\u001b[1;32m--> 379\u001b[1;33m             \u001b[1;32mraise\u001b[0m \u001b[0mMissingSchema\u001b[0m\u001b[1;33m(\u001b[0m\u001b[0merror\u001b[0m\u001b[1;33m)\u001b[0m\u001b[1;33m\u001b[0m\u001b[0m\n\u001b[0m\u001b[0;32m    380\u001b[0m \u001b[1;33m\u001b[0m\u001b[0m\n\u001b[0;32m    381\u001b[0m         \u001b[1;32mif\u001b[0m \u001b[1;32mnot\u001b[0m \u001b[0mhost\u001b[0m\u001b[1;33m:\u001b[0m\u001b[1;33m\u001b[0m\u001b[0m\n",
      "\u001b[1;31mMissingSchema\u001b[0m: Invalid URL '//www.google.com/intl/ko_kr/policies/terms/?fg=1': No schema supplied. Perhaps you meant http:////www.google.com/intl/ko_kr/policies/terms/?fg=1?"
     ]
    }
   ],
   "source": [
    "queue=getUrl(seed, params, select)\n",
    "result=list()\n",
    "\n",
    "while queue:\n",
    "    url = queue.pop()\n",
    "    result.extend(getUrl(url,params))#append는 list안의 list가 된다\n",
    "    print(url,len(result))\n",
    "    #break"
   ]
  },
  {
   "cell_type": "code",
   "execution_count": null,
   "metadata": {},
   "outputs": [],
   "source": []
  }
 ],
 "metadata": {
  "kernelspec": {
   "display_name": "Python 3",
   "language": "python",
   "name": "python3"
  },
  "language_info": {
   "codemirror_mode": {
    "name": "ipython",
    "version": 3
   },
   "file_extension": ".py",
   "mimetype": "text/x-python",
   "name": "python",
   "nbconvert_exporter": "python",
   "pygments_lexer": "ipython3",
   "version": "3.6.5"
  }
 },
 "nbformat": 4,
 "nbformat_minor": 2
}
