{
 "cells": [
  {
   "cell_type": "code",
   "execution_count": 3,
   "metadata": {},
   "outputs": [
    {
     "name": "stdout",
     "output_type": "stream",
     "text": [
      "Overwriting test.html\n"
     ]
    }
   ],
   "source": [
    "%%writefile test.html\n",
    "<!doctype html>\n",
    "<html lang=\"ko\">\n",
    "    <head>\n",
    "        <meta charset=\"UTF-8\"/>\n",
    "        <title>예제</title>\n",
    "        <meta name=\"viewpoint\" content=\"width=device-width, initial-scale=1.0\"/>\n",
    "        <meta name=\"keyword\" content=\"실습, 데이터 진흥원, 노잼\"/>\n",
    "        <script>\n",
    "            var car={\n",
    "                \"make\":\"volkswagen\",\n",
    "                year:2013,\n",
    "                \"car\":{\n",
    "                    \"name\":\"abc\",\n",
    "                    \"aaaa\":\"bbbb\"\n",
    "                }\n",
    "            }\n",
    "            car.list=[\"a\",\"b\"]\n",
    "            console.log(car)\n",
    "        </script>\n",
    "        <style></style>\n",
    "    </head>\n",
    "\n",
    "    <body>\n",
    "    \n",
    "    </body>\n",
    "</html>"
   ]
  },
  {
   "cell_type": "code",
   "execution_count": 4,
   "metadata": {},
   "outputs": [],
   "source": [
    "import json"
   ]
  },
  {
   "cell_type": "code",
   "execution_count": 5,
   "metadata": {},
   "outputs": [
    {
     "data": {
      "text/plain": [
       "['JSONDecodeError',\n",
       " 'JSONDecoder',\n",
       " 'JSONEncoder',\n",
       " '__all__',\n",
       " '__author__',\n",
       " '__builtins__',\n",
       " '__cached__',\n",
       " '__doc__',\n",
       " '__file__',\n",
       " '__loader__',\n",
       " '__name__',\n",
       " '__package__',\n",
       " '__path__',\n",
       " '__spec__',\n",
       " '__version__',\n",
       " '_default_decoder',\n",
       " '_default_encoder',\n",
       " 'codecs',\n",
       " 'decoder',\n",
       " 'detect_encoding',\n",
       " 'dump',\n",
       " 'dumps',\n",
       " 'encoder',\n",
       " 'load',\n",
       " 'loads',\n",
       " 'scanner']"
      ]
     },
     "execution_count": 5,
     "metadata": {},
     "output_type": "execute_result"
    }
   ],
   "source": [
    "dir(json)"
   ]
  },
  {
   "cell_type": "code",
   "execution_count": 9,
   "metadata": {},
   "outputs": [],
   "source": [
    "name=(\"kim\", \"lee\", \"park\")"
   ]
  },
  {
   "cell_type": "code",
   "execution_count": 10,
   "metadata": {},
   "outputs": [
    {
     "data": {
      "text/plain": [
       "tuple"
      ]
     },
     "execution_count": 10,
     "metadata": {},
     "output_type": "execute_result"
    }
   ],
   "source": [
    "type(name)"
   ]
  },
  {
   "cell_type": "code",
   "execution_count": 11,
   "metadata": {},
   "outputs": [],
   "source": [
    "age=[1,2,3]"
   ]
  },
  {
   "cell_type": "code",
   "execution_count": 12,
   "metadata": {},
   "outputs": [
    {
     "data": {
      "text/plain": [
       "list"
      ]
     },
     "execution_count": 12,
     "metadata": {},
     "output_type": "execute_result"
    }
   ],
   "source": [
    "type(age)"
   ]
  },
  {
   "cell_type": "code",
   "execution_count": 13,
   "metadata": {},
   "outputs": [],
   "source": [
    "person={\"name\":\"kim\", \"age\":28, \"car\":False}"
   ]
  },
  {
   "cell_type": "code",
   "execution_count": 14,
   "metadata": {},
   "outputs": [],
   "source": [
    "nameStr=json.dumps(name)"
   ]
  },
  {
   "cell_type": "code",
   "execution_count": 15,
   "metadata": {},
   "outputs": [
    {
     "data": {
      "text/plain": [
       "str"
      ]
     },
     "execution_count": 15,
     "metadata": {},
     "output_type": "execute_result"
    }
   ],
   "source": [
    "type(nameStr)"
   ]
  },
  {
   "cell_type": "code",
   "execution_count": 16,
   "metadata": {},
   "outputs": [
    {
     "data": {
      "text/plain": [
       "'[\"kim\", \"lee\", \"park\"]'"
      ]
     },
     "execution_count": 16,
     "metadata": {},
     "output_type": "execute_result"
    }
   ],
   "source": [
    "nameStr"
   ]
  },
  {
   "cell_type": "code",
   "execution_count": 18,
   "metadata": {},
   "outputs": [],
   "source": [
    "personStr=json.dumps(person, indent=\"    \")"
   ]
  },
  {
   "cell_type": "code",
   "execution_count": 19,
   "metadata": {},
   "outputs": [
    {
     "name": "stdout",
     "output_type": "stream",
     "text": [
      "{\n",
      "    \"name\": \"kim\",\n",
      "    \"age\": 28,\n",
      "    \"car\": false\n",
      "}\n"
     ]
    }
   ],
   "source": [
    "print(personStr)"
   ]
  },
  {
   "cell_type": "code",
   "execution_count": 20,
   "metadata": {},
   "outputs": [
    {
     "name": "stdout",
     "output_type": "stream",
     "text": [
      "[\"kim\", \"lee\", \"park\"]\n"
     ]
    }
   ],
   "source": [
    "print(nameStr)"
   ]
  },
  {
   "cell_type": "code",
   "execution_count": 21,
   "metadata": {},
   "outputs": [
    {
     "data": {
      "text/plain": [
       "str"
      ]
     },
     "execution_count": 21,
     "metadata": {},
     "output_type": "execute_result"
    }
   ],
   "source": [
    "type(personStr)"
   ]
  },
  {
   "cell_type": "code",
   "execution_count": 22,
   "metadata": {},
   "outputs": [],
   "source": [
    "korean = (\"김\",\"이\",\"박\")"
   ]
  },
  {
   "cell_type": "code",
   "execution_count": 25,
   "metadata": {},
   "outputs": [],
   "source": [
    "koreanStr=json.dumps(korean, ensure_ascii=False)"
   ]
  },
  {
   "cell_type": "code",
   "execution_count": 26,
   "metadata": {},
   "outputs": [
    {
     "name": "stdout",
     "output_type": "stream",
     "text": [
      "[\"김\", \"이\", \"박\"]\n"
     ]
    }
   ],
   "source": [
    "print(koreanStr, )"
   ]
  },
  {
   "cell_type": "code",
   "execution_count": 27,
   "metadata": {},
   "outputs": [],
   "source": [
    "personObj=json.loads(personStr)"
   ]
  },
  {
   "cell_type": "code",
   "execution_count": 29,
   "metadata": {},
   "outputs": [
    {
     "data": {
      "text/plain": [
       "dict"
      ]
     },
     "execution_count": 29,
     "metadata": {},
     "output_type": "execute_result"
    }
   ],
   "source": [
    "type(personObj)"
   ]
  },
  {
   "cell_type": "code",
   "execution_count": 32,
   "metadata": {},
   "outputs": [
    {
     "data": {
      "text/plain": [
       "'kim'"
      ]
     },
     "execution_count": 32,
     "metadata": {},
     "output_type": "execute_result"
    }
   ],
   "source": [
    "personObj[\"name\"]"
   ]
  },
  {
   "cell_type": "code",
   "execution_count": 33,
   "metadata": {},
   "outputs": [
    {
     "data": {
      "text/plain": [
       "True"
      ]
     },
     "execution_count": 33,
     "metadata": {},
     "output_type": "execute_result"
    }
   ],
   "source": [
    "person==personObj"
   ]
  },
  {
   "cell_type": "code",
   "execution_count": 34,
   "metadata": {},
   "outputs": [],
   "source": [
    "personObj[\"car\"]=[\"레이\",\"모닝\"]"
   ]
  },
  {
   "cell_type": "code",
   "execution_count": 35,
   "metadata": {},
   "outputs": [
    {
     "data": {
      "text/plain": [
       "{'name': 'kim', 'age': 28, 'car': ['레이', '모닝']}"
      ]
     },
     "execution_count": 35,
     "metadata": {},
     "output_type": "execute_result"
    }
   ],
   "source": [
    "personObj"
   ]
  },
  {
   "cell_type": "code",
   "execution_count": 36,
   "metadata": {},
   "outputs": [],
   "source": [
    "with open(\"test.json\",\"w\")as fp:\n",
    "    json.dump(personObj, fp)"
   ]
  },
  {
   "cell_type": "code",
   "execution_count": 42,
   "metadata": {},
   "outputs": [],
   "source": [
    "with open(\"test.json\",\"r\") as fp:\n",
    "    loadObj=json.load(fp)#s가 붙으면 메모리상에서 작업한다는 의미이고 없으면 파일에서 작업한다는 의미"
   ]
  },
  {
   "cell_type": "code",
   "execution_count": 43,
   "metadata": {},
   "outputs": [
    {
     "data": {
      "text/plain": [
       "{'name': 'kim', 'age': 28, 'car': ['레이', '모닝']}"
      ]
     },
     "execution_count": 43,
     "metadata": {},
     "output_type": "execute_result"
    }
   ],
   "source": [
    "loadObj"
   ]
  },
  {
   "cell_type": "code",
   "execution_count": 44,
   "metadata": {},
   "outputs": [
    {
     "data": {
      "text/plain": [
       "True"
      ]
     },
     "execution_count": 44,
     "metadata": {},
     "output_type": "execute_result"
    }
   ],
   "source": [
    "personObj==loadObj"
   ]
  },
  {
   "cell_type": "code",
   "execution_count": 45,
   "metadata": {},
   "outputs": [],
   "source": [
    "import urllib.request"
   ]
  },
  {
   "cell_type": "code",
   "execution_count": 56,
   "metadata": {},
   "outputs": [],
   "source": [
    "resp=urllib.request.urlopen(\"https://jsonplaceholder.typicode.com/posts/1\")"
   ]
  },
  {
   "cell_type": "code",
   "execution_count": 57,
   "metadata": {},
   "outputs": [],
   "source": [
    "text=resp.read()"
   ]
  },
  {
   "cell_type": "code",
   "execution_count": 58,
   "metadata": {},
   "outputs": [
    {
     "data": {
      "text/plain": [
       "str"
      ]
     },
     "execution_count": 58,
     "metadata": {},
     "output_type": "execute_result"
    }
   ],
   "source": [
    "type(textStr)"
   ]
  },
  {
   "cell_type": "code",
   "execution_count": 59,
   "metadata": {},
   "outputs": [
    {
     "name": "stdout",
     "output_type": "stream",
     "text": [
      "{\n",
      "  \"userId\": 1,\n",
      "  \"id\": 1,\n",
      "  \"title\": \"sunt aut facere repellat provident occaecati excepturi optio reprehenderit\",\n",
      "  \"body\": \"quia et suscipit\\nsuscipit recusandae consequuntur expedita et cum\\nreprehenderit molestiae ut ut quas totam\\nnostrum rerum est autem sunt rem eveniet architecto\"\n",
      "}\n"
     ]
    }
   ],
   "source": [
    "textStr=text.decode(\"utf-8\")\n",
    "print(textStr)"
   ]
  },
  {
   "cell_type": "code",
   "execution_count": 60,
   "metadata": {},
   "outputs": [],
   "source": [
    "resp=json.loads(textStr)"
   ]
  },
  {
   "cell_type": "code",
   "execution_count": 62,
   "metadata": {},
   "outputs": [
    {
     "data": {
      "text/plain": [
       "dict"
      ]
     },
     "execution_count": 62,
     "metadata": {},
     "output_type": "execute_result"
    }
   ],
   "source": [
    "type(resp)"
   ]
  },
  {
   "cell_type": "code",
   "execution_count": 63,
   "metadata": {},
   "outputs": [
    {
     "name": "stdout",
     "output_type": "stream",
     "text": [
      "{'userId': 1, 'id': 1, 'title': 'sunt aut facere repellat provident occaecati excepturi optio reprehenderit', 'body': 'quia et suscipit\\nsuscipit recusandae consequuntur expedita et cum\\nreprehenderit molestiae ut ut quas totam\\nnostrum rerum est autem sunt rem eveniet architecto'}\n"
     ]
    }
   ],
   "source": [
    "print(resp)"
   ]
  },
  {
   "cell_type": "code",
   "execution_count": 64,
   "metadata": {},
   "outputs": [
    {
     "data": {
      "text/plain": [
       "'sunt aut facere repellat provident occaecati excepturi optio reprehenderit'"
      ]
     },
     "execution_count": 64,
     "metadata": {},
     "output_type": "execute_result"
    }
   ],
   "source": [
    "resp[\"title\"]"
   ]
  },
  {
   "cell_type": "code",
   "execution_count": 68,
   "metadata": {},
   "outputs": [
    {
     "name": "stdout",
     "output_type": "stream",
     "text": [
      "<class 'int'>\n",
      "userId : 1 \n",
      "\n",
      "<class 'int'>\n",
      "id : 1 \n",
      "\n",
      "<class 'str'>\n",
      "title : sunt aut facere repellat provident occaecati excepturi optio reprehenderit \n",
      "\n",
      "<class 'str'>\n",
      "body : quia et suscipit\n",
      "suscipit recusandae consequuntur expedita et cum\n",
      "reprehenderit molestiae ut ut quas totam\n",
      "nostrum rerum est autem sunt rem eveniet architecto \n",
      "\n"
     ]
    }
   ],
   "source": [
    "for (i,j) in resp.items():\n",
    "    print(type(j))\n",
    "    print(i,\":\",j,\"\\n\")"
   ]
  },
  {
   "cell_type": "code",
   "execution_count": null,
   "metadata": {},
   "outputs": [],
   "source": [
    "http://openapi.airkorea.or.kr/openapi/services/rest/ArpltnInforInqireSvc/getMsrstnAcctoRltmMesureDnsty\n",
    "    ?serviceKey=vMczsU44uukLKVuQWTXfD5kbAmvI0%2BeNQskR5BBR6r6qgoos6%2FJYLPa5pVhMyRokRDIh5kka%2F58NNDxsEhjj%2Fw%3D%3D\n",
    "    &numOfRows=10\n",
    "    &pageSize=10\n",
    "    &pageNo=1\n",
    "    &startPage=1\n",
    "    &stationName=%EB%B0%B1%EC%84%9D%EB%8F%99\n",
    "    &dataTerm=DAILY\n",
    "    &ver=1.3%20\n",
    "    &_returnType=json"
   ]
  },
  {
   "cell_type": "code",
   "execution_count": 136,
   "metadata": {},
   "outputs": [],
   "source": [
    "params={\"serviceKey\":\"vMczsU44uukLKVuQWTXfD5kbAmvI0%2BeNQskR5BBR6r6qgoos6%2FJYLPa5pVhMyRokRDIh5kka%2F58NNDxsEhjj%2Fw%3D%3D\",\n",
    "        \"numOfRows\":10,\n",
    "        \"pageSize\":10,\n",
    "        \"pageNo\":1,\n",
    "        \"startPage\":1,\n",
    "        \"sidoName\":None,\n",
    "        \"searchCondition\":\"DAILY\",\n",
    "        \"ver\":\"1.3\",\n",
    "        \"_returnType\":\"json\"\n",
    "}"
   ]
  },
  {
   "cell_type": "code",
   "execution_count": 137,
   "metadata": {},
   "outputs": [],
   "source": [
    "params[\"sidoName\"]=\"서울\""
   ]
  },
  {
   "cell_type": "code",
   "execution_count": 138,
   "metadata": {},
   "outputs": [
    {
     "data": {
      "text/plain": [
       "{'serviceKey': 'vMczsU44uukLKVuQWTXfD5kbAmvI0%2BeNQskR5BBR6r6qgoos6%2FJYLPa5pVhMyRokRDIh5kka%2F58NNDxsEhjj%2Fw%3D%3D',\n",
       " 'numOfRows': 10,\n",
       " 'pageSize': 10,\n",
       " 'pageNo': 1,\n",
       " 'startPage': 1,\n",
       " 'sidoName': '서울',\n",
       " 'searchCondition': 'DAILY',\n",
       " 'ver': '1.3',\n",
       " '_returnType': 'json'}"
      ]
     },
     "execution_count": 138,
     "metadata": {},
     "output_type": "execute_result"
    }
   ],
   "source": [
    "params"
   ]
  },
  {
   "cell_type": "code",
   "execution_count": 139,
   "metadata": {},
   "outputs": [],
   "source": [
    "url=\"http://openapi.airkorea.or.kr/openapi/services/rest/ArpltnInforInqireSvc/getCtprvnMesureSidoLIst\""
   ]
  },
  {
   "cell_type": "code",
   "execution_count": 140,
   "metadata": {},
   "outputs": [],
   "source": [
    "from urllib import parse"
   ]
  },
  {
   "cell_type": "code",
   "execution_count": 141,
   "metadata": {},
   "outputs": [
    {
     "data": {
      "text/plain": [
       "'vMczsU44uukLKVuQWTXfD5kbAmvI0+eNQskR5BBR6r6qgoos6/JYLPa5pVhMyRokRDIh5kka/58NNDxsEhjj/w=='"
      ]
     },
     "execution_count": 141,
     "metadata": {},
     "output_type": "execute_result"
    }
   ],
   "source": [
    "params[\"serviceKey\"]=urllib.parse.unquote(params[\"serviceKey\"])\n",
    "params[\"serviceKey\"]"
   ]
  },
  {
   "cell_type": "code",
   "execution_count": 142,
   "metadata": {},
   "outputs": [],
   "source": [
    "paramUrl=parse.urlencode(params)"
   ]
  },
  {
   "cell_type": "code",
   "execution_count": 143,
   "metadata": {},
   "outputs": [
    {
     "data": {
      "text/plain": [
       "'serviceKey=vMczsU44uukLKVuQWTXfD5kbAmvI0%2BeNQskR5BBR6r6qgoos6%2FJYLPa5pVhMyRokRDIh5kka%2F58NNDxsEhjj%2Fw%3D%3D&numOfRows=10&pageSize=10&pageNo=1&startPage=1&sidoName=%EC%84%9C%EC%9A%B8&searchCondition=DAILY&ver=1.3&_returnType=json'"
      ]
     },
     "execution_count": 143,
     "metadata": {},
     "output_type": "execute_result"
    }
   ],
   "source": [
    "paramUrl"
   ]
  },
  {
   "cell_type": "code",
   "execution_count": 144,
   "metadata": {},
   "outputs": [
    {
     "data": {
      "text/plain": [
       "str"
      ]
     },
     "execution_count": 144,
     "metadata": {},
     "output_type": "execute_result"
    }
   ],
   "source": [
    "type(paramUrl)"
   ]
  },
  {
   "cell_type": "code",
   "execution_count": 145,
   "metadata": {},
   "outputs": [],
   "source": [
    "paramBytes=paramUrl.encode(\"utf-8\")"
   ]
  },
  {
   "cell_type": "code",
   "execution_count": 146,
   "metadata": {},
   "outputs": [
    {
     "data": {
      "text/plain": [
       "bytes"
      ]
     },
     "execution_count": 146,
     "metadata": {},
     "output_type": "execute_result"
    }
   ],
   "source": [
    "type(paramBytes)"
   ]
  },
  {
   "cell_type": "code",
   "execution_count": 147,
   "metadata": {
    "scrolled": true
   },
   "outputs": [
    {
     "name": "stdout",
     "output_type": "stream",
     "text": [
      "b'serviceKey=vMczsU44uukLKVuQWTXfD5kbAmvI0%2BeNQskR5BBR6r6qgoos6%2FJYLPa5pVhMyRokRDIh5kka%2F58NNDxsEhjj%2Fw%3D%3D&numOfRows=10&pageSize=10&pageNo=1&startPage=1&sidoName=%EC%84%9C%EC%9A%B8&searchCondition=DAILY&ver=1.3&_returnType=json'\n"
     ]
    }
   ],
   "source": [
    "print(paramBytes)"
   ]
  },
  {
   "cell_type": "code",
   "execution_count": 148,
   "metadata": {},
   "outputs": [],
   "source": [
    "req=urllib.request.Request(url,data=paramBytes)"
   ]
  },
  {
   "cell_type": "code",
   "execution_count": 149,
   "metadata": {},
   "outputs": [],
   "source": [
    "res=urllib.request.urlopen(req)"
   ]
  },
  {
   "cell_type": "code",
   "execution_count": 150,
   "metadata": {},
   "outputs": [],
   "source": [
    "result=res.read()"
   ]
  },
  {
   "cell_type": "code",
   "execution_count": 151,
   "metadata": {},
   "outputs": [
    {
     "data": {
      "text/plain": [
       "bytes"
      ]
     },
     "execution_count": 151,
     "metadata": {},
     "output_type": "execute_result"
    }
   ],
   "source": [
    "type(result)"
   ]
  },
  {
   "cell_type": "code",
   "execution_count": 152,
   "metadata": {},
   "outputs": [],
   "source": [
    "resultStr=result.decode(\"utf-8\")"
   ]
  },
  {
   "cell_type": "code",
   "execution_count": 153,
   "metadata": {},
   "outputs": [
    {
     "data": {
      "text/plain": [
       "str"
      ]
     },
     "execution_count": 153,
     "metadata": {},
     "output_type": "execute_result"
    }
   ],
   "source": [
    "type(resultStr)"
   ]
  },
  {
   "cell_type": "code",
   "execution_count": 154,
   "metadata": {},
   "outputs": [
    {
     "data": {
      "text/plain": [
       "'{\"list\":[{\"_returnType\":\"json\",\"cityName\":\"강남구\",\"cityNameEng\":\"Gangnam-gu\",\"coValue\":\"0.3\",\"dataGubun\":\"\",\"dataTime\":\"2018-07-13 15:00\",\"districtCode\":\"02\",\"districtNumSeq\":\"001\",\"itemCode\":\"\",\"khaiValue\":\"\",\"no2Value\":\"0.016\",\"numOfRows\":\"10\",\"o3Value\":\"0.022\",\"pageNo\":\"1\",\"pm10Value\":\"15\",\"pm25Value\":\"8\",\"resultCode\":\"\",\"resultMsg\":\"\",\"searchCondition\":\"\",\"serviceKey\":\"\",\"sidoName\":\"서울\",\"so2Value\":\"0.005\",\"totalCount\":\"\"},{\"_returnType\":\"json\",\"cityName\":\"강동구\",\"cityNameEng\":\"Gangdong-gu\",\"coValue\":\"0.3\",\"dataGubun\":\"\",\"dataTime\":\"2018-07-13 15:00\",\"districtCode\":\"02\",\"districtNumSeq\":\"002\",\"itemCode\":\"\",\"khaiValue\":\"\",\"no2Value\":\"0.014\",\"numOfRows\":\"10\",\"o3Value\":\"0.021\",\"pageNo\":\"1\",\"pm10Value\":\"17\",\"pm25Value\":\"12\",\"resultCode\":\"\",\"resultMsg\":\"\",\"searchCondition\":\"\",\"serviceKey\":\"\",\"sidoName\":\"서울\",\"so2Value\":\"0.004\",\"totalCount\":\"\"},{\"_returnType\":\"json\",\"cityName\":\"강북구\",\"cityNameEng\":\"Gangbuk-gu\",\"coValue\":\"0.2\",\"dataGubun\":\"\",\"dataTime\":\"2018-07-13 15:00\",\"districtCode\":\"02\",\"districtNumSeq\":\"003\",\"itemCode\":\"\",\"khaiValue\":\"\",\"no2Value\":\"0.010\",\"numOfRows\":\"10\",\"o3Value\":\"0.028\",\"pageNo\":\"1\",\"pm10Value\":\"19\",\"pm25Value\":\"13\",\"resultCode\":\"\",\"resultMsg\":\"\",\"searchCondition\":\"\",\"serviceKey\":\"\",\"sidoName\":\"서울\",\"so2Value\":\"0.003\",\"totalCount\":\"\"},{\"_returnType\":\"json\",\"cityName\":\"강서구\",\"cityNameEng\":\"Gangseo-gu\",\"coValue\":\"0.2\",\"dataGubun\":\"\",\"dataTime\":\"2018-07-13 15:00\",\"districtCode\":\"02\",\"districtNumSeq\":\"004\",\"itemCode\":\"\",\"khaiValue\":\"\",\"no2Value\":\"0.014\",\"numOfRows\":\"10\",\"o3Value\":\"0.025\",\"pageNo\":\"1\",\"pm10Value\":\"19\",\"pm25Value\":\"7\",\"resultCode\":\"\",\"resultMsg\":\"\",\"searchCondition\":\"\",\"serviceKey\":\"\",\"sidoName\":\"서울\",\"so2Value\":\"0.002\",\"totalCount\":\"\"},{\"_returnType\":\"json\",\"cityName\":\"관악구\",\"cityNameEng\":\"Gwanak-gu\",\"coValue\":\"0.2\",\"dataGubun\":\"\",\"dataTime\":\"2018-07-13 15:00\",\"districtCode\":\"02\",\"districtNumSeq\":\"005\",\"itemCode\":\"\",\"khaiValue\":\"\",\"no2Value\":\"0.011\",\"numOfRows\":\"10\",\"o3Value\":\"0.037\",\"pageNo\":\"1\",\"pm10Value\":\"20\",\"pm25Value\":\"9\",\"resultCode\":\"\",\"resultMsg\":\"\",\"searchCondition\":\"\",\"serviceKey\":\"\",\"sidoName\":\"서울\",\"so2Value\":\"0.003\",\"totalCount\":\"\"},{\"_returnType\":\"json\",\"cityName\":\"광진구\",\"cityNameEng\":\"Gwangjin-gu\",\"coValue\":\"0.5\",\"dataGubun\":\"\",\"dataTime\":\"2018-07-13 15:00\",\"districtCode\":\"02\",\"districtNumSeq\":\"006\",\"itemCode\":\"\",\"khaiValue\":\"\",\"no2Value\":\"0.010\",\"numOfRows\":\"10\",\"o3Value\":\"0.026\",\"pageNo\":\"1\",\"pm10Value\":\"16\",\"pm25Value\":\"5\",\"resultCode\":\"\",\"resultMsg\":\"\",\"searchCondition\":\"\",\"serviceKey\":\"\",\"sidoName\":\"서울\",\"so2Value\":\"0.006\",\"totalCount\":\"\"},{\"_returnType\":\"json\",\"cityName\":\"구로구\",\"cityNameEng\":\"Guro-gu\",\"coValue\":\"\",\"dataGubun\":\"\",\"dataTime\":\"2018-07-13 15:00\",\"districtCode\":\"02\",\"districtNumSeq\":\"007\",\"itemCode\":\"\",\"khaiValue\":\"\",\"no2Value\":\"\",\"numOfRows\":\"10\",\"o3Value\":\"\",\"pageNo\":\"1\",\"pm10Value\":\"15\",\"pm25Value\":\"8\",\"resultCode\":\"\",\"resultMsg\":\"\",\"searchCondition\":\"\",\"serviceKey\":\"\",\"sidoName\":\"서울\",\"so2Value\":\"\",\"totalCount\":\"\"},{\"_returnType\":\"json\",\"cityName\":\"금천구\",\"cityNameEng\":\"Geumcheon-gu\",\"coValue\":\"0.2\",\"dataGubun\":\"\",\"dataTime\":\"2018-07-13 15:00\",\"districtCode\":\"02\",\"districtNumSeq\":\"008\",\"itemCode\":\"\",\"khaiValue\":\"\",\"no2Value\":\"0.014\",\"numOfRows\":\"10\",\"o3Value\":\"0.036\",\"pageNo\":\"1\",\"pm10Value\":\"20\",\"pm25Value\":\"15\",\"resultCode\":\"\",\"resultMsg\":\"\",\"searchCondition\":\"\",\"serviceKey\":\"\",\"sidoName\":\"서울\",\"so2Value\":\"0.004\",\"totalCount\":\"\"},{\"_returnType\":\"json\",\"cityName\":\"노원구\",\"cityNameEng\":\"Nowon-gu\",\"coValue\":\"0.3\",\"dataGubun\":\"\",\"dataTime\":\"2018-07-13 15:00\",\"districtCode\":\"02\",\"districtNumSeq\":\"009\",\"itemCode\":\"\",\"khaiValue\":\"\",\"no2Value\":\"0.011\",\"numOfRows\":\"10\",\"o3Value\":\"0.026\",\"pageNo\":\"1\",\"pm10Value\":\"22\",\"pm25Value\":\"16\",\"resultCode\":\"\",\"resultMsg\":\"\",\"searchCondition\":\"\",\"serviceKey\":\"\",\"sidoName\":\"서울\",\"so2Value\":\"0.005\",\"totalCount\":\"\"},{\"_returnType\":\"json\",\"cityName\":\"도봉구\",\"cityNameEng\":\"Dobong-gu\",\"coValue\":\"0.6\",\"dataGubun\":\"\",\"dataTime\":\"2018-07-13 15:00\",\"districtCode\":\"02\",\"districtNumSeq\":\"010\",\"itemCode\":\"\",\"khaiValue\":\"\",\"no2Value\":\"0.011\",\"numOfRows\":\"10\",\"o3Value\":\"0.027\",\"pageNo\":\"1\",\"pm10Value\":\"21\",\"pm25Value\":\"12\",\"resultCode\":\"\",\"resultMsg\":\"\",\"searchCondition\":\"\",\"serviceKey\":\"\",\"sidoName\":\"서울\",\"so2Value\":\"0.004\",\"totalCount\":\"\"}],\"parm\":{\"_returnType\":\"json\",\"cityName\":\"\",\"cityNameEng\":\"\",\"coValue\":\"\",\"dataGubun\":\"\",\"dataTime\":\"\",\"districtCode\":\"\",\"districtNumSeq\":\"\",\"itemCode\":\"\",\"khaiValue\":\"\",\"no2Value\":\"\",\"numOfRows\":\"10\",\"o3Value\":\"\",\"pageNo\":\"1\",\"pm10Value\":\"\",\"pm25Value\":\"\",\"resultCode\":\"\",\"resultMsg\":\"\",\"searchCondition\":\"DAILY\",\"serviceKey\":\"vMczsU44uukLKVuQWTXfD5kbAmvI0+eNQskR5BBR6r6qgoos6/JYLPa5pVhMyRokRDIh5kka/58NNDxsEhjj/w==\",\"sidoName\":\"서울\",\"so2Value\":\"\",\"totalCount\":\"\"},\"CtprvnMesureLIstVo2\":{\"_returnType\":\"json\",\"cityName\":\"\",\"cityNameEng\":\"\",\"coValue\":\"\",\"dataGubun\":\"\",\"dataTime\":\"\",\"districtCode\":\"\",\"districtNumSeq\":\"\",\"itemCode\":\"\",\"khaiValue\":\"\",\"no2Value\":\"\",\"numOfRows\":\"10\",\"o3Value\":\"\",\"pageNo\":\"1\",\"pm10Value\":\"\",\"pm25Value\":\"\",\"resultCode\":\"\",\"resultMsg\":\"\",\"searchCondition\":\"DAILY\",\"serviceKey\":\"vMczsU44uukLKVuQWTXfD5kbAmvI0+eNQskR5BBR6r6qgoos6/JYLPa5pVhMyRokRDIh5kka/58NNDxsEhjj/w==\",\"sidoName\":\"서울\",\"so2Value\":\"\",\"totalCount\":\"\"},\"totalCount\":625}'"
      ]
     },
     "execution_count": 154,
     "metadata": {},
     "output_type": "execute_result"
    }
   ],
   "source": [
    "resultStr"
   ]
  },
  {
   "cell_type": "code",
   "execution_count": 155,
   "metadata": {},
   "outputs": [],
   "source": [
    "resultObj=json.loads(resultStr)"
   ]
  },
  {
   "cell_type": "code",
   "execution_count": 156,
   "metadata": {},
   "outputs": [
    {
     "data": {
      "text/plain": [
       "{'list': [{'_returnType': 'json',\n",
       "   'cityName': '강남구',\n",
       "   'cityNameEng': 'Gangnam-gu',\n",
       "   'coValue': '0.3',\n",
       "   'dataGubun': '',\n",
       "   'dataTime': '2018-07-13 15:00',\n",
       "   'districtCode': '02',\n",
       "   'districtNumSeq': '001',\n",
       "   'itemCode': '',\n",
       "   'khaiValue': '',\n",
       "   'no2Value': '0.016',\n",
       "   'numOfRows': '10',\n",
       "   'o3Value': '0.022',\n",
       "   'pageNo': '1',\n",
       "   'pm10Value': '15',\n",
       "   'pm25Value': '8',\n",
       "   'resultCode': '',\n",
       "   'resultMsg': '',\n",
       "   'searchCondition': '',\n",
       "   'serviceKey': '',\n",
       "   'sidoName': '서울',\n",
       "   'so2Value': '0.005',\n",
       "   'totalCount': ''},\n",
       "  {'_returnType': 'json',\n",
       "   'cityName': '강동구',\n",
       "   'cityNameEng': 'Gangdong-gu',\n",
       "   'coValue': '0.3',\n",
       "   'dataGubun': '',\n",
       "   'dataTime': '2018-07-13 15:00',\n",
       "   'districtCode': '02',\n",
       "   'districtNumSeq': '002',\n",
       "   'itemCode': '',\n",
       "   'khaiValue': '',\n",
       "   'no2Value': '0.014',\n",
       "   'numOfRows': '10',\n",
       "   'o3Value': '0.021',\n",
       "   'pageNo': '1',\n",
       "   'pm10Value': '17',\n",
       "   'pm25Value': '12',\n",
       "   'resultCode': '',\n",
       "   'resultMsg': '',\n",
       "   'searchCondition': '',\n",
       "   'serviceKey': '',\n",
       "   'sidoName': '서울',\n",
       "   'so2Value': '0.004',\n",
       "   'totalCount': ''},\n",
       "  {'_returnType': 'json',\n",
       "   'cityName': '강북구',\n",
       "   'cityNameEng': 'Gangbuk-gu',\n",
       "   'coValue': '0.2',\n",
       "   'dataGubun': '',\n",
       "   'dataTime': '2018-07-13 15:00',\n",
       "   'districtCode': '02',\n",
       "   'districtNumSeq': '003',\n",
       "   'itemCode': '',\n",
       "   'khaiValue': '',\n",
       "   'no2Value': '0.010',\n",
       "   'numOfRows': '10',\n",
       "   'o3Value': '0.028',\n",
       "   'pageNo': '1',\n",
       "   'pm10Value': '19',\n",
       "   'pm25Value': '13',\n",
       "   'resultCode': '',\n",
       "   'resultMsg': '',\n",
       "   'searchCondition': '',\n",
       "   'serviceKey': '',\n",
       "   'sidoName': '서울',\n",
       "   'so2Value': '0.003',\n",
       "   'totalCount': ''},\n",
       "  {'_returnType': 'json',\n",
       "   'cityName': '강서구',\n",
       "   'cityNameEng': 'Gangseo-gu',\n",
       "   'coValue': '0.2',\n",
       "   'dataGubun': '',\n",
       "   'dataTime': '2018-07-13 15:00',\n",
       "   'districtCode': '02',\n",
       "   'districtNumSeq': '004',\n",
       "   'itemCode': '',\n",
       "   'khaiValue': '',\n",
       "   'no2Value': '0.014',\n",
       "   'numOfRows': '10',\n",
       "   'o3Value': '0.025',\n",
       "   'pageNo': '1',\n",
       "   'pm10Value': '19',\n",
       "   'pm25Value': '7',\n",
       "   'resultCode': '',\n",
       "   'resultMsg': '',\n",
       "   'searchCondition': '',\n",
       "   'serviceKey': '',\n",
       "   'sidoName': '서울',\n",
       "   'so2Value': '0.002',\n",
       "   'totalCount': ''},\n",
       "  {'_returnType': 'json',\n",
       "   'cityName': '관악구',\n",
       "   'cityNameEng': 'Gwanak-gu',\n",
       "   'coValue': '0.2',\n",
       "   'dataGubun': '',\n",
       "   'dataTime': '2018-07-13 15:00',\n",
       "   'districtCode': '02',\n",
       "   'districtNumSeq': '005',\n",
       "   'itemCode': '',\n",
       "   'khaiValue': '',\n",
       "   'no2Value': '0.011',\n",
       "   'numOfRows': '10',\n",
       "   'o3Value': '0.037',\n",
       "   'pageNo': '1',\n",
       "   'pm10Value': '20',\n",
       "   'pm25Value': '9',\n",
       "   'resultCode': '',\n",
       "   'resultMsg': '',\n",
       "   'searchCondition': '',\n",
       "   'serviceKey': '',\n",
       "   'sidoName': '서울',\n",
       "   'so2Value': '0.003',\n",
       "   'totalCount': ''},\n",
       "  {'_returnType': 'json',\n",
       "   'cityName': '광진구',\n",
       "   'cityNameEng': 'Gwangjin-gu',\n",
       "   'coValue': '0.5',\n",
       "   'dataGubun': '',\n",
       "   'dataTime': '2018-07-13 15:00',\n",
       "   'districtCode': '02',\n",
       "   'districtNumSeq': '006',\n",
       "   'itemCode': '',\n",
       "   'khaiValue': '',\n",
       "   'no2Value': '0.010',\n",
       "   'numOfRows': '10',\n",
       "   'o3Value': '0.026',\n",
       "   'pageNo': '1',\n",
       "   'pm10Value': '16',\n",
       "   'pm25Value': '5',\n",
       "   'resultCode': '',\n",
       "   'resultMsg': '',\n",
       "   'searchCondition': '',\n",
       "   'serviceKey': '',\n",
       "   'sidoName': '서울',\n",
       "   'so2Value': '0.006',\n",
       "   'totalCount': ''},\n",
       "  {'_returnType': 'json',\n",
       "   'cityName': '구로구',\n",
       "   'cityNameEng': 'Guro-gu',\n",
       "   'coValue': '',\n",
       "   'dataGubun': '',\n",
       "   'dataTime': '2018-07-13 15:00',\n",
       "   'districtCode': '02',\n",
       "   'districtNumSeq': '007',\n",
       "   'itemCode': '',\n",
       "   'khaiValue': '',\n",
       "   'no2Value': '',\n",
       "   'numOfRows': '10',\n",
       "   'o3Value': '',\n",
       "   'pageNo': '1',\n",
       "   'pm10Value': '15',\n",
       "   'pm25Value': '8',\n",
       "   'resultCode': '',\n",
       "   'resultMsg': '',\n",
       "   'searchCondition': '',\n",
       "   'serviceKey': '',\n",
       "   'sidoName': '서울',\n",
       "   'so2Value': '',\n",
       "   'totalCount': ''},\n",
       "  {'_returnType': 'json',\n",
       "   'cityName': '금천구',\n",
       "   'cityNameEng': 'Geumcheon-gu',\n",
       "   'coValue': '0.2',\n",
       "   'dataGubun': '',\n",
       "   'dataTime': '2018-07-13 15:00',\n",
       "   'districtCode': '02',\n",
       "   'districtNumSeq': '008',\n",
       "   'itemCode': '',\n",
       "   'khaiValue': '',\n",
       "   'no2Value': '0.014',\n",
       "   'numOfRows': '10',\n",
       "   'o3Value': '0.036',\n",
       "   'pageNo': '1',\n",
       "   'pm10Value': '20',\n",
       "   'pm25Value': '15',\n",
       "   'resultCode': '',\n",
       "   'resultMsg': '',\n",
       "   'searchCondition': '',\n",
       "   'serviceKey': '',\n",
       "   'sidoName': '서울',\n",
       "   'so2Value': '0.004',\n",
       "   'totalCount': ''},\n",
       "  {'_returnType': 'json',\n",
       "   'cityName': '노원구',\n",
       "   'cityNameEng': 'Nowon-gu',\n",
       "   'coValue': '0.3',\n",
       "   'dataGubun': '',\n",
       "   'dataTime': '2018-07-13 15:00',\n",
       "   'districtCode': '02',\n",
       "   'districtNumSeq': '009',\n",
       "   'itemCode': '',\n",
       "   'khaiValue': '',\n",
       "   'no2Value': '0.011',\n",
       "   'numOfRows': '10',\n",
       "   'o3Value': '0.026',\n",
       "   'pageNo': '1',\n",
       "   'pm10Value': '22',\n",
       "   'pm25Value': '16',\n",
       "   'resultCode': '',\n",
       "   'resultMsg': '',\n",
       "   'searchCondition': '',\n",
       "   'serviceKey': '',\n",
       "   'sidoName': '서울',\n",
       "   'so2Value': '0.005',\n",
       "   'totalCount': ''},\n",
       "  {'_returnType': 'json',\n",
       "   'cityName': '도봉구',\n",
       "   'cityNameEng': 'Dobong-gu',\n",
       "   'coValue': '0.6',\n",
       "   'dataGubun': '',\n",
       "   'dataTime': '2018-07-13 15:00',\n",
       "   'districtCode': '02',\n",
       "   'districtNumSeq': '010',\n",
       "   'itemCode': '',\n",
       "   'khaiValue': '',\n",
       "   'no2Value': '0.011',\n",
       "   'numOfRows': '10',\n",
       "   'o3Value': '0.027',\n",
       "   'pageNo': '1',\n",
       "   'pm10Value': '21',\n",
       "   'pm25Value': '12',\n",
       "   'resultCode': '',\n",
       "   'resultMsg': '',\n",
       "   'searchCondition': '',\n",
       "   'serviceKey': '',\n",
       "   'sidoName': '서울',\n",
       "   'so2Value': '0.004',\n",
       "   'totalCount': ''}],\n",
       " 'parm': {'_returnType': 'json',\n",
       "  'cityName': '',\n",
       "  'cityNameEng': '',\n",
       "  'coValue': '',\n",
       "  'dataGubun': '',\n",
       "  'dataTime': '',\n",
       "  'districtCode': '',\n",
       "  'districtNumSeq': '',\n",
       "  'itemCode': '',\n",
       "  'khaiValue': '',\n",
       "  'no2Value': '',\n",
       "  'numOfRows': '10',\n",
       "  'o3Value': '',\n",
       "  'pageNo': '1',\n",
       "  'pm10Value': '',\n",
       "  'pm25Value': '',\n",
       "  'resultCode': '',\n",
       "  'resultMsg': '',\n",
       "  'searchCondition': 'DAILY',\n",
       "  'serviceKey': 'vMczsU44uukLKVuQWTXfD5kbAmvI0+eNQskR5BBR6r6qgoos6/JYLPa5pVhMyRokRDIh5kka/58NNDxsEhjj/w==',\n",
       "  'sidoName': '서울',\n",
       "  'so2Value': '',\n",
       "  'totalCount': ''},\n",
       " 'CtprvnMesureLIstVo2': {'_returnType': 'json',\n",
       "  'cityName': '',\n",
       "  'cityNameEng': '',\n",
       "  'coValue': '',\n",
       "  'dataGubun': '',\n",
       "  'dataTime': '',\n",
       "  'districtCode': '',\n",
       "  'districtNumSeq': '',\n",
       "  'itemCode': '',\n",
       "  'khaiValue': '',\n",
       "  'no2Value': '',\n",
       "  'numOfRows': '10',\n",
       "  'o3Value': '',\n",
       "  'pageNo': '1',\n",
       "  'pm10Value': '',\n",
       "  'pm25Value': '',\n",
       "  'resultCode': '',\n",
       "  'resultMsg': '',\n",
       "  'searchCondition': 'DAILY',\n",
       "  'serviceKey': 'vMczsU44uukLKVuQWTXfD5kbAmvI0+eNQskR5BBR6r6qgoos6/JYLPa5pVhMyRokRDIh5kka/58NNDxsEhjj/w==',\n",
       "  'sidoName': '서울',\n",
       "  'so2Value': '',\n",
       "  'totalCount': ''},\n",
       " 'totalCount': 625}"
      ]
     },
     "execution_count": 156,
     "metadata": {},
     "output_type": "execute_result"
    }
   ],
   "source": [
    "resultObj"
   ]
  },
  {
   "cell_type": "code",
   "execution_count": 189,
   "metadata": {},
   "outputs": [
    {
     "name": "stdout",
     "output_type": "stream",
     "text": [
      "{'_returnType': 'json', 'cityName': '강남구', 'cityNameEng': 'Gangnam-gu', 'coValue': '0.3', 'dataGubun': '', 'dataTime': '2018-07-13 15:00', 'districtCode': '02', 'districtNumSeq': '001', 'itemCode': '', 'khaiValue': '', 'no2Value': '0.016', 'numOfRows': '10', 'o3Value': '0.022', 'pageNo': '1', 'pm10Value': '15', 'pm25Value': '8', 'resultCode': '', 'resultMsg': '', 'searchCondition': '', 'serviceKey': '', 'sidoName': '서울', 'so2Value': '0.005', 'totalCount': ''} \n",
      "\n",
      "{'_returnType': 'json', 'cityName': '강동구', 'cityNameEng': 'Gangdong-gu', 'coValue': '0.3', 'dataGubun': '', 'dataTime': '2018-07-13 15:00', 'districtCode': '02', 'districtNumSeq': '002', 'itemCode': '', 'khaiValue': '', 'no2Value': '0.014', 'numOfRows': '10', 'o3Value': '0.021', 'pageNo': '1', 'pm10Value': '17', 'pm25Value': '12', 'resultCode': '', 'resultMsg': '', 'searchCondition': '', 'serviceKey': '', 'sidoName': '서울', 'so2Value': '0.004', 'totalCount': ''} \n",
      "\n",
      "{'_returnType': 'json', 'cityName': '강북구', 'cityNameEng': 'Gangbuk-gu', 'coValue': '0.2', 'dataGubun': '', 'dataTime': '2018-07-13 15:00', 'districtCode': '02', 'districtNumSeq': '003', 'itemCode': '', 'khaiValue': '', 'no2Value': '0.010', 'numOfRows': '10', 'o3Value': '0.028', 'pageNo': '1', 'pm10Value': '19', 'pm25Value': '13', 'resultCode': '', 'resultMsg': '', 'searchCondition': '', 'serviceKey': '', 'sidoName': '서울', 'so2Value': '0.003', 'totalCount': ''} \n",
      "\n",
      "{'_returnType': 'json', 'cityName': '강서구', 'cityNameEng': 'Gangseo-gu', 'coValue': '0.2', 'dataGubun': '', 'dataTime': '2018-07-13 15:00', 'districtCode': '02', 'districtNumSeq': '004', 'itemCode': '', 'khaiValue': '', 'no2Value': '0.014', 'numOfRows': '10', 'o3Value': '0.025', 'pageNo': '1', 'pm10Value': '19', 'pm25Value': '7', 'resultCode': '', 'resultMsg': '', 'searchCondition': '', 'serviceKey': '', 'sidoName': '서울', 'so2Value': '0.002', 'totalCount': ''} \n",
      "\n",
      "{'_returnType': 'json', 'cityName': '관악구', 'cityNameEng': 'Gwanak-gu', 'coValue': '0.2', 'dataGubun': '', 'dataTime': '2018-07-13 15:00', 'districtCode': '02', 'districtNumSeq': '005', 'itemCode': '', 'khaiValue': '', 'no2Value': '0.011', 'numOfRows': '10', 'o3Value': '0.037', 'pageNo': '1', 'pm10Value': '20', 'pm25Value': '9', 'resultCode': '', 'resultMsg': '', 'searchCondition': '', 'serviceKey': '', 'sidoName': '서울', 'so2Value': '0.003', 'totalCount': ''} \n",
      "\n",
      "{'_returnType': 'json', 'cityName': '광진구', 'cityNameEng': 'Gwangjin-gu', 'coValue': '0.5', 'dataGubun': '', 'dataTime': '2018-07-13 15:00', 'districtCode': '02', 'districtNumSeq': '006', 'itemCode': '', 'khaiValue': '', 'no2Value': '0.010', 'numOfRows': '10', 'o3Value': '0.026', 'pageNo': '1', 'pm10Value': '16', 'pm25Value': '5', 'resultCode': '', 'resultMsg': '', 'searchCondition': '', 'serviceKey': '', 'sidoName': '서울', 'so2Value': '0.006', 'totalCount': ''} \n",
      "\n",
      "{'_returnType': 'json', 'cityName': '구로구', 'cityNameEng': 'Guro-gu', 'coValue': '', 'dataGubun': '', 'dataTime': '2018-07-13 15:00', 'districtCode': '02', 'districtNumSeq': '007', 'itemCode': '', 'khaiValue': '', 'no2Value': '', 'numOfRows': '10', 'o3Value': '', 'pageNo': '1', 'pm10Value': '15', 'pm25Value': '8', 'resultCode': '', 'resultMsg': '', 'searchCondition': '', 'serviceKey': '', 'sidoName': '서울', 'so2Value': '', 'totalCount': ''} \n",
      "\n",
      "{'_returnType': 'json', 'cityName': '금천구', 'cityNameEng': 'Geumcheon-gu', 'coValue': '0.2', 'dataGubun': '', 'dataTime': '2018-07-13 15:00', 'districtCode': '02', 'districtNumSeq': '008', 'itemCode': '', 'khaiValue': '', 'no2Value': '0.014', 'numOfRows': '10', 'o3Value': '0.036', 'pageNo': '1', 'pm10Value': '20', 'pm25Value': '15', 'resultCode': '', 'resultMsg': '', 'searchCondition': '', 'serviceKey': '', 'sidoName': '서울', 'so2Value': '0.004', 'totalCount': ''} \n",
      "\n",
      "{'_returnType': 'json', 'cityName': '노원구', 'cityNameEng': 'Nowon-gu', 'coValue': '0.3', 'dataGubun': '', 'dataTime': '2018-07-13 15:00', 'districtCode': '02', 'districtNumSeq': '009', 'itemCode': '', 'khaiValue': '', 'no2Value': '0.011', 'numOfRows': '10', 'o3Value': '0.026', 'pageNo': '1', 'pm10Value': '22', 'pm25Value': '16', 'resultCode': '', 'resultMsg': '', 'searchCondition': '', 'serviceKey': '', 'sidoName': '서울', 'so2Value': '0.005', 'totalCount': ''} \n",
      "\n",
      "{'_returnType': 'json', 'cityName': '도봉구', 'cityNameEng': 'Dobong-gu', 'coValue': '0.6', 'dataGubun': '', 'dataTime': '2018-07-13 15:00', 'districtCode': '02', 'districtNumSeq': '010', 'itemCode': '', 'khaiValue': '', 'no2Value': '0.011', 'numOfRows': '10', 'o3Value': '0.027', 'pageNo': '1', 'pm10Value': '21', 'pm25Value': '12', 'resultCode': '', 'resultMsg': '', 'searchCondition': '', 'serviceKey': '', 'sidoName': '서울', 'so2Value': '0.004', 'totalCount': ''} \n",
      "\n",
      "_returnType \n",
      "\n",
      "cityName \n",
      "\n",
      "cityNameEng \n",
      "\n",
      "coValue \n",
      "\n",
      "dataGubun \n",
      "\n",
      "dataTime \n",
      "\n",
      "districtCode \n",
      "\n",
      "districtNumSeq \n",
      "\n",
      "itemCode \n",
      "\n",
      "khaiValue \n",
      "\n",
      "no2Value \n",
      "\n",
      "numOfRows \n",
      "\n",
      "o3Value \n",
      "\n",
      "pageNo \n",
      "\n",
      "pm10Value \n",
      "\n",
      "pm25Value \n",
      "\n",
      "resultCode \n",
      "\n",
      "resultMsg \n",
      "\n",
      "searchCondition \n",
      "\n",
      "serviceKey \n",
      "\n",
      "sidoName \n",
      "\n",
      "so2Value \n",
      "\n",
      "totalCount \n",
      "\n",
      "_returnType \n",
      "\n",
      "cityName \n",
      "\n",
      "cityNameEng \n",
      "\n",
      "coValue \n",
      "\n",
      "dataGubun \n",
      "\n",
      "dataTime \n",
      "\n",
      "districtCode \n",
      "\n",
      "districtNumSeq \n",
      "\n",
      "itemCode \n",
      "\n",
      "khaiValue \n",
      "\n",
      "no2Value \n",
      "\n",
      "numOfRows \n",
      "\n",
      "o3Value \n",
      "\n",
      "pageNo \n",
      "\n",
      "pm10Value \n",
      "\n",
      "pm25Value \n",
      "\n",
      "resultCode \n",
      "\n",
      "resultMsg \n",
      "\n",
      "searchCondition \n",
      "\n",
      "serviceKey \n",
      "\n",
      "sidoName \n",
      "\n",
      "so2Value \n",
      "\n",
      "totalCount \n",
      "\n"
     ]
    },
    {
     "ename": "TypeError",
     "evalue": "'int' object is not iterable",
     "output_type": "error",
     "traceback": [
      "\u001b[1;31m---------------------------------------------------------------------------\u001b[0m",
      "\u001b[1;31mTypeError\u001b[0m                                 Traceback (most recent call last)",
      "\u001b[1;32m<ipython-input-189-70dae981fa26>\u001b[0m in \u001b[0;36m<module>\u001b[1;34m()\u001b[0m\n\u001b[0;32m      1\u001b[0m \u001b[1;32mfor\u001b[0m \u001b[1;33m(\u001b[0m\u001b[0mi\u001b[0m\u001b[1;33m,\u001b[0m\u001b[0mj\u001b[0m\u001b[1;33m)\u001b[0m \u001b[1;32min\u001b[0m \u001b[0mresultObj\u001b[0m\u001b[1;33m.\u001b[0m\u001b[0mitems\u001b[0m\u001b[1;33m(\u001b[0m\u001b[1;33m)\u001b[0m\u001b[1;33m:\u001b[0m\u001b[1;33m\u001b[0m\u001b[0m\n\u001b[1;32m----> 2\u001b[1;33m     \u001b[1;32mfor\u001b[0m \u001b[0mk\u001b[0m \u001b[1;32min\u001b[0m \u001b[0mj\u001b[0m\u001b[1;33m:\u001b[0m\u001b[1;33m\u001b[0m\u001b[0m\n\u001b[0m\u001b[0;32m      3\u001b[0m         \u001b[0mprint\u001b[0m\u001b[1;33m(\u001b[0m\u001b[0mk\u001b[0m\u001b[1;33m,\u001b[0m\u001b[1;34m\"\\n\"\u001b[0m\u001b[1;33m)\u001b[0m\u001b[1;33m\u001b[0m\u001b[0m\n",
      "\u001b[1;31mTypeError\u001b[0m: 'int' object is not iterable"
     ]
    }
   ],
   "source": [
    "for (i,j) in resultObj.items():\n",
    "    for k in j:\n",
    "        print(k,\"\\n\")"
   ]
  },
  {
   "cell_type": "code",
   "execution_count": 192,
   "metadata": {},
   "outputs": [
    {
     "ename": "TypeError",
     "evalue": "'dict_items' object does not support indexing",
     "output_type": "error",
     "traceback": [
      "\u001b[1;31m---------------------------------------------------------------------------\u001b[0m",
      "\u001b[1;31mTypeError\u001b[0m                                 Traceback (most recent call last)",
      "\u001b[1;32m<ipython-input-192-1793698eeac7>\u001b[0m in \u001b[0;36m<module>\u001b[1;34m()\u001b[0m\n\u001b[1;32m----> 1\u001b[1;33m \u001b[0mresultObj\u001b[0m\u001b[1;33m.\u001b[0m\u001b[0mitems\u001b[0m\u001b[1;33m(\u001b[0m\u001b[1;33m)\u001b[0m\u001b[1;33m[\u001b[0m\u001b[1;36m0\u001b[0m\u001b[1;33m]\u001b[0m\u001b[1;33m\u001b[0m\u001b[0m\n\u001b[0m",
      "\u001b[1;31mTypeError\u001b[0m: 'dict_items' object does not support indexing"
     ]
    }
   ],
   "source": [
    "resultObj.items()"
   ]
  },
  {
   "cell_type": "code",
   "execution_count": null,
   "metadata": {},
   "outputs": [],
   "source": []
  }
 ],
 "metadata": {
  "kernelspec": {
   "display_name": "Python 3",
   "language": "python",
   "name": "python3"
  },
  "language_info": {
   "codemirror_mode": {
    "name": "ipython",
    "version": 3
   },
   "file_extension": ".py",
   "mimetype": "text/x-python",
   "name": "python",
   "nbconvert_exporter": "python",
   "pygments_lexer": "ipython3",
   "version": "3.6.5"
  }
 },
 "nbformat": 4,
 "nbformat_minor": 2
}
