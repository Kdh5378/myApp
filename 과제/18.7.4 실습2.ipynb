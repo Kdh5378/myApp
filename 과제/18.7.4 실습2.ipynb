{
 "cells": [
  {
   "cell_type": "markdown",
   "metadata": {},
   "source": [
    "#### Exercise 61: Average"
   ]
  },
  {
   "cell_type": "code",
   "execution_count": 7,
   "metadata": {},
   "outputs": [
    {
     "name": "stdout",
     "output_type": "stream",
     "text": [
      "0\n",
      "처음에 0은 안돼\n",
      "0\n",
      "처음에 0은 안돼\n",
      "10\n",
      "5\n",
      "3\n",
      "0\n",
      "avg= 6.0\n"
     ]
    }
   ],
   "source": [
    "nums = []\n",
    "s=0\n",
    "\n",
    "while True:\n",
    "    num = input()\n",
    "    if num=='0':\n",
    "        print('처음에 0은 안돼')\n",
    "        \n",
    "    else:\n",
    "        break\n",
    "        \n",
    "while num !='0':\n",
    "    nums.append(int(num))\n",
    "    num=input()\n",
    "        \n",
    "for i in nums:\n",
    "    s+=i\n",
    "print('avg=',s/len(nums))"
   ]
  },
  {
   "cell_type": "markdown",
   "metadata": {},
   "source": [
    "#### Exercise 63: Temperature Conversion Table"
   ]
  },
  {
   "cell_type": "code",
   "execution_count": 9,
   "metadata": {},
   "outputs": [
    {
     "name": "stdout",
     "output_type": "stream",
     "text": [
      "섭씨: 0 화씨: 32.0\n",
      "섭씨: 10 화씨: 50.0\n",
      "섭씨: 20 화씨: 68.0\n",
      "섭씨: 30 화씨: 86.0\n",
      "섭씨: 40 화씨: 104.0\n",
      "섭씨: 50 화씨: 122.0\n",
      "섭씨: 60 화씨: 140.0\n",
      "섭씨: 70 화씨: 158.0\n",
      "섭씨: 80 화씨: 176.0\n",
      "섭씨: 90 화씨: 194.0\n",
      "섭씨: 100 화씨: 212.0\n"
     ]
    }
   ],
   "source": [
    "for i in range(0,101,10):\n",
    "    print('섭씨:',i,'화씨:',i*1.8+32)"
   ]
  },
  {
   "cell_type": "markdown",
   "metadata": {},
   "source": [
    "#### Exercise 66: Compute a Grade Point Average"
   ]
  },
  {
   "cell_type": "code",
   "execution_count": 12,
   "metadata": {},
   "outputs": [
    {
     "name": "stdout",
     "output_type": "stream",
     "text": [
      "A\n",
      "C+\n",
      "B\n",
      "\n",
      "avg= 3.1\n"
     ]
    }
   ],
   "source": [
    "Letter={'A+':4.0, 'A':4.0, 'A-':3.7, 'B+':3.3, 'B':3.0, 'B-':2.7, 'C+':2.3, 'C':2.0, 'C-':2.7,'D+':1.3, 'D':1.0, 'F':0.0}\n",
    "grade=0.0\n",
    "words=[]\n",
    "\n",
    "word = input()\n",
    "while word != \"\":\n",
    "    words.append(word)\n",
    "    word = input()\n",
    "\n",
    "for i in words:\n",
    "    grade+=Letter[i]\n",
    "    \n",
    "print('avg=',grade/len(words))\n",
    "    \n"
   ]
  },
  {
   "cell_type": "markdown",
   "metadata": {},
   "source": [
    "#### Exercise 67: Admission Price"
   ]
  },
  {
   "cell_type": "code",
   "execution_count": 21,
   "metadata": {},
   "outputs": [
    {
     "name": "stdout",
     "output_type": "stream",
     "text": [
      "1\n",
      "5\n",
      "67\n",
      "25\n",
      "\n",
      "총 금액 :  55.00\n"
     ]
    }
   ],
   "source": [
    "words=[]\n",
    "s=0.0\n",
    "word = input()\n",
    "\n",
    "while word != \"\":\n",
    "    if int(word)<=2:\n",
    "        s+=0.00\n",
    "    elif 3<=int(word)<=12:\n",
    "        s+=14.00\n",
    "    elif 65<=int(word):\n",
    "        s+=18.00\n",
    "    else:\n",
    "        s+=23.00\n",
    "    word = input()\n",
    "\n",
    "print('총 금액 : ',\"%0.2f\"%s)\n",
    "\n",
    "    \n"
   ]
  },
  {
   "cell_type": "markdown",
   "metadata": {},
   "source": [
    "#### Exercise 72: Is a String a Palindrome?"
   ]
  },
  {
   "cell_type": "code",
   "execution_count": 50,
   "metadata": {},
   "outputs": [
    {
     "name": "stdout",
     "output_type": "stream",
     "text": [
      "asdfdsa\n",
      "it is Palindrome\n"
     ]
    }
   ],
   "source": [
    "word=input()\n",
    "length=len(word)\n",
    "h_length=int(len(word)/2)\n",
    "switch=1\n",
    "\n",
    "for i in range(0,h_length):\n",
    "    if length%2==0:\n",
    "        if word[h_length-1-i] != word[h_length+i]:\n",
    "            switch=0\n",
    "            break\n",
    "    else:\n",
    "        if word[h_length-1-i] != word[h_length+i+1]:\n",
    "            switch=0\n",
    "            break \n",
    "\n",
    "if switch==0:\n",
    "    print('it is not Palindrome')\n",
    "else:\n",
    "    print('it is Palindrome')"
   ]
  },
  {
   "cell_type": "markdown",
   "metadata": {},
   "source": [
    "#### Exercise 74: Multiplication Table"
   ]
  },
  {
   "cell_type": "code",
   "execution_count": 75,
   "metadata": {},
   "outputs": [
    {
     "name": "stdout",
     "output_type": "stream",
     "text": [
      "\t1 \t2 \t3 \t4 \t5 \t6 \t7 \t8 \t9 \t10 \t\n",
      "\n",
      "1 \t1 \t2 \t3 \t4 \t5 \t6 \t7 \t8 \t9 \t10 \t\n",
      "\n",
      "2 \t2 \t4 \t6 \t8 \t10 \t12 \t14 \t16 \t18 \t20 \t\n",
      "\n",
      "3 \t3 \t6 \t9 \t12 \t15 \t18 \t21 \t24 \t27 \t30 \t\n",
      "\n",
      "4 \t4 \t8 \t12 \t16 \t20 \t24 \t28 \t32 \t36 \t40 \t\n",
      "\n",
      "5 \t5 \t10 \t15 \t20 \t25 \t30 \t35 \t40 \t45 \t50 \t\n",
      "\n",
      "6 \t6 \t12 \t18 \t24 \t30 \t36 \t42 \t48 \t54 \t60 \t\n",
      "\n",
      "7 \t7 \t14 \t21 \t28 \t35 \t42 \t49 \t56 \t63 \t70 \t\n",
      "\n",
      "8 \t8 \t16 \t24 \t32 \t40 \t48 \t56 \t64 \t72 \t80 \t\n",
      "\n",
      "9 \t9 \t18 \t27 \t36 \t45 \t54 \t63 \t72 \t81 \t90 \t\n",
      "\n",
      "10 \t10 \t20 \t30 \t40 \t50 \t60 \t70 \t80 \t90 \t100 \t\n",
      "\n"
     ]
    }
   ],
   "source": [
    "nums=range(1,11)\n",
    "nums2=range(0,11)\n",
    "switch=1\n",
    "\n",
    "for i in nums2:\n",
    "    if switch==1:\n",
    "        print('\\t',end=\"\")\n",
    "        switch=0\n",
    "        i=i+1\n",
    "    else:\n",
    "        print(i,'\\t',end=\"\")\n",
    "        \n",
    "    for j in nums:\n",
    "        print(i*j,'\\t',end=\"\")\n",
    "    print('\\n')"
   ]
  },
  {
   "cell_type": "markdown",
   "metadata": {},
   "source": [
    "#### Exercise 75: Greatest Common Divisor"
   ]
  },
  {
   "cell_type": "code",
   "execution_count": 87,
   "metadata": {
    "scrolled": true
   },
   "outputs": [
    {
     "name": "stdout",
     "output_type": "stream",
     "text": [
      "12\n",
      "48\n",
      "GCD :  12\n"
     ]
    }
   ],
   "source": [
    "num1=int(input())\n",
    "num2=int(input())\n",
    "remain=0\n",
    "output=0\n",
    "\n",
    "if num1<num2:\n",
    "    remain=num1\n",
    "    num1=num2\n",
    "    num2=remain\n",
    "    \n",
    "remain=num1%num2\n",
    "while remain !=0:\n",
    "    num1=num2\n",
    "    num2=remain\n",
    "    remain=num1%num2\n",
    "\n",
    "print('GCD : ',num2)"
   ]
  },
  {
   "cell_type": "markdown",
   "metadata": {},
   "source": [
    "#### Exercise 77: Binary to Decimal"
   ]
  },
  {
   "cell_type": "code",
   "execution_count": 11,
   "metadata": {},
   "outputs": [
    {
     "name": "stdout",
     "output_type": "stream",
     "text": [
      "111\n",
      "10진수 :  7\n"
     ]
    }
   ],
   "source": [
    "num=input()\n",
    "length=len(num)-1\n",
    "dec=0\n",
    "temp=0\n",
    "if int(num[length]) == 1:\n",
    "    dec+=1\n",
    "    \n",
    "for i in range(0,length):\n",
    "    dec+=int(num[length-i-1])*((i+1)*2)\n",
    "        \n",
    "print('10진수 : ',dec)"
   ]
  },
  {
   "cell_type": "markdown",
   "metadata": {},
   "source": [
    "#### Exercise 78: Decimal to Binary"
   ]
  },
  {
   "cell_type": "code",
   "execution_count": 41,
   "metadata": {},
   "outputs": [
    {
     "name": "stdout",
     "output_type": "stream",
     "text": [
      "10\n",
      "2진수 : 1010"
     ]
    }
   ],
   "source": [
    "num=int(input())\n",
    "binery=[]\n",
    "\n",
    "while num!=0:\n",
    "    binery.append(num%2)\n",
    "    num=int(num/2)\n",
    "    \n",
    "binery.reverse()\n",
    "print('2진수 : ',end='')\n",
    "for i in binery:\n",
    "    print(i , end='')"
   ]
  }
 ],
 "metadata": {
  "kernelspec": {
   "display_name": "Python 3",
   "language": "python",
   "name": "python3"
  },
  "language_info": {
   "codemirror_mode": {
    "name": "ipython",
    "version": 3
   },
   "file_extension": ".py",
   "mimetype": "text/x-python",
   "name": "python",
   "nbconvert_exporter": "python",
   "pygments_lexer": "ipython3",
   "version": "3.6.5"
  }
 },
 "nbformat": 4,
 "nbformat_minor": 2
}
