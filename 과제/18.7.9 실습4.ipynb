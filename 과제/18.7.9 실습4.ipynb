{
 "cells": [
  {
   "cell_type": "markdown",
   "metadata": {},
   "source": [
    "#### Exercise 129: Two Dice Simulation"
   ]
  },
  {
   "cell_type": "code",
   "execution_count": 16,
   "metadata": {},
   "outputs": [
    {
     "name": "stdout",
     "output_type": "stream",
     "text": [
      "Total \t Simulated Percent \t Expected Percent\n",
      "2 \t 3.2 \t\t\t 2.78\n",
      "3 \t 5.3 \t\t\t 5.56\n",
      "4 \t 8.9 \t\t\t 8.33\n",
      "5 \t 10.0 \t\t\t 11.11\n",
      "6 \t 13.5 \t\t\t 13.89\n",
      "7 \t 18.0 \t\t\t 16.67\n",
      "8 \t 13.6 \t\t\t 13.89\n",
      "9 \t 10.1 \t\t\t 11.11\n",
      "10 \t 8.2 \t\t\t 8.33\n",
      "11 \t 5.5 \t\t\t 5.56\n",
      "12 \t 3.7 \t\t\t 2.78\n"
     ]
    }
   ],
   "source": [
    "import random\n",
    "\n",
    "def rand_f():\n",
    "    percent={2:0,3:0,4:0,5:0,6:0,7:0,8:0,9:0,10:0,11:0,12:0}\n",
    "    expected={2:2.78, 3:5.56, 4:8.33, 5:11.11, 6:13.89, 7:16.67, 8:13.89, 9:11.11, 10:8.33, 11:5.56, 12:2.78}\n",
    "    \n",
    "    for i in range(0,1000):\n",
    "        temp=0\n",
    "        temp=random.randrange(1,7)\n",
    "        temp+=random.randrange(1,7)\n",
    "        percent[temp]=percent[temp]+1\n",
    "    print('Total \\t Simulated Percent \\t Expected Percent')\n",
    "    for i in range(2,13):\n",
    "        print(i,end=\"\")\n",
    "        print(' \\t ',end=\"\")\n",
    "        print(percent[i]/10,end=\"\")\n",
    "        print(' \\t\\t\\t ',end=\"\")\n",
    "        print(expected[i])\n",
    "\n",
    "    \n",
    "rand_f()"
   ]
  },
  {
   "cell_type": "markdown",
   "metadata": {},
   "source": [
    "#### Exercise 130: Text Messaging"
   ]
  },
  {
   "cell_type": "code",
   "execution_count": 1,
   "metadata": {},
   "outputs": [
    {
     "name": "stdout",
     "output_type": "stream",
     "text": [
      "Hello, World\n",
      "443355555566611096667775553"
     ]
    }
   ],
   "source": [
    "#key={1:'.,?!:', 2:'ABC', 3:'DEF', 4:'GHI', 5:'JKL', 6:'MNO', 7:'PQRS', 8:'TUV', 9:'WXYZ', 0:' '}\n",
    "key={\n",
    "    '.':'1',',':'11','?':'111', '!':'1111', ':':'11111',\n",
    "    'a':'2','b':'22','c':'222',\n",
    "    'd':'3','e':'33','f':'333',\n",
    "    'g':'4','h':'44','i':'444',\n",
    "    'j':'5','k':'55','l':'555',\n",
    "    'm':'6','n':'66','o':'666',\n",
    "    'p':'7','q':'77','r':'777','s':'7777',\n",
    "    't':'8','u':'88','v':'888',\n",
    "    'w':'9','x':'99','y':'999','z':'9999',\n",
    "    ' ':'0'\n",
    "}\n",
    "def textMessageing():\n",
    "    word=input()\n",
    "    for i in range(0,len(word)):\n",
    "        print(key[word[i].lower()],end=\"\")\n",
    "        \n",
    "textMessageing()\n"
   ]
  },
  {
   "cell_type": "markdown",
   "metadata": {},
   "source": [
    "#### Exercise 131: Morse Code"
   ]
  },
  {
   "cell_type": "code",
   "execution_count": 4,
   "metadata": {},
   "outputs": [
    {
     "name": "stdout",
     "output_type": "stream",
     "text": [
      "hello, world\n",
      ".... . .-.. .-.. --.- .----.- .-. .-.. -.. "
     ]
    }
   ],
   "source": [
    "Mos = { 'A':'.- ' , 'B':'-... ',\n",
    "        'C':'-.-. ','D':'-.. ',\n",
    "        'E':'. ','F':'..-. ',\n",
    "        'G':'--. ','H':'.... ',\n",
    "        'I':'.. ','J':'.--- ',\n",
    "        'K':'-.- ','L':'.-.. ',\n",
    "        'M':'-- ','N':'-. ',\n",
    "        'O':'--.- ','P':'.--. ',\n",
    "        'Q':'--.- ','R':'.-. ',\n",
    "        'S':'... ','T':'- ',\n",
    "        'U':'..- ','V':'...- ',\n",
    "        'W':'.--','X':'-..-',\n",
    "        'Y':'-.-- ','Z':'--.. ' ,\n",
    "        '0':'----- ','1':'.---- ',\n",
    "       '2':'..--- ','3':'...-- ',\n",
    "       '4':'....- ', '5':'..... ',\n",
    "       '6':'-.... ', '7':'--... ',\n",
    "       '8':'---.. ', '9':'----. '\n",
    "      }\n",
    "\n",
    "def Morse():\n",
    "    word=input()\n",
    "    for i in range(0,len(word)):\n",
    "        try:\n",
    "            print(Mos[word[i].upper()],end=\"\")\n",
    "        except:\n",
    "            print('',end='')\n",
    "        \n",
    "Morse()"
   ]
  },
  {
   "cell_type": "markdown",
   "metadata": {},
   "source": [
    "#### Exercise 132: Postal Codes"
   ]
  },
  {
   "cell_type": "code",
   "execution_count": 11,
   "metadata": {},
   "outputs": [
    {
     "name": "stdout",
     "output_type": "stream",
     "text": [
      "X0A 1B2\n",
      "Nunavut or Northwest Territories\n",
      "urban\n"
     ]
    }
   ],
   "source": [
    "prov={\n",
    "    'A':'Newfoundland',\n",
    "    'B':'Nova Scotia',\n",
    "    'C':'Prince Edward Island',\n",
    "    'E':'New Brunswick',\n",
    "    'G':'Quebec','H':'Quebec','J':'Quebec',\n",
    "    'K':'Ontario','L':'Ontario','M':'Ontario','N':'Ontario','P':'Ontario',\n",
    "    'R':'Manitoba',\n",
    "    'S':'Saskatchewan',\n",
    "    'T':'Alberta',\n",
    "    'V':'British Columbia',\n",
    "    'X':'Nunavut or Northwest Territories',\n",
    "    'Y':'Yukon',\n",
    "    'D':'Error','F':'Error','I':'Error','O':'Error','Q':'Error','W':'Error','Z':'Error'\n",
    "}\n",
    "\n",
    "def province():\n",
    "    word=input()\n",
    "    print(prov[word[0].upper()])\n",
    "    if(prov[word[0].upper()] != 'Error'):\n",
    "        if(word[1]==0):\n",
    "            print('rural')\n",
    "        else:\n",
    "            print('urban')\n",
    "            \n",
    "province()\n"
   ]
  }
 ],
 "metadata": {
  "kernelspec": {
   "display_name": "Python 3",
   "language": "python",
   "name": "python3"
  },
  "language_info": {
   "codemirror_mode": {
    "name": "ipython",
    "version": 3
   },
   "file_extension": ".py",
   "mimetype": "text/x-python",
   "name": "python",
   "nbconvert_exporter": "python",
   "pygments_lexer": "ipython3",
   "version": "3.6.5"
  }
 },
 "nbformat": 4,
 "nbformat_minor": 2
}
