{
 "cells": [
  {
   "cell_type": "markdown",
   "metadata": {},
   "source": [
    "#### Exercise 105: Reverse Order"
   ]
  },
  {
   "cell_type": "code",
   "execution_count": 1,
   "metadata": {
    "scrolled": true
   },
   "outputs": [
    {
     "name": "stdout",
     "output_type": "stream",
     "text": [
      "7\n",
      "4\n",
      "9\n",
      "6\n",
      "2\n",
      "1\n",
      "0\n",
      "['9', '7', '6', '4', '2', '1']\n"
     ]
    }
   ],
   "source": [
    "nums = []\n",
    "num = input()\n",
    "while num != '0':\n",
    "    nums.append(num)\n",
    "    num = input()\n",
    "    \n",
    "nums.sort(reverse=True)\n",
    "print(nums)"
   ]
  },
  {
   "cell_type": "markdown",
   "metadata": {},
   "source": [
    "#### Exercise 107: Avoiding Duplicates"
   ]
  },
  {
   "cell_type": "code",
   "execution_count": 2,
   "metadata": {},
   "outputs": [
    {
     "name": "stdout",
     "output_type": "stream",
     "text": [
      "first\n",
      "second\n",
      "third\n",
      "first\n",
      "fourth\n",
      "\n",
      "first\n",
      "second\n",
      "third\n",
      "fourth\n"
     ]
    }
   ],
   "source": [
    "words = []\n",
    "word = input()\n",
    "while word != \"\":\n",
    "    if word not in words:\n",
    "        words.append(word)\n",
    "    word = input()\n",
    "    \n",
    "for word in words:\n",
    "    print(word)"
   ]
  },
  {
   "cell_type": "markdown",
   "metadata": {},
   "source": [
    "#### Exercise 108: Negatives, Zeros and Positives"
   ]
  },
  {
   "cell_type": "code",
   "execution_count": 30,
   "metadata": {},
   "outputs": [
    {
     "name": "stdout",
     "output_type": "stream",
     "text": [
      "-3\n",
      "-1\n",
      "-2\n",
      "0\n",
      "1\n",
      "0\n",
      "-5\n",
      "3\n",
      "\n",
      "-3\n",
      "-1\n",
      "-2\n",
      "-5\n",
      "0\n",
      "0\n",
      "1\n",
      "3\n"
     ]
    }
   ],
   "source": [
    "n_word = []\n",
    "z_word = []\n",
    "p_word = []\n",
    "word = input()\n",
    "while word != \"\":\n",
    "    if int(word)>0:\n",
    "        p_word.append(word)\n",
    "    elif int(word)==0:\n",
    "        z_word.append(word)\n",
    "    else:\n",
    "        n_word.append(word)\n",
    "    word = input()\n",
    "    \n",
    "for word in n_word:\n",
    "    print(word)\n",
    "for word in z_word:\n",
    "    print(word)\n",
    "for word in p_word:\n",
    "    print(word)"
   ]
  },
  {
   "cell_type": "markdown",
   "metadata": {},
   "source": [
    "#### Exercise 110: Perfect Numbers"
   ]
  },
  {
   "cell_type": "code",
   "execution_count": 33,
   "metadata": {},
   "outputs": [
    {
     "name": "stdout",
     "output_type": "stream",
     "text": [
      "6\n",
      "28\n",
      "496\n",
      "8128\n"
     ]
    }
   ],
   "source": [
    "nsum=0\n",
    "for num in range(1,10000):\n",
    "    for num_2 in range(1,num):\n",
    "        if num%num_2==0:\n",
    "            nsum+=num_2\n",
    "    if num==nsum:\n",
    "        print(num)\n",
    "    nsum=0"
   ]
  },
  {
   "cell_type": "markdown",
   "metadata": {},
   "source": [
    "#### Exercise 113: Formatting a List"
   ]
  },
  {
   "cell_type": "code",
   "execution_count": 35,
   "metadata": {},
   "outputs": [
    {
     "name": "stdout",
     "output_type": "stream",
     "text": [
      "first\n",
      "second\n",
      "third\n",
      "fourth\n",
      "last\n",
      "\n",
      "first, second, third, fourth and last"
     ]
    }
   ],
   "source": [
    "words = []\n",
    "output =[]\n",
    "word = input()\n",
    "while word != \"\":\n",
    "    words.append(word)\n",
    "    words.append(', ')\n",
    "    word = input()\n",
    "    \n",
    "length=len(words)\n",
    "\n",
    "words[length-3]=' and '\n",
    "del(words[length-1])\n",
    "\n",
    "for i in words:\n",
    "    print(i,end=\"\")"
   ]
  },
  {
   "cell_type": "markdown",
   "metadata": {},
   "source": [
    "#### Exercise 114: Random Lottery Numbers"
   ]
  },
  {
   "cell_type": "code",
   "execution_count": 43,
   "metadata": {},
   "outputs": [
    {
     "name": "stdout",
     "output_type": "stream",
     "text": [
      "[20, 21, 24, 28, 41, 42]\n"
     ]
    }
   ],
   "source": [
    "import random\n",
    "number=[]\n",
    "num=0\n",
    "while len(number)<6:\n",
    "    num=random.randrange(1,49)\n",
    "    if num not in number:\n",
    "        number.append(num)\n",
    "        \n",
    "number.sort()\n",
    "print(number)"
   ]
  },
  {
   "cell_type": "markdown",
   "metadata": {},
   "source": [
    "#### Exercise 134: Unique Characters"
   ]
  },
  {
   "cell_type": "code",
   "execution_count": 14,
   "metadata": {},
   "outputs": [
    {
     "name": "stdout",
     "output_type": "stream",
     "text": [
      "hello, world!\n",
      "10\n"
     ]
    }
   ],
   "source": [
    "input_str=input()\n",
    "chars={}\n",
    "\n",
    "for ch in input_str:\n",
    "    chars[ch]='exist'\n",
    "    \n",
    "print(len(chars))"
   ]
  },
  {
   "cell_type": "markdown",
   "metadata": {},
   "source": [
    "#### Exercise 135: Anagrams"
   ]
  },
  {
   "cell_type": "code",
   "execution_count": 60,
   "metadata": {},
   "outputs": [
    {
     "name": "stdout",
     "output_type": "stream",
     "text": [
      "zxcv\n",
      "azxcv\n",
      "Not Anagram\n"
     ]
    }
   ],
   "source": [
    "list1=list(input())\n",
    "list2=list(input())\n",
    "\n",
    "list1.sort()\n",
    "list2.sort()\n",
    "if list1==list2:\n",
    "    print('Anagram')\n",
    "else:\n",
    "    print('Not Anagram')\n",
    "    \n",
    "\n",
    "\n",
    "\n"
   ]
  }
 ],
 "metadata": {
  "kernelspec": {
   "display_name": "Python 3",
   "language": "python",
   "name": "python3"
  },
  "language_info": {
   "codemirror_mode": {
    "name": "ipython",
    "version": 3
   },
   "file_extension": ".py",
   "mimetype": "text/x-python",
   "name": "python",
   "nbconvert_exporter": "python",
   "pygments_lexer": "ipython3",
   "version": "3.6.5"
  }
 },
 "nbformat": 4,
 "nbformat_minor": 2
}
